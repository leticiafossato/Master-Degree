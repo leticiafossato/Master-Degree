{
 "cells": [
  {
   "cell_type": "markdown",
   "metadata": {},
   "source": [
    "# Perceptron"
   ]
  },
  {
   "cell_type": "markdown",
   "metadata": {},
   "source": [
    "## Question 1\n",
    "- Implemente o Perceptron para classificar o dataset Iris, separando as classes “setosa” e “versicolor”."
   ]
  },
  {
   "cell_type": "code",
   "execution_count": 1,
   "metadata": {
    "ExecuteTime": {
     "end_time": "2020-11-20T01:08:30.747189Z",
     "start_time": "2020-11-20T01:08:29.863235Z"
    }
   },
   "outputs": [],
   "source": [
    "import numpy as np\n",
    "import pandas as pd\n",
    "import matplotlib.pyplot as plt"
   ]
  },
  {
   "cell_type": "code",
   "execution_count": 2,
   "metadata": {
    "ExecuteTime": {
     "end_time": "2020-11-20T01:08:31.943349Z",
     "start_time": "2020-11-20T01:08:30.753104Z"
    }
   },
   "outputs": [],
   "source": [
    "#Load the dataset\n",
    "from sklearn.datasets import load_iris\n",
    "iris = load_iris()\n",
    "X = iris['data']\n",
    "Y = iris['target']\n",
    "\n",
    "#Separando setosa e versicolor\n",
    "x = X[(Y==0)|(Y==1)]\n",
    "y = Y[(Y==0)|(Y==1)]\n",
    "\n",
    "#Mudando os valores de y para implementar o perceptron\n",
    "y = np.where(y == 0, 1, -1)"
   ]
  },
  {
   "cell_type": "code",
   "execution_count": 3,
   "metadata": {
    "ExecuteTime": {
     "end_time": "2020-11-20T01:08:32.159417Z",
     "start_time": "2020-11-20T01:08:31.961312Z"
    }
   },
   "outputs": [
    {
     "name": "stdout",
     "output_type": "stream",
     "text": [
      "\n",
      "Output without weight:\n",
      " [1 1 1 1 1 1 1 1 1 1 1 1 1 1 1 1 1 1 1 1 1 1 1 1 1 1 1 1 1 1 1 1 1 1 1 1 1\n",
      " 1 1 1 1 1 1 1 1 1 1 1 1 1 1 1 1 1 1 1 1 1 1 1 1 1 1 1 1 1 1 1 1 1 1 1 1 1\n",
      " 1 1 1 1 1 1 1 1 1 1 1 1 1 1 1 1 1 1 1 1 1 1 1 1 1 1]\n",
      "\n",
      "Quantity of worng predictions: 50\n",
      "\n",
      "\n",
      "Output after weight implementation:\n",
      " [ 1  1  1  1  1  1  1  1  1  1  1  1  1  1  1  1  1  1  1  1  1  1  1  1\n",
      "  1  1  1  1  1  1  1  1  1  1  1  1  1  1  1  1  1  1  1  1  1  1  1  1\n",
      "  1  1 -1 -1 -1 -1 -1 -1 -1 -1 -1 -1 -1 -1 -1 -1 -1 -1 -1 -1 -1 -1 -1 -1\n",
      " -1 -1 -1 -1 -1 -1 -1 -1 -1 -1 -1 -1 -1 -1 -1 -1 -1 -1 -1 -1 -1 -1 -1 -1\n",
      " -1 -1 -1 -1]\n",
      "\n",
      "Quantity of wrong predictions: 0\n"
     ]
    }
   ],
   "source": [
    "#Função para predição da saída\n",
    "def predict(x,w,b):\n",
    "    return np.where((np.dot(x, w) + b)>= 0, 1, -1)\n",
    "\n",
    "#Setup dos valores inicias\n",
    "w=np.zeros(x.shape[1])\n",
    "b=0\n",
    "learning_rate=0.1\n",
    "iter=100 #qtd de interações escolhida arbitrariamente\n",
    "\n",
    "#Primeira predição\n",
    "p1=predict(x,w,b)\n",
    "print('\\nOutput without weight:\\n',p1)\n",
    "\n",
    "#Contagem de erros\n",
    "erro=0\n",
    "for i in range(len(p1)):\n",
    "    if p1[i]!=y[i]:\n",
    "        erro=erro+1\n",
    "print('\\nQuantity of worng predictions:',erro)\n",
    "errado=0\n",
    "\n",
    "#Atualização do peso - 10 interações\n",
    "for h in range(iter):\n",
    "    for i in range(len(y)):\n",
    "        delta= (y[i]-predict(x,w,b)[i])*learning_rate\n",
    "        w = delta*x[i] + w \n",
    "        b= b+ delta\n",
    "        \n",
    "           \n",
    "#Segunda predição\n",
    "p2=predict(x,w,b)\n",
    "print('\\n\\nOutput after weight implementation:\\n',p2)\n",
    "\n",
    "#Contagem de erros\n",
    "erro=0\n",
    "for i in range(len(p2)):\n",
    "    if p2[i]!=y[i]:\n",
    "        erro=erro+1\n",
    "print('\\nQuantity of wrong predictions:',erro)\n"
   ]
  },
  {
   "cell_type": "code",
   "execution_count": 5,
   "metadata": {
    "ExecuteTime": {
     "end_time": "2020-11-20T01:08:32.470585Z",
     "start_time": "2020-11-20T01:08:32.179364Z"
    }
   },
   "outputs": [
    {
     "data": {
      "image/png": "[encoded data removed]",
      "text/plain": [
       "<Figure size 432x288 with 1 Axes>"
      ]
     },
     "metadata": {
      "needs_background": "light"
     },
     "output_type": "display_data"
    }
   ],
   "source": [
    "#Gráfico ilustrativo de 2 dimensões para representar a separação das classes\n",
    "\n",
    "x = x[0:100]\n",
    "y = y[0:100]\n",
    "\n",
    "# plot Iris Setosa samples\n",
    "plt.scatter(x[:50, 0], x[:50, 1], color='red', marker='o', label='Setosa')\n",
    "# plot Iris Versicolour samples\n",
    "plt.scatter(x[50:100, 0], x[50:100, 1], color='blue', marker='x', label='Versicolor')\n",
    "\n",
    "# show the legend\n",
    "plt.xlabel(\"Sepal length\")\n",
    "plt.ylabel(\"Petal length\")\n",
    "plt.legend(loc='upper left')\n",
    "\n",
    "# show the plot\n",
    "plt.show()"
   ]
  },
  {
   "cell_type": "markdown",
   "metadata": {},
   "source": [
    "## Question 2"
   ]
  },
  {
   "cell_type": "markdown",
   "metadata": {},
   "source": [
    "- Implemente o Perceptron Multiclasses euse no datasert Iris, separando as 3 classes (é possível?)\n",
    "\n",
    "**Não é possível** utilizar o Perceptron para separar as 3 classes linearmente, pois este algoritmo atua somente separando **duas** classes. \n",
    "Todavia, para esta implementação serão separadas as classes de 2 em 2.\n",
    "- Setosa e versicolor já foram separadas no exercício anterior.\n",
    "- Versicolor e virginica serão separadas abaixo.\n",
    "Depois disto, os resultados destas duas classificações serão unidos para gerar a separação das três classes."
   ]
  },
  {
   "cell_type": "code",
   "execution_count": 6,
   "metadata": {
    "ExecuteTime": {
     "end_time": "2020-11-20T01:08:32.764799Z",
     "start_time": "2020-11-20T01:08:32.473577Z"
    }
   },
   "outputs": [
    {
     "name": "stdout",
     "output_type": "stream",
     "text": [
      "\n",
      "Output without weight:\n",
      " [1 1 1 1 1 1 1 1 1 1 1 1 1 1 1 1 1 1 1 1 1 1 1 1 1 1 1 1 1 1 1 1 1 1 1 1 1\n",
      " 1 1 1 1 1 1 1 1 1 1 1 1 1 1 1 1 1 1 1 1 1 1 1 1 1 1 1 1 1 1 1 1 1 1 1 1 1\n",
      " 1 1 1 1 1 1 1 1 1 1 1 1 1 1 1 1 1 1 1 1 1 1 1 1 1 1]\n",
      "\n",
      "Quantity of worng predictions: 50\n",
      "\n",
      "\n",
      "Output after weight implementation:\n",
      " [ 1  1  1  1  1  1  1  1  1  1  1  1  1  1  1  1  1  1  1  1  1  1  1  1\n",
      "  1  1  1  1  1  1  1  1  1  1  1  1  1  1  1  1  1  1  1  1  1  1  1  1\n",
      "  1  1 -1 -1 -1 -1 -1 -1 -1 -1 -1 -1 -1 -1 -1 -1 -1 -1 -1 -1 -1 -1 -1 -1\n",
      " -1 -1 -1 -1 -1 -1 -1 -1 -1 -1 -1 -1 -1 -1 -1 -1 -1 -1 -1 -1 -1 -1 -1 -1\n",
      " -1 -1 -1 -1]\n",
      "\n",
      "Quantity of wrong predictions: 0\n"
     ]
    }
   ],
   "source": [
    "#Load the dataset\n",
    "from sklearn.datasets import load_iris\n",
    "iris = load_iris()\n",
    "X = iris['data']\n",
    "Y = iris['target']\n",
    "\n",
    "#Separando versicolor e virginica\n",
    "x = X[(Y==1)|(Y==2)]\n",
    "y = Y[(Y==1)|(Y==2)]\n",
    "\n",
    "#Mudando os valores de y para implementar o perceptron\n",
    "y = np.where(y == 1, 1, -1)\n",
    "\n",
    "#Função para predição da saída\n",
    "def predict(x,w,b):\n",
    "    return np.where((np.dot(x, w) + b)>= 0, 1, -1)\n",
    "\n",
    "#Setup dos valores inicias\n",
    "w=np.zeros(x.shape[1])\n",
    "b=0\n",
    "learning_rate=0.1\n",
    "iter=100 #qtd de interações escolhida arbitrariamente\n",
    "\n",
    "#Primeira predição\n",
    "p1=predict(x,w,b)\n",
    "print('\\nOutput without weight:\\n',p1)\n",
    "\n",
    "#Contagem de erros\n",
    "erro=0\n",
    "for i in range(len(p1)):\n",
    "    if p1[i]!=y[i]:\n",
    "        erro=erro+1\n",
    "print('\\nQuantity of worng predictions:',erro)\n",
    "errado=0\n",
    "\n",
    "#Atualização do peso - 10 interações\n",
    "for h in range(iter):\n",
    "    for i in range(len(y)):\n",
    "        delta= (y[i]-predict(x,w,b)[i])*learning_rate\n",
    "        w = delta*x[i] + w \n",
    "        b= b+ delta\n",
    "        \n",
    "           \n",
    "#Segunda predição\n",
    "p22=predict(x,w,b)\n",
    "print('\\n\\nOutput after weight implementation:\\n',p2)\n",
    "\n",
    "#Contagem de erros\n",
    "erro=0\n",
    "for i in range(len(p2)):\n",
    "    if p2[i]!=y[i]:\n",
    "        erro=erro+1\n",
    "print('\\nQuantity of wrong predictions:',erro)"
   ]
  },
  {
   "cell_type": "code",
   "execution_count": 7,
   "metadata": {
    "ExecuteTime": {
     "end_time": "2020-11-20T01:08:32.796714Z",
     "start_time": "2020-11-20T01:08:32.770783Z"
    }
   },
   "outputs": [
    {
     "name": "stdout",
     "output_type": "stream",
     "text": [
      "Answer:\n",
      " [0, 0, 0, 0, 0, 0, 0, 0, 0, 0, 0, 0, 0, 0, 0, 0, 0, 0, 0, 0, 0, 0, 0, 0, 0, 0, 0, 0, 0, 0, 0, 0, 0, 0, 0, 0, 0, 0, 0, 0, 0, 0, 0, 0, 0, 0, 0, 0, 0, 0, 1, 1, 1, 1, 1, 1, 1, 1, 1, 1, 1, 1, 1, 1, 1, 1, 1, 1, 1, 1, 1, 1, 1, 1, 1, 1, 1, 1, 1, 1, 1, 1, 1, 1, 1, 1, 1, 1, 1, 1, 1, 1, 1, 1, 1, 1, 1, 1, 1, 1, 2, 2, 2, 2, 2, 2, 2, 2, 2, 2, 2, 2, 2, 2, 2, 2, 2, 2, 2, 2, 2, 2, 2, 2, 2, 2, 2, 2, 2, 2, 2, 2, 2, 2, 2, 2, 2, 2, 2, 2, 2, 2, 2, 2, 2, 2, 2, 2, 2, 2]\n",
      "Quantity of erros: 0\n",
      "Quantity of right predictions: 150\n"
     ]
    }
   ],
   "source": [
    "#Junção dos resultados para separar as três classes\n",
    "y = iris['target']\n",
    "p2= np.where(p2 == 1, 0, 1)\n",
    "p22 =np.where(p22 == 1, 1, 2)\n",
    "\n",
    "ans=[]\n",
    "for i in p2:\n",
    "    ans.append(i) # setosa\n",
    "for i in p22[50:100]:\n",
    "    ans.append(i) #virginica\n",
    "#ans\n",
    "\n",
    "e=0\n",
    "a=0\n",
    "for i in range(len(ans)):\n",
    "    if ans[i]!=y[i]:\n",
    "        e=e+1\n",
    "    else:\n",
    "        a=a+1\n",
    "print('Answer:\\n',ans)\n",
    "print('Quantity of erros:',e)\n",
    "print('Quantity of right predictions:',a)"
   ]
  },
  {
   "cell_type": "markdown",
   "metadata": {
    "ExecuteTime": {
     "end_time": "2020-11-12T22:29:02.277393Z",
     "start_time": "2020-11-12T22:29:02.259442Z"
    }
   },
   "source": [
    "O algoritmo Perceptron não é muito utilizado sozinho, uma vez que só pode separar 2 classes por vez.\n",
    "Todavia, ele foi a base para o desenvolvimento das redes multicamadas, as Multilayers Perceptrons (MLP)."
   ]
  }
 ],
 "metadata": {
  "hide_input": false,
  "kernelspec": {
   "display_name": "Python 3",
   "language": "python",
   "name": "python3"
  },
  "language_info": {
   "codemirror_mode": {
    "name": "ipython",
    "version": 3
   },
   "file_extension": ".py",
   "mimetype": "text/x-python",
   "name": "python",
   "nbconvert_exporter": "python",
   "pygments_lexer": "ipython3",
   "version": "3.8.5"
  },
  "toc": {
   "base_numbering": 1,
   "nav_menu": {},
   "number_sections": true,
   "sideBar": true,
   "skip_h1_title": false,
   "title_cell": "Table of Contents",
   "title_sidebar": "Contents",
   "toc_cell": false,
   "toc_position": {},
   "toc_section_display": true,
   "toc_window_display": false
  },
  "varInspector": {
   "cols": {
    "lenName": 16,
    "lenType": 16,
    "lenVar": 40
   },
   "kernels_config": {
    "python": {
     "delete_cmd_postfix": "",
     "delete_cmd_prefix": "del ",
     "library": "var_list.py",
     "varRefreshCmd": "print(var_dic_list())"
    },
    "r": {
     "delete_cmd_postfix": ") ",
     "delete_cmd_prefix": "rm(",
     "library": "var_list.r",
     "varRefreshCmd": "cat(var_dic_list()) "
    }
   },
   "types_to_exclude": [
    "module",
    "function",
    "builtin_function_or_method",
    "instance",
    "_Feature"
   ],
   "window_display": false
  }
 },
 "nbformat": 4,
 "nbformat_minor": 4
}
