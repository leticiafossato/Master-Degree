{
 "cells": [
  {
   "cell_type": "code",
   "execution_count": 1,
   "metadata": {
    "ExecuteTime": {
     "end_time": "2020-11-12T19:03:06.795642Z",
     "start_time": "2020-11-12T19:02:58.979821Z"
    }
   },
   "outputs": [],
   "source": [
    "import numpy as np\n",
    "import pandas as pd"
   ]
  },
  {
   "cell_type": "code",
   "execution_count": 1,
   "metadata": {
    "ExecuteTime": {
     "end_time": "2020-11-12T19:25:44.977112Z",
     "start_time": "2020-11-12T19:25:44.966144Z"
    }
   },
   "outputs": [],
   "source": [
    "import numpy as np\n",
    "\n",
    "\n",
    "class Perceptron:\n",
    "    \"\"\"\n",
    "    Perceptron neuron\n",
    "    \"\"\"\n",
    "\n",
    "    def __init__(self, learning_rate=0.1):\n",
    "        \"\"\"\n",
    "        instantiate a new Perceptron\n",
    "\n",
    "        :param learning_rate: coefficient used to tune the model\n",
    "        response to training data\n",
    "        \"\"\"\n",
    "        self.learning_rate = learning_rate\n",
    "        self._b = 0.0  # y-intercept\n",
    "        self._w = None  # weights assigned to input features\n",
    "        # count of errors during each iteration\n",
    "        self.misclassified_samples = []\n",
    "\n",
    "    def fit(self, x: np.array, y: np.array, n_iter=10):\n",
    "        \"\"\"\n",
    "        fit the Perceptron model on the training data\n",
    "\n",
    "        :param x: samples to fit the model on\n",
    "        :param y: labels of the training samples\n",
    "        :param n_iter: number of training iterations \n",
    "        \"\"\"\n",
    "        self._b = 0.0\n",
    "        self._w = np.zeros(x.shape[1])\n",
    "        self.misclassified_samples = []\n",
    "\n",
    "        for _ in range(n_iter):\n",
    "            # counter of the errors during this training iteration\n",
    "            errors = 0\n",
    "            for xi, yi in zip(x, y):\n",
    "                # for each sample compute the update value\n",
    "                update = self.learning_rate * (yi - self.predict(xi))\n",
    "                # and apply it to the y-intercept and weights array\n",
    "                self._b += update\n",
    "                self._w += update * xi\n",
    "                errors += int(update != 0.0)\n",
    "\n",
    "            self.misclassified_samples.append(errors)\n",
    "\n",
    "    def f(self, x: np.array) -> float:\n",
    "        \"\"\"\n",
    "        compute the output of the neuron\n",
    "        :param x: input features\n",
    "        :return: the output of the neuron\n",
    "        \"\"\"\n",
    "        return np.dot(x, self._w) + self._b\n",
    "\n",
    "    def predict(self, x: np.array):\n",
    "        \"\"\"\n",
    "        convert the output of the neuron to a binary output\n",
    "        :param x: input features\n",
    "        :return: 1 if the output for the sample is positive (or zero),\n",
    "        -1 otherwise\n",
    "        \"\"\"\n",
    "        return np.where(self.f(x) >= 0, 1, -1)"
   ]
  },
  {
   "cell_type": "code",
   "execution_count": 5,
   "metadata": {
    "ExecuteTime": {
     "end_time": "2020-11-12T19:26:38.250153Z",
     "start_time": "2020-11-12T19:26:36.219158Z"
    }
   },
   "outputs": [
    {
     "ename": "UFuncTypeError",
     "evalue": "ufunc 'subtract' did not contain a loop with signature matching types (dtype('<U15'), dtype('<U15')) -> dtype('<U15')",
     "output_type": "error",
     "traceback": [
      "\u001b[1;31m---------------------------------------------------------------------------\u001b[0m",
      "\u001b[1;31mUFuncTypeError\u001b[0m                            Traceback (most recent call last)",
      "\u001b[1;32m<ipython-input-5-fff02f0522a0>\u001b[0m in \u001b[0;36m<module>\u001b[1;34m\u001b[0m\n\u001b[0;32m     22\u001b[0m \u001b[1;31m# train the model\u001b[0m\u001b[1;33m\u001b[0m\u001b[1;33m\u001b[0m\u001b[1;33m\u001b[0m\u001b[0m\n\u001b[0;32m     23\u001b[0m \u001b[0mclassifier\u001b[0m \u001b[1;33m=\u001b[0m \u001b[0mPerceptron\u001b[0m\u001b[1;33m(\u001b[0m\u001b[0mlearning_rate\u001b[0m\u001b[1;33m=\u001b[0m\u001b[1;36m0.01\u001b[0m\u001b[1;33m)\u001b[0m\u001b[1;33m\u001b[0m\u001b[1;33m\u001b[0m\u001b[0m\n\u001b[1;32m---> 24\u001b[1;33m \u001b[0mclassifier\u001b[0m\u001b[1;33m.\u001b[0m\u001b[0mfit\u001b[0m\u001b[1;33m(\u001b[0m\u001b[0mx_train\u001b[0m\u001b[1;33m,\u001b[0m \u001b[0my_train\u001b[0m\u001b[1;33m)\u001b[0m\u001b[1;33m\u001b[0m\u001b[1;33m\u001b[0m\u001b[0m\n\u001b[0m\u001b[0;32m     25\u001b[0m \u001b[1;33m\u001b[0m\u001b[0m\n\u001b[0;32m     26\u001b[0m \u001b[1;31m# plot the number of errors during each iteration\u001b[0m\u001b[1;33m\u001b[0m\u001b[1;33m\u001b[0m\u001b[1;33m\u001b[0m\u001b[0m\n",
      "\u001b[1;32m<ipython-input-1-0c78c41c54fe>\u001b[0m in \u001b[0;36mfit\u001b[1;34m(self, x, y, n_iter)\u001b[0m\n\u001b[0;32m     37\u001b[0m             \u001b[1;32mfor\u001b[0m \u001b[0mxi\u001b[0m\u001b[1;33m,\u001b[0m \u001b[0myi\u001b[0m \u001b[1;32min\u001b[0m \u001b[0mzip\u001b[0m\u001b[1;33m(\u001b[0m\u001b[0mx\u001b[0m\u001b[1;33m,\u001b[0m \u001b[0my\u001b[0m\u001b[1;33m)\u001b[0m\u001b[1;33m:\u001b[0m\u001b[1;33m\u001b[0m\u001b[1;33m\u001b[0m\u001b[0m\n\u001b[0;32m     38\u001b[0m                 \u001b[1;31m# for each sample compute the update value\u001b[0m\u001b[1;33m\u001b[0m\u001b[1;33m\u001b[0m\u001b[1;33m\u001b[0m\u001b[0m\n\u001b[1;32m---> 39\u001b[1;33m                 \u001b[0mupdate\u001b[0m \u001b[1;33m=\u001b[0m \u001b[0mself\u001b[0m\u001b[1;33m.\u001b[0m\u001b[0mlearning_rate\u001b[0m \u001b[1;33m*\u001b[0m \u001b[1;33m(\u001b[0m\u001b[0myi\u001b[0m \u001b[1;33m-\u001b[0m \u001b[0mself\u001b[0m\u001b[1;33m.\u001b[0m\u001b[0mpredict\u001b[0m\u001b[1;33m(\u001b[0m\u001b[0mxi\u001b[0m\u001b[1;33m)\u001b[0m\u001b[1;33m)\u001b[0m\u001b[1;33m\u001b[0m\u001b[1;33m\u001b[0m\u001b[0m\n\u001b[0m\u001b[0;32m     40\u001b[0m                 \u001b[1;31m# and apply it to the y-intercept and weights array\u001b[0m\u001b[1;33m\u001b[0m\u001b[1;33m\u001b[0m\u001b[1;33m\u001b[0m\u001b[0m\n\u001b[0;32m     41\u001b[0m                 \u001b[0mself\u001b[0m\u001b[1;33m.\u001b[0m\u001b[0m_b\u001b[0m \u001b[1;33m+=\u001b[0m \u001b[0mupdate\u001b[0m\u001b[1;33m\u001b[0m\u001b[1;33m\u001b[0m\u001b[0m\n",
      "\u001b[1;31mUFuncTypeError\u001b[0m: ufunc 'subtract' did not contain a loop with signature matching types (dtype('<U15'), dtype('<U15')) -> dtype('<U15')"
     ]
    }
   ],
   "source": [
    "import matplotlib.pyplot as plt\n",
    "from mpl_toolkits import mplot3d\n",
    "import pandas as pd\n",
    "\n",
    "\n",
    "url = 'https://archive.ics.uci.edu/ml/machine-learning-databases/iris/iris.data'\n",
    "# download and convert the csv into a DataFrame\n",
    "df = pd.read_csv(url, header=None)\n",
    "df.head()\n",
    "\n",
    "# extract the label column\n",
    "y = df.iloc[:, 4].values\n",
    "# extract features\n",
    "x = df.iloc[:, 0:3].values\n",
    "\n",
    "from sklearn.model_selection import train_test_split\n",
    "\n",
    "# split the data\n",
    "x_train, x_test, y_train, y_test = train_test_split(x, y, test_size=0.25,\n",
    "                                                    random_state=0)\n",
    "\n",
    "# train the model\n",
    "classifier = Perceptron(learning_rate=0.01)\n",
    "classifier.fit(x_train, y_train)\n",
    "\n",
    "# plot the number of errors during each iteration\n",
    "plt.plot(range(1, len(classifier.misclassified_samples) + 1),\n",
    "         classifier.misclassified_samples, marker='o')\n",
    "plt.xlabel('Epoch')\n",
    "plt.ylabel('Errors')\n",
    "plt.show()\n",
    "\n",
    "classifier.predict(x_test)"
   ]
  },
  {
   "cell_type": "code",
   "execution_count": null,
   "metadata": {},
   "outputs": [],
   "source": []
  }
 ],
 "metadata": {
  "hide_input": false,
  "kernelspec": {
   "display_name": "Python 3",
   "language": "python",
   "name": "python3"
  },
  "language_info": {
   "codemirror_mode": {
    "name": "ipython",
    "version": 3
   },
   "file_extension": ".py",
   "mimetype": "text/x-python",
   "name": "python",
   "nbconvert_exporter": "python",
   "pygments_lexer": "ipython3",
   "version": "3.8.5"
  },
  "toc": {
   "base_numbering": 1,
   "nav_menu": {},
   "number_sections": true,
   "sideBar": true,
   "skip_h1_title": false,
   "title_cell": "Table of Contents",
   "title_sidebar": "Contents",
   "toc_cell": false,
   "toc_position": {},
   "toc_section_display": true,
   "toc_window_display": false
  },
  "varInspector": {
   "cols": {
    "lenName": 16,
    "lenType": 16,
    "lenVar": 40
   },
   "kernels_config": {
    "python": {
     "delete_cmd_postfix": "",
     "delete_cmd_prefix": "del ",
     "library": "var_list.py",
     "varRefreshCmd": "print(var_dic_list())"
    },
    "r": {
     "delete_cmd_postfix": ") ",
     "delete_cmd_prefix": "rm(",
     "library": "var_list.r",
     "varRefreshCmd": "cat(var_dic_list()) "
    }
   },
   "types_to_exclude": [
    "module",
    "function",
    "builtin_function_or_method",
    "instance",
    "_Feature"
   ],
   "window_display": false
  }
 },
 "nbformat": 4,
 "nbformat_minor": 4
}
