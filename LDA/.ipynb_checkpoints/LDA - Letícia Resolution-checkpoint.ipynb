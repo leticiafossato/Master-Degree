{
 "cells": [
  {
   "cell_type": "markdown",
   "metadata": {},
   "source": [
    "# Linear Discriminan Analysis\n",
    "https://sebastianraschka.com/Articles/2014_python_lda.html"
   ]
  },
  {
   "cell_type": "markdown",
   "metadata": {},
   "source": [
    "## Setup "
   ]
  },
  {
   "cell_type": "markdown",
   "metadata": {},
   "source": [
    "### Importando bibliotecas"
   ]
  },
  {
   "cell_type": "code",
   "execution_count": 1,
   "metadata": {
    "ExecuteTime": {
     "end_time": "2020-10-22T23:38:20.496811Z",
     "start_time": "2020-10-22T23:38:19.837383Z"
    }
   },
   "outputs": [],
   "source": [
    "from matplotlib import pyplot as plt\n",
    "import numpy as np"
   ]
  },
  {
   "cell_type": "markdown",
   "metadata": {},
   "source": [
    "### Definição das funções"
   ]
  },
  {
   "cell_type": "code",
   "execution_count": 2,
   "metadata": {
    "ExecuteTime": {
     "end_time": "2020-10-22T23:38:20.512769Z",
     "start_time": "2020-10-22T23:38:20.499805Z"
    }
   },
   "outputs": [],
   "source": [
    "def transposta(X):\n",
    "    \"\"\"Retorna a transposta da matriz de entrada\"\"\"\n",
    "    return [[X[j][i] for j in range(len(X))] for i in range(len(X[0]))] "
   ]
  },
  {
   "cell_type": "code",
   "execution_count": 3,
   "metadata": {
    "ExecuteTime": {
     "end_time": "2020-10-22T23:38:20.560641Z",
     "start_time": "2020-10-22T23:38:20.517757Z"
    }
   },
   "outputs": [],
   "source": [
    "#Cálculo da inversa:\n",
    "\n",
    "def Determinante(matriz):\n",
    "    \"\"\"Cálculo do determinante da matriz inserida\"\"\"\n",
    "    #Determinante da matriz 2x2\n",
    "    if len(matriz) == 2:\n",
    "        return (matriz[0][0]*matriz[1][1])-(matriz[0][1]*matriz[1][0])\n",
    "\n",
    "    determinant = 0\n",
    "    for c in range(len(matriz)):\n",
    "        determinant = determinant + ((-1)**c)*matriz[0][c]*Determinante([row[:c] + row[c+1:] for \n",
    "                                                                         row in (matriz[:0]+matriz[0+1:])])\n",
    "    return determinant\n",
    "\n",
    "def matriz_inversa(m):\n",
    "    \"\"\"Cálculo da matriz inversa através do método dos cofatores.\"\"\"\n",
    "    determinant = Determinante(m)\n",
    "    \n",
    "    #Fórmula para cáculo da matriz 2x2:\n",
    "    if len(m) == 2:\n",
    "        a = m[0][0]\n",
    "        b = m[0][1]\n",
    "        c = m[1][0]\n",
    "        d = m[1][1]\n",
    "\n",
    "        inverse= [d, -b, -c, a]\n",
    "        calc_inverse=[]\n",
    "        for i in inverse:\n",
    "            x = (1/(a*d-b*c)) * i\n",
    "            calc_inverse.append(x)\n",
    "        col = 2 \n",
    "        inverse_matrix = [calc_inverse[i:i+col] for i in range(0, len(calc_inverse), col)]\n",
    "        return inverse_matrix\n",
    "    \n",
    "    else:\n",
    "    #Para os demais tamanho, matriz de cofatores:\n",
    "        cofactors = []\n",
    "        for r in range(len(m)):\n",
    "            cofactorRow = []\n",
    "            for c in range(len(m)):\n",
    "                minor = [row[:c] + row[c+1:] for row in (m[:r]+m[r+1:])]\n",
    "                cofactorRow.append(((-1)**(r+c)) * Determinante(minor))\n",
    "            cofactors.append(cofactorRow)\n",
    "        cofactors = transposta(cofactors)\n",
    "        for r in range(len(cofactors)):\n",
    "            for c in range(len(cofactors)):\n",
    "                cofactors[r][c] = cofactors[r][c]/determinant\n",
    "        return cofactors\n",
    "\n",
    "#Obs: Para construir a matriz de cofatores, consultei o site: \n",
    "#https://stackoverflow.com/questions/32114054/matrix-inversion-without-numpy"
   ]
  },
  {
   "cell_type": "code",
   "execution_count": 4,
   "metadata": {
    "ExecuteTime": {
     "end_time": "2020-10-22T23:38:20.591558Z",
     "start_time": "2020-10-22T23:38:20.565628Z"
    }
   },
   "outputs": [],
   "source": [
    "def multiply_matrix_matrix(mult1,mult2):\n",
    "    \"\"\"Retorna o produto escalar de duas matrizes\"\"\"\n",
    "    x = []\n",
    "    for i in range(0,len(mult1)):\n",
    "        y=[]\n",
    "        for j in range(0,len(mult2[0])):\n",
    "            total = 0\n",
    "            for k in range(0,len(mult1[0])):\n",
    "                total = total + mult1[i][k]*mult2[k][j]\n",
    "            y.append(total)\n",
    "        x.append(y)\n",
    "\n",
    "    return x"
   ]
  },
  {
   "cell_type": "code",
   "execution_count": 5,
   "metadata": {
    "ExecuteTime": {
     "end_time": "2020-10-22T23:38:20.607515Z",
     "start_time": "2020-10-22T23:38:20.594551Z"
    }
   },
   "outputs": [],
   "source": [
    "#Cálculo da média:\n",
    "def calculo_mean(x):\n",
    "    \"\"\"Retorna a média do input\"\"\"\n",
    "    soma=[]\n",
    "    soma_i = 0\n",
    "    for i in range(len(x)):\n",
    "        soma_i= soma_i + x[i]\n",
    "        media = (soma_i)/len(x)\n",
    "    return media"
   ]
  },
  {
   "cell_type": "markdown",
   "metadata": {},
   "source": [
    "## Exercício 1\n",
    "- Implementa o LDA e o use para a classificação dos dados de Iris de Fisher.<br>\n",
    "- Use funções prontas para os autovalores e autovetores.\n",
    "\n",
    "**Fisher Iris Dataset:**<br>\n",
    "The Iris flower data set or Fisher's Iris data set is a multivariate data set introduced by Sir Ronald Aylmer Fisher (1936) as an example of discriminant analysis. Quantify the geographic variation of Iris flowers in the Gaspé Peninsula\n",
    "The output is qualitative (species of Iris) finite set G = {Virginica, Setosa and Versicolor}.\n",
    "\n",
    "- Quantity of dimensions: 4\n",
    "- Quantity of classes: 3\n",
    "- Quantity of samples: 150"
   ]
  },
  {
   "cell_type": "code",
   "execution_count": 6,
   "metadata": {
    "ExecuteTime": {
     "end_time": "2020-10-22T23:38:22.022484Z",
     "start_time": "2020-10-22T23:38:20.611506Z"
    }
   },
   "outputs": [],
   "source": [
    "#Load the dataset\n",
    "from sklearn.datasets import load_iris\n",
    "iris = load_iris()\n",
    "X = iris['data']\n",
    "y = iris.target\n",
    "target_names = iris.target_names"
   ]
  },
  {
   "cell_type": "code",
   "execution_count": 7,
   "metadata": {
    "ExecuteTime": {
     "end_time": "2020-10-22T23:38:22.038441Z",
     "start_time": "2020-10-22T23:38:22.024479Z"
    }
   },
   "outputs": [
    {
     "data": {
      "text/plain": [
       "array([[ 0, 50],\n",
       "       [ 1, 50],\n",
       "       [ 2, 50]], dtype=int64)"
      ]
     },
     "execution_count": 7,
     "metadata": {},
     "output_type": "execute_result"
    }
   ],
   "source": [
    "#Count the quantity of sample of each class\n",
    "unique, counts = np.unique(y, return_counts=True)\n",
    "\n",
    "classe = np.asarray((unique, counts)).T\n",
    "classe"
   ]
  },
  {
   "cell_type": "code",
   "execution_count": 8,
   "metadata": {
    "ExecuteTime": {
     "end_time": "2020-10-22T23:38:22.101273Z",
     "start_time": "2020-10-22T23:38:22.043428Z"
    }
   },
   "outputs": [],
   "source": [
    "#Separate setosa samples\n",
    "setosa = []\n",
    "for i in range(classe[0][1]):\n",
    "   setosa.append(X[i])"
   ]
  },
  {
   "cell_type": "code",
   "execution_count": 9,
   "metadata": {
    "ExecuteTime": {
     "end_time": "2020-10-22T23:38:22.117231Z",
     "start_time": "2020-10-22T23:38:22.104265Z"
    }
   },
   "outputs": [],
   "source": [
    "#Separate versicolor samples\n",
    "versicolor = []\n",
    "for i in range(50,50+classe[1][1]):\n",
    "   versicolor.append(X[i])"
   ]
  },
  {
   "cell_type": "code",
   "execution_count": 10,
   "metadata": {
    "ExecuteTime": {
     "end_time": "2020-10-22T23:38:22.195023Z",
     "start_time": "2020-10-22T23:38:22.119225Z"
    }
   },
   "outputs": [],
   "source": [
    "#Separate virginica samples\n",
    "virginica = []\n",
    "for i in range(100,100+classe[2][1]):\n",
    "   virginica.append(X[i])"
   ]
  },
  {
   "cell_type": "markdown",
   "metadata": {},
   "source": [
    "### Mean"
   ]
  },
  {
   "cell_type": "markdown",
   "metadata": {},
   "source": [
    "#### Setosa Mean"
   ]
  },
  {
   "cell_type": "code",
   "execution_count": 11,
   "metadata": {
    "ExecuteTime": {
     "end_time": "2020-10-22T23:38:22.210980Z",
     "start_time": "2020-10-22T23:38:22.199012Z"
    }
   },
   "outputs": [
    {
     "data": {
      "text/plain": [
       "[[5.005999999999999],\n",
       " [3.428000000000001],\n",
       " [1.4620000000000002],\n",
       " [0.2459999999999999]]"
      ]
     },
     "execution_count": 11,
     "metadata": {},
     "output_type": "execute_result"
    }
   ],
   "source": [
    "mean_setosa = calculo_mean(setosa)\n",
    "\n",
    "#Separação em matriz coluna\n",
    "mean_setosa_lista=[]\n",
    "for i in mean_setosa:\n",
    "    mean_setosa_lista.append([i])\n",
    "mean_setosa_lista"
   ]
  },
  {
   "cell_type": "markdown",
   "metadata": {},
   "source": [
    "#### Versicolor Mean"
   ]
  },
  {
   "cell_type": "code",
   "execution_count": 12,
   "metadata": {
    "ExecuteTime": {
     "end_time": "2020-10-22T23:38:22.241898Z",
     "start_time": "2020-10-22T23:38:22.214970Z"
    }
   },
   "outputs": [
    {
     "data": {
      "text/plain": [
       "[[5.936], [2.7700000000000005], [4.26], [1.3259999999999998]]"
      ]
     },
     "execution_count": 12,
     "metadata": {},
     "output_type": "execute_result"
    }
   ],
   "source": [
    "mean_versicolor = calculo_mean(versicolor)\n",
    "\n",
    "#Separação em matriz coluna\n",
    "mean_versicolor_lista=[]\n",
    "for i in mean_versicolor:\n",
    "    mean_versicolor_lista.append([i])\n",
    "mean_versicolor_lista"
   ]
  },
  {
   "cell_type": "markdown",
   "metadata": {},
   "source": [
    "#### Virginica Mean"
   ]
  },
  {
   "cell_type": "code",
   "execution_count": 13,
   "metadata": {
    "ExecuteTime": {
     "end_time": "2020-10-22T23:38:22.257854Z",
     "start_time": "2020-10-22T23:38:22.243892Z"
    }
   },
   "outputs": [
    {
     "data": {
      "text/plain": [
       "[[6.587999999999998], [2.9739999999999998], [5.552], [2.026]]"
      ]
     },
     "execution_count": 13,
     "metadata": {},
     "output_type": "execute_result"
    }
   ],
   "source": [
    "mean_virginica = calculo_mean(virginica)\n",
    "\n",
    "#Separação em matriz coluna\n",
    "mean_virginica_lista=[]\n",
    "for i in mean_virginica:\n",
    "    mean_virginica_lista.append([i])\n",
    "mean_virginica_lista"
   ]
  },
  {
   "cell_type": "markdown",
   "metadata": {},
   "source": [
    "### Matriz de covariância "
   ]
  },
  {
   "cell_type": "markdown",
   "metadata": {
    "ExecuteTime": {
     "end_time": "2020-10-22T18:21:43.068882Z",
     "start_time": "2020-10-22T18:21:43.059907Z"
    }
   },
   "source": [
    "$ \\frac{1}{Ni-1} \\sum_{j=1}^{Ni} (xij-xi)(xij-xi)^T $\n",
    "<br>\n",
    "- Ni = 50 <br>\n",
    "- Há uma matriz de covariância para cada classe. 03 classes -> 03 matrizes."
   ]
  },
  {
   "cell_type": "markdown",
   "metadata": {},
   "source": [
    "#### Matriz de covariância setosa (S1)"
   ]
  },
  {
   "cell_type": "code",
   "execution_count": 14,
   "metadata": {
    "ExecuteTime": {
     "end_time": "2020-10-22T23:38:22.289769Z",
     "start_time": "2020-10-22T23:38:22.260847Z"
    }
   },
   "outputs": [
    {
     "data": {
      "text/plain": [
       "[[0.12424897959183666,\n",
       "  0.09921632653061219,\n",
       "  0.01635510204081632,\n",
       "  0.01033061224489795],\n",
       " [0.09921632653061219,\n",
       "  0.14368979591836734,\n",
       "  0.01169795918367346,\n",
       "  0.009297959183673474],\n",
       " [0.01635510204081632,\n",
       "  0.01169795918367346,\n",
       "  0.030159183673469397,\n",
       "  0.006069387755102041],\n",
       " [0.01033061224489795,\n",
       "  0.009297959183673474,\n",
       "  0.006069387755102041,\n",
       "  0.0111061224489796]]"
      ]
     },
     "execution_count": 14,
     "metadata": {},
     "output_type": "execute_result"
    }
   ],
   "source": [
    "#Subtração de cada elemento pela média * transposta do resultado\n",
    "to_sum_1_class=[]\n",
    "for i in range(len(setosa)):\n",
    "    z = [[list(setosa[i])[0] - mean_setosa[0]], [list(setosa[i])[1] - mean_setosa[1]], [list(setosa[i])[2] - mean_setosa[2]],[list(setosa[i])[3] - mean_setosa[3]]] \n",
    "    z=np.array(z)\n",
    "    z2 = z.transpose()\n",
    "    resp = np.matmul(z,z2)\n",
    "    to_sum_1_class.append(resp)\n",
    "to_sum_1_class\n",
    "\n",
    "#Matriz de covariância da 1ª classe - setosa (S1)\n",
    "\n",
    "somita=[]\n",
    "for j in range(len(setosa[0])):\n",
    "    soma=0\n",
    "    for i in range(len(setosa)):\n",
    "        soma=(soma+to_sum_1_class[i][0][j])\n",
    "    somita.append(soma)\n",
    "somita\n",
    "\n",
    "somita1=[]\n",
    "for j in range(len(setosa[0])):\n",
    "    soma=0\n",
    "    for i in range(len(setosa)):\n",
    "        soma=(soma+to_sum_1_class[i][1][j])\n",
    "    somita1.append(soma)\n",
    "somita1\n",
    "\n",
    "somita2=[]\n",
    "for j in range(len(setosa[0])):\n",
    "    soma=0\n",
    "    for i in range(len(setosa)):\n",
    "        soma=(soma+to_sum_1_class[i][2][j])\n",
    "    somita2.append(soma)\n",
    "somita2\n",
    "\n",
    "somita3=[]\n",
    "for j in range(len(setosa[0])):\n",
    "    soma=0\n",
    "    for i in range(len(setosa)):\n",
    "        soma=(soma+to_sum_1_class[i][3][j])\n",
    "    somita3.append(soma)\n",
    "somita3\n",
    "\n",
    "#Normalizar a matriz: dividir por (len(setosa)-1)\n",
    "\n",
    "S1_non_normalize = [somita,somita1,somita2,somita3]\n",
    "S1_non_normalize\n",
    "\n",
    "S1=[]\n",
    "for i in range(0,4):\n",
    "    for j in range(0,4):\n",
    "        S1.append(S1_non_normalize [i][j]/(len(setosa)-1))\n",
    "S1\n",
    "\n",
    "S1 = [S1[x:x+4] for x in range(0, len(S1), 4)]\n",
    "S1"
   ]
  },
  {
   "cell_type": "markdown",
   "metadata": {},
   "source": [
    "#### Matriz de covariância versicolor (S2)"
   ]
  },
  {
   "cell_type": "code",
   "execution_count": 15,
   "metadata": {
    "ExecuteTime": {
     "end_time": "2020-10-22T23:38:22.320686Z",
     "start_time": "2020-10-22T23:38:22.292762Z"
    }
   },
   "outputs": [
    {
     "data": {
      "text/plain": [
       "[[0.2664326530612246,\n",
       "  0.08518367346938774,\n",
       "  0.18289795918367358,\n",
       "  0.055779591836734706],\n",
       " [0.08518367346938774,\n",
       "  0.09846938775510206,\n",
       "  0.08265306122448983,\n",
       "  0.041204081632653065],\n",
       " [0.18289795918367358,\n",
       "  0.08265306122448983,\n",
       "  0.22081632653061237,\n",
       "  0.07310204081632653],\n",
       " [0.055779591836734706,\n",
       "  0.041204081632653065,\n",
       "  0.07310204081632653,\n",
       "  0.039106122448979576]]"
      ]
     },
     "execution_count": 15,
     "metadata": {},
     "output_type": "execute_result"
    }
   ],
   "source": [
    "#Subtração de cada elemento pela média * transposta do resultado\n",
    "\n",
    "to_sum_2_class=[]\n",
    "for i in range(len(versicolor)):\n",
    "    z = [[list(versicolor[i])[0] - mean_versicolor[0]], [list(versicolor[i])[1] - mean_versicolor[1]], [list(versicolor[i])[2] - mean_versicolor[2]],[list(versicolor[i])[3] - mean_versicolor[3]]] \n",
    "    z=np.array(z)\n",
    "    z2 = z.transpose()\n",
    "    resp = np.matmul(z,z2)\n",
    "    to_sum_2_class.append(resp)\n",
    "to_sum_2_class\n",
    "\n",
    "#Matriz de covariância da 2ª classe -versicolor (S2)\n",
    "somita=[]\n",
    "for j in range(len(versicolor[0])):\n",
    "    soma=0\n",
    "    for i in range(len(versicolor)):\n",
    "        soma=(soma+to_sum_2_class[i][0][j])\n",
    "    somita.append(soma)\n",
    "somita\n",
    "\n",
    "somita1=[]\n",
    "for j in range(len(versicolor[0])):\n",
    "    soma=0\n",
    "    for i in range(len(versicolor)):\n",
    "        soma=(soma+to_sum_2_class[i][1][j])\n",
    "    somita1.append(soma)\n",
    "somita1\n",
    "\n",
    "somita2=[]\n",
    "for j in range(len(versicolor[0])):\n",
    "    soma=0\n",
    "    for i in range(len(versicolor)):\n",
    "        soma=(soma+to_sum_2_class[i][2][j])\n",
    "    somita2.append(soma)\n",
    "somita2\n",
    "\n",
    "somita3=[]\n",
    "for j in range(len(versicolor[0])):\n",
    "    soma=0\n",
    "    for i in range(len(versicolor)):\n",
    "        soma=(soma+to_sum_2_class[i][3][j])\n",
    "    somita3.append(soma)\n",
    "somita3\n",
    "\n",
    "#Normalizar a matriz: dividir por (len(versicolor)-1)\n",
    "\n",
    "S2_non_normalize = [somita,somita1,somita2,somita3]\n",
    "S2_non_normalize \n",
    "\n",
    "S2=[]\n",
    "for i in range(0,4):\n",
    "    for j in range(0,4):\n",
    "        S2.append(S2_non_normalize [i][j]/(len(versicolor)-1))\n",
    "\n",
    "S2 = [S2[x:x+4] for x in range(0, len(S2), 4)]\n",
    "S2"
   ]
  },
  {
   "cell_type": "markdown",
   "metadata": {},
   "source": [
    "#### Matriz de covariância virginica (S3)"
   ]
  },
  {
   "cell_type": "code",
   "execution_count": 16,
   "metadata": {
    "ExecuteTime": {
     "end_time": "2020-10-22T23:38:22.366563Z",
     "start_time": "2020-10-22T23:38:22.323680Z"
    }
   },
   "outputs": [
    {
     "data": {
      "text/plain": [
       "[[0.40434285714285706,\n",
       "  0.09376326530612243,\n",
       "  0.3032897959183674,\n",
       "  0.04909387755102043],\n",
       " [0.09376326530612243,\n",
       "  0.10400408163265312,\n",
       "  0.07137959183673467,\n",
       "  0.04762857142857144],\n",
       " [0.3032897959183674,\n",
       "  0.07137959183673467,\n",
       "  0.304587755102041,\n",
       "  0.04882448979591837],\n",
       " [0.04909387755102043,\n",
       "  0.04762857142857144,\n",
       "  0.04882448979591837,\n",
       "  0.07543265306122447]]"
      ]
     },
     "execution_count": 16,
     "metadata": {},
     "output_type": "execute_result"
    }
   ],
   "source": [
    "#Subtração de cada elemento pela média * transposta do resultado\n",
    "to_sum_3_class=[]\n",
    "for i in range(len(virginica)):\n",
    "    z = [[list(virginica[i])[0] - mean_virginica[0]], [list(virginica[i])[1] - mean_virginica[1]], [list(virginica[i])[2] - mean_virginica[2]],[list(virginica[i])[3] - mean_virginica[3]]] \n",
    "    z=np.array(z)\n",
    "    z2 = z.transpose()\n",
    "    resp = np.matmul(z,z2)\n",
    "    to_sum_3_class.append(resp)\n",
    "to_sum_3_class\n",
    "\n",
    "#Matriz de covariância da 2ª classe -virginica (S3)\n",
    "\n",
    "somita=[]\n",
    "for j in range(len(virginica[0])):\n",
    "    soma=0\n",
    "    for i in range(len(virginica)):\n",
    "        soma=(soma+to_sum_3_class[i][0][j])\n",
    "    somita.append(soma)\n",
    "somita\n",
    "\n",
    "somita1=[]\n",
    "for j in range(len(virginica[0])):\n",
    "    soma=0\n",
    "    for i in range(len(virginica)):\n",
    "        soma=(soma+to_sum_3_class[i][1][j])\n",
    "    somita1.append(soma)\n",
    "somita1\n",
    "\n",
    "somita2=[]\n",
    "for j in range(len(virginica[0])):\n",
    "    soma=0\n",
    "    for i in range(len(virginica)):\n",
    "        soma=(soma+to_sum_3_class[i][2][j])\n",
    "    somita2.append(soma)\n",
    "somita2\n",
    "\n",
    "somita3=[]\n",
    "for j in range(len(virginica[0])):\n",
    "    soma=0\n",
    "    for i in range(len(virginica)):\n",
    "        soma=(soma+to_sum_3_class[i][3][j])\n",
    "    somita3.append(soma)\n",
    "somita3\n",
    "\n",
    "S3_non_normalize = [somita,somita1,somita2,somita3]\n",
    "S3_non_normalize \n",
    "\n",
    "#Normalizar a matriz: dividir por (len(virginica)-1)\n",
    "\n",
    "S3=[]\n",
    "for i in range(0,4):\n",
    "    for j in range(0,4):\n",
    "        S3.append(S3_non_normalize [i][j]/(len(virginica)-1))\n",
    "\n",
    "S3 = [S3[x:x+4] for x in range(0, len(S3), 4)]\n",
    "S3"
   ]
  },
  {
   "cell_type": "markdown",
   "metadata": {},
   "source": [
    "### Within-class scatter matrix \n",
    "\n",
    "$ Sw = (Ni-1) \\sum_{i=1}^{g}\\sum_{j=1}^{Ni}(xij-xi)(xij-xi)^T $"
   ]
  },
  {
   "cell_type": "code",
   "execution_count": 17,
   "metadata": {
    "ExecuteTime": {
     "end_time": "2020-10-22T23:38:22.382521Z",
     "start_time": "2020-10-22T23:38:22.369557Z"
    },
    "code_folding": [],
    "scrolled": true
   },
   "outputs": [
    {
     "data": {
      "text/plain": [
       "[[38.956199999999995,\n",
       "  13.629999999999995,\n",
       "  24.624600000000008,\n",
       "  5.645000000000001],\n",
       " [13.629999999999995,\n",
       "  16.962000000000003,\n",
       "  8.120800000000001,\n",
       "  4.808400000000001],\n",
       " [24.624600000000008,\n",
       "  8.120800000000001,\n",
       "  27.222600000000014,\n",
       "  6.271800000000001],\n",
       " [5.645000000000001, 4.808400000000001, 6.271800000000001, 6.156599999999999]]"
      ]
     },
     "execution_count": 17,
     "metadata": {},
     "output_type": "execute_result"
    }
   ],
   "source": [
    "#Calculate the matrix Sw\n",
    "Sw_list=[]\n",
    "for i in range(len(S1[0])):\n",
    "    for j in range(len(S1[0])):\n",
    "        soma = (S1[i][j]+ S2[i][j]+ S3[i][j])*(49)\n",
    "        Sw_list.append(soma)\n",
    "\n",
    "#Reshape Sw_list into a matrix 4x4\n",
    "Sw = [Sw_list[x:x+4] for x in range(0, len(Sw_list), 4)]\n",
    "Sw"
   ]
  },
  {
   "cell_type": "markdown",
   "metadata": {},
   "source": [
    "### Between-class scatter matrix "
   ]
  },
  {
   "cell_type": "markdown",
   "metadata": {
    "ExecuteTime": {
     "end_time": "2020-10-22T18:47:17.203834Z",
     "start_time": "2020-10-22T18:47:17.193898Z"
    }
   },
   "source": [
    "$ Sb = Ni \\sum_{i=1}^{g}(xi-x)(xi-x)^T $"
   ]
  },
  {
   "cell_type": "markdown",
   "metadata": {},
   "source": [
    "#### Grand mean vector"
   ]
  },
  {
   "cell_type": "code",
   "execution_count": 18,
   "metadata": {
    "ExecuteTime": {
     "end_time": "2020-10-22T23:38:22.413440Z",
     "start_time": "2020-10-22T23:38:22.386511Z"
    }
   },
   "outputs": [
    {
     "data": {
      "text/plain": [
       "[[5.843333333333334],\n",
       " [3.057333333333334],\n",
       " [3.758000000000002],\n",
       " [1.199333333333334]]"
      ]
     },
     "execution_count": 18,
     "metadata": {},
     "output_type": "execute_result"
    }
   ],
   "source": [
    "#Grand mean vector:\n",
    "soma0=0\n",
    "for i in range(len(setosa)):\n",
    "    soma0 = soma0 + setosa[i][0]+ versicolor[i][0] + virginica[i][0]\n",
    "soma0\n",
    "\n",
    "soma1=0\n",
    "for i in range(len(setosa)):\n",
    "    soma1 = soma1 + setosa[i][1]+ versicolor[i][1] + virginica[i][1]\n",
    "soma1\n",
    "\n",
    "soma2=0\n",
    "for i in range(len(setosa)):\n",
    "    soma2 = soma2 + setosa[i][2]+ versicolor[i][2] + virginica[i][2]\n",
    "soma2\n",
    "\n",
    "soma3=0\n",
    "for i in range(len(setosa)):\n",
    "    soma3 = soma3 + setosa[i][3]+ versicolor[i][3] + virginica[i][3]\n",
    "soma3\n",
    "\n",
    "mean_total = [[(soma0/len(X))],\n",
    "              [(soma1/len(X))],\n",
    "              [(soma2/len(X))],\n",
    "              [(soma3/len(X))]]\n",
    "mean_total"
   ]
  },
  {
   "cell_type": "markdown",
   "metadata": {},
   "source": [
    "#### Sb setosa "
   ]
  },
  {
   "cell_type": "code",
   "execution_count": 19,
   "metadata": {
    "ExecuteTime": {
     "end_time": "2020-10-22T23:38:22.429398Z",
     "start_time": "2020-10-22T23:38:22.416431Z"
    }
   },
   "outputs": [
    {
     "data": {
      "text/plain": [
       "array([[ 0.70112711, -0.31037156,  1.92251733,  0.79825778],\n",
       "       [-0.31037156,  0.13739378, -0.85105067, -0.35336889],\n",
       "       [ 1.92251733, -0.85105067,  5.271616  ,  2.18885333],\n",
       "       [ 0.79825778, -0.35336889,  2.18885333,  0.90884444]])"
      ]
     },
     "execution_count": 19,
     "metadata": {},
     "output_type": "execute_result"
    }
   ],
   "source": [
    "#Subtração da média da setosa pela média total\n",
    "multi=[]\n",
    "for i in range(len(mean_total)):\n",
    "    multi.append([mean_setosa_lista[i][0] - mean_total[i][0]])\n",
    "multi\n",
    "\n",
    "#Transposta do resultado\n",
    "multi = np.array(multi)\n",
    "multi_transpose = multi.transpose()\n",
    "multi_transpose\n",
    "\n",
    "#Sb setosa\n",
    "Sb_Setosa = np.matmul(multi,multi_transpose)\n",
    "Sb_Setosa"
   ]
  },
  {
   "cell_type": "markdown",
   "metadata": {},
   "source": [
    "#### Sb versicolor"
   ]
  },
  {
   "cell_type": "code",
   "execution_count": 20,
   "metadata": {
    "ExecuteTime": {
     "end_time": "2020-10-22T23:38:22.445354Z",
     "start_time": "2020-10-22T23:38:22.432389Z"
    }
   },
   "outputs": [
    {
     "data": {
      "text/plain": [
       "array([[ 0.00858711, -0.02662622,  0.04651867,  0.01173778],\n",
       "       [-0.02662622,  0.08256044, -0.14424133, -0.03639556],\n",
       "       [ 0.04651867, -0.14424133,  0.252004  ,  0.06358667],\n",
       "       [ 0.01173778, -0.03639556,  0.06358667,  0.01604444]])"
      ]
     },
     "execution_count": 20,
     "metadata": {},
     "output_type": "execute_result"
    }
   ],
   "source": [
    "#Subtração da média da versicolor\n",
    "multi_v=[]\n",
    "for i in range(len(mean_total)):\n",
    "    multi_v.append([mean_versicolor_lista[i][0] - mean_total[i][0]])\n",
    "multi_v\n",
    "\n",
    "#Transposta do resultado\n",
    "multi_v = np.array(multi_v)\n",
    "multi_v_transpose = multi_v.transpose()\n",
    "multi_v_transpose\n",
    "\n",
    "#Sb setosa\n",
    "Sb_Versicolor = np.matmul(multi_v,multi_v_transpose)\n",
    "Sb_Versicolor"
   ]
  },
  {
   "cell_type": "markdown",
   "metadata": {},
   "source": [
    "#### Sb virginica"
   ]
  },
  {
   "cell_type": "code",
   "execution_count": 21,
   "metadata": {
    "ExecuteTime": {
     "end_time": "2020-10-22T23:38:22.460314Z",
     "start_time": "2020-10-22T23:38:22.449344Z"
    }
   },
   "outputs": [
    {
     "data": {
      "text/plain": [
       "array([[ 0.55452844, -0.06205556,  1.335932  ,  0.61559111],\n",
       "       [-0.06205556,  0.00694444, -0.1495    , -0.06888889],\n",
       "       [ 1.335932  , -0.1495    ,  3.218436  ,  1.48304   ],\n",
       "       [ 0.61559111, -0.06888889,  1.48304   ,  0.68337778]])"
      ]
     },
     "execution_count": 21,
     "metadata": {},
     "output_type": "execute_result"
    }
   ],
   "source": [
    "#Subtração da média da versicolor\n",
    "multi_vi=[]\n",
    "for i in range(len(mean_total)):\n",
    "    multi_vi.append([mean_virginica_lista[i][0]] - mean_total[i][0])\n",
    "multi_vi\n",
    "\n",
    "#Transposta do resultado\n",
    "multi_vi = np.array(multi_vi)\n",
    "multi_vi_transpose = multi_vi.transpose()\n",
    "multi_vi_transpose\n",
    "\n",
    "#Sb setosa\n",
    "Sb_Virginica = np.matmul(multi_vi,multi_vi_transpose)\n",
    "Sb_Virginica"
   ]
  },
  {
   "cell_type": "markdown",
   "metadata": {},
   "source": [
    "#### Sb "
   ]
  },
  {
   "cell_type": "code",
   "execution_count": 22,
   "metadata": {
    "ExecuteTime": {
     "end_time": "2020-10-22T23:38:22.476271Z",
     "start_time": "2020-10-22T23:38:22.463306Z"
    },
    "scrolled": true
   },
   "outputs": [
    {
     "data": {
      "text/plain": [
       "[[63.21213333333326, -19.952666666666712, 165.2483999999999, 71.2793333333333],\n",
       " [-19.952666666666712,\n",
       "  11.344933333333353,\n",
       "  -57.23960000000009,\n",
       "  -22.932666666666712],\n",
       " [165.2483999999999,\n",
       "  -57.23960000000009,\n",
       "  437.10279999999983,\n",
       "  186.77399999999994],\n",
       " [71.2793333333333,\n",
       "  -22.932666666666712,\n",
       "  186.77399999999994,\n",
       "  80.41333333333333]]"
      ]
     },
     "execution_count": 22,
     "metadata": {},
     "output_type": "execute_result"
    }
   ],
   "source": [
    "#Soma da matriz Sb de cada classe e multiplicação por Ni\n",
    "Ni = 50\n",
    "listah=[]\n",
    "for i in range(4):\n",
    "    soma=0\n",
    "    for j in range(4):\n",
    "        soma = Ni * (Sb_Setosa[i][j] +Sb_Versicolor[i][j] +Sb_Virginica[i][j])\n",
    "        listah.append(soma)\n",
    "\n",
    "#Reshape into a 4x4 matrix        \n",
    "Sb = [listah[x:x+4] for x in range(0, len(listah), 4)]\n",
    "Sb"
   ]
  },
  {
   "cell_type": "markdown",
   "metadata": {},
   "source": [
    "###  Cálculo do autovalor e autovetor"
   ]
  },
  {
   "cell_type": "markdown",
   "metadata": {
    "ExecuteTime": {
     "end_time": "2020-10-22T18:36:26.656518Z",
     "start_time": "2020-10-22T18:36:26.647542Z"
    }
   },
   "source": [
    "$ \n",
    "𝑆w^{−1}* 𝑆b \n",
    "$"
   ]
  },
  {
   "cell_type": "code",
   "execution_count": 23,
   "metadata": {
    "ExecuteTime": {
     "end_time": "2020-10-22T23:38:22.506191Z",
     "start_time": "2020-10-22T23:38:22.484251Z"
    }
   },
   "outputs": [
    {
     "data": {
      "text/plain": [
       "[[-3.058369391467145,\n",
       "  1.0813826444329417,\n",
       "  -8.111922702319275,\n",
       "  -3.458649872345982],\n",
       " [-5.561639262673131,\n",
       "  2.1782186630757585,\n",
       "  -14.964611937241006,\n",
       "  -6.307739505812652],\n",
       " [8.077438781883151,\n",
       "  -2.9427185421935196,\n",
       "  21.51159090073163,\n",
       "  9.142064681969181],\n",
       " [10.497081867684766,\n",
       "  -3.4198544912930533,\n",
       "  27.54852481603696,\n",
       "  11.845880068560824]]"
      ]
     },
     "execution_count": 23,
     "metadata": {},
     "output_type": "execute_result"
    }
   ],
   "source": [
    "# Cálculo de Sw-1 * Sb\n",
    "matrix = multiply_matrix_matrix(matriz_inversa(Sw),Sb)\n",
    "matrix"
   ]
  },
  {
   "cell_type": "markdown",
   "metadata": {},
   "source": [
    "#### Autovalor\n",
    "\n",
    "É esperado que tenhamos (g – 1) nonzero eigenvalues, onde g - número de classes.<br>\n",
    "Portanto, teremos 3-1 = 2 eigenvalues diferentes de zero."
   ]
  },
  {
   "cell_type": "code",
   "execution_count": 24,
   "metadata": {
    "ExecuteTime": {
     "end_time": "2020-10-22T23:38:22.522149Z",
     "start_time": "2020-10-22T23:38:22.510182Z"
    }
   },
   "outputs": [
    {
     "name": "stdout",
     "output_type": "stream",
     "text": [
      "Autovalor 1: 3.22e+01\n",
      "Autovalor 2: 2.85e-01\n",
      "Autovalor 3: 1.04e-15\n",
      "Autovalor 4: 1.04e-15\n"
     ]
    }
   ],
   "source": [
    "# Utilização de fórmula para obter os autovalores, que são números complexos\n",
    "eig_val = np.linalg.eig(matrix)[0]\n",
    "\n",
    "# Printando de maneira organizada somente a parte real\n",
    "for i in range(len(eig_val)):\n",
    "    print('Autovalor {:}: {:.2e}'.format(i+1, eig_val[i].real))"
   ]
  },
  {
   "cell_type": "markdown",
   "metadata": {},
   "source": [
    "Notar que os autovalores já estão em ordem descrescente, portanto, podemos descartar os autovalores 3 e 4, pois são muito pequenos (aproximadamente iguais a zero). "
   ]
  },
  {
   "cell_type": "markdown",
   "metadata": {},
   "source": [
    "#### Autovetor (W)"
   ]
  },
  {
   "cell_type": "code",
   "execution_count": 25,
   "metadata": {
    "ExecuteTime": {
     "end_time": "2020-10-22T23:38:22.537111Z",
     "start_time": "2020-10-22T23:38:22.524143Z"
    }
   },
   "outputs": [
    {
     "name": "stdout",
     "output_type": "stream",
     "text": [
      "\n",
      "Eigenvector 1: \n",
      "[[ 0.20874182]\n",
      " [ 0.38620369]\n",
      " [-0.55401172]\n",
      " [-0.7073504 ]]\n",
      "\n",
      "Eigenvector 2: \n",
      "[[-0.00653196]\n",
      " [-0.58661055]\n",
      " [ 0.25256154]\n",
      " [-0.76945309]]\n",
      "\n",
      "Eigenvector 3: \n",
      "[[-0.69104857]\n",
      " [ 0.31072357]\n",
      " [ 0.3104214 ]\n",
      " [-0.01984056]]\n",
      "\n",
      "Eigenvector 4: \n",
      "[[-0.69104857]\n",
      " [ 0.31072357]\n",
      " [ 0.3104214 ]\n",
      " [-0.01984056]]\n"
     ]
    }
   ],
   "source": [
    "# Utilização de fórmula para obter os autovetores correspondentes, que são números complexos\n",
    "eig_vecs = np.linalg.eig(matrix)[1]\n",
    "\n",
    "# Printando de maneira organizada somente a parte real\n",
    "for i in range(len(eig_val)):\n",
    "    eigvec_sc = eig_vecs[:,i].reshape(4,1)   \n",
    "    print('\\nEigenvector {}: \\n{}'.format(i+1, eigvec_sc.real))"
   ]
  },
  {
   "cell_type": "markdown",
   "metadata": {},
   "source": [
    "Como descartamos os autovalores 3 e 4, ficamos apenas com os autovetores correspondentes 1 e 2."
   ]
  },
  {
   "cell_type": "code",
   "execution_count": 26,
   "metadata": {
    "ExecuteTime": {
     "end_time": "2020-10-22T23:38:22.552068Z",
     "start_time": "2020-10-22T23:38:22.540100Z"
    }
   },
   "outputs": [
    {
     "data": {
      "text/plain": [
       "[[0.20874182147455314, -0.006531964047186783],\n",
       " [0.3862036867550528, -0.5866105531246786],\n",
       " [-0.5540117155528652, 0.2525615400443024],\n",
       " [-0.7073503964333815, -0.7694530920718267]]"
      ]
     },
     "execution_count": 26,
     "metadata": {},
     "output_type": "execute_result"
    }
   ],
   "source": [
    "#Cálculo final de W\n",
    "W =[[eig_vecs.real[0][0],eig_vecs.real[0][1]],\n",
    "    [eig_vecs.real[1][0],eig_vecs.real[1][1]],\n",
    "    [eig_vecs.real[2][0],eig_vecs.real[2][1]],\n",
    "    [eig_vecs.real[3][0],eig_vecs.real[3][1]]]\n",
    "W"
   ]
  },
  {
   "cell_type": "markdown",
   "metadata": {},
   "source": [
    "### Transforming the samples into the new subspace"
   ]
  },
  {
   "cell_type": "code",
   "execution_count": 27,
   "metadata": {
    "ExecuteTime": {
     "end_time": "2020-10-22T23:38:22.583983Z",
     "start_time": "2020-10-22T23:38:22.556060Z"
    }
   },
   "outputs": [
    {
     "data": {
      "text/plain": [
       "array([[ 1.49920971, -1.88675441],\n",
       "       [ 1.2643595 , -1.59214275],\n",
       "       [ 1.35525305, -1.73341462],\n",
       "       [ 1.18495616, -1.62358806],\n",
       "       [ 1.5169559 , -1.94476227],\n",
       "       [ 1.40864014, -2.20148038],\n",
       "       [ 1.28548339, -1.90177269],\n",
       "       [ 1.38431399, -1.80218401],\n",
       "       [ 1.12136823, -1.53021571],\n",
       "       [ 1.31831374, -1.54860234],\n",
       "       [ 1.58367182, -1.98077996],\n",
       "       [ 1.28716445, -1.77562146],\n",
       "       [ 1.31422036, -1.51454424],\n",
       "       [ 1.37605297, -1.58704672],\n",
       "       [ 1.94923317, -2.23514437],\n",
       "       [ 1.77516687, -2.54725756],\n",
       "       [ 1.63024483, -2.302505  ],\n",
       "       [ 1.42847467, -1.96369972],\n",
       "       [ 1.50337736, -2.06783361],\n",
       "       [ 1.48893461, -2.11442674],\n",
       "       [ 1.35700838, -1.75428449],\n",
       "       [ 1.3795792 , -2.13271099],\n",
       "       [ 1.65506386, -2.0431741 ],\n",
       "       [ 1.04356034, -1.92449977],\n",
       "       [ 1.12096094, -1.699853  ],\n",
       "       [ 1.17443134, -1.54228363],\n",
       "       [ 1.18744274, -1.93081847],\n",
       "       [ 1.46468272, -1.86215146],\n",
       "       [ 1.48146353, -1.82874656],\n",
       "       [ 1.18904953, -1.65764616],\n",
       "       [ 1.17130335, -1.5996383 ],\n",
       "       [ 1.32634064, -1.95868741],\n",
       "       [ 1.76713997, -2.13717248],\n",
       "       [ 1.85304902, -2.29999459],\n",
       "       [ 1.2475787 , -1.62554765],\n",
       "       [ 1.47327677, -1.76063036],\n",
       "       [ 1.63810761, -1.91462335],\n",
       "       [ 1.56681676, -1.86716377],\n",
       "       [ 1.21538977, -1.61413292],\n",
       "       [ 1.40518817, -1.80283721],\n",
       "       [ 1.46300166, -1.98830268],\n",
       "       [ 0.89518633, -1.28110404],\n",
       "       [ 1.2926305 , -1.73145503],\n",
       "       [ 1.08459303, -2.14337015],\n",
       "       [ 1.19659488, -2.09034743],\n",
       "       [ 1.17275028, -1.66843486],\n",
       "       [ 1.50426848, -2.01222527],\n",
       "       [ 1.2789777 , -1.70750527],\n",
       "       [ 1.56279764, -1.98012676],\n",
       "       [ 1.40109479, -1.76877911],\n",
       "       [-0.89710107, -1.81307261],\n",
       "       [-0.98227886, -1.93661105],\n",
       "       [-1.138133  , -1.78019136],\n",
       "       [-1.09925388, -1.37517293],\n",
       "       [-1.17128732, -1.67736387],\n",
       "       [-1.14140953, -1.54350383],\n",
       "       [-1.14607006, -2.02105191],\n",
       "       [-0.58586528, -1.37587196],\n",
       "       [-0.97032269, -1.5827875 ],\n",
       "       [-1.02272882, -1.71005903],\n",
       "       [-0.83027492, -1.09136863],\n",
       "       [-0.99768699, -1.89179142],\n",
       "       [-0.82129822, -1.08894193],\n",
       "       [-1.20082982, -1.63121068],\n",
       "       [-0.6250528 , -1.82881708],\n",
       "       [-0.83214047, -1.82822043],\n",
       "       [-1.22651305, -1.81406337],\n",
       "       [-0.72534591, -1.35568466],\n",
       "       [-1.41023091, -1.3486941 ],\n",
       "       [-0.80426771, -1.36451378],\n",
       "       [-1.4650584 , -2.08841253],\n",
       "       [-0.78090694, -1.67239739],\n",
       "       [-1.49510031, -1.42430585],\n",
       "       [-1.0979801 , -1.418659  ],\n",
       "       [-0.84586754, -1.65724957],\n",
       "       [-0.89163502, -1.76890617],\n",
       "       [-1.14873208, -1.55186584],\n",
       "       [-1.41537299, -1.84885837],\n",
       "       [-1.18163669, -1.7580151 ],\n",
       "       [-0.45243343, -1.44790734],\n",
       "       [-0.80836109, -1.33045568],\n",
       "       [-0.68222488, -1.27876652],\n",
       "       [-0.75601365, -1.56008759],\n",
       "       [-1.6620195 , -1.56610137],\n",
       "       [-1.26826142, -1.81275697],\n",
       "       [-1.05926989, -2.12826568],\n",
       "       [-1.06907902, -1.82939727],\n",
       "       [-1.15386511, -1.27937389],\n",
       "       [-0.86343829, -1.76119736],\n",
       "       [-1.02201314, -1.49249504],\n",
       "       [-1.13426242, -1.37318617],\n",
       "       [-1.10680828, -1.71512788],\n",
       "       [-0.85003519, -1.47617038],\n",
       "       [-0.60361147, -1.3178641 ],\n",
       "       [-1.03470057, -1.55995804],\n",
       "       [-0.82723024, -1.6596491 ],\n",
       "       [-0.93658565, -1.67793335],\n",
       "       [-0.88761591, -1.65594318],\n",
       "       [-0.41002808, -1.58855318],\n",
       "       [-0.91980484, -1.64452845],\n",
       "       [-2.50290064, -2.38522969],\n",
       "       [-1.91597298, -1.79563091],\n",
       "       [-2.11342696, -1.93194701],\n",
       "       [-1.94063215, -1.71299292],\n",
       "       [-2.25400592, -2.0302293 ],\n",
       "       [-2.39686425, -1.75841992],\n",
       "       [-1.70720425, -1.67007633],\n",
       "       [-2.11969853, -1.54273181],\n",
       "       [-2.12241924, -1.43044918],\n",
       "       [-2.25457307, -2.54183547],\n",
       "       [-1.6474869 , -2.17045387],\n",
       "       [-1.90153023, -1.74903778],\n",
       "       [-1.95444482, -2.03101204],\n",
       "       [-2.02942177, -1.77985706],\n",
       "       [-2.23102781, -2.23901851],\n",
       "       [-1.99136855, -2.35012429],\n",
       "       [-1.80486225, -1.79821652],\n",
       "       [-2.19316333, -2.28005071],\n",
       "       [-2.83814514, -1.60255105],\n",
       "       [-1.72898513, -1.22110694],\n",
       "       [-2.10860232, -2.25236566],\n",
       "       [-1.87903368, -1.98044319],\n",
       "       [-2.43789694, -1.53954954],\n",
       "       [-1.63006469, -1.77246389],\n",
       "       [-1.97026024, -2.1558297 ],\n",
       "       [-1.85850809, -1.79383024],\n",
       "       [-1.55691733, -1.8557279 ],\n",
       "       [-1.55595195, -1.94714066],\n",
       "       [-2.17058346, -1.88582099],\n",
       "       [-1.68347641, -1.57312982],\n",
       "       [-2.09737742, -1.61218156],\n",
       "       [-1.84374137, -2.20323495],\n",
       "       [-2.2413185 , -1.9627663 ],\n",
       "       [-1.49004155, -1.54977671],\n",
       "       [-1.81530147, -1.22792212],\n",
       "       [-2.24045429, -2.0392445 ],\n",
       "       [-2.17194055, -2.46797005],\n",
       "       [-1.78711606, -1.85622438],\n",
       "       [-1.52142496, -1.97174362],\n",
       "       [-1.8395491 , -2.11558244],\n",
       "       [-2.20430493, -2.29459967],\n",
       "       [-1.81481566, -2.34524152],\n",
       "       [-1.91597298, -1.79563091],\n",
       "       [-2.24027885, -2.20120015],\n",
       "       [-2.2532004 , -2.46361094],\n",
       "       [-1.95058557, -2.26001792],\n",
       "       [-1.83344164, -1.70683093],\n",
       "       [-1.78012881, -2.0278756 ],\n",
       "       [-2.01127735, -2.44088385],\n",
       "       [-1.70850266, -1.89532196]])"
      ]
     },
     "execution_count": 27,
     "metadata": {},
     "output_type": "execute_result"
    }
   ],
   "source": [
    "X_lda = multiply_matrix_matrix(X,W)\n",
    "\n",
    "#Transform the multiply result into a array to get the real part\n",
    "X_lda = np.array(multiply_matrix_matrix(X,W)).real\n",
    "X_lda"
   ]
  },
  {
   "cell_type": "markdown",
   "metadata": {},
   "source": [
    "### Graphic of result"
   ]
  },
  {
   "cell_type": "code",
   "execution_count": 28,
   "metadata": {
    "ExecuteTime": {
     "end_time": "2020-10-22T23:38:22.959517Z",
     "start_time": "2020-10-22T23:38:22.585979Z"
    }
   },
   "outputs": [
    {
     "data": {
      "image/png": "[encoded data removed]",
      "text/plain": [
       "<Figure size 432x288 with 1 Axes>"
      ]
     },
     "metadata": {
      "needs_background": "light"
     },
     "output_type": "display_data"
    }
   ],
   "source": [
    "label_dict = {0: 'Setosa', 1: 'Versicolor', 2:'Virginica'}\n",
    "for label,marker,color in zip(\n",
    "    range(0,3),('^', 's', 'o'),('blue', 'red', 'green')):\n",
    "\n",
    "    plt.scatter(x=X_lda[:,0].real[y == label],\n",
    "            y=X_lda[:,1].real[y == label],\n",
    "            marker=marker,\n",
    "            color=color,\n",
    "            alpha=0.5,\n",
    "            label=label_dict[label]\n",
    "            )\n",
    "leg = plt.legend(loc='upper right', fancybox=True)\n",
    "leg.get_frame().set_alpha(0.5)"
   ]
  },
  {
   "cell_type": "markdown",
   "metadata": {},
   "source": [
    "## Exercício 2"
   ]
  },
  {
   "cell_type": "markdown",
   "metadata": {},
   "source": [
    "- Implementa o PCA+LDA e o use para a classificação dos dados de Iris de Fisher:\n",
    "- Teste com 1, 2 e 3 Componentes Principais.\n",
    "- Compare as retas geradas pelos dois métodos."
   ]
  },
  {
   "cell_type": "code",
   "execution_count": 29,
   "metadata": {
    "ExecuteTime": {
     "end_time": "2020-10-22T23:38:22.974476Z",
     "start_time": "2020-10-22T23:38:22.961511Z"
    }
   },
   "outputs": [],
   "source": [
    "#Subtraindo a média para definição do novo Dataset:\n",
    "\n",
    "def subtract_mean(x,y,z,f):\n",
    "    new_X = [i - calculo_mean(x) for i in x]\n",
    "    new_Y = [i - calculo_mean(y) for i in y]\n",
    "    new_Z = [i - calculo_mean(z) for i in z]\n",
    "    new_F = [i - calculo_mean(f) for i in f]\n",
    "    \n",
    "    dataset =[[i,j,z,f] for i, j, z,f in zip(new_X, new_Y,new_Z, new_F)]\n",
    "    return dataset"
   ]
  },
  {
   "cell_type": "markdown",
   "metadata": {},
   "source": [
    "### Uma Componente Principal"
   ]
  },
  {
   "cell_type": "markdown",
   "metadata": {},
   "source": [
    "#### PCA"
   ]
  },
  {
   "cell_type": "code",
   "execution_count": 30,
   "metadata": {
    "ExecuteTime": {
     "end_time": "2020-10-22T23:38:23.148283Z",
     "start_time": "2020-10-22T23:38:22.977470Z"
    }
   },
   "outputs": [],
   "source": [
    "# 1° Passo - Transformando as entradas em listas\n",
    "x1 = X[:,0]\n",
    "x2 = X[:,1]\n",
    "x3 = X[:,2]\n",
    "x4 = X[:,3]\n",
    "\n",
    "#Defining dataset to apply PCA\n",
    "dataset_iris= X\n",
    "\n",
    "#2° Passo - Subtraindo a média\n",
    "new_dataset_iris = subtract_mean(x1,x2,x3,x4)\n",
    "new_dataset_iris\n",
    "\n",
    "#3° Passo - Cálculo da matriz de covariância\n",
    "covariance_matrix_iris = np.cov(new_dataset_iris, rowvar=False)\n",
    "covariance_matrix_iris\n",
    "\n",
    "#4° Passo - Encontrar os autovalores, checar se estão na ordem\n",
    "autovalores_iris = np.linalg.eig(covariance_matrix_iris)[0]\n",
    "autovalores_iris\n",
    "\n",
    "#4° Passo - Encontrar os autovetores\n",
    "autovetores_alps = np.linalg.eig(covariance_matrix_iris)[1]\n",
    "autovetores_alps\n",
    "\n",
    "#5° Passo - Escolher os componentes\n",
    "FeatureVector = [autovetores_alps[0][0],autovetores_alps[1][0],autovetores_alps[2][0],autovetores_alps[3][0]]\n",
    "FeatureVector_transposed = [[autovetores_alps[0][0]],[autovetores_alps[1][0]],[autovetores_alps[2][0]],[autovetores_alps[3][0]]]\n",
    "FeatureVector_transposed\n",
    "\n",
    "#6° Passo - Derive the new \n",
    "#Multiplicar os autovetores pela matriz após subtração da média:\n",
    "#Conferir resultado :\n",
    "#np.matmul(pca.components_,transposta(new_dataset_alps))\n",
    "pca_iris = multiply_matrix_matrix(FeatureVector_transposed,transposta(new_dataset_iris))\n",
    "pca_iris\n",
    "\n",
    "pca_iris_1d=[]\n",
    "for i in pca_iris[0]:\n",
    "    pca_iris_1d.append([i])\n",
    "#pca_iris_1d"
   ]
  },
  {
   "cell_type": "code",
   "execution_count": 31,
   "metadata": {
    "ExecuteTime": {
     "end_time": "2020-10-22T23:38:23.164238Z",
     "start_time": "2020-10-22T23:38:23.151273Z"
    }
   },
   "outputs": [],
   "source": [
    "#PCA\n",
    "#Separate setosa samples\n",
    "setosa_1d = []\n",
    "for i in range(0,50):\n",
    "   setosa_1d.append(pca_iris_1d[i])\n",
    "#Separate versicolor samples\n",
    "versicolor_1d = []\n",
    "for i in range(50,100):\n",
    "   versicolor_1d.append(pca_iris_1d[i])\n",
    "#Separate virginica samples\n",
    "virginica_1d = []\n",
    "for i in range(100,150):\n",
    "   virginica_1d.append(pca_iris_1d[i])"
   ]
  },
  {
   "cell_type": "markdown",
   "metadata": {},
   "source": [
    "#### LDA"
   ]
  },
  {
   "cell_type": "code",
   "execution_count": 32,
   "metadata": {
    "ExecuteTime": {
     "end_time": "2020-10-22T23:38:23.180195Z",
     "start_time": "2020-10-22T23:38:23.167230Z"
    }
   },
   "outputs": [],
   "source": [
    "#Foi necessário criar uma nova fórmula para cálculo da média, devido ao novo formato das matrizes 1d\n",
    "def new_formula_media(matriz):\n",
    "    soma = 0 \n",
    "    for i in range(len(matriz)):\n",
    "        soma= soma + matriz[i][0]\n",
    "    media = soma/len(matriz)\n",
    "    return media"
   ]
  },
  {
   "cell_type": "code",
   "execution_count": 33,
   "metadata": {
    "ExecuteTime": {
     "end_time": "2020-10-22T23:38:23.212109Z",
     "start_time": "2020-10-22T23:38:23.183188Z"
    }
   },
   "outputs": [
    {
     "name": "stdout",
     "output_type": "stream",
     "text": [
      "Media da setosa = -0.3026010395216154\n",
      "Media da versicolor = 0.03348849083877698\n",
      "Media da virginica = 0.26911254868283696\n",
      "\n",
      "\n",
      "Matriz de covariância 1d setosa = [0.7951205560347674]\n",
      "Matriz de covariância 1d versicolor = [1.705012628222642]\n",
      "Matriz de covariância 1d virginica = [2.5875570041400793]\n",
      "\n",
      "\n",
      "Within-class scatter matrix :  [5.087690188397488]\n",
      "\n",
      "\n",
      "Grand_mean vector:  [-4.1062061158688344e-16]\n",
      "\n",
      "\n",
      "Between-class scatter matrix:  [4.6519124988553315]\n"
     ]
    }
   ],
   "source": [
    "#Média\n",
    "setosa_1d_mean = new_formula_media(setosa_1d)\n",
    "versicolor_1d_mean =new_formula_media(versicolor_1d)\n",
    "virginica_1d_mean = new_formula_media(virginica_1d)\n",
    "\n",
    "print('Media da setosa =', setosa_1d_mean)\n",
    "print('Media da versicolor =', versicolor_1d_mean)\n",
    "print('Media da virginica =', virginica_1d_mean)\n",
    "print('\\n')\n",
    "#Matriz de covariância setosa (S1_setosa)\n",
    "soma_setosa = [[(setosa_1d[i][0]-setosa_1d_mean)*(setosa_1d[i][0]-setosa_1d_mean)] for i in range(len(setosa_1d))]\n",
    "S1_setosa =0 \n",
    "for i in range(len(soma_setosa)):\n",
    "    S1_setosa = S1_setosa + soma_setosa[i][0]\n",
    "S1_setosa = [S1_setosa]\n",
    "\n",
    "#Matriz de covariância versicolor (S1_versicolor)\n",
    "soma_versicolor = [[(versicolor_1d[i][0]-versicolor_1d_mean)*(versicolor_1d[i][0]-versicolor_1d_mean)] for i in range(len(versicolor_1d))]\n",
    "S1_versicolor =0 \n",
    "for i in range(len(soma_setosa)):\n",
    "    S1_versicolor = S1_versicolor + soma_versicolor[i][0]\n",
    "S1_versicolor = [S1_versicolor]\n",
    "\n",
    "#Matriz de covariância virginica (S1_virginica)\n",
    "soma_virginica = [[(virginica_1d[i][0]-virginica_1d_mean)*(virginica_1d[i][0]-virginica_1d_mean)] for i in range(len(virginica_1d))]\n",
    "S1_virginica =0 \n",
    "for i in range(len(soma_virginica)):\n",
    "    S1_virginica = S1_virginica + soma_virginica[i][0]\n",
    "S1_virginica = [S1_virginica]\n",
    "\n",
    "print('Matriz de covariância 1d setosa =', S1_setosa)\n",
    "print('Matriz de covariância 1d versicolor =', S1_versicolor)\n",
    "print('Matriz de covariância 1d virginica =', S1_virginica)\n",
    "print('\\n')\n",
    "\n",
    "#Within-class scatter matrix \n",
    "Sw = [S1_setosa[0]+ S1_versicolor[0]+S1_virginica[0]]\n",
    "Sw\n",
    "print('Within-class scatter matrix : ',Sw)\n",
    "print('\\n')\n",
    "\n",
    "#Grand mean vector\n",
    "soma = 0\n",
    "for i in range(len(pca_iris_1d)):\n",
    "    soma = soma + pca_iris_1d[i][0]\n",
    "grand_mean = soma/len(pca_iris_1d)\n",
    "grand_mean\n",
    "print('Grand_mean vector: ',[grand_mean])\n",
    "print('\\n')\n",
    "\n",
    "#Between-class scatter matrix \n",
    "Sb= len(setosa_1d)*(setosa_1d_mean - grand_mean)*(setosa_1d_mean - grand_mean) +(versicolor_1d_mean - grand_mean)*versicolor_1d_mean - grand_mean + (virginica_1d_mean - grand_mean)*(virginica_1d_mean - grand_mean)\n",
    "Sb = [Sb]\n",
    "print('Between-class scatter matrix: ',Sb)"
   ]
  },
  {
   "cell_type": "markdown",
   "metadata": {
    "ExecuteTime": {
     "end_time": "2020-10-22T20:41:18.560396Z",
     "start_time": "2020-10-22T20:41:18.400253Z"
    }
   },
   "source": [
    "Não é possível encontrar o autovetor e autovalor da matriz Between-Class, pois a mesma possui apenas 01 dimensão.<br> Logo, **não é possível aplicar o LDA nesta matriz**."
   ]
  },
  {
   "cell_type": "markdown",
   "metadata": {},
   "source": [
    "### Duas Componentes Principais"
   ]
  },
  {
   "cell_type": "markdown",
   "metadata": {},
   "source": [
    "#### PCA"
   ]
  },
  {
   "cell_type": "code",
   "execution_count": 34,
   "metadata": {
    "ExecuteTime": {
     "end_time": "2020-10-22T23:38:23.244024Z",
     "start_time": "2020-10-22T23:38:23.215104Z"
    }
   },
   "outputs": [
    {
     "data": {
      "text/plain": [
       "[[-2.6841256259695374, 0.3193972465851007],\n",
       " [-2.714141687294326, -0.17700122506478055],\n",
       " [-2.888990569059297, -0.14494942608555778],\n",
       " [-2.74534285564141, -0.31829897925191636],\n",
       " [-2.728716536554531, 0.32675451293491964],\n",
       " [-2.2808596328444932, 0.7413304490629147],\n",
       " [-2.8205377507406095, -0.089461384528569],\n",
       " [-2.6261449731466335, 0.1633849596983284],\n",
       " [-2.8863827317805533, -0.578311754186704],\n",
       " [-2.672755797820954, -0.11377424587411718],\n",
       " [-2.506947090651857, 0.6450688986485735],\n",
       " [-2.6127552309087236, 0.014729939161374175],\n",
       " [-2.786109266188018, -0.23511200020171885],\n",
       " [-3.2238037438656524, -0.5113945870063824],\n",
       " [-2.6447503899420313, 1.1787646364375746],\n",
       " [-2.386039033531135, 1.3380623304006523],\n",
       " [-2.6235278752244278, 0.8106795141812576],\n",
       " [-2.6482967062543823, 0.31184914459335444],\n",
       " [-2.199820323617581, 0.8728390389622105],\n",
       " [-2.5879863998787696, 0.5135603087492767],\n",
       " [-2.310256215242519, 0.39134593565389364],\n",
       " [-2.5437052287571573, 0.432996063279028],\n",
       " [-3.2159394156486125, 0.13346806953852564],\n",
       " [-2.3027331822262074, 0.09870885481409922],\n",
       " [-2.355754049123773, -0.037281859677382886],\n",
       " [-2.5066689069258223, -0.14601688049526812],\n",
       " [-2.4688200731213397, 0.1309514894352501],\n",
       " [-2.562319906196017, 0.3677188574341995],\n",
       " [-2.6395347153845434, 0.31203998023528245],\n",
       " [-2.6319893872743463, -0.19696122492431495],\n",
       " [-2.5873984766893527, -0.20431849127413376],\n",
       " [-2.409932497002176, 0.41092426422957257],\n",
       " [-2.648862334349913, 0.8133638202969617],\n",
       " [-2.5987367491005884, 1.0931457594493565],\n",
       " [-2.6369268781057995, -0.12132234786586342],\n",
       " [-2.86624165211867, 0.06936447158008026],\n",
       " [-2.6252380498503736, 0.5993700213794233],\n",
       " [-2.8006841154482225, 0.268643737797982],\n",
       " [-2.980502043781994, -0.4879583444286156],\n",
       " [-2.5900063139680967, 0.22904383682701224],\n",
       " [-2.770102426027903, 0.2635275337442563],\n",
       " [-2.8493687050431036, -0.9409605736411968],\n",
       " [-2.997406546594908, -0.34192605747161003],\n",
       " [-2.405614485097486, 0.18887142893026035],\n",
       " [-2.20948923778368, 0.4366631416391876],\n",
       " [-2.7144514267577082, -0.2502082041852114],\n",
       " [-2.5381482589989406, 0.5037711444614372],\n",
       " [-2.8394621676428504, -0.22794556949382794],\n",
       " [-2.543085749830394, 0.579410021519889],\n",
       " [-2.70335978233516, 0.10770608249941134],\n",
       " [1.2848256888583502, 0.685160470467308],\n",
       " [0.9324885323123175, 0.3183336382626286],\n",
       " [1.4643023219913929, 0.5042628153092037],\n",
       " [0.1833177199583707, -0.8279590118206324],\n",
       " [1.088103257711665, 0.07459067519771581],\n",
       " [0.6416690842580774, -0.418246871568679],\n",
       " [1.095060662632446, 0.28346827006152886],\n",
       " [-0.7491226698296569, -1.0048909611818955],\n",
       " [1.0441318260534347, 0.228361899788395],\n",
       " [-0.008745404082895897, -0.7230819050048342],\n",
       " [-0.5078408838353254, -1.2659711905263937],\n",
       " [0.511698557447597, -0.10398123549904048],\n",
       " [0.2649765081120463, -0.5500364636804753],\n",
       " [0.9849345104708896, -0.12481785412635774],\n",
       " [-0.17392537168176816, -0.25485420870258935],\n",
       " [0.9278607809442465, 0.4671794944415101],\n",
       " [0.6602837616969367, -0.35296966572385047],\n",
       " [0.23610499331767132, -0.3336107668249158],\n",
       " [0.9447337280198129, -0.5431455507797668],\n",
       " [0.04522697629869978, -0.5838343774718647],\n",
       " [1.1162831773500492, -0.08461685219478793],\n",
       " [0.35788841799730675, -0.06892503165601428],\n",
       " [1.2981838753589134, -0.3277873083339178],\n",
       " [0.9217289224470364, -0.182737793621368],\n",
       " [0.7148533259114109, 0.14905594436978425],\n",
       " [0.9001743731721663, 0.3285044738343228],\n",
       " [1.3320244367220875, 0.24444087601634293],\n",
       " [1.5578021550660692, 0.26749544731025426],\n",
       " [0.813290649817541, -0.16335030068761644],\n",
       " [-0.30558377802430925, -0.3682621897545883],\n",
       " [-0.06812649206836358, -0.7051721317994656],\n",
       " [-0.18962247237850188, -0.6802867635281337],\n",
       " [0.13642871155801461, -0.314032438249237],\n",
       " [1.3800264359155108, -0.4209542873138821],\n",
       " [0.5880064433398634, -0.48428741998121827],\n",
       " [0.8068583125004115, 0.19418231471315078],\n",
       " [1.2206908824443519, 0.4076195936110067],\n",
       " [0.8150952357665995, -0.3720370599095022],\n",
       " [0.24595767988669215, -0.26852439662201505],\n",
       " [0.16641321714545684, -0.6819267248636269],\n",
       " [0.46480028840377924, -0.6707115445117207],\n",
       " [0.8908151984694488, -0.034464444368269155],\n",
       " [0.23054802355945514, -0.40438584800732547],\n",
       " [-0.7045317592446634, -1.0122482275317142],\n",
       " [0.3569814947010469, -0.5049100933371088],\n",
       " [0.33193447994505804, -0.21265468378117008],\n",
       " [0.3762156510666701, -0.2932189292514191],\n",
       " [0.6425760075543373, 0.017738190112415904],\n",
       " [-0.9064698649488359, -0.756093366599014],\n",
       " [0.29900084187814296, -0.3488978064503361],\n",
       " [2.531192727803627, -0.00984910949880162],\n",
       " [1.4152358767039022, -0.5749163475464893],\n",
       " [2.6166760159956888, 0.3439031513417341],\n",
       " [1.971531053043435, -0.17972790435224564],\n",
       " [2.350005920044639, -0.04026094714253105],\n",
       " [3.397038736053257, 0.550836673028055],\n",
       " [0.521232243909774, -1.192758727000645],\n",
       " [2.932587068993688, 0.3555000029774958],\n",
       " [2.321228816573377, -0.24383150231069114],\n",
       " [2.9167509667860707, 0.7827919488152785],\n",
       " [1.6617741536365302, 0.24222840775506704],\n",
       " [1.8034019529650904, -0.21563761733355558],\n",
       " [2.1655917960801436, 0.2162755850740246],\n",
       " [1.3461635794584512, -0.7768183473443394],\n",
       " [1.5859282238732206, -0.5396407140267181],\n",
       " [1.904456374793426, 0.11925069209197289],\n",
       " [1.9496890593990683, 0.04194325966321114],\n",
       " [3.4870553642902773, 1.1757393297134289],\n",
       " [3.7956454220728824, 0.25732297342047894],\n",
       " [1.300791712637657, -0.7611496364350637],\n",
       " [2.427817913066044, 0.3781960126170507],\n",
       " [1.1990011054655603, -0.6060915277579303],\n",
       " [3.4999200389245364, 0.4606740989118944],\n",
       " [1.3887661316914646, -0.20439932735215105],\n",
       " [2.2754305038722036, 0.33499060582167717],\n",
       " [2.61409047381083, 0.5609013551230773],\n",
       " [1.2585081605114872, -0.17970479472274672],\n",
       " [1.2911320591150202, -0.11666865117401148],\n",
       " [2.123608722773894, -0.20972947667730274],\n",
       " [2.3880030160034664, 0.4646398047087356],\n",
       " [2.8416727781038693, 0.3752691671951026],\n",
       " [3.2306736614320903, 1.3741650867930468],\n",
       " [2.159437642489049, -0.217277578669049],\n",
       " [1.444161242329509, -0.14341341045758108],\n",
       " [1.7812948100451118, -0.499901681078137],\n",
       " [3.076499931687186, 0.6880856775711756],\n",
       " [2.1442433143020807, 0.1400642010897903],\n",
       " [1.9050981488140748, 0.04930052601303001],\n",
       " [1.1693263393414997, -0.16499026202310954],\n",
       " [2.1076111432572406, 0.37228787196079766],\n",
       " [2.3141547052355986, 0.1836512791690191],\n",
       " [1.9222678009025997, 0.40920346681606234],\n",
       " [1.4152358767039022, -0.5749163475464893],\n",
       " [2.5630133750774746, 0.27786260292919474],\n",
       " [2.418746182732824, 0.3047981978546921],\n",
       " [1.944109794546967, 0.18753230280060526],\n",
       " [1.5271666148145169, -0.37531698258048846],\n",
       " [1.7643457170444283, 0.07885885451847569],\n",
       " [1.9009416142184226, 0.11662795851202398],\n",
       " [1.3901888619479132, -0.28266093799055053]]"
      ]
     },
     "execution_count": 34,
     "metadata": {},
     "output_type": "execute_result"
    }
   ],
   "source": [
    "# 1° Passo,2° Passo e 3° Passo são iguais aos anteriores\n",
    "\n",
    "#4° Passo - Encontrar os autovalores, checar se estão na ordem\n",
    "autovalores_iris = np.linalg.eig(covariance_matrix_iris)[0]\n",
    "autovalores_iris\n",
    "\n",
    "#4° Passo - Encontrar os autovetores\n",
    "autovetores_alps = np.linalg.eig(covariance_matrix_iris)[1]\n",
    "autovetores_alps\n",
    "\n",
    "#5° Passo - Escolher os componentes\n",
    "FeatureVector = [[autovetores_alps[0][0],autovetores_alps[1][0],autovetores_alps[2][0],autovetores_alps[3][0]],\n",
    "                [-autovetores_alps[0][1],-autovetores_alps[1][1],-autovetores_alps[2][1],-autovetores_alps[3][1]]]\n",
    "#6° Passo - Derive the new dataset\n",
    "pca_iris_2 = multiply_matrix_matrix(np.array(FeatureVector),transposta(new_dataset_iris))\n",
    "pca_iris_2\n",
    "\n",
    "#7° Passo - Reorganizing\n",
    "pca_iris_2d=[]\n",
    "for i in range(150):\n",
    "    x=[pca_iris_2[0][i],pca_iris_2[1][i]]\n",
    "    pca_iris_2d.append(x)\n",
    "pca_iris_2d\n"
   ]
  },
  {
   "cell_type": "code",
   "execution_count": 35,
   "metadata": {
    "ExecuteTime": {
     "end_time": "2020-10-22T23:38:23.278932Z",
     "start_time": "2020-10-22T23:38:23.250010Z"
    }
   },
   "outputs": [],
   "source": [
    "#PCA\n",
    "#Separate setosa samples\n",
    "setosa_2d = []\n",
    "for i in range(0,50):\n",
    "   setosa_2d.append(pca_iris_2d[i])\n",
    "#Separate versicolor samples\n",
    "versicolor_2d = []\n",
    "for i in range(50,100):\n",
    "   versicolor_2d.append(pca_iris_2d[i])\n",
    "#Separate virginica samples\n",
    "virginica_2d = []\n",
    "for i in range(100,150):\n",
    "   virginica_2d.append(pca_iris_2d[i])"
   ]
  },
  {
   "cell_type": "markdown",
   "metadata": {},
   "source": [
    "#### LDA"
   ]
  },
  {
   "cell_type": "code",
   "execution_count": 36,
   "metadata": {
    "ExecuteTime": {
     "end_time": "2020-10-22T23:38:23.303865Z",
     "start_time": "2020-10-22T23:38:23.283919Z"
    }
   },
   "outputs": [],
   "source": [
    "#Foi necessário criar uma nova fórmula para cálculo da média, devido ao novo formato das matrizes 1d\n",
    "def new_formula_media(matriz):\n",
    "    soma = 0 \n",
    "    for i in range(len(matriz)):\n",
    "        soma= soma + matriz[i][0]\n",
    "    media = soma/len(matriz)\n",
    "\n",
    "    soma2 = 0 \n",
    "    for i in range(len(matriz)):\n",
    "        soma2= soma2 + matriz[i][1]\n",
    "    media2 = soma2/len(matriz)\n",
    "    \n",
    "    return [media,media2]"
   ]
  },
  {
   "cell_type": "code",
   "execution_count": 37,
   "metadata": {
    "ExecuteTime": {
     "end_time": "2020-10-22T23:38:23.318825Z",
     "start_time": "2020-10-22T23:38:23.307854Z"
    }
   },
   "outputs": [
    {
     "name": "stdout",
     "output_type": "stream",
     "text": [
      "Media da setosa = [-2.6424154639468513, 0.19088504677006946]\n",
      "Media da versicolor = [0.5332065690393412, -0.24554983203538364]\n",
      "Media da virginica = [2.1092088949075016, 0.054664785265311426]\n",
      "\n",
      "\n"
     ]
    }
   ],
   "source": [
    "#Média\n",
    "setosa_2d_mean = new_formula_media(setosa_2d)\n",
    "versicolor_2d_mean =new_formula_media(versicolor_2d)\n",
    "virginica_2d_mean = new_formula_media(virginica_2d)\n",
    "\n",
    "print('Media da setosa =', setosa_2d_mean)\n",
    "print('Media da versicolor =', versicolor_2d_mean)\n",
    "print('Media da virginica =', virginica_2d_mean)\n",
    "print('\\n')"
   ]
  },
  {
   "cell_type": "code",
   "execution_count": 38,
   "metadata": {
    "ExecuteTime": {
     "end_time": "2020-10-22T23:38:23.383652Z",
     "start_time": "2020-10-22T23:38:23.321817Z"
    }
   },
   "outputs": [
    {
     "name": "stdout",
     "output_type": "stream",
     "text": [
      "Matriz de covariância 2d setosa = [[0.049021943697852656, 0.05604270136775451], [0.05604270136775451, 0.21769730314771762]]\n",
      "Matriz de covariância 2d setosa = [[0.3554709684628474, 0.19874216796934455], [0.19874216796934455, 0.1851722265135031]]\n",
      "Matriz de covariância 2d virginica = [[0.49829218197686337, 0.27585485675414606], [0.27585485675414606, 0.23329247950837936]]\n",
      "\n",
      "\n",
      "Within-class scatter matrix 2d = [[44.23646961274061, 26.00134657847101], [26.00134657847101, 31.171938449310403]]\n"
     ]
    }
   ],
   "source": [
    "#Matriz de covariância da setosa\n",
    "#Subtração de cada elemento pela média * transposta do resultado\n",
    "to_sum_setosa2d=[]\n",
    "for i in range(len(setosa_2d)):\n",
    "    z = [[setosa_2d[i][0] - setosa_2d_mean[0]], [setosa_2d[i][1] - setosa_2d_mean[1]]]\n",
    "    z=np.array(z)\n",
    "    z2 = z.transpose()\n",
    "    resp = np.matmul(z,z2)\n",
    "    to_sum_setosa2d.append(resp)\n",
    "to_sum_setosa2d\n",
    "\n",
    "#Linha 0 coluna 0\n",
    "soma00=0\n",
    "for i in range(len(to_sum_setosa2d)):\n",
    "    soma00 = soma00 + to_sum_setosa2d[i][0][0]\n",
    "soma00\n",
    "\n",
    "#Linha 0 coluna 1\n",
    "soma01=0\n",
    "for i in range(len(to_sum_setosa2d)):\n",
    "    soma01 = soma01 + to_sum_setosa2d[i][0][1]\n",
    "soma01\n",
    "\n",
    "#Linha 1 coluna 0\n",
    "soma10=0\n",
    "for i in range(len(to_sum_setosa2d)):\n",
    "    soma10 = soma10 + to_sum_setosa2d[i][1][0]\n",
    "soma10\n",
    "\n",
    "#Linha 1 coluna 1\n",
    "soma11=0\n",
    "for i in range(len(to_sum_setosa2d)):\n",
    "    soma11 = soma11 + to_sum_setosa2d[i][1][1]\n",
    "soma11\n",
    "\n",
    "S2_setosa_non_normalize=[soma00,soma01,soma10,soma11]\n",
    "S2_setosa_non_normalize\n",
    "\n",
    "S2_norm=[]\n",
    "for i in S2_setosa_non_normalize:\n",
    "    S2_norm.append(i/(len(setosa)-1))\n",
    "S2_norm\n",
    "\n",
    "S_setosa2d = [S2_norm[x:x+2] for x in range(0, len(S2_norm), 2)]\n",
    "\n",
    "#Matriz de covariância da versicolor\n",
    "#Subtração de cada elemento pela média * transposta do resultado\n",
    "to_sum_versicolor2d=[]\n",
    "for i in range(len(versicolor_2d)):\n",
    "    z = [[versicolor_2d[i][0] - versicolor_2d_mean[0]], [versicolor_2d[i][1] - versicolor_2d_mean[1]]]\n",
    "    z=np.array(z)\n",
    "    z2 = z.transpose()\n",
    "    resp = np.matmul(z,z2)\n",
    "    to_sum_versicolor2d.append(resp)\n",
    "to_sum_versicolor2d\n",
    "\n",
    "#Linha 0 coluna 0\n",
    "soma00=0\n",
    "for i in range(len(to_sum_versicolor2d)):\n",
    "    soma00 = soma00 + to_sum_versicolor2d[i][0][0]\n",
    "soma00\n",
    "\n",
    "#Linha 0 coluna 1\n",
    "soma01=0\n",
    "for i in range(len(to_sum_versicolor2d)):\n",
    "    soma01 = soma01 + to_sum_versicolor2d[i][0][1]\n",
    "soma01\n",
    "\n",
    "#Linha 1 coluna 0\n",
    "soma10=0\n",
    "for i in range(len(to_sum_versicolor2d)):\n",
    "    soma10 = soma10 + to_sum_versicolor2d[i][1][0]\n",
    "soma10\n",
    "\n",
    "#Linha 1 coluna 1\n",
    "soma11=0\n",
    "for i in range(len(to_sum_versicolor2d)):\n",
    "    soma11 = soma11 + to_sum_versicolor2d[i][1][1]\n",
    "soma11\n",
    "\n",
    "S2_versicolor_non_normalize=[soma00,soma01,soma10,soma11]\n",
    "S2_versicolor_non_normalize\n",
    "\n",
    "S2_norm=[]\n",
    "for i in S2_versicolor_non_normalize:\n",
    "    S2_norm.append(i/(len(versicolor)-1))\n",
    "S2_norm\n",
    "\n",
    "S_versicolor2d = [S2_norm[x:x+2] for x in range(0, len(S2_norm), 2)]\n",
    "\n",
    "\n",
    "#Matriz de covariância da virginica\n",
    "#Subtração de cada elemento pela média * transposta do resultado\n",
    "to_sum_virginica2d=[]\n",
    "for i in range(len(virginica_2d)):\n",
    "    z = [[virginica_2d[i][0] - virginica_2d_mean[0]], [virginica_2d[i][1] - virginica_2d_mean[1]]]\n",
    "    z=np.array(z)\n",
    "    z2 = z.transpose()\n",
    "    resp = np.matmul(z,z2)\n",
    "    to_sum_virginica2d.append(resp)\n",
    "to_sum_virginica2d\n",
    "\n",
    "#Linha 0 coluna 0\n",
    "soma00=0\n",
    "for i in range(len(to_sum_virginica2d)):\n",
    "    soma00 = soma00 + to_sum_virginica2d[i][0][0]\n",
    "soma00\n",
    "\n",
    "#Linha 0 coluna 1\n",
    "soma01=0\n",
    "for i in range(len(to_sum_virginica2d)):\n",
    "    soma01 = soma01 + to_sum_virginica2d[i][0][1]\n",
    "soma01\n",
    "\n",
    "#Linha 1 coluna 0\n",
    "soma10=0\n",
    "for i in range(len(to_sum_virginica2d)):\n",
    "    soma10 = soma10 + to_sum_virginica2d[i][1][0]\n",
    "soma10\n",
    "\n",
    "#Linha 1 coluna 1\n",
    "soma11=0\n",
    "for i in range(len(to_sum_virginica2d)):\n",
    "    soma11 = soma11 + to_sum_virginica2d[i][1][1]\n",
    "soma11\n",
    "\n",
    "S2_virginica_non_normalize=[soma00,soma01,soma10,soma11]\n",
    "S2_virginica_non_normalize\n",
    "\n",
    "S2_norm=[]\n",
    "for i in S2_virginica_non_normalize:\n",
    "    S2_norm.append(i/(len(virginica)-1))\n",
    "S2_norm\n",
    "\n",
    "S_virginica2d = [S2_norm[x:x+2] for x in range(0, len(S2_norm), 2)]\n",
    "\n",
    "print('Matriz de covariância 2d setosa =', S_setosa2d)\n",
    "print('Matriz de covariância 2d setosa =', S_versicolor2d)\n",
    "print('Matriz de covariância 2d virginica =', S_virginica2d)\n",
    "\n",
    "print('\\n')\n",
    "\n",
    "#Calculate the matrix Within class scatter matrix Sw\n",
    "Sw_list_2d=[]\n",
    "Ni=50 #número de amostras\n",
    "soma=0\n",
    "for i in range(len(S_setosa2d[0])):\n",
    "    for j in range(len(S_setosa2d[0])):\n",
    "        soma = (S_setosa2d[i][j]+ S_versicolor2d[i][j]+ S_virginica2d[i][j])*(Ni-1)\n",
    "        Sw_list_2d.append(soma)\n",
    "\n",
    "#Reshape Sw_list into a matrix 4x4\n",
    "Sw_2d = [Sw_list_2d[x:x+2] for x in range(0, len(Sw_list_2d), 2)]\n",
    "Sw_2d\n",
    "\n",
    "print('Within-class scatter matrix 2d =', Sw_2d)"
   ]
  },
  {
   "cell_type": "code",
   "execution_count": 39,
   "metadata": {
    "ExecuteTime": {
     "end_time": "2020-10-22T23:38:23.413572Z",
     "start_time": "2020-10-22T23:38:23.388639Z"
    }
   },
   "outputs": [
    {
     "name": "stdout",
     "output_type": "stream",
     "text": [
      "Grand_mean vector:  [[-3.0479322769375964e-15], [-8.804068585277491e-16]]\n"
     ]
    }
   ],
   "source": [
    "#Grand mean vector:\n",
    "soma0=0\n",
    "for i in range(len(setosa)):\n",
    "    soma0 = soma0 + setosa_2d[i][0]+ versicolor_2d[i][0] + virginica_2d[i][0]\n",
    "soma0\n",
    "\n",
    "soma1=0\n",
    "for i in range(len(setosa)):\n",
    "    soma1 = soma1 + setosa_2d[i][1]+ versicolor_2d[i][1] + virginica_2d[i][1]\n",
    "soma1\n",
    "\n",
    "\n",
    "mean_total_2d = [[(soma0/len(X))],\n",
    "              [(soma1/len(X))]]\n",
    "mean_total_2d\n",
    "\n",
    "print('Grand_mean vector: ',mean_total_2d)"
   ]
  },
  {
   "cell_type": "code",
   "execution_count": 40,
   "metadata": {
    "ExecuteTime": {
     "end_time": "2020-10-22T23:38:23.444489Z",
     "start_time": "2020-10-22T23:38:23.417570Z"
    }
   },
   "outputs": [
    {
     "name": "stdout",
     "output_type": "stream",
     "text": [
      "Between-class scatter matrix [[11.715430891729083, -0.5200269315694195], [-0.5200269315694195, 0.09972005984111933]]\n"
     ]
    }
   ],
   "source": [
    "#Between-class scatter matrix \n",
    "setosa2d_element1 = [[setosa_2d_mean[0] - mean_total_2d[0][0]],[setosa_2d_mean[1] - mean_total_2d[1][0]]]\n",
    "setosa2d_element2 = transposta(setosa2d_element1)\n",
    "S_setosa_2d = multiply_matrix_matrix(setosa2d_element1,setosa2d_element2)\n",
    "\n",
    "\n",
    "versicolor2d_element1 = [[versicolor_2d_mean[0] - mean_total_2d[0][0]],[versicolor_2d_mean[1] - mean_total_2d[1][0]]]\n",
    "versicolor2d_element2 = transposta(versicolor2d_element1)\n",
    "S_versicolor_2d = multiply_matrix_matrix(versicolor2d_element1,versicolor2d_element2)\n",
    "\n",
    "\n",
    "virginica2d_element1 = [[virginica_2d_mean[0] - mean_total_2d[0][0]],[virginica_2d_mean[1] - mean_total_2d[1][0]]]\n",
    "virginica2d_element2 = transposta(virginica2d_element1)\n",
    "S_virginica_2d = multiply_matrix_matrix(virginica2d_element1,virginica2d_element2)\n",
    "\n",
    "\n",
    "zero_zero = S_setosa_2d[0][0]+S_versicolor_2d[0][0]+S_virginica_2d[0][0]\n",
    "zero_um = two =S_setosa_2d[0][1]+S_versicolor_2d[0][1]+S_virginica_2d[0][1]\n",
    "um_zero = S_setosa_2d[1][0]+S_versicolor_2d[1][0]+S_virginica_2d[1][0]\n",
    "um_um = S_setosa_2d[1][1]+S_versicolor_2d[1][1]+S_virginica_2d[1][1]\n",
    "\n",
    "Sb_2d = [[zero_zero,zero_um],\n",
    "        [um_zero,um_um]]\n",
    "print('Between-class scatter matrix',Sb_2d)"
   ]
  },
  {
   "cell_type": "code",
   "execution_count": 41,
   "metadata": {
    "ExecuteTime": {
     "end_time": "2020-10-22T23:38:23.460446Z",
     "start_time": "2020-10-22T23:38:23.449477Z"
    }
   },
   "outputs": [],
   "source": [
    "Sw_Sb_2d = multiply_matrix_matrix(matriz_inversa(Sw_2d),Sb_2d)"
   ]
  },
  {
   "cell_type": "code",
   "execution_count": 42,
   "metadata": {
    "ExecuteTime": {
     "end_time": "2020-10-22T23:38:23.476404Z",
     "start_time": "2020-10-22T23:38:23.464436Z"
    }
   },
   "outputs": [
    {
     "name": "stdout",
     "output_type": "stream",
     "text": [
      "Autovalores [0.5620546  0.00227272]\n"
     ]
    }
   ],
   "source": [
    "#Autovalores\n",
    "autovalores_2d = np.linalg.eig(Sw_Sb_2d)[0]\n",
    "print('Autovalores',autovalores_2d)"
   ]
  },
  {
   "cell_type": "code",
   "execution_count": 43,
   "metadata": {
    "ExecuteTime": {
     "end_time": "2020-10-22T23:38:23.492361Z",
     "start_time": "2020-10-22T23:38:23.482387Z"
    }
   },
   "outputs": [
    {
     "name": "stdout",
     "output_type": "stream",
     "text": [
      "Autovetores [[ 0.75490915  0.04979831]\n",
      " [-0.65582938  0.99875929]]\n"
     ]
    }
   ],
   "source": [
    "autovetores_2d = np.linalg.eig(Sw_Sb_2d)[1]\n",
    "print('Autovetores',autovetores_2d)"
   ]
  },
  {
   "cell_type": "code",
   "execution_count": 44,
   "metadata": {
    "ExecuteTime": {
     "end_time": "2020-10-22T23:38:23.507323Z",
     "start_time": "2020-10-22T23:38:23.495354Z"
    }
   },
   "outputs": [
    {
     "data": {
      "text/plain": [
       "[[0.7549091531968606, 0.049798313097422046],\n",
       " [-0.6558293759962259, 0.998759294331047]]"
      ]
     },
     "execution_count": 44,
     "metadata": {},
     "output_type": "execute_result"
    }
   ],
   "source": [
    "#Escolha dos autovetores para compor a matriz W\n",
    "W =[[autovetores_2d[0][0],autovetores_2d[0][1]],\n",
    "    [autovetores_2d[1][0],autovetores_2d[1][1]]]\n",
    "W"
   ]
  },
  {
   "cell_type": "code",
   "execution_count": 45,
   "metadata": {
    "ExecuteTime": {
     "end_time": "2020-10-22T23:38:23.523279Z",
     "start_time": "2020-10-22T23:38:23.510314Z"
    }
   },
   "outputs": [],
   "source": [
    "#Convert the data\n",
    "X_lda_2d = multiply_matrix_matrix(pca_iris_2d,W)\n",
    "X_lda_2d\n",
    "\n",
    "X_lda_2d = np.array(X_lda_2d)"
   ]
  },
  {
   "cell_type": "code",
   "execution_count": 46,
   "metadata": {
    "ExecuteTime": {
     "end_time": "2020-10-22T23:38:24.132649Z",
     "start_time": "2020-10-22T23:38:23.527268Z"
    }
   },
   "outputs": [
    {
     "data": {
      "image/png": "[encoded data removed]",
      "text/plain": [
       "<Figure size 432x288 with 1 Axes>"
      ]
     },
     "metadata": {
      "needs_background": "light"
     },
     "output_type": "display_data"
    }
   ],
   "source": [
    "#Gráfico\n",
    "label_dict = {0: 'Setosa', 1: 'Versicolor', 2:'Virginica'}\n",
    "for label,marker,color in zip(\n",
    "    range(0,3),('^', 's', 'o'),('blue', 'red', 'green')):\n",
    "\n",
    "    plt.scatter(x=X_lda_2d[:,0].real[y == label],\n",
    "            y=X_lda_2d[:,1].real[y == label],\n",
    "            marker=marker,\n",
    "            color=color,\n",
    "            alpha=0.5,\n",
    "            label=label_dict[label]\n",
    "            )\n",
    "leg = plt.legend(loc='upper right', fancybox=True)\n",
    "leg.get_frame().set_alpha(0.5)"
   ]
  },
  {
   "cell_type": "markdown",
   "metadata": {},
   "source": [
    "### 3 Componentes Principais"
   ]
  },
  {
   "cell_type": "markdown",
   "metadata": {},
   "source": [
    "#### PCA"
   ]
  },
  {
   "cell_type": "code",
   "execution_count": 47,
   "metadata": {
    "ExecuteTime": {
     "end_time": "2020-10-22T23:38:24.178527Z",
     "start_time": "2020-10-22T23:38:24.134646Z"
    }
   },
   "outputs": [
    {
     "data": {
      "text/plain": [
       "[[-2.6841256259695374, 0.3193972465851007, -0.027914827589413105],\n",
       " [-2.714141687294326, -0.17700122506478055, -0.21046427237824428],\n",
       " [-2.888990569059297, -0.14494942608555778, 0.017900256320889874],\n",
       " [-2.74534285564141, -0.31829897925191636, 0.03155937360568073],\n",
       " [-2.728716536554531, 0.32675451293491964, 0.09007924055120198],\n",
       " [-2.2808596328444932, 0.7413304490629147, 0.16867765820910596],\n",
       " [-2.8205377507406095, -0.089461384528569, 0.25789215825561795],\n",
       " [-2.6261449731466335, 0.1633849596983284, -0.021879317886719152],\n",
       " [-2.8863827317805533, -0.578311754186704, 0.02075957026477926],\n",
       " [-2.672755797820954, -0.11377424587411718, -0.19763272498814638],\n",
       " [-2.506947090651857, 0.6450688986485735, -0.07531800937911898],\n",
       " [-2.6127552309087236, 0.014729939161374175, 0.10215025995659022],\n",
       " [-2.786109266188018, -0.23511200020171885, -0.20684443044964484],\n",
       " [-3.2238037438656524, -0.5113945870063824, 0.06129967245709844],\n",
       " [-2.6447503899420313, 1.1787646364375746, -0.15162752361780762],\n",
       " [-2.386039033531135, 1.3380623304006523, 0.27777690270313793],\n",
       " [-2.6235278752244278, 0.8106795141812576, 0.13818322788072024],\n",
       " [-2.6482967062543823, 0.31184914459335444, 0.026668315612594307],\n",
       " [-2.199820323617581, 0.8728390389622105, -0.12030552339472955],\n",
       " [-2.5879863998787696, 0.5135603087492767, 0.21366517222471693],\n",
       " [-2.310256215242519, 0.39134593565389364, -0.2394440432449526],\n",
       " [-2.5437052287571573, 0.432996063279028, 0.20845723241671565],\n",
       " [-3.2159394156486125, 0.13346806953852564, 0.29239675074524263],\n",
       " [-2.3027331822262074, 0.09870885481409922, 0.03912325874288064],\n",
       " [-2.355754049123773, -0.037281859677382886, 0.12502108270287948],\n",
       " [-2.5066689069258223, -0.14601688049526812, -0.25342004234465787],\n",
       " [-2.4688200731213397, 0.1309514894352501, 0.09491057609939191],\n",
       " [-2.562319906196017, 0.3677188574341995, -0.07849420513792355],\n",
       " [-2.6395347153845434, 0.31203998023528245, -0.14590889573002874],\n",
       " [-2.6319893872743463, -0.19696122492431495, 0.04077107906717914],\n",
       " [-2.5873984766893527, -0.20431849127413376, -0.07722298907343594],\n",
       " [-2.409932497002176, 0.41092426422957257, -0.14552497200513076],\n",
       " [-2.648862334349913, 0.8133638202969617, 0.22566914972012164],\n",
       " [-2.5987367491005884, 1.0931457594493565, 0.1578108129582222],\n",
       " [-2.6369268781057995, -0.12132234786586342, -0.14304958178613908],\n",
       " [-2.86624165211867, 0.06936447158008026, -0.16433230665302578],\n",
       " [-2.6252380498503736, 0.5993700213794233, -0.2683503756939357],\n",
       " [-2.8006841154482225, 0.268643737797982, 0.09369908247980108],\n",
       " [-2.980502043781994, -0.4879583444286156, 0.0729270456926917],\n",
       " [-2.5900063139680967, 0.22904383682701224, -0.0800823030173255],\n",
       " [-2.770102426027903, 0.2635275337442563, 0.07724769316110414],\n",
       " [-2.8493687050431036, -0.9409605736411968, -0.34923037730596873],\n",
       " [-2.997406546594908, -0.34192605747161003, 0.1925092117127093],\n",
       " [-2.405614485097486, 0.18887142893026035, 0.26386794551341536],\n",
       " [-2.20948923778368, 0.4366631416391876, 0.29874274575510984],\n",
       " [-2.7144514267577082, -0.2502082041852114, -0.09767814404563013],\n",
       " [-2.5381482589989406, 0.5037711444614372, 0.16670563660480586],\n",
       " [-2.8394621676428504, -0.22794556949382794, 0.08372684903359318],\n",
       " [-2.543085749830394, 0.579410021519889, -0.01711502424851208],\n",
       " [-2.70335978233516, 0.10770608249941134, -0.0892940084788244],\n",
       " [1.2848256888583502, 0.685160470467308, -0.4065680254676934],\n",
       " [0.9324885323123175, 0.3183336382626286, -0.018014186646239966],\n",
       " [1.4643023219913929, 0.5042628153092037, -0.33832576498089556],\n",
       " [0.1833177199583707, -0.8279590118206324, -0.17959139187535714],\n",
       " [1.088103257711665, 0.07459067519771581, -0.30775789623478517],\n",
       " [0.6416690842580774, -0.418246871568679, 0.04107609082395567],\n",
       " [1.095060662632446, 0.28346827006152886, 0.1698102398605756],\n",
       " [-0.7491226698296569, -1.0048909611818955, 0.012302919237593593],\n",
       " [1.0441318260534347, 0.228361899788395, -0.4153360847593973],\n",
       " [-0.008745404082895897, -0.7230819050048342, 0.2811414311764084],\n",
       " [-0.5078408838353254, -1.2659711905263937, -0.2698171827688549],\n",
       " [0.511698557447597, -0.10398123549904048, 0.13054775024048568],\n",
       " [0.2649765081120463, -0.5500364636804753, -0.6941468301444204],\n",
       " [0.9849345104708896, -0.12481785412635774, -0.06211440832226106],\n",
       " [-0.17392537168176816, -0.25485420870258935, 0.09045769072570362],\n",
       " [0.9278607809442465, 0.4671794944415101, -0.31462097583217197],\n",
       " [0.6602837616969367, -0.35296966572385047, 0.32802752837859483],\n",
       " [0.23610499331767132, -0.3336107668249158, -0.2711618372510669],\n",
       " [0.9447337280198129, -0.5431455507797668, -0.4995190464851145],\n",
       " [0.04522697629869978, -0.5838343774718647, -0.23500210497205687],\n",
       " [1.1162831773500492, -0.08461685219478793, 0.45962099135910384],\n",
       " [0.35788841799730675, -0.06892503165601428, -0.22985388760895206],\n",
       " [1.2981838753589134, -0.3277873083339178, -0.34785435225730904],\n",
       " [0.9217289224470364, -0.182737793621368, -0.23107177773628457],\n",
       " [0.7148533259114109, 0.14905594436978425, -0.3218009372444739],\n",
       " [0.9001743731721663, 0.3285044738343228, -0.316209073711574],\n",
       " [1.3320244367220875, 0.24444087601634293, -0.5217027796644191],\n",
       " [1.5578021550660692, 0.26749544731025426, -0.16492098374358027],\n",
       " [0.813290649817541, -0.16335030068761644, 0.035424504846159804],\n",
       " [-0.30558377802430925, -0.3682621897545883, -0.3184915806230479],\n",
       " [-0.06812649206836358, -0.7051721317994656, -0.2442138104335558],\n",
       " [-0.18962247237850188, -0.6802867635281337, -0.3064205612176596],\n",
       " [0.13642871155801461, -0.314032438249237, -0.17724276601124503],\n",
       " [1.3800264359155108, -0.4209542873138821, 0.01616712752072827],\n",
       " [0.5880064433398634, -0.48428741998121827, 0.44443349863980736],\n",
       " [0.8068583125004115, 0.19418231471315078, 0.38896306309821105],\n",
       " [1.2206908824443519, 0.4076195936110067, -0.23716700988387535],\n",
       " [0.8150952357665995, -0.3720370599095022, -0.6147208425918234],\n",
       " [0.24595767988669215, -0.26852439662201505, 0.18836681164619445],\n",
       " [0.16641321714545684, -0.6819267248636269, -0.0600092258553395],\n",
       " [0.46480028840377924, -0.6707115445117207, -0.02430685571895237],\n",
       " [0.8908151984694488, -0.034464444368269155, -0.009946932894348712],\n",
       " [0.23054802355945514, -0.40438584800732547, -0.22941024143915745],\n",
       " [-0.7045317592446634, -1.0122482275317142, -0.1056911489030216],\n",
       " [0.3569814947010469, -0.5049100933371088, 0.016617170198264718],\n",
       " [0.33193447994505804, -0.21265468378117008, 0.08320429089567671],\n",
       " [0.3762156510666701, -0.2932189292514191, 0.07799635108767528],\n",
       " [0.6425760075543373, 0.017738190112415904, -0.20539496698326085],\n",
       " [-0.9064698649488359, -0.756093366599014, -0.012599647557892071],\n",
       " [0.29900084187814296, -0.3488978064503361, 0.010581660495570001],\n",
       " [2.531192727803627, -0.00984910949880162, 0.760165427245895],\n",
       " [1.4152358767039022, -0.5749163475464893, 0.2963225273879633],\n",
       " [2.6166760159956888, 0.3439031513417341, -0.11078788321910882],\n",
       " [1.971531053043435, -0.17972790435224564, 0.10842466246342294],\n",
       " [2.350005920044639, -0.04026094714253105, 0.2853895631844409],\n",
       " [3.397038736053257, 0.550836673028055, -0.3484375557974667],\n",
       " [0.521232243909774, -1.192758727000645, 0.5456592956468107],\n",
       " [2.932587068993688, 0.3555000029774958, -0.42023993576796714],\n",
       " [2.321228816573377, -0.24383150231069114, -0.34830439493484555],\n",
       " [2.9167509667860707, 0.7827919488152785, 0.4233354176825592],\n",
       " [1.6617741536365302, 0.24222840775506704, 0.24244018972576892],\n",
       " [1.8034019529650904, -0.21563761733355558, -0.03764816823148326],\n",
       " [2.1655917960801436, 0.2162755850740246, 0.033326641844324933],\n",
       " [1.3461635794584512, -0.7768183473443394, 0.2819028821184629],\n",
       " [1.5859282238732206, -0.5396407140267181, 0.6290293264080086],\n",
       " [1.904456374793426, 0.11925069209197289, 0.47963981962658997],\n",
       " [1.9496890593990683, 0.04194325966321114, 0.044186167630122286],\n",
       " [3.4870553642902773, 1.1757393297134289, 0.1338948739361006],\n",
       " [3.7956454220728824, 0.25732297342047894, -0.5137677638178045],\n",
       " [1.300791712637657, -0.7611496364350637, -0.34499503831341943],\n",
       " [2.427817913066044, 0.3781960126170507, 0.21911932430194325],\n",
       " [1.1990011054655603, -0.6060915277579303, 0.5118555086969996],\n",
       " [3.4999200389245364, 0.4606740989118944, -0.5731822425680018],\n",
       " [1.3887661316914646, -0.20439932735215105, -0.06452275663126927],\n",
       " [2.2754305038722036, 0.33499060582167717, 0.28615009116915024],\n",
       " [2.61409047381083, 0.5609013551230773, -0.20553452435362363],\n",
       " [1.2585081605114872, -0.17970479472274672, 0.045847703927249184],\n",
       " [1.2911320591150202, -0.11666865117401148, 0.23125646265997005],\n",
       " [2.123608722773894, -0.20972947667730274, 0.15418002392882935],\n",
       " [2.3880030160034664, 0.4646398047087356, -0.44953019194184873],\n",
       " [2.8416727781038693, 0.3752691671951026, -0.49889807587076823],\n",
       " [3.2306736614320903, 1.3741650867930468, -0.11454820547541639],\n",
       " [2.159437642489049, -0.217277578669049, 0.20876316713083676],\n",
       " [1.444161242329509, -0.14341341045758108, -0.15323388806309002],\n",
       " [1.7812948100451118, -0.499901681078137, -0.17287518911341965],\n",
       " [3.076499931687186, 0.6880856775711756, -0.3355922924345408],\n",
       " [2.1442433143020807, 0.1400642010897903, 0.7348789367255109],\n",
       " [1.9050981488140748, 0.04930052601303001, 0.16218023577073742],\n",
       " [1.1693263393414997, -0.16499026202310954, 0.2818358402084799],\n",
       " [2.1076111432572406, 0.37228787196079766, 0.027291132141630592],\n",
       " [2.3141547052355986, 0.1836512791690191, 0.32269374717305843],\n",
       " [1.9222678009025997, 0.40920346681606234, 0.11358659579935593],\n",
       " [1.4152358767039022, -0.5749163475464893, 0.2963225273879633],\n",
       " [2.5630133750774746, 0.27786260292919474, 0.2925695245967428],\n",
       " [2.418746182732824, 0.3047981978546921, 0.5044826639771796],\n",
       " [1.944109794546967, 0.18753230280060526, 0.1778250906326566],\n",
       " [1.5271666148145169, -0.37531698258048846, -0.12189817186718327],\n",
       " [1.7643457170444283, 0.07885885451847569, 0.13048163128784773],\n",
       " [1.9009416142184226, 0.11662795851202398, 0.7232515634899169],\n",
       " [1.3901888619479132, -0.28266093799055053, 0.3629096480853754]]"
      ]
     },
     "execution_count": 47,
     "metadata": {},
     "output_type": "execute_result"
    }
   ],
   "source": [
    "# 1° Passo,2° Passo e 3° Passo são iguais aos anteriores\n",
    "\n",
    "#4° Passo - Encontrar os autovalores, checar se estão na ordem\n",
    "autovalores_iris = np.linalg.eig(covariance_matrix_iris)[0]\n",
    "autovalores_iris\n",
    "\n",
    "#4° Passo - Encontrar os autovetores\n",
    "autovetores_alps = np.linalg.eig(covariance_matrix_iris)[1]\n",
    "autovetores_alps\n",
    "\n",
    "#5° Passo - Escolher os componentes\n",
    "FeatureVector = [[autovetores_alps[0][0],autovetores_alps[1][0],autovetores_alps[2][0],autovetores_alps[3][0]],\n",
    "                [-autovetores_alps[0][1],-autovetores_alps[1][1],-autovetores_alps[2][1],-autovetores_alps[3][1]],\n",
    "                [autovetores_alps[0][2],autovetores_alps[1][2],autovetores_alps[2][2],autovetores_alps[3][2]]]\n",
    "FeatureVector \n",
    "\n",
    "\n",
    "#6° Passo - Derive the new dataset\n",
    "pca_iris_3 = multiply_matrix_matrix(np.array(FeatureVector),transposta(new_dataset_iris))\n",
    "pca_iris_3\n",
    "\n",
    "#7° Passo - Reorganizing\n",
    "pca_iris_3d=[]\n",
    "for i in range(150):\n",
    "    x=[pca_iris_3[0][i],pca_iris_3[1][i],pca_iris_3[2][i]]\n",
    "    pca_iris_3d.append(x)\n",
    "pca_iris_3d"
   ]
  },
  {
   "cell_type": "code",
   "execution_count": 48,
   "metadata": {
    "ExecuteTime": {
     "end_time": "2020-10-22T23:38:24.194484Z",
     "start_time": "2020-10-22T23:38:24.181519Z"
    }
   },
   "outputs": [],
   "source": [
    "#PCA\n",
    "#Separate setosa samples\n",
    "setosa_3d = []\n",
    "for i in range(0,50):\n",
    "   setosa_3d.append(pca_iris_3d[i])\n",
    "#Separate versicolor samples\n",
    "versicolor_3d = []\n",
    "for i in range(50,100):\n",
    "   versicolor_3d.append(pca_iris_3d[i])\n",
    "#Separate virginica samples\n",
    "virginica_3d = []\n",
    "for i in range(100,150):\n",
    "   virginica_3d.append(pca_iris_3d[i])"
   ]
  },
  {
   "cell_type": "markdown",
   "metadata": {},
   "source": [
    "#### LDA"
   ]
  },
  {
   "cell_type": "code",
   "execution_count": 49,
   "metadata": {
    "ExecuteTime": {
     "end_time": "2020-10-22T23:38:24.225402Z",
     "start_time": "2020-10-22T23:38:24.197476Z"
    }
   },
   "outputs": [
    {
     "name": "stdout",
     "output_type": "stream",
     "text": [
      "Media da setosa 3-D = [[-2.6424154639468513], [0.19088504677006946], [0.013581281239973651]]\n",
      "Media da versicolor 3-D = [[0.5332065690393412], [-0.24554983203538364], [-0.1183253199517876]]\n",
      "Media da virginica 3-D= [[2.1092088949075016], [0.054664785265311426], [0.10474403871181293]]\n",
      "\n",
      "\n"
     ]
    }
   ],
   "source": [
    "#Média Setosa\n",
    "soma=0\n",
    "for i in range(len(setosa_3d)):\n",
    "    soma = soma + setosa_3d[i][0]\n",
    "media0 = soma/len(setosa_3d)\n",
    "\n",
    "soma=0\n",
    "for i in range(len(setosa_3d)):\n",
    "    soma = soma + setosa_3d[i][1]\n",
    "media1 = soma/len(setosa_3d)\n",
    "\n",
    "soma=0\n",
    "for i in range(len(setosa_3d)):\n",
    "    soma = soma + setosa_3d[i][2]\n",
    "media2 = soma/len(setosa_3d)\n",
    "\n",
    "setosa_3d_mean = [[media0],[media1],[media2]] \n",
    "setosa_3d_mean\n",
    "\n",
    "#Média Versicolor\n",
    "soma=0\n",
    "for i in range(len(versicolor_3d)):\n",
    "    soma = soma + versicolor_3d[i][0]\n",
    "media0 = soma/len(versicolor_3d)\n",
    "\n",
    "soma=0\n",
    "for i in range(len(versicolor_3d)):\n",
    "    soma = soma + versicolor_3d[i][1]\n",
    "media1 = soma/len(versicolor_3d)\n",
    "\n",
    "soma=0\n",
    "for i in range(len(versicolor_3d)):\n",
    "    soma = soma + versicolor_3d[i][2]\n",
    "media2 = soma/len(versicolor_3d)\n",
    "\n",
    "versicolor_3d_mean = [[media0],[media1],[media2]] \n",
    "versicolor_3d_mean\n",
    "\n",
    "\n",
    "#Média Virginica\n",
    "soma=0\n",
    "for i in range(len(virginica_3d)):\n",
    "    soma = soma + virginica_3d[i][0]\n",
    "media0 = soma/len(virginica_3d)\n",
    "\n",
    "soma=0\n",
    "for i in range(len(virginica_3d)):\n",
    "    soma = soma + virginica_3d[i][1]\n",
    "media1 = soma/len(virginica_3d)\n",
    "\n",
    "soma=0\n",
    "for i in range(len(virginica_3d)):\n",
    "    soma = soma + virginica_3d[i][2]\n",
    "media2 = soma/len(virginica_3d)\n",
    "\n",
    "virginica_3d_mean = [[media0],[media1],[media2]] \n",
    "virginica_3d_mean\n",
    "\n",
    "print('Media da setosa 3-D =', setosa_3d_mean)\n",
    "print('Media da versicolor 3-D =', versicolor_3d_mean)\n",
    "print('Media da virginica 3-D=', virginica_3d_mean)\n",
    "print('\\n')\n"
   ]
  },
  {
   "cell_type": "code",
   "execution_count": 50,
   "metadata": {
    "ExecuteTime": {
     "end_time": "2020-10-22T23:38:24.273273Z",
     "start_time": "2020-10-22T23:38:24.227396Z"
    }
   },
   "outputs": [
    {
     "name": "stdout",
     "output_type": "stream",
     "text": [
      "Matriz de covariância 3d setosa =\n",
      " [[2.40207524119478, 2.746092367019971, -0.013352965584922317], [2.746092367019971, 10.667167854238164, 0.976024409629618], [-0.013352965584922317, -0.004795905537068811, -0.00276964035019568]]\n",
      "\n",
      "\n",
      "Matriz de covariância 3d versicolor =\n",
      " [[17.418077454679523, 9.738366230497883, -0.8931385973892954], [9.738366230497883, 9.073439099161652, -0.6276871699967617], [-0.8931385973892954, -0.9064608727064777, -0.8765215877812399]]\n",
      "\n",
      "\n",
      "Matriz de covariância 3d versicolor =\n",
      " [[24.416316916866304, 13.516887980953157, -5.190900071465766], [13.516887980953157, 11.43133149591059, -2.216989056052136], [-5.190900071465766, -5.277985972367493, -5.124250589602543]]\n"
     ]
    }
   ],
   "source": [
    "#Matriz de covariância setosa\n",
    "x =[setosa_3d[i][0]-setosa_3d_mean[0][0] for i in range(len(setosa_3d))]    \n",
    "y =[setosa_3d[i][1]-setosa_3d_mean[1][0] for i in range(len(setosa_3d))] \n",
    "z =[setosa_3d[i][2]-setosa_3d_mean[2][0] for i in range(len(setosa_3d))] \n",
    "\n",
    "sub = [[[x],[y],[z]] for x,y,z in zip(x,y,z)]\n",
    "    \n",
    "multiplied = [multiply_matrix_matrix(sub[i],transposta(sub[i])) for i in range(0,50)]\n",
    "\n",
    "soma00 =0\n",
    "soma01 =0\n",
    "soma02 =0\n",
    "soma10 =0\n",
    "soma11 =0\n",
    "soma12 =0\n",
    "soma20 =0\n",
    "soma21 =0\n",
    "soma22 =0\n",
    "for i in range(len(multiplied)):\n",
    "    soma00 = soma00 + multiplied[i][0][0]\n",
    "    soma01 = soma01 + multiplied[i][0][1]\n",
    "    soma02 = soma02 + multiplied[i][0][2]\n",
    "    soma10 = soma10 + multiplied[i][1][0]\n",
    "    soma11 = soma11 + multiplied[i][1][1]\n",
    "    soma12 = soma12 + multiplied[i][1][2]\n",
    "    soma20 = soma20 + multiplied[i][2][0]\n",
    "    soma21 = soma20 + multiplied[i][2][1]\n",
    "    soma22 = soma20 + multiplied[i][2][2]\n",
    "\n",
    "cov_3d_setosa=[[soma00,soma01,soma02],\n",
    "                [soma10,soma11,soma12],\n",
    "                [soma20,soma21,soma22]]\n",
    "cov_3d_setosa\n",
    "\n",
    "print('Matriz de covariância 3d setosa =\\n', cov_3d_setosa)\n",
    "print('\\n')\n",
    "\n",
    "#Matriz de covariância versicolor\n",
    "x =[versicolor_3d[i][0]-versicolor_3d_mean[0][0] for i in range(len(versicolor_3d))]    \n",
    "y =[versicolor_3d[i][1]-versicolor_3d_mean[1][0] for i in range(len(versicolor_3d))] \n",
    "z =[versicolor_3d[i][2]-versicolor_3d_mean[2][0] for i in range(len(versicolor_3d))] \n",
    "\n",
    "sub = [[[x],[y],[z]] for x,y,z in zip(x,y,z)]\n",
    "    \n",
    "multiplied = [multiply_matrix_matrix(sub[i],transposta(sub[i])) for i in range(len(sub))]\n",
    "\n",
    "soma00 =0\n",
    "soma01 =0\n",
    "soma02 =0\n",
    "soma10 =0\n",
    "soma11 =0\n",
    "soma12 =0\n",
    "soma20 =0\n",
    "soma21 =0\n",
    "soma22 =0\n",
    "for i in range(len(multiplied)):\n",
    "    soma00 = soma00 + multiplied[i][0][0]\n",
    "    soma01 = soma01 + multiplied[i][0][1]\n",
    "    soma02 = soma02 + multiplied[i][0][2]\n",
    "    soma10 = soma10 + multiplied[i][1][0]\n",
    "    soma11 = soma11 + multiplied[i][1][1]\n",
    "    soma12 = soma12 + multiplied[i][1][2]\n",
    "    soma20 = soma20 + multiplied[i][2][0]\n",
    "    soma21 = soma20 + multiplied[i][2][1]\n",
    "    soma22 = soma20 + multiplied[i][2][2]\n",
    "\n",
    "cov_3d_versicolor=[[soma00,soma01,soma02],\n",
    "                    [soma10,soma11,soma12],\n",
    "                    [soma20,soma21,soma22]]\n",
    "cov_3d_versicolor\n",
    "\n",
    "print('Matriz de covariância 3d versicolor =\\n', cov_3d_versicolor)\n",
    "print('\\n')\n",
    "\n",
    "#Matriz de covariância virginica\n",
    "x =[virginica_3d[i][0]-virginica_3d_mean[0][0] for i in range(len(virginica_3d))]    \n",
    "y =[virginica_3d[i][1]-virginica_3d_mean[1][0] for i in range(len(virginica_3d))] \n",
    "z =[virginica_3d[i][2]-virginica_3d_mean[2][0] for i in range(len(virginica_3d))] \n",
    "\n",
    "sub = [[[x],[y],[z]] for x,y,z in zip(x,y,z)]\n",
    "\n",
    "multiplied = [multiply_matrix_matrix(sub[i],transposta(sub[i])) for i in range(len(sub))]\n",
    "\n",
    "soma00 =0\n",
    "soma01 =0\n",
    "soma02 =0\n",
    "soma10 =0\n",
    "soma11 =0\n",
    "soma12 =0\n",
    "soma20 =0\n",
    "soma21 =0\n",
    "soma22 =0\n",
    "for i in range(len(multiplied)):\n",
    "    soma00 = soma00 + multiplied[i][0][0]\n",
    "    soma01 = soma01 + multiplied[i][0][1]\n",
    "    soma02 = soma02 + multiplied[i][0][2]\n",
    "    soma10 = soma10 + multiplied[i][1][0]\n",
    "    soma11 = soma11 + multiplied[i][1][1]\n",
    "    soma12 = soma12 + multiplied[i][1][2]\n",
    "    soma20 = soma20 + multiplied[i][2][0]\n",
    "    soma21 = soma20 + multiplied[i][2][1]\n",
    "    soma22 = soma20 + multiplied[i][2][2]\n",
    "\n",
    "cov_3d_virginica=[[soma00,soma01,soma02],\n",
    "                    [soma10,soma11,soma12],\n",
    "                    [soma20,soma21,soma22]]\n",
    "cov_3d_virginica\n",
    "\n",
    "print('Matriz de covariância 3d versicolor =\\n', cov_3d_virginica)"
   ]
  },
  {
   "cell_type": "code",
   "execution_count": 51,
   "metadata": {
    "ExecuteTime": {
     "end_time": "2020-10-22T23:38:24.289351Z",
     "start_time": "2020-10-22T23:38:24.276267Z"
    }
   },
   "outputs": [
    {
     "name": "stdout",
     "output_type": "stream",
     "text": [
      "Within-class scatter matrix 3d = [[44.236469612740606, 26.00134657847101, -6.097391634439983], [26.00134657847101, 31.171938449310403, -1.8686518164192798], [-6.097391634439983, -6.18924275061104, -6.0035418177339785]]\n"
     ]
    }
   ],
   "source": [
    "w00 = cov_3d_setosa[0][0] + cov_3d_versicolor[0][0]+ cov_3d_virginica[0][0] \n",
    "w01 = cov_3d_setosa[0][1] + cov_3d_versicolor[0][1]+ cov_3d_virginica[0][1] \n",
    "w02 = cov_3d_setosa[0][2] + cov_3d_versicolor[0][2]+ cov_3d_virginica[0][2] \n",
    "\n",
    "w10 = cov_3d_setosa[1][0] + cov_3d_versicolor[1][0]+ cov_3d_virginica[1][0] \n",
    "w11 = cov_3d_setosa[1][1] + cov_3d_versicolor[1][1]+ cov_3d_virginica[1][1] \n",
    "w12 = cov_3d_setosa[1][2] + cov_3d_versicolor[1][2]+ cov_3d_virginica[1][2] \n",
    "\n",
    "w20 = cov_3d_setosa[2][0] + cov_3d_versicolor[2][0]+ cov_3d_virginica[2][0] \n",
    "w21 = cov_3d_setosa[2][1] + cov_3d_versicolor[2][1]+ cov_3d_virginica[2][1] \n",
    "w22 = cov_3d_setosa[2][2] + cov_3d_versicolor[2][2]+ cov_3d_virginica[2][2] \n",
    "\n",
    "#Within-class scatter matrix\n",
    "Sw_3d=[[w00,w01,w02],\n",
    "       [w10,w11,w12],\n",
    "       [w20,w21,w22]] \n",
    "\n",
    "print('Within-class scatter matrix 3d =', Sw_3d)"
   ]
  },
  {
   "cell_type": "code",
   "execution_count": 52,
   "metadata": {
    "ExecuteTime": {
     "end_time": "2020-10-22T23:38:24.305188Z",
     "start_time": "2020-10-22T23:38:24.292223Z"
    }
   },
   "outputs": [
    {
     "name": "stdout",
     "output_type": "stream",
     "text": [
      "Grand_mean vector:  [[-3.0479322769375964e-15], [-8.804068585277491e-16], [-8.804068585277491e-16]]\n"
     ]
    }
   ],
   "source": [
    "#Grand mean vector:\n",
    "soma0=0\n",
    "for i in range(len(setosa)):\n",
    "    soma0 = soma0 + setosa_3d[i][0]+ versicolor_3d[i][0] + virginica_3d[i][0]\n",
    "soma0\n",
    "\n",
    "soma1=0\n",
    "for i in range(len(setosa)):\n",
    "    soma1 = soma1 + setosa_3d[i][1]+ versicolor_3d[i][1] + virginica_3d[i][1]\n",
    "soma1\n",
    "\n",
    "soma2=0\n",
    "for i in range(len(setosa)):\n",
    "    soma2 = soma2 + setosa_3d[i][2]+ versicolor_3d[i][2] + virginica_3d[i][2]\n",
    "soma1\n",
    "\n",
    "\n",
    "mean_total_3d = [[(soma0/len(X))],\n",
    "                 [(soma1/len(X))],\n",
    "                 [(soma1/len(X))]]\n",
    "mean_total_3d\n",
    "\n",
    "print('Grand_mean vector: ',mean_total_3d)\n"
   ]
  },
  {
   "cell_type": "code",
   "execution_count": 53,
   "metadata": {
    "ExecuteTime": {
     "end_time": "2020-10-22T23:38:24.321145Z",
     "start_time": "2020-10-22T23:38:24.307184Z"
    }
   },
   "outputs": [],
   "source": [
    "setosa3d_element1 = [[setosa_3d_mean[0][0] - mean_total_3d[0][0]],\n",
    "                     [setosa_3d_mean[1][0] - mean_total_3d[1][0]],\n",
    "                     [setosa_3d_mean[2][0] - mean_total_3d[2][0]]]\n",
    "setosa3d_element2 = transposta(setosa3d_element1)\n",
    "S_setosa_3d = multiply_matrix_matrix(setosa3d_element1,setosa3d_element2)\n",
    "\n",
    "\n",
    "versicolor3d_element1 = [[versicolor_3d_mean[0][0] - mean_total_3d[0][0]],\n",
    "                         [versicolor_3d_mean[1][0] - mean_total_3d[1][0]],\n",
    "                         [versicolor_3d_mean[2][0] - mean_total_3d[2][0]]]\n",
    "versicolor3d_element2 = transposta(setosa3d_element1)\n",
    "S_versicolor_3d = multiply_matrix_matrix(versicolor3d_element1,versicolor3d_element2)\n",
    "\n",
    "\n",
    "\n",
    "\n",
    "virginica3d_element1 = [[virginica_3d_mean[0][0] - mean_total_3d[0][0]],\n",
    "                         [virginica_3d_mean[1][0] - mean_total_3d[1][0]],\n",
    "                         [virginica_3d_mean[2][0] - mean_total_3d[2][0]]]\n",
    "virginica3d_element2 = transposta(setosa3d_element1)\n",
    "S_virginica_3d = multiply_matrix_matrix(virginica3d_element1,virginica3d_element2)\n",
    "\n"
   ]
  },
  {
   "cell_type": "code",
   "execution_count": 54,
   "metadata": {
    "ExecuteTime": {
     "end_time": "2020-10-22T23:38:24.336107Z",
     "start_time": "2020-10-22T23:38:24.323140Z"
    }
   },
   "outputs": [
    {
     "data": {
      "text/plain": [
       "[[-5.573406200597833, 0.4026164385522674, 0.02864575919559471],\n",
       " [-0.14444707391839506, 0.010434690092044991, 0.0007424178226110223],\n",
       " [-0.2767772676483441, 0.019994070728390635, 0.001422558247955923]]"
      ]
     },
     "execution_count": 54,
     "metadata": {},
     "output_type": "execute_result"
    }
   ],
   "source": [
    "S_virginica_3d"
   ]
  },
  {
   "cell_type": "code",
   "execution_count": 55,
   "metadata": {
    "ExecuteTime": {
     "end_time": "2020-10-22T23:38:24.352071Z",
     "start_time": "2020-10-22T23:38:24.339098Z"
    }
   },
   "outputs": [
    {
     "name": "stdout",
     "output_type": "stream",
     "text": [
      "Between-class scatter matrix 3-D [[-8.881784197001252e-16, 1.6653345369377348e-16, 1.0408340855860843e-17], [2.220446049250313e-16, -2.2551405187698492e-17, -1.3010426069826053e-18], [-4.274358644806853e-15, 3.0531133177191805e-16, 2.168404344971009e-17]]\n"
     ]
    }
   ],
   "source": [
    "Sb00 = S_setosa_3d[0][0]+S_versicolor_3d[0][0]+S_virginica_3d[0][0]\n",
    "Sb01 = S_setosa_3d[0][1]+S_versicolor_3d[0][1]+S_virginica_3d[0][1]\n",
    "Sb02 = S_setosa_3d[0][2]+S_versicolor_3d[0][2]+S_virginica_3d[0][2]\n",
    "Sb10 = S_setosa_3d[1][0]+S_versicolor_3d[1][0]+S_virginica_3d[1][0]\n",
    "Sb11 = S_setosa_3d[1][1]+S_versicolor_3d[1][1]+S_virginica_3d[1][1]\n",
    "Sb12 = S_setosa_3d[1][2]+S_versicolor_3d[1][2]+S_virginica_3d[1][2]\n",
    "Sb20 = S_setosa_3d[2][0]+S_versicolor_3d[2][0]+S_virginica_3d[2][0]\n",
    "Sb21 = S_setosa_3d[2][1]+S_versicolor_3d[2][1]+S_virginica_3d[2][1]\n",
    "Sb22 = S_setosa_3d[2][2]+S_versicolor_3d[2][2]+S_virginica_3d[2][2]\n",
    "\n",
    "Sb_3d = [[Sb00,Sb01,Sb02],\n",
    "        [Sb10,Sb11,Sb12],\n",
    "        [Sb20,Sb21,Sb22]]\n",
    "print('Between-class scatter matrix 3-D',Sb_3d)"
   ]
  },
  {
   "cell_type": "code",
   "execution_count": 56,
   "metadata": {
    "ExecuteTime": {
     "end_time": "2020-10-22T23:38:24.368021Z",
     "start_time": "2020-10-22T23:38:24.355054Z"
    }
   },
   "outputs": [
    {
     "data": {
      "text/plain": [
       "[[8.350990899593771e-17, -1.2427969858542302e-18, -1.620413129664178e-19],\n",
       " [-2.3487140325213465e-17, -2.504925880755905e-18, -1.0663826591900033e-19],\n",
       " [6.513710999299096e-16, -4.7010569101907874e-17, -3.337363942420346e-18]]"
      ]
     },
     "execution_count": 56,
     "metadata": {},
     "output_type": "execute_result"
    }
   ],
   "source": [
    "#Sw^{-1}* Sb\n",
    "Sw_Sb_3d = multiply_matrix_matrix(matriz_inversa(Sw_3d),Sb_3d)\n",
    "Sw_Sb_3d"
   ]
  },
  {
   "cell_type": "code",
   "execution_count": 57,
   "metadata": {
    "ExecuteTime": {
     "end_time": "2020-10-22T23:38:24.383979Z",
     "start_time": "2020-10-22T23:38:24.371014Z"
    }
   },
   "outputs": [
    {
     "name": "stdout",
     "output_type": "stream",
     "text": [
      "Autovalores 3-D [-4.92587703e-20  8.26115318e-17 -4.89465381e-18]\n"
     ]
    }
   ],
   "source": [
    "#Autovalores\n",
    "autovalores_3d = np.linalg.eig(Sw_Sb_3d)[0]\n",
    "print('Autovalores 3-D',autovalores_3d)"
   ]
  },
  {
   "cell_type": "markdown",
   "metadata": {},
   "source": [
    "Desconsiderar o autovalor = -1.95218045e-16, pois é próximo de zero, e esperamos obter somente (g-1), ou seja 03 autovalores diferentes de zero."
   ]
  },
  {
   "cell_type": "code",
   "execution_count": 58,
   "metadata": {
    "ExecuteTime": {
     "end_time": "2020-10-22T23:38:24.399935Z",
     "start_time": "2020-10-22T23:38:24.386970Z"
    }
   },
   "outputs": [
    {
     "name": "stdout",
     "output_type": "stream",
     "text": [
      "Autovetored 3-D [[-0.00113063  0.12813254  0.00284718]\n",
      " [ 0.05417541 -0.03659873  0.07248917]\n",
      " [-0.99853079  0.99108152  0.99736514]]\n"
     ]
    }
   ],
   "source": [
    "#Autovetores\n",
    "autovetores_3d = np.linalg.eig(Sw_Sb_3d)[1]\n",
    "print('Autovetored 3-D',autovetores_3d)"
   ]
  },
  {
   "cell_type": "code",
   "execution_count": 59,
   "metadata": {
    "ExecuteTime": {
     "end_time": "2020-10-22T23:38:24.415893Z",
     "start_time": "2020-10-22T23:38:24.401931Z"
    }
   },
   "outputs": [
    {
     "data": {
      "text/plain": [
       "[[-0.0011306264339526592, 0.12813254274289096, 0.002847179742165551],\n",
       " [0.054175410616641884, -0.03659872970646636, 0.07248917184556268],\n",
       " [-0.9985307940010589, 0.9910815226176475, 0.9973651355108921]]"
      ]
     },
     "execution_count": 59,
     "metadata": {},
     "output_type": "execute_result"
    }
   ],
   "source": [
    "#Seleção dos autovetores\n",
    "W =[[autovetores_3d[0][0],autovetores_3d[0][1],autovetores_3d[0][2]],\n",
    "    [autovetores_3d[1][0],autovetores_3d[1][1],autovetores_3d[1][2]],\n",
    "    [autovetores_3d[2][0],autovetores_3d[2][1],autovetores_3d[2][2]]]\n",
    "W"
   ]
  },
  {
   "cell_type": "code",
   "execution_count": 60,
   "metadata": {
    "ExecuteTime": {
     "end_time": "2020-10-22T23:38:24.447807Z",
     "start_time": "2020-10-22T23:38:24.418885Z"
    }
   },
   "outputs": [
    {
     "data": {
      "text/plain": [
       "array([[ 4.82120353e-02, -3.83279245e-01, -1.23306220e-02],\n",
       "       [ 2.03634623e-01, -5.49879107e-01, -2.30468049e-01],\n",
       "       [-2.24602827e-02, -3.47128129e-01, -8.79647709e-04],\n",
       "       [-4.56530271e-02, -3.08840510e-01,  5.86504964e-04],\n",
       "       [-6.91596766e-02, -2.72320317e-01,  1.05758912e-01],\n",
       "       [-1.25689154e-01, -1.52210787e-01,  2.15477628e-01],\n",
       "       [-2.59170894e-01, -1.02536348e-01,  2.42697088e-01],\n",
       "       [ 3.36678089e-02, -3.64158503e-01, -1.74551352e-02],\n",
       "       [-4.87959263e-02, -3.28099657e-01, -2.94345190e-02],\n",
       "       [ 1.94200484e-01, -5.34173146e-01, -2.12969207e-01],\n",
       "       [ 1.12988645e-01, -4.19476495e-01, -3.54967754e-02],\n",
       "       [-9.82481295e-02, -2.34078833e-01,  9.55098852e-02],\n",
       "       [ 1.96953293e-01, -5.53386157e-01, -2.31275051e-01],\n",
       "       [-8.52697046e-02, -3.33604806e-01,  1.48888373e-02],\n",
       "       [ 2.18255034e-01, -5.32295118e-01, -7.33104131e-02],\n",
       "       [-2.02180996e-01, -7.94010743e-02,  3.67246546e-01],\n",
       "       [-9.10950827e-02, -2.28878294e-01,  1.89114965e-01],\n",
       "       [-6.74034464e-03, -3.24315799e-01,  4.16635577e-02],\n",
       "       [ 1.69902358e-01, -4.33045953e-01, -6.29804394e-02],\n",
       "       [-1.82602868e-01, -1.38641329e-01,  2.42961292e-01],\n",
       "       [ 2.62905614e-01, -5.47650334e-01, -2.17022513e-01],\n",
       "       [-1.81817246e-01, -1.35180414e-01,  2.32053116e-01],\n",
       "       [-2.81100446e-01, -1.27162239e-01,  2.92144957e-01],\n",
       "       [-3.11146549e-02, -2.59893338e-01,  3.96192021e-02],\n",
       "       [-1.24193683e-01, -1.76578203e-01,  1.15281883e-01],\n",
       "       [ 2.47971298e-01, -5.67001750e-01, -2.70473895e-01],\n",
       "       [-8.48854690e-02, -2.27064733e-01,  9.71238901e-02],\n",
       "       [ 1.01197228e-01, -4.19568764e-01, -5.89271334e-02],\n",
       "       [ 1.65583747e-01, -4.94238172e-01, -1.30420156e-01],\n",
       "       [-4.84058364e-02, -2.89627499e-01,  1.88923499e-02],\n",
       "       [ 6.89658755e-02, -4.00586426e-01, -9.91971837e-02],\n",
       "       [ 1.70297890e-01, -4.68057196e-01, -1.22215485e-01],\n",
       "       [-1.78278403e-01, -1.45517024e-01,  2.76492825e-01],\n",
       "       [-9.54191355e-02, -2.16587113e-01,  2.29237163e-01],\n",
       "       [ 1.39248104e-01, -4.75209699e-01, -1.58975027e-01],\n",
       "       [ 1.71089366e-01, -5.32664195e-01, -1.67031845e-01],\n",
       "       [ 3.03395394e-01, -6.24271707e-01, -2.31669997e-01],\n",
       "       [-7.58410069e-02, -2.75827367e-01,  1.04951909e-01],\n",
       "       [-9.58854101e-02, -2.91764002e-01,  2.88771715e-02],\n",
       "       [ 9.53015191e-02, -4.19614899e-01, -7.06423125e-02],\n",
       "       [-5.97255370e-02, -2.88026279e-01,  8.82600691e-02],\n",
       "       [ 3.00961932e-01, -6.76774670e-01, -4.24632320e-01],\n",
       "       [-2.07361414e-01, -1.80758940e-01,  1.58681884e-01],\n",
       "       [-2.50528231e-01, -5.36353100e-02,  2.70014606e-01],\n",
       "       [-2.72149319e-01, -3.01037516e-03,  3.23318136e-01],\n",
       "       [ 8.70485331e-02, -4.35459265e-01, -1.23286692e-01],\n",
       "       [-1.36299006e-01, -1.78437898e-01,  1.95557779e-01],\n",
       "       [-9.27425109e-02, -2.72504856e-01,  5.88981954e-02],\n",
       "       [ 5.13549346e-02, -3.64020099e-01,  1.76904019e-02],\n",
       "       [ 9.80543285e-02, -4.38827911e-01, -8.89481574e-02],\n",
       "       [ 4.41636885e-01, -2.63390078e-01, -3.52171929e-01],\n",
       "       [ 3.41792795e-02,  8.99779924e-02,  7.76398256e-03],\n",
       "       [ 3.63491761e-01, -1.66139013e-01, -2.96711597e-01],\n",
       "       [ 1.34265252e-01, -1.24198496e-01, -2.38614317e-01],\n",
       "       [ 3.10116479e-01, -1.68321651e-01, -2.98441954e-01],\n",
       "       [-6.43999256e-02,  1.38235750e-01,  1.24764388e-02],\n",
       "       [-1.55441848e-01,  2.98234120e-01,  1.93029028e-01],\n",
       "       [-6.58782463e-02, -4.70160639e-02, -6.27060977e-02],\n",
       "       [ 4.25916947e-01, -2.86202409e-01, -3.94715134e-01],\n",
       "       [-3.19891748e-01,  3.03977386e-01,  2.27960153e-01],\n",
       "       [ 2.01410435e-01, -2.86148831e-01, -3.62321369e-01],\n",
       "       [-1.36567715e-01,  1.98754281e-01,  1.24123159e-01],\n",
       "       [ 6.63028945e-01, -6.33873348e-01, -7.31435099e-01],\n",
       "       [ 5.41474980e-02,  6.92098958e-02, -6.81944026e-02],\n",
       "       [-1.03934977e-01,  7.66927860e-02,  7.12499796e-02],\n",
       "       [ 3.38419310e-01, -2.10024051e-01, -2.77284751e-01],\n",
       "       [-3.47414399e-01,  4.22624101e-01,  3.03456688e-01],\n",
       "       [ 2.52422998e-01, -2.26281023e-01, -2.93958297e-01],\n",
       "       [ 4.68291876e-01, -3.54134525e-01, -5.34885226e-01],\n",
       "       [ 2.02976237e-01, -2.05743600e-01, -2.76575807e-01],\n",
       "       [-4.64791965e-01,  6.01650943e-01,  4.55454406e-01],\n",
       "       [ 2.25377505e-01, -1.79424219e-01, -2.33225600e-01],\n",
       "       [ 3.28117510e-01, -1.66415821e-01, -3.67002671e-01],\n",
       "       [ 2.19790260e-01, -1.04219528e-01, -2.41085118e-01],\n",
       "       [ 3.28595080e-01, -2.32790247e-01, -3.08112778e-01],\n",
       "       [ 3.32523601e-01, -2.10070185e-01, -2.88999930e-01],\n",
       "       [ 5.32672954e-01, -3.55320533e-01, -4.98816334e-01],\n",
       "       [ 1.77409064e-01,  2.63650180e-02, -1.40660573e-01],\n",
       "       [-4.51415565e-02,  1.45295985e-01,  2.58056227e-02],\n",
       "       [ 2.98418397e-01, -3.41328419e-01, -3.45217472e-01],\n",
       "       [ 2.05729046e-01, -2.24956611e-01, -2.94881652e-01],\n",
       "       [ 2.69329944e-01, -3.03086935e-01, -3.55466498e-01],\n",
       "       [ 1.59815274e-01, -1.46687884e-01, -1.99151270e-01],\n",
       "       [-4.05090404e-02,  2.08255630e-01, -1.04609150e-02],\n",
       "       [-4.70681820e-01,  5.33536894e-01,  4.09831043e-01],\n",
       "       [-3.78783945e-01,  4.81772086e-01,  4.04311584e-01],\n",
       "       [ 2.57521376e-01, -9.35599739e-02, -2.03518574e-01],\n",
       "       [ 5.92740862e-01, -4.91182160e-01, -6.37749072e-01],\n",
       "       [-2.02915568e-01,  2.28029701e-01,  1.69105665e-01],\n",
       "       [ 2.27892484e-02, -1.31934344e-02, -1.08809605e-01],\n",
       "       [-1.25904449e-02,  6.00131578e-02, -7.15387649e-02],\n",
       "       [ 7.05801416e-03,  1.05545550e-01, -9.88271212e-03],\n",
       "       [ 2.06904757e-01, -1.83023539e-01, -2.57462960e-01],\n",
       "       [ 5.14934657e-02, -1.57974991e-01, -1.80795631e-01],\n",
       "       [-4.43500805e-02,  8.06889850e-02, -1.90107378e-02],\n",
       "       [-9.49779954e-02,  1.32776736e-01,  6.85149741e-02],\n",
       "       [-9.41923736e-02,  1.36237651e-01,  5.76067975e-02],\n",
       "       [ 2.05327660e-01, -1.21877454e-01, -2.01738423e-01],\n",
       "       [-2.73556537e-02, -1.00963510e-01, -6.99559138e-02],\n",
       "       [-2.98058540e-02,  6.15682429e-02, -1.38862247e-02],\n",
       "       [-7.62444001e-01,  1.07807453e+00,  7.64655301e-01],\n",
       "       [-3.28633601e-01,  4.96058761e-01,  2.57895979e-01],\n",
       "       [ 1.26297724e-01,  2.12895109e-01, -7.81165706e-02],\n",
       "       [-1.20231262e-01,  3.66652779e-01,  1.00723955e-01],\n",
       "       [-2.89808399e-01,  5.85430056e-01,  2.88410007e-01],\n",
       "       [ 3.73926650e-01,  6.97812652e-02, -2.97917796e-01],\n",
       "       [-6.10065122e-01,  6.51233113e-01,  4.59243507e-01],\n",
       "       [ 4.35566215e-01, -5.37430460e-02, -3.85013157e-01],\n",
       "       [ 3.31958550e-01, -3.88491763e-02, -3.58452848e-01],\n",
       "       [-3.83603131e-01,  7.64641437e-01,  4.87268441e-01],\n",
       "       [-2.30840017e-01,  4.44340088e-01,  2.64091699e-01],\n",
       "       [ 2.38716249e-02,  2.01654137e-01, -4.80457532e-02],\n",
       "       [-2.40093348e-02,  3.02596791e-01,  5.50822978e-02],\n",
       "       [-3.25095170e-01,  4.80306665e-01,  2.28681957e-01],\n",
       "       [-6.59133502e-01,  8.46378523e-01,  5.92769234e-01],\n",
       "       [-4.74627903e-01,  7.15020577e-01,  4.92442747e-01],\n",
       "       [-4.40533257e-02,  2.92075641e-01,  5.26612904e-02],\n",
       "       [-7.39445508e-02,  5.36475440e-01,  2.28698723e-01],\n",
       "       [ 5.22662054e-01, -3.22577323e-02, -4.82954041e-01],\n",
       "       [ 3.01781866e-01, -1.47387348e-01, -3.95557542e-01],\n",
       "       [-2.01053424e-01,  5.14406102e-01,  2.52869524e-01],\n",
       "       [-5.45294367e-01,  6.83103777e-01,  4.69985538e-01],\n",
       "       [ 5.93340226e-01, -1.36476763e-01, -5.28313200e-01],\n",
       "       [ 5.17843662e-02,  1.21479580e-01, -7.52154191e-02],\n",
       "       [-2.70154086e-01,  5.62894534e-01,  3.16157876e-01],\n",
       "       [ 2.32664053e-01,  1.10720313e-01, -1.56890909e-01],\n",
       "       [-5.69388278e-02,  2.13271630e-01,  3.62834486e-02],\n",
       "       [-2.38697059e-01,  3.98899965e-01,  2.25866004e-01],\n",
       "       [-1.67716690e-01,  4.32584191e-01,  1.44616960e-01],\n",
       "       [ 4.71341852e-01, -1.56545395e-01, -4.07865312e-01],\n",
       "       [ 5.15282583e-01, -1.44072281e-01, -4.62289843e-01],\n",
       "       [ 1.85173183e-01,  2.50135125e-01, -5.43598875e-03],\n",
       "       [-2.22669070e-01,  4.91547637e-01,  1.98611140e-01],\n",
       "       [ 1.43606469e-01,  3.84255257e-02, -1.59114270e-01],\n",
       "       [ 1.43524842e-01,  7.52041942e-02, -2.03585479e-01],\n",
       "       [ 3.68898190e-01,  3.64173771e-02, -2.76069943e-01],\n",
       "       [-7.28635551e-01,  9.97946112e-01,  7.49200814e-01],\n",
       "       [-1.61425038e-01,  4.03034568e-01,  1.70750824e-01],\n",
       "       [-2.91682252e-01,  4.35189485e-01,  2.72462516e-01],\n",
       "       [-9.46510839e-03,  2.83476048e-01,  6.02068110e-02],\n",
       "       [-3.14886705e-01,  6.09612933e-01,  3.41745036e-01],\n",
       "       [-9.34243146e-02,  3.43902310e-01,  1.48423173e-01],\n",
       "       [-3.28633601e-01,  4.96058761e-01,  2.57895979e-01],\n",
       "       [-2.79984170e-01,  6.08196252e-01,  3.19238033e-01],\n",
       "       [-4.89963606e-01,  7.98748319e-01,  5.32134595e-01],\n",
       "       [-1.69602251e-01,  4.18479449e-01,  1.96485837e-01],\n",
       "       [ 9.96594718e-02,  8.86048406e-02, -1.44435286e-01],\n",
       "       [-1.28012532e-01,  3.52501903e-01,  1.40877652e-01],\n",
       "       [-7.18019845e-01,  9.56105308e-01,  7.35212480e-01],\n",
       "       [-3.79261516e-01,  5.48146512e-01,  3.45421691e-01]])"
      ]
     },
     "execution_count": 60,
     "metadata": {},
     "output_type": "execute_result"
    }
   ],
   "source": [
    "#Convert the data\n",
    "X_lda_3d = multiply_matrix_matrix(pca_iris_3d,W)\n",
    "X_lda_3d\n",
    "\n",
    "X_lda_3d = np.array(X_lda_3d)\n",
    "X_lda_3d"
   ]
  }
 ],
 "metadata": {
  "hide_input": false,
  "kernelspec": {
   "display_name": "Python 3",
   "language": "python",
   "name": "python3"
  },
  "language_info": {
   "codemirror_mode": {
    "name": "ipython",
    "version": 3
   },
   "file_extension": ".py",
   "mimetype": "text/x-python",
   "name": "python",
   "nbconvert_exporter": "python",
   "pygments_lexer": "ipython3",
   "version": "3.8.5"
  },
  "toc": {
   "base_numbering": 1,
   "nav_menu": {},
   "number_sections": true,
   "sideBar": true,
   "skip_h1_title": false,
   "title_cell": "Table of Contents",
   "title_sidebar": "Contents",
   "toc_cell": false,
   "toc_position": {
    "height": "calc(100% - 180px)",
    "left": "10px",
    "top": "150px",
    "width": "466.777px"
   },
   "toc_section_display": true,
   "toc_window_display": true
  },
  "varInspector": {
   "cols": {
    "lenName": 16,
    "lenType": 16,
    "lenVar": 40
   },
   "kernels_config": {
    "python": {
     "delete_cmd_postfix": "",
     "delete_cmd_prefix": "del ",
     "library": "var_list.py",
     "varRefreshCmd": "print(var_dic_list())"
    },
    "r": {
     "delete_cmd_postfix": ") ",
     "delete_cmd_prefix": "rm(",
     "library": "var_list.r",
     "varRefreshCmd": "cat(var_dic_list()) "
    }
   },
   "types_to_exclude": [
    "module",
    "function",
    "builtin_function_or_method",
    "instance",
    "_Feature"
   ],
   "window_display": false
  }
 },
 "nbformat": 4,
 "nbformat_minor": 4
}
