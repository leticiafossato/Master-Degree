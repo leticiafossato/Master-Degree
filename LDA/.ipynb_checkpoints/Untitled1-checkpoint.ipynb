{
 "cells": [
  {
   "cell_type": "code",
   "execution_count": 1,
   "metadata": {
    "ExecuteTime": {
     "end_time": "2020-10-22T03:16:22.384705Z",
     "start_time": "2020-10-22T03:16:22.214080Z"
    }
   },
   "outputs": [],
   "source": [
    "import numpy as np"
   ]
  },
  {
   "cell_type": "code",
   "execution_count": 35,
   "metadata": {
    "ExecuteTime": {
     "end_time": "2020-10-22T03:23:06.771294Z",
     "start_time": "2020-10-22T03:23:05.856118Z"
    }
   },
   "outputs": [
    {
     "data": {
      "text/html": [
       "<div>\n",
       "<style scoped>\n",
       "    .dataframe tbody tr th:only-of-type {\n",
       "        vertical-align: middle;\n",
       "    }\n",
       "\n",
       "    .dataframe tbody tr th {\n",
       "        vertical-align: top;\n",
       "    }\n",
       "\n",
       "    .dataframe thead th {\n",
       "        text-align: right;\n",
       "    }\n",
       "</style>\n",
       "<table border=\"1\" class=\"dataframe\">\n",
       "  <thead>\n",
       "    <tr style=\"text-align: right;\">\n",
       "      <th></th>\n",
       "      <th>sepal length in cm</th>\n",
       "      <th>sepal width in cm</th>\n",
       "      <th>petal length in cm</th>\n",
       "      <th>petal width in cm</th>\n",
       "      <th>class label</th>\n",
       "    </tr>\n",
       "  </thead>\n",
       "  <tbody>\n",
       "    <tr>\n",
       "      <th>145</th>\n",
       "      <td>6.7</td>\n",
       "      <td>3.0</td>\n",
       "      <td>5.2</td>\n",
       "      <td>2.3</td>\n",
       "      <td>Iris-virginica</td>\n",
       "    </tr>\n",
       "    <tr>\n",
       "      <th>146</th>\n",
       "      <td>6.3</td>\n",
       "      <td>2.5</td>\n",
       "      <td>5.0</td>\n",
       "      <td>1.9</td>\n",
       "      <td>Iris-virginica</td>\n",
       "    </tr>\n",
       "    <tr>\n",
       "      <th>147</th>\n",
       "      <td>6.5</td>\n",
       "      <td>3.0</td>\n",
       "      <td>5.2</td>\n",
       "      <td>2.0</td>\n",
       "      <td>Iris-virginica</td>\n",
       "    </tr>\n",
       "    <tr>\n",
       "      <th>148</th>\n",
       "      <td>6.2</td>\n",
       "      <td>3.4</td>\n",
       "      <td>5.4</td>\n",
       "      <td>2.3</td>\n",
       "      <td>Iris-virginica</td>\n",
       "    </tr>\n",
       "    <tr>\n",
       "      <th>149</th>\n",
       "      <td>5.9</td>\n",
       "      <td>3.0</td>\n",
       "      <td>5.1</td>\n",
       "      <td>1.8</td>\n",
       "      <td>Iris-virginica</td>\n",
       "    </tr>\n",
       "  </tbody>\n",
       "</table>\n",
       "</div>"
      ],
      "text/plain": [
       "     sepal length in cm  sepal width in cm  petal length in cm  \\\n",
       "145                 6.7                3.0                 5.2   \n",
       "146                 6.3                2.5                 5.0   \n",
       "147                 6.5                3.0                 5.2   \n",
       "148                 6.2                3.4                 5.4   \n",
       "149                 5.9                3.0                 5.1   \n",
       "\n",
       "     petal width in cm     class label  \n",
       "145                2.3  Iris-virginica  \n",
       "146                1.9  Iris-virginica  \n",
       "147                2.0  Iris-virginica  \n",
       "148                2.3  Iris-virginica  \n",
       "149                1.8  Iris-virginica  "
      ]
     },
     "execution_count": 35,
     "metadata": {},
     "output_type": "execute_result"
    }
   ],
   "source": [
    "feature_dict = {i:label for i,label in zip(\n",
    "                range(4),\n",
    "                  ('sepal length in cm',\n",
    "                  'sepal width in cm',\n",
    "                  'petal length in cm',\n",
    "                  'petal width in cm', ))}\n",
    "\n",
    "import pandas as pd\n",
    "\n",
    "df = pd.io.parsers.read_csv(\n",
    "    filepath_or_buffer='https://archive.ics.uci.edu/ml/machine-learning-databases/iris/iris.data',\n",
    "    header=None,\n",
    "    sep=',',\n",
    "    )\n",
    "df.columns = [l for i,l in sorted(feature_dict.items())] + ['class label']\n",
    "df.dropna(how=\"all\", inplace=True) # to drop the empty line at file-end\n",
    "\n",
    "df.tail()"
   ]
  },
  {
   "cell_type": "code",
   "execution_count": 36,
   "metadata": {
    "ExecuteTime": {
     "end_time": "2020-10-22T03:23:06.978070Z",
     "start_time": "2020-10-22T03:23:06.959118Z"
    }
   },
   "outputs": [
    {
     "data": {
      "text/plain": [
       "Iris-virginica     50\n",
       "Iris-versicolor    50\n",
       "Iris-setosa        50\n",
       "Name: class label, dtype: int64"
      ]
     },
     "execution_count": 36,
     "metadata": {},
     "output_type": "execute_result"
    }
   ],
   "source": [
    "df['class label'].value_counts()"
   ]
  },
  {
   "cell_type": "code",
   "execution_count": 37,
   "metadata": {
    "ExecuteTime": {
     "end_time": "2020-10-22T03:23:07.167720Z",
     "start_time": "2020-10-22T03:23:07.155752Z"
    }
   },
   "outputs": [],
   "source": [
    "#df.replace({'class label': {'Iris-setosa': 1,'Iris-versicolor':2,'Iris-virginica':3}}, inplace=True)"
   ]
  },
  {
   "cell_type": "code",
   "execution_count": 38,
   "metadata": {
    "ExecuteTime": {
     "end_time": "2020-10-22T03:23:07.356315Z",
     "start_time": "2020-10-22T03:23:07.328386Z"
    }
   },
   "outputs": [
    {
     "data": {
      "text/html": [
       "<div>\n",
       "<style scoped>\n",
       "    .dataframe tbody tr th:only-of-type {\n",
       "        vertical-align: middle;\n",
       "    }\n",
       "\n",
       "    .dataframe tbody tr th {\n",
       "        vertical-align: top;\n",
       "    }\n",
       "\n",
       "    .dataframe thead th {\n",
       "        text-align: right;\n",
       "    }\n",
       "</style>\n",
       "<table border=\"1\" class=\"dataframe\">\n",
       "  <thead>\n",
       "    <tr style=\"text-align: right;\">\n",
       "      <th></th>\n",
       "      <th>sepal length in cm</th>\n",
       "      <th>sepal width in cm</th>\n",
       "      <th>petal length in cm</th>\n",
       "      <th>petal width in cm</th>\n",
       "      <th>class label</th>\n",
       "    </tr>\n",
       "  </thead>\n",
       "  <tbody>\n",
       "    <tr>\n",
       "      <th>0</th>\n",
       "      <td>5.1</td>\n",
       "      <td>3.5</td>\n",
       "      <td>1.4</td>\n",
       "      <td>0.2</td>\n",
       "      <td>Iris-setosa</td>\n",
       "    </tr>\n",
       "    <tr>\n",
       "      <th>1</th>\n",
       "      <td>4.9</td>\n",
       "      <td>3.0</td>\n",
       "      <td>1.4</td>\n",
       "      <td>0.2</td>\n",
       "      <td>Iris-setosa</td>\n",
       "    </tr>\n",
       "    <tr>\n",
       "      <th>2</th>\n",
       "      <td>4.7</td>\n",
       "      <td>3.2</td>\n",
       "      <td>1.3</td>\n",
       "      <td>0.2</td>\n",
       "      <td>Iris-setosa</td>\n",
       "    </tr>\n",
       "    <tr>\n",
       "      <th>3</th>\n",
       "      <td>4.6</td>\n",
       "      <td>3.1</td>\n",
       "      <td>1.5</td>\n",
       "      <td>0.2</td>\n",
       "      <td>Iris-setosa</td>\n",
       "    </tr>\n",
       "    <tr>\n",
       "      <th>4</th>\n",
       "      <td>5.0</td>\n",
       "      <td>3.6</td>\n",
       "      <td>1.4</td>\n",
       "      <td>0.2</td>\n",
       "      <td>Iris-setosa</td>\n",
       "    </tr>\n",
       "    <tr>\n",
       "      <th>...</th>\n",
       "      <td>...</td>\n",
       "      <td>...</td>\n",
       "      <td>...</td>\n",
       "      <td>...</td>\n",
       "      <td>...</td>\n",
       "    </tr>\n",
       "    <tr>\n",
       "      <th>145</th>\n",
       "      <td>6.7</td>\n",
       "      <td>3.0</td>\n",
       "      <td>5.2</td>\n",
       "      <td>2.3</td>\n",
       "      <td>Iris-virginica</td>\n",
       "    </tr>\n",
       "    <tr>\n",
       "      <th>146</th>\n",
       "      <td>6.3</td>\n",
       "      <td>2.5</td>\n",
       "      <td>5.0</td>\n",
       "      <td>1.9</td>\n",
       "      <td>Iris-virginica</td>\n",
       "    </tr>\n",
       "    <tr>\n",
       "      <th>147</th>\n",
       "      <td>6.5</td>\n",
       "      <td>3.0</td>\n",
       "      <td>5.2</td>\n",
       "      <td>2.0</td>\n",
       "      <td>Iris-virginica</td>\n",
       "    </tr>\n",
       "    <tr>\n",
       "      <th>148</th>\n",
       "      <td>6.2</td>\n",
       "      <td>3.4</td>\n",
       "      <td>5.4</td>\n",
       "      <td>2.3</td>\n",
       "      <td>Iris-virginica</td>\n",
       "    </tr>\n",
       "    <tr>\n",
       "      <th>149</th>\n",
       "      <td>5.9</td>\n",
       "      <td>3.0</td>\n",
       "      <td>5.1</td>\n",
       "      <td>1.8</td>\n",
       "      <td>Iris-virginica</td>\n",
       "    </tr>\n",
       "  </tbody>\n",
       "</table>\n",
       "<p>150 rows × 5 columns</p>\n",
       "</div>"
      ],
      "text/plain": [
       "     sepal length in cm  sepal width in cm  petal length in cm  \\\n",
       "0                   5.1                3.5                 1.4   \n",
       "1                   4.9                3.0                 1.4   \n",
       "2                   4.7                3.2                 1.3   \n",
       "3                   4.6                3.1                 1.5   \n",
       "4                   5.0                3.6                 1.4   \n",
       "..                  ...                ...                 ...   \n",
       "145                 6.7                3.0                 5.2   \n",
       "146                 6.3                2.5                 5.0   \n",
       "147                 6.5                3.0                 5.2   \n",
       "148                 6.2                3.4                 5.4   \n",
       "149                 5.9                3.0                 5.1   \n",
       "\n",
       "     petal width in cm     class label  \n",
       "0                  0.2     Iris-setosa  \n",
       "1                  0.2     Iris-setosa  \n",
       "2                  0.2     Iris-setosa  \n",
       "3                  0.2     Iris-setosa  \n",
       "4                  0.2     Iris-setosa  \n",
       "..                 ...             ...  \n",
       "145                2.3  Iris-virginica  \n",
       "146                1.9  Iris-virginica  \n",
       "147                2.0  Iris-virginica  \n",
       "148                2.3  Iris-virginica  \n",
       "149                1.8  Iris-virginica  \n",
       "\n",
       "[150 rows x 5 columns]"
      ]
     },
     "execution_count": 38,
     "metadata": {},
     "output_type": "execute_result"
    }
   ],
   "source": [
    "df"
   ]
  },
  {
   "cell_type": "code",
   "execution_count": 39,
   "metadata": {
    "ExecuteTime": {
     "end_time": "2020-10-22T03:23:07.558770Z",
     "start_time": "2020-10-22T03:23:07.547800Z"
    }
   },
   "outputs": [
    {
     "data": {
      "text/plain": [
       "array([[5.1, 3.5, 1.4, 0.2, 'Iris-setosa'],\n",
       "       [4.9, 3.0, 1.4, 0.2, 'Iris-setosa'],\n",
       "       [4.7, 3.2, 1.3, 0.2, 'Iris-setosa'],\n",
       "       [4.6, 3.1, 1.5, 0.2, 'Iris-setosa']], dtype=object)"
      ]
     },
     "execution_count": 39,
     "metadata": {},
     "output_type": "execute_result"
    }
   ],
   "source": [
    "df.iloc[[0,1,2,3]].values"
   ]
  },
  {
   "cell_type": "code",
   "execution_count": 40,
   "metadata": {
    "ExecuteTime": {
     "end_time": "2020-10-22T03:23:07.764221Z",
     "start_time": "2020-10-22T03:23:07.751257Z"
    }
   },
   "outputs": [
    {
     "data": {
      "text/plain": [
       "Index(['sepal length in cm', 'sepal width in cm', 'petal length in cm',\n",
       "       'petal width in cm', 'class label'],\n",
       "      dtype='object')"
      ]
     },
     "execution_count": 40,
     "metadata": {},
     "output_type": "execute_result"
    }
   ],
   "source": [
    "df.columns"
   ]
  },
  {
   "cell_type": "code",
   "execution_count": 41,
   "metadata": {
    "ExecuteTime": {
     "end_time": "2020-10-22T03:23:07.954711Z",
     "start_time": "2020-10-22T03:23:07.941747Z"
    }
   },
   "outputs": [
    {
     "data": {
      "text/plain": [
       "array(['Iris-setosa', 'Iris-setosa', 'Iris-setosa', 'Iris-setosa',\n",
       "       'Iris-setosa', 'Iris-setosa', 'Iris-setosa', 'Iris-setosa',\n",
       "       'Iris-setosa', 'Iris-setosa', 'Iris-setosa', 'Iris-setosa',\n",
       "       'Iris-setosa', 'Iris-setosa', 'Iris-setosa', 'Iris-setosa',\n",
       "       'Iris-setosa', 'Iris-setosa', 'Iris-setosa', 'Iris-setosa',\n",
       "       'Iris-setosa', 'Iris-setosa', 'Iris-setosa', 'Iris-setosa',\n",
       "       'Iris-setosa', 'Iris-setosa', 'Iris-setosa', 'Iris-setosa',\n",
       "       'Iris-setosa', 'Iris-setosa', 'Iris-setosa', 'Iris-setosa',\n",
       "       'Iris-setosa', 'Iris-setosa', 'Iris-setosa', 'Iris-setosa',\n",
       "       'Iris-setosa', 'Iris-setosa', 'Iris-setosa', 'Iris-setosa',\n",
       "       'Iris-setosa', 'Iris-setosa', 'Iris-setosa', 'Iris-setosa',\n",
       "       'Iris-setosa', 'Iris-setosa', 'Iris-setosa', 'Iris-setosa',\n",
       "       'Iris-setosa', 'Iris-setosa', 'Iris-versicolor', 'Iris-versicolor',\n",
       "       'Iris-versicolor', 'Iris-versicolor', 'Iris-versicolor',\n",
       "       'Iris-versicolor', 'Iris-versicolor', 'Iris-versicolor',\n",
       "       'Iris-versicolor', 'Iris-versicolor', 'Iris-versicolor',\n",
       "       'Iris-versicolor', 'Iris-versicolor', 'Iris-versicolor',\n",
       "       'Iris-versicolor', 'Iris-versicolor', 'Iris-versicolor',\n",
       "       'Iris-versicolor', 'Iris-versicolor', 'Iris-versicolor',\n",
       "       'Iris-versicolor', 'Iris-versicolor', 'Iris-versicolor',\n",
       "       'Iris-versicolor', 'Iris-versicolor', 'Iris-versicolor',\n",
       "       'Iris-versicolor', 'Iris-versicolor', 'Iris-versicolor',\n",
       "       'Iris-versicolor', 'Iris-versicolor', 'Iris-versicolor',\n",
       "       'Iris-versicolor', 'Iris-versicolor', 'Iris-versicolor',\n",
       "       'Iris-versicolor', 'Iris-versicolor', 'Iris-versicolor',\n",
       "       'Iris-versicolor', 'Iris-versicolor', 'Iris-versicolor',\n",
       "       'Iris-versicolor', 'Iris-versicolor', 'Iris-versicolor',\n",
       "       'Iris-versicolor', 'Iris-versicolor', 'Iris-versicolor',\n",
       "       'Iris-versicolor', 'Iris-versicolor', 'Iris-versicolor',\n",
       "       'Iris-virginica', 'Iris-virginica', 'Iris-virginica',\n",
       "       'Iris-virginica', 'Iris-virginica', 'Iris-virginica',\n",
       "       'Iris-virginica', 'Iris-virginica', 'Iris-virginica',\n",
       "       'Iris-virginica', 'Iris-virginica', 'Iris-virginica',\n",
       "       'Iris-virginica', 'Iris-virginica', 'Iris-virginica',\n",
       "       'Iris-virginica', 'Iris-virginica', 'Iris-virginica',\n",
       "       'Iris-virginica', 'Iris-virginica', 'Iris-virginica',\n",
       "       'Iris-virginica', 'Iris-virginica', 'Iris-virginica',\n",
       "       'Iris-virginica', 'Iris-virginica', 'Iris-virginica',\n",
       "       'Iris-virginica', 'Iris-virginica', 'Iris-virginica',\n",
       "       'Iris-virginica', 'Iris-virginica', 'Iris-virginica',\n",
       "       'Iris-virginica', 'Iris-virginica', 'Iris-virginica',\n",
       "       'Iris-virginica', 'Iris-virginica', 'Iris-virginica',\n",
       "       'Iris-virginica', 'Iris-virginica', 'Iris-virginica',\n",
       "       'Iris-virginica', 'Iris-virginica', 'Iris-virginica',\n",
       "       'Iris-virginica', 'Iris-virginica', 'Iris-virginica',\n",
       "       'Iris-virginica', 'Iris-virginica'], dtype=object)"
      ]
     },
     "execution_count": 41,
     "metadata": {},
     "output_type": "execute_result"
    }
   ],
   "source": [
    "df['class label'].values"
   ]
  },
  {
   "cell_type": "code",
   "execution_count": 72,
   "metadata": {
    "ExecuteTime": {
     "end_time": "2020-10-22T03:28:59.210194Z",
     "start_time": "2020-10-22T03:28:59.172296Z"
    }
   },
   "outputs": [
    {
     "data": {
      "text/html": [
       "<div>\n",
       "<style scoped>\n",
       "    .dataframe tbody tr th:only-of-type {\n",
       "        vertical-align: middle;\n",
       "    }\n",
       "\n",
       "    .dataframe tbody tr th {\n",
       "        vertical-align: top;\n",
       "    }\n",
       "\n",
       "    .dataframe thead th {\n",
       "        text-align: right;\n",
       "    }\n",
       "</style>\n",
       "<table border=\"1\" class=\"dataframe\">\n",
       "  <thead>\n",
       "    <tr style=\"text-align: right;\">\n",
       "      <th></th>\n",
       "      <th>sepal length in cm</th>\n",
       "      <th>sepal width in cm</th>\n",
       "      <th>petal length in cm</th>\n",
       "      <th>petal width in cm</th>\n",
       "      <th>class label</th>\n",
       "      <th>y</th>\n",
       "    </tr>\n",
       "  </thead>\n",
       "  <tbody>\n",
       "    <tr>\n",
       "      <th>0</th>\n",
       "      <td>5.1</td>\n",
       "      <td>3.5</td>\n",
       "      <td>1.4</td>\n",
       "      <td>0.2</td>\n",
       "      <td>Iris-setosa</td>\n",
       "      <td>1</td>\n",
       "    </tr>\n",
       "    <tr>\n",
       "      <th>1</th>\n",
       "      <td>4.9</td>\n",
       "      <td>3.0</td>\n",
       "      <td>1.4</td>\n",
       "      <td>0.2</td>\n",
       "      <td>Iris-setosa</td>\n",
       "      <td>1</td>\n",
       "    </tr>\n",
       "    <tr>\n",
       "      <th>2</th>\n",
       "      <td>4.7</td>\n",
       "      <td>3.2</td>\n",
       "      <td>1.3</td>\n",
       "      <td>0.2</td>\n",
       "      <td>Iris-setosa</td>\n",
       "      <td>1</td>\n",
       "    </tr>\n",
       "    <tr>\n",
       "      <th>3</th>\n",
       "      <td>4.6</td>\n",
       "      <td>3.1</td>\n",
       "      <td>1.5</td>\n",
       "      <td>0.2</td>\n",
       "      <td>Iris-setosa</td>\n",
       "      <td>1</td>\n",
       "    </tr>\n",
       "    <tr>\n",
       "      <th>4</th>\n",
       "      <td>5.0</td>\n",
       "      <td>3.6</td>\n",
       "      <td>1.4</td>\n",
       "      <td>0.2</td>\n",
       "      <td>Iris-setosa</td>\n",
       "      <td>1</td>\n",
       "    </tr>\n",
       "    <tr>\n",
       "      <th>...</th>\n",
       "      <td>...</td>\n",
       "      <td>...</td>\n",
       "      <td>...</td>\n",
       "      <td>...</td>\n",
       "      <td>...</td>\n",
       "      <td>...</td>\n",
       "    </tr>\n",
       "    <tr>\n",
       "      <th>145</th>\n",
       "      <td>6.7</td>\n",
       "      <td>3.0</td>\n",
       "      <td>5.2</td>\n",
       "      <td>2.3</td>\n",
       "      <td>Iris-virginica</td>\n",
       "      <td>3</td>\n",
       "    </tr>\n",
       "    <tr>\n",
       "      <th>146</th>\n",
       "      <td>6.3</td>\n",
       "      <td>2.5</td>\n",
       "      <td>5.0</td>\n",
       "      <td>1.9</td>\n",
       "      <td>Iris-virginica</td>\n",
       "      <td>3</td>\n",
       "    </tr>\n",
       "    <tr>\n",
       "      <th>147</th>\n",
       "      <td>6.5</td>\n",
       "      <td>3.0</td>\n",
       "      <td>5.2</td>\n",
       "      <td>2.0</td>\n",
       "      <td>Iris-virginica</td>\n",
       "      <td>3</td>\n",
       "    </tr>\n",
       "    <tr>\n",
       "      <th>148</th>\n",
       "      <td>6.2</td>\n",
       "      <td>3.4</td>\n",
       "      <td>5.4</td>\n",
       "      <td>2.3</td>\n",
       "      <td>Iris-virginica</td>\n",
       "      <td>3</td>\n",
       "    </tr>\n",
       "    <tr>\n",
       "      <th>149</th>\n",
       "      <td>5.9</td>\n",
       "      <td>3.0</td>\n",
       "      <td>5.1</td>\n",
       "      <td>1.8</td>\n",
       "      <td>Iris-virginica</td>\n",
       "      <td>3</td>\n",
       "    </tr>\n",
       "  </tbody>\n",
       "</table>\n",
       "<p>150 rows × 6 columns</p>\n",
       "</div>"
      ],
      "text/plain": [
       "     sepal length in cm  sepal width in cm  petal length in cm  \\\n",
       "0                   5.1                3.5                 1.4   \n",
       "1                   4.9                3.0                 1.4   \n",
       "2                   4.7                3.2                 1.3   \n",
       "3                   4.6                3.1                 1.5   \n",
       "4                   5.0                3.6                 1.4   \n",
       "..                  ...                ...                 ...   \n",
       "145                 6.7                3.0                 5.2   \n",
       "146                 6.3                2.5                 5.0   \n",
       "147                 6.5                3.0                 5.2   \n",
       "148                 6.2                3.4                 5.4   \n",
       "149                 5.9                3.0                 5.1   \n",
       "\n",
       "     petal width in cm     class label  y  \n",
       "0                  0.2     Iris-setosa  1  \n",
       "1                  0.2     Iris-setosa  1  \n",
       "2                  0.2     Iris-setosa  1  \n",
       "3                  0.2     Iris-setosa  1  \n",
       "4                  0.2     Iris-setosa  1  \n",
       "..                 ...             ... ..  \n",
       "145                2.3  Iris-virginica  3  \n",
       "146                1.9  Iris-virginica  3  \n",
       "147                2.0  Iris-virginica  3  \n",
       "148                2.3  Iris-virginica  3  \n",
       "149                1.8  Iris-virginica  3  \n",
       "\n",
       "[150 rows x 6 columns]"
      ]
     },
     "execution_count": 72,
     "metadata": {},
     "output_type": "execute_result"
    }
   ],
   "source": [
    "from sklearn.preprocessing import LabelEncoder\n",
    "\n",
    "X = df[['sepal length in cm','sepal width in cm','petal length in cm','petal width in cm']].values\n",
    "y = df['class label'].values\n",
    "\n",
    "enc = LabelEncoder()\n",
    "label_encoder = enc.fit(y)\n",
    "y = label_encoder.transform(y) + 1\n",
    "\n",
    "label_dict = {1: 'Iris-setosa', 2: 'Iris-versicolor', 3:'Iris-virginica'}\n",
    "df['y']=y\n",
    "df\n"
   ]
  },
  {
   "cell_type": "code",
   "execution_count": 80,
   "metadata": {
    "ExecuteTime": {
     "end_time": "2020-10-22T03:30:19.739740Z",
     "start_time": "2020-10-22T03:30:19.718799Z"
    }
   },
   "outputs": [
    {
     "name": "stdout",
     "output_type": "stream",
     "text": [
      "Mean Vector class 1: [5.006 3.418 1.464 0.244]\n",
      "\n",
      "Mean Vector class 2: [5.936 2.77  4.26  1.326]\n",
      "\n",
      "Mean Vector class 3: [6.588 2.974 5.552 2.026]\n",
      "\n"
     ]
    }
   ],
   "source": [
    "np.set_printoptions(precision=4)\n",
    "\n",
    "mean_vectors = []\n",
    "for cl in range(1,4):\n",
    "    mean_vectors.append(np.mean(X[y==cl], axis=0))\n",
    "    print('Mean Vector class %s: %s\\n' %(cl, mean_vectors[cl-1]))"
   ]
  },
  {
   "cell_type": "code",
   "execution_count": 96,
   "metadata": {
    "ExecuteTime": {
     "end_time": "2020-10-22T03:43:22.280080Z",
     "start_time": "2020-10-22T03:43:22.265119Z"
    }
   },
   "outputs": [
    {
     "data": {
      "text/plain": [
       "[array([5.006, 3.418, 1.464, 0.244]),\n",
       " array([5.936, 2.77 , 4.26 , 1.326]),\n",
       " array([6.588, 2.974, 5.552, 2.026])]"
      ]
     },
     "execution_count": 96,
     "metadata": {},
     "output_type": "execute_result"
    }
   ],
   "source": [
    "mean_vectors"
   ]
  },
  {
   "cell_type": "code",
   "execution_count": 98,
   "metadata": {
    "ExecuteTime": {
     "end_time": "2020-10-22T03:43:40.489473Z",
     "start_time": "2020-10-22T03:43:40.480462Z"
    }
   },
   "outputs": [
    {
     "data": {
      "text/plain": [
       "array([[0., 0., 0., 0.],\n",
       "       [0., 0., 0., 0.],\n",
       "       [0., 0., 0., 0.],\n",
       "       [0., 0., 0., 0.]])"
      ]
     },
     "execution_count": 98,
     "metadata": {},
     "output_type": "execute_result"
    }
   ],
   "source": [
    "class_sc_mat = np.zeros((4,4)) \n",
    "class_sc_mat"
   ]
  },
  {
   "cell_type": "code",
   "execution_count": 106,
   "metadata": {
    "ExecuteTime": {
     "end_time": "2020-10-22T03:45:50.934912Z",
     "start_time": "2020-10-22T03:45:50.897012Z"
    }
   },
   "outputs": [
    {
     "name": "stdout",
     "output_type": "stream",
     "text": [
      "[[5.1]\n",
      " [3.5]\n",
      " [1.4]\n",
      " [0.2]]\n",
      "[[4.9]\n",
      " [3. ]\n",
      " [1.4]\n",
      " [0.2]]\n",
      "[[4.7]\n",
      " [3.2]\n",
      " [1.3]\n",
      " [0.2]]\n",
      "[[4.6]\n",
      " [3.1]\n",
      " [1.5]\n",
      " [0.2]]\n",
      "[[5. ]\n",
      " [3.6]\n",
      " [1.4]\n",
      " [0.2]]\n",
      "[[5.4]\n",
      " [3.9]\n",
      " [1.7]\n",
      " [0.4]]\n",
      "[[4.6]\n",
      " [3.4]\n",
      " [1.4]\n",
      " [0.3]]\n",
      "[[5. ]\n",
      " [3.4]\n",
      " [1.5]\n",
      " [0.2]]\n",
      "[[4.4]\n",
      " [2.9]\n",
      " [1.4]\n",
      " [0.2]]\n",
      "[[4.9]\n",
      " [3.1]\n",
      " [1.5]\n",
      " [0.1]]\n",
      "[[5.4]\n",
      " [3.7]\n",
      " [1.5]\n",
      " [0.2]]\n",
      "[[4.8]\n",
      " [3.4]\n",
      " [1.6]\n",
      " [0.2]]\n",
      "[[4.8]\n",
      " [3. ]\n",
      " [1.4]\n",
      " [0.1]]\n",
      "[[4.3]\n",
      " [3. ]\n",
      " [1.1]\n",
      " [0.1]]\n",
      "[[5.8]\n",
      " [4. ]\n",
      " [1.2]\n",
      " [0.2]]\n",
      "[[5.7]\n",
      " [4.4]\n",
      " [1.5]\n",
      " [0.4]]\n",
      "[[5.4]\n",
      " [3.9]\n",
      " [1.3]\n",
      " [0.4]]\n",
      "[[5.1]\n",
      " [3.5]\n",
      " [1.4]\n",
      " [0.3]]\n",
      "[[5.7]\n",
      " [3.8]\n",
      " [1.7]\n",
      " [0.3]]\n",
      "[[5.1]\n",
      " [3.8]\n",
      " [1.5]\n",
      " [0.3]]\n",
      "[[5.4]\n",
      " [3.4]\n",
      " [1.7]\n",
      " [0.2]]\n",
      "[[5.1]\n",
      " [3.7]\n",
      " [1.5]\n",
      " [0.4]]\n",
      "[[4.6]\n",
      " [3.6]\n",
      " [1. ]\n",
      " [0.2]]\n",
      "[[5.1]\n",
      " [3.3]\n",
      " [1.7]\n",
      " [0.5]]\n",
      "[[4.8]\n",
      " [3.4]\n",
      " [1.9]\n",
      " [0.2]]\n",
      "[[5. ]\n",
      " [3. ]\n",
      " [1.6]\n",
      " [0.2]]\n",
      "[[5. ]\n",
      " [3.4]\n",
      " [1.6]\n",
      " [0.4]]\n",
      "[[5.2]\n",
      " [3.5]\n",
      " [1.5]\n",
      " [0.2]]\n",
      "[[5.2]\n",
      " [3.4]\n",
      " [1.4]\n",
      " [0.2]]\n",
      "[[4.7]\n",
      " [3.2]\n",
      " [1.6]\n",
      " [0.2]]\n",
      "[[4.8]\n",
      " [3.1]\n",
      " [1.6]\n",
      " [0.2]]\n",
      "[[5.4]\n",
      " [3.4]\n",
      " [1.5]\n",
      " [0.4]]\n",
      "[[5.2]\n",
      " [4.1]\n",
      " [1.5]\n",
      " [0.1]]\n",
      "[[5.5]\n",
      " [4.2]\n",
      " [1.4]\n",
      " [0.2]]\n",
      "[[4.9]\n",
      " [3.1]\n",
      " [1.5]\n",
      " [0.1]]\n",
      "[[5. ]\n",
      " [3.2]\n",
      " [1.2]\n",
      " [0.2]]\n",
      "[[5.5]\n",
      " [3.5]\n",
      " [1.3]\n",
      " [0.2]]\n",
      "[[4.9]\n",
      " [3.1]\n",
      " [1.5]\n",
      " [0.1]]\n",
      "[[4.4]\n",
      " [3. ]\n",
      " [1.3]\n",
      " [0.2]]\n",
      "[[5.1]\n",
      " [3.4]\n",
      " [1.5]\n",
      " [0.2]]\n",
      "[[5. ]\n",
      " [3.5]\n",
      " [1.3]\n",
      " [0.3]]\n",
      "[[4.5]\n",
      " [2.3]\n",
      " [1.3]\n",
      " [0.3]]\n",
      "[[4.4]\n",
      " [3.2]\n",
      " [1.3]\n",
      " [0.2]]\n",
      "[[5. ]\n",
      " [3.5]\n",
      " [1.6]\n",
      " [0.6]]\n",
      "[[5.1]\n",
      " [3.8]\n",
      " [1.9]\n",
      " [0.4]]\n",
      "[[4.8]\n",
      " [3. ]\n",
      " [1.4]\n",
      " [0.3]]\n",
      "[[5.1]\n",
      " [3.8]\n",
      " [1.6]\n",
      " [0.2]]\n",
      "[[4.6]\n",
      " [3.2]\n",
      " [1.4]\n",
      " [0.2]]\n",
      "[[5.3]\n",
      " [3.7]\n",
      " [1.5]\n",
      " [0.2]]\n",
      "[[5. ]\n",
      " [3.3]\n",
      " [1.4]\n",
      " [0.2]]\n"
     ]
    }
   ],
   "source": [
    "X[y == 1]\n",
    "for row in X[y == 1]:\n",
    "    print(row.reshape(4,1))"
   ]
  },
  {
   "cell_type": "code",
   "execution_count": 107,
   "metadata": {
    "ExecuteTime": {
     "end_time": "2020-10-22T03:46:02.187147Z",
     "start_time": "2020-10-22T03:46:02.174147Z"
    }
   },
   "outputs": [
    {
     "data": {
      "text/plain": [
       "array([[6.588],\n",
       "       [2.974],\n",
       "       [5.552],\n",
       "       [2.026]])"
      ]
     },
     "execution_count": 107,
     "metadata": {},
     "output_type": "execute_result"
    }
   ],
   "source": [
    "mv.reshape(4,1)"
   ]
  },
  {
   "cell_type": "code",
   "execution_count": null,
   "metadata": {},
   "outputs": [],
   "source": [
    "class_sc_mat = class_sc_mat"
   ]
  },
  {
   "cell_type": "code",
   "execution_count": 109,
   "metadata": {
    "ExecuteTime": {
     "end_time": "2020-10-22T03:47:11.252334Z",
     "start_time": "2020-10-22T03:47:11.236376Z"
    }
   },
   "outputs": [
    {
     "data": {
      "text/plain": [
       "array([[-1.588, -3.288, -5.188, -6.388],\n",
       "       [ 2.026,  0.326, -1.574, -2.774],\n",
       "       [-0.552, -2.252, -4.152, -5.352],\n",
       "       [ 2.974,  1.274, -0.626, -1.826]])"
      ]
     },
     "execution_count": 109,
     "metadata": {},
     "output_type": "execute_result"
    }
   ],
   "source": [
    "row-mv"
   ]
  },
  {
   "cell_type": "code",
   "execution_count": 111,
   "metadata": {
    "ExecuteTime": {
     "end_time": "2020-10-22T03:48:53.418581Z",
     "start_time": "2020-10-22T03:48:53.400597Z"
    }
   },
   "outputs": [
    {
     "name": "stdout",
     "output_type": "stream",
     "text": [
      "[[6.0882 4.9146 0.7908 0.5168]\n",
      " [4.9146 7.1138 0.5724 0.5604]\n",
      " [0.7908 0.5724 1.4752 0.2792]\n",
      " [0.5168 0.5604 0.2792 0.5632]]\n",
      "[[13.0552  4.174   8.962   2.7332]\n",
      " [ 4.174   4.825   4.05    2.019 ]\n",
      " [ 8.962   4.05   10.82    3.582 ]\n",
      " [ 2.7332  2.019   3.582   1.9162]]\n",
      "[[19.8128  4.5944 14.8612  2.4056]\n",
      " [ 4.5944  5.0962  3.4976  2.3338]\n",
      " [14.8612  3.4976 14.9248  2.3924]\n",
      " [ 2.4056  2.3338  2.3924  3.6962]]\n",
      "within-class Scatter Matrix:\n",
      " [[38.9562 13.683  24.614   5.6556]\n",
      " [13.683  17.035   8.12    4.9132]\n",
      " [24.614   8.12   27.22    6.2536]\n",
      " [ 5.6556  4.9132  6.2536  6.1756]]\n"
     ]
    }
   ],
   "source": [
    "S_W = np.zeros((4,4))\n",
    "for cl,mv in zip(range(1,4), mean_vectors): #cl=1,2,3\n",
    "    class_sc_mat = np.zeros((4,4))                  # scatter matrix for every class\n",
    "    for row in X[y == cl]:\n",
    "        row, mv = row.reshape(4,1), mv.reshape(4,1) # make column vectors\n",
    "        class_sc_mat += (row-mv).dot((row-mv).T)\n",
    "    print(class_sc_mat )\n",
    "    S_W += class_sc_mat                             # sum class scatter matrices\n",
    "print('within-class Scatter Matrix:\\n', S_W)"
   ]
  },
  {
   "cell_type": "code",
   "execution_count": 113,
   "metadata": {
    "ExecuteTime": {
     "end_time": "2020-10-22T03:59:05.212352Z",
     "start_time": "2020-10-22T03:59:05.204377Z"
    }
   },
   "outputs": [
    {
     "data": {
      "text/plain": [
       "[array([5.006, 3.418, 1.464, 0.244]),\n",
       " array([5.936, 2.77 , 4.26 , 1.326]),\n",
       " array([6.588, 2.974, 5.552, 2.026])]"
      ]
     },
     "execution_count": 113,
     "metadata": {},
     "output_type": "execute_result"
    }
   ],
   "source": [
    "mean_vectors"
   ]
  },
  {
   "cell_type": "code",
   "execution_count": 115,
   "metadata": {
    "ExecuteTime": {
     "end_time": "2020-10-22T03:59:33.727999Z",
     "start_time": "2020-10-22T03:59:33.710080Z"
    }
   },
   "outputs": [
    {
     "data": {
      "text/plain": [
       "50"
      ]
     },
     "execution_count": 115,
     "metadata": {},
     "output_type": "execute_result"
    }
   ],
   "source": [
    "X[y==1,:].shape[0]"
   ]
  },
  {
   "cell_type": "code",
   "execution_count": 117,
   "metadata": {
    "ExecuteTime": {
     "end_time": "2020-10-22T04:00:23.004435Z",
     "start_time": "2020-10-22T04:00:22.988440Z"
    }
   },
   "outputs": [
    {
     "data": {
      "text/plain": [
       "array([[6.588],\n",
       "       [2.974],\n",
       "       [5.552],\n",
       "       [2.026]])"
      ]
     },
     "execution_count": 117,
     "metadata": {},
     "output_type": "execute_result"
    }
   ],
   "source": [
    " mean_vec.reshape(4,1)"
   ]
  },
  {
   "cell_type": "code",
   "execution_count": 118,
   "metadata": {
    "ExecuteTime": {
     "end_time": "2020-10-22T04:00:40.661220Z",
     "start_time": "2020-10-22T04:00:40.641240Z"
    }
   },
   "outputs": [
    {
     "data": {
      "text/plain": [
       "array([[5.8433],\n",
       "       [3.054 ],\n",
       "       [3.7587],\n",
       "       [1.1987]])"
      ]
     },
     "execution_count": 118,
     "metadata": {},
     "output_type": "execute_result"
    }
   ],
   "source": [
    "overall_mean"
   ]
  },
  {
   "cell_type": "code",
   "execution_count": 120,
   "metadata": {
    "ExecuteTime": {
     "end_time": "2020-10-22T04:02:11.734051Z",
     "start_time": "2020-10-22T04:02:11.725075Z"
    }
   },
   "outputs": [
    {
     "name": "stdout",
     "output_type": "stream",
     "text": [
      "between-class Scatter Matrix:\n",
      " [[ 63.2121 -19.534  165.1647  71.3631]\n",
      " [-19.534   10.9776 -56.0552 -22.4924]\n",
      " [165.1647 -56.0552 436.6437 186.9081]\n",
      " [ 71.3631 -22.4924 186.9081  80.6041]]\n"
     ]
    }
   ],
   "source": [
    "overall_mean = np.mean(X, axis=0)\n",
    "\n",
    "S_B = np.zeros((4,4))\n",
    "for i,mean_vec in enumerate(mean_vectors):  \n",
    "    n = X[y==i+1,:].shape[0] #n=50\n",
    "    mean_vec = mean_vec.reshape(4,1) # make column vector\n",
    "    overall_mean = overall_mean.reshape(4,1) # make column vector\n",
    "    S_B += 50 * (mean_vec - overall_mean).dot((mean_vec - overall_mean).T)\n",
    "\n",
    "print('between-class Scatter Matrix:\\n', S_B)"
   ]
  },
  {
   "cell_type": "code",
   "execution_count": 122,
   "metadata": {
    "ExecuteTime": {
     "end_time": "2020-10-22T04:16:59.161452Z",
     "start_time": "2020-10-22T04:16:59.142500Z"
    }
   },
   "outputs": [
    {
     "data": {
      "text/plain": [
       "array([[ 0.074 , -0.0371, -0.0613,  0.0238],\n",
       "       [-0.0371,  0.0976,  0.0188, -0.0628],\n",
       "       [-0.0613,  0.0188,  0.1005, -0.0606],\n",
       "       [ 0.0238, -0.0628, -0.0606,  0.2514]])"
      ]
     },
     "execution_count": 122,
     "metadata": {},
     "output_type": "execute_result"
    }
   ],
   "source": [
    "np.linalg.inv(S_W)"
   ]
  },
  {
   "cell_type": "code",
   "execution_count": 124,
   "metadata": {
    "ExecuteTime": {
     "end_time": "2020-10-22T04:17:29.247980Z",
     "start_time": "2020-10-22T04:17:29.240999Z"
    }
   },
   "outputs": [
    {
     "data": {
      "text/plain": [
       "array([[ 63.2121, -19.534 , 165.1647,  71.3631],\n",
       "       [-19.534 ,  10.9776, -56.0552, -22.4924],\n",
       "       [165.1647, -56.0552, 436.6437, 186.9081],\n",
       "       [ 71.3631, -22.4924, 186.9081,  80.6041]])"
      ]
     },
     "execution_count": 124,
     "metadata": {},
     "output_type": "execute_result"
    }
   ],
   "source": [
    "S_B"
   ]
  },
  {
   "cell_type": "code",
   "execution_count": 125,
   "metadata": {
    "ExecuteTime": {
     "end_time": "2020-10-22T04:18:10.696545Z",
     "start_time": "2020-10-22T04:18:10.688567Z"
    }
   },
   "outputs": [
    {
     "data": {
      "text/plain": [
       "array([[ -3.0247,   1.0485,  -8.0187,  -3.4249],\n",
       "       [ -5.6209,   2.1525, -15.1084,  -6.3827],\n",
       "       [  8.029 ,  -2.8654,  21.3687,   9.0984],\n",
       "       [ 10.6672,  -3.4133,  27.9905,  12.0531]])"
      ]
     },
     "execution_count": 125,
     "metadata": {},
     "output_type": "execute_result"
    }
   ],
   "source": [
    "np.linalg.inv(S_W).dot(S_B)"
   ]
  },
  {
   "cell_type": "code",
   "execution_count": 83,
   "metadata": {
    "ExecuteTime": {
     "end_time": "2020-10-22T03:30:43.528363Z",
     "start_time": "2020-10-22T03:30:43.400240Z"
    }
   },
   "outputs": [
    {
     "name": "stdout",
     "output_type": "stream",
     "text": [
      "\n",
      "Eigenvector 1: \n",
      "[[ 0.2049]\n",
      " [ 0.3871]\n",
      " [-0.5465]\n",
      " [-0.7138]]\n",
      "Eigenvalue 1: 3.23e+01\n",
      "\n",
      "Eigenvector 2: \n",
      "[[-0.009 ]\n",
      " [-0.589 ]\n",
      " [ 0.2543]\n",
      " [-0.767 ]]\n",
      "Eigenvalue 2: 2.78e-01\n",
      "\n",
      "Eigenvector 3: \n",
      "[[-0.8379]\n",
      " [ 0.1696]\n",
      " [ 0.1229]\n",
      " [ 0.5041]]\n",
      "Eigenvalue 3: -4.13e-15\n",
      "\n",
      "Eigenvector 4: \n",
      "[[ 0.2   ]\n",
      " [-0.3949]\n",
      " [-0.4567]\n",
      " [ 0.7717]]\n",
      "Eigenvalue 4: 1.20e-14\n"
     ]
    }
   ],
   "source": [
    "eig_vals, eig_vecs = np.linalg.eig(np.linalg.inv(S_W).dot(S_B))\n",
    "\n",
    "for i in range(len(eig_vals)):\n",
    "    eigvec_sc = eig_vecs[:,i].reshape(4,1)   \n",
    "    print('\\nEigenvector {}: \\n{}'.format(i+1, eigvec_sc.real))\n",
    "    print('Eigenvalue {:}: {:.2e}'.format(i+1, eig_vals[i].real))"
   ]
  },
  {
   "cell_type": "code",
   "execution_count": 84,
   "metadata": {
    "ExecuteTime": {
     "end_time": "2020-10-22T03:32:14.257882Z",
     "start_time": "2020-10-22T03:32:14.248908Z"
    }
   },
   "outputs": [
    {
     "name": "stdout",
     "output_type": "stream",
     "text": [
      "Eigenvalues in decreasing order:\n",
      "\n",
      "32.27195779972981\n",
      "0.27756686384004264\n",
      "1.1953730364935478e-14\n",
      "4.1311796919088535e-15\n"
     ]
    }
   ],
   "source": [
    "# Make a list of (eigenvalue, eigenvector) tuples\n",
    "eig_pairs = [(np.abs(eig_vals[i]), eig_vecs[:,i]) for i in range(len(eig_vals))]\n",
    "\n",
    "# Sort the (eigenvalue, eigenvector) tuples from high to low\n",
    "eig_pairs = sorted(eig_pairs, key=lambda k: k[0], reverse=True)\n",
    "\n",
    "# Visually confirm that the list is correctly sorted by decreasing eigenvalues\n",
    "\n",
    "print('Eigenvalues in decreasing order:\\n')\n",
    "for i in eig_pairs:\n",
    "    print(i[0])"
   ]
  },
  {
   "cell_type": "code",
   "execution_count": 85,
   "metadata": {
    "ExecuteTime": {
     "end_time": "2020-10-22T03:32:23.663380Z",
     "start_time": "2020-10-22T03:32:23.657395Z"
    }
   },
   "outputs": [
    {
     "name": "stdout",
     "output_type": "stream",
     "text": [
      "Variance explained:\n",
      "\n",
      "eigenvalue 1: 99.15%\n",
      "eigenvalue 2: 0.85%\n",
      "eigenvalue 3: 0.00%\n",
      "eigenvalue 4: 0.00%\n"
     ]
    }
   ],
   "source": [
    "print('Variance explained:\\n')\n",
    "eigv_sum = sum(eig_vals)\n",
    "for i,j in enumerate(eig_pairs):\n",
    "    print('eigenvalue {0:}: {1:.2%}'.format(i+1, (j[0]/eigv_sum).real))"
   ]
  },
  {
   "cell_type": "code",
   "execution_count": 86,
   "metadata": {
    "ExecuteTime": {
     "end_time": "2020-10-22T03:32:31.499073Z",
     "start_time": "2020-10-22T03:32:31.492090Z"
    }
   },
   "outputs": [
    {
     "name": "stdout",
     "output_type": "stream",
     "text": [
      "Matrix W:\n",
      " [[ 0.2049 -0.009 ]\n",
      " [ 0.3871 -0.589 ]\n",
      " [-0.5465  0.2543]\n",
      " [-0.7138 -0.767 ]]\n"
     ]
    }
   ],
   "source": [
    "W = np.hstack((eig_pairs[0][1].reshape(4,1), eig_pairs[1][1].reshape(4,1)))\n",
    "print('Matrix W:\\n', W.real)"
   ]
  },
  {
   "cell_type": "markdown",
   "metadata": {},
   "source": [
    "X x W"
   ]
  },
  {
   "cell_type": "code",
   "execution_count": 91,
   "metadata": {
    "ExecuteTime": {
     "end_time": "2020-10-22T03:35:28.577651Z",
     "start_time": "2020-10-22T03:35:28.569678Z"
    }
   },
   "outputs": [
    {
     "data": {
      "text/plain": [
       "array([[ 0.2049, -0.009 ],\n",
       "       [ 0.3871, -0.589 ],\n",
       "       [-0.5465,  0.2543],\n",
       "       [-0.7138, -0.767 ]])"
      ]
     },
     "execution_count": 91,
     "metadata": {},
     "output_type": "execute_result"
    }
   ],
   "source": [
    "W"
   ]
  },
  {
   "cell_type": "code",
   "execution_count": 90,
   "metadata": {
    "ExecuteTime": {
     "end_time": "2020-10-22T03:35:24.504442Z",
     "start_time": "2020-10-22T03:35:24.486526Z"
    }
   },
   "outputs": [
    {
     "data": {
      "text/plain": [
       "array([[5.1, 3.5, 1.4, 0.2],\n",
       "       [4.9, 3. , 1.4, 0.2],\n",
       "       [4.7, 3.2, 1.3, 0.2],\n",
       "       [4.6, 3.1, 1.5, 0.2],\n",
       "       [5. , 3.6, 1.4, 0.2],\n",
       "       [5.4, 3.9, 1.7, 0.4],\n",
       "       [4.6, 3.4, 1.4, 0.3],\n",
       "       [5. , 3.4, 1.5, 0.2],\n",
       "       [4.4, 2.9, 1.4, 0.2],\n",
       "       [4.9, 3.1, 1.5, 0.1],\n",
       "       [5.4, 3.7, 1.5, 0.2],\n",
       "       [4.8, 3.4, 1.6, 0.2],\n",
       "       [4.8, 3. , 1.4, 0.1],\n",
       "       [4.3, 3. , 1.1, 0.1],\n",
       "       [5.8, 4. , 1.2, 0.2],\n",
       "       [5.7, 4.4, 1.5, 0.4],\n",
       "       [5.4, 3.9, 1.3, 0.4],\n",
       "       [5.1, 3.5, 1.4, 0.3],\n",
       "       [5.7, 3.8, 1.7, 0.3],\n",
       "       [5.1, 3.8, 1.5, 0.3],\n",
       "       [5.4, 3.4, 1.7, 0.2],\n",
       "       [5.1, 3.7, 1.5, 0.4],\n",
       "       [4.6, 3.6, 1. , 0.2],\n",
       "       [5.1, 3.3, 1.7, 0.5],\n",
       "       [4.8, 3.4, 1.9, 0.2],\n",
       "       [5. , 3. , 1.6, 0.2],\n",
       "       [5. , 3.4, 1.6, 0.4],\n",
       "       [5.2, 3.5, 1.5, 0.2],\n",
       "       [5.2, 3.4, 1.4, 0.2],\n",
       "       [4.7, 3.2, 1.6, 0.2],\n",
       "       [4.8, 3.1, 1.6, 0.2],\n",
       "       [5.4, 3.4, 1.5, 0.4],\n",
       "       [5.2, 4.1, 1.5, 0.1],\n",
       "       [5.5, 4.2, 1.4, 0.2],\n",
       "       [4.9, 3.1, 1.5, 0.1],\n",
       "       [5. , 3.2, 1.2, 0.2],\n",
       "       [5.5, 3.5, 1.3, 0.2],\n",
       "       [4.9, 3.1, 1.5, 0.1],\n",
       "       [4.4, 3. , 1.3, 0.2],\n",
       "       [5.1, 3.4, 1.5, 0.2],\n",
       "       [5. , 3.5, 1.3, 0.3],\n",
       "       [4.5, 2.3, 1.3, 0.3],\n",
       "       [4.4, 3.2, 1.3, 0.2],\n",
       "       [5. , 3.5, 1.6, 0.6],\n",
       "       [5.1, 3.8, 1.9, 0.4],\n",
       "       [4.8, 3. , 1.4, 0.3],\n",
       "       [5.1, 3.8, 1.6, 0.2],\n",
       "       [4.6, 3.2, 1.4, 0.2],\n",
       "       [5.3, 3.7, 1.5, 0.2],\n",
       "       [5. , 3.3, 1.4, 0.2],\n",
       "       [7. , 3.2, 4.7, 1.4],\n",
       "       [6.4, 3.2, 4.5, 1.5],\n",
       "       [6.9, 3.1, 4.9, 1.5],\n",
       "       [5.5, 2.3, 4. , 1.3],\n",
       "       [6.5, 2.8, 4.6, 1.5],\n",
       "       [5.7, 2.8, 4.5, 1.3],\n",
       "       [6.3, 3.3, 4.7, 1.6],\n",
       "       [4.9, 2.4, 3.3, 1. ],\n",
       "       [6.6, 2.9, 4.6, 1.3],\n",
       "       [5.2, 2.7, 3.9, 1.4],\n",
       "       [5. , 2. , 3.5, 1. ],\n",
       "       [5.9, 3. , 4.2, 1.5],\n",
       "       [6. , 2.2, 4. , 1. ],\n",
       "       [6.1, 2.9, 4.7, 1.4],\n",
       "       [5.6, 2.9, 3.6, 1.3],\n",
       "       [6.7, 3.1, 4.4, 1.4],\n",
       "       [5.6, 3. , 4.5, 1.5],\n",
       "       [5.8, 2.7, 4.1, 1. ],\n",
       "       [6.2, 2.2, 4.5, 1.5],\n",
       "       [5.6, 2.5, 3.9, 1.1],\n",
       "       [5.9, 3.2, 4.8, 1.8],\n",
       "       [6.1, 2.8, 4. , 1.3],\n",
       "       [6.3, 2.5, 4.9, 1.5],\n",
       "       [6.1, 2.8, 4.7, 1.2],\n",
       "       [6.4, 2.9, 4.3, 1.3],\n",
       "       [6.6, 3. , 4.4, 1.4],\n",
       "       [6.8, 2.8, 4.8, 1.4],\n",
       "       [6.7, 3. , 5. , 1.7],\n",
       "       [6. , 2.9, 4.5, 1.5],\n",
       "       [5.7, 2.6, 3.5, 1. ],\n",
       "       [5.5, 2.4, 3.8, 1.1],\n",
       "       [5.5, 2.4, 3.7, 1. ],\n",
       "       [5.8, 2.7, 3.9, 1.2],\n",
       "       [6. , 2.7, 5.1, 1.6],\n",
       "       [5.4, 3. , 4.5, 1.5],\n",
       "       [6. , 3.4, 4.5, 1.6],\n",
       "       [6.7, 3.1, 4.7, 1.5],\n",
       "       [6.3, 2.3, 4.4, 1.3],\n",
       "       [5.6, 3. , 4.1, 1.3],\n",
       "       [5.5, 2.5, 4. , 1.3],\n",
       "       [5.5, 2.6, 4.4, 1.2],\n",
       "       [6.1, 3. , 4.6, 1.4],\n",
       "       [5.8, 2.6, 4. , 1.2],\n",
       "       [5. , 2.3, 3.3, 1. ],\n",
       "       [5.6, 2.7, 4.2, 1.3],\n",
       "       [5.7, 3. , 4.2, 1.2],\n",
       "       [5.7, 2.9, 4.2, 1.3],\n",
       "       [6.2, 2.9, 4.3, 1.3],\n",
       "       [5.1, 2.5, 3. , 1.1],\n",
       "       [5.7, 2.8, 4.1, 1.3],\n",
       "       [6.3, 3.3, 6. , 2.5],\n",
       "       [5.8, 2.7, 5.1, 1.9],\n",
       "       [7.1, 3. , 5.9, 2.1],\n",
       "       [6.3, 2.9, 5.6, 1.8],\n",
       "       [6.5, 3. , 5.8, 2.2],\n",
       "       [7.6, 3. , 6.6, 2.1],\n",
       "       [4.9, 2.5, 4.5, 1.7],\n",
       "       [7.3, 2.9, 6.3, 1.8],\n",
       "       [6.7, 2.5, 5.8, 1.8],\n",
       "       [7.2, 3.6, 6.1, 2.5],\n",
       "       [6.5, 3.2, 5.1, 2. ],\n",
       "       [6.4, 2.7, 5.3, 1.9],\n",
       "       [6.8, 3. , 5.5, 2.1],\n",
       "       [5.7, 2.5, 5. , 2. ],\n",
       "       [5.8, 2.8, 5.1, 2.4],\n",
       "       [6.4, 3.2, 5.3, 2.3],\n",
       "       [6.5, 3. , 5.5, 1.8],\n",
       "       [7.7, 3.8, 6.7, 2.2],\n",
       "       [7.7, 2.6, 6.9, 2.3],\n",
       "       [6. , 2.2, 5. , 1.5],\n",
       "       [6.9, 3.2, 5.7, 2.3],\n",
       "       [5.6, 2.8, 4.9, 2. ],\n",
       "       [7.7, 2.8, 6.7, 2. ],\n",
       "       [6.3, 2.7, 4.9, 1.8],\n",
       "       [6.7, 3.3, 5.7, 2.1],\n",
       "       [7.2, 3.2, 6. , 1.8],\n",
       "       [6.2, 2.8, 4.8, 1.8],\n",
       "       [6.1, 3. , 4.9, 1.8],\n",
       "       [6.4, 2.8, 5.6, 2.1],\n",
       "       [7.2, 3. , 5.8, 1.6],\n",
       "       [7.4, 2.8, 6.1, 1.9],\n",
       "       [7.9, 3.8, 6.4, 2. ],\n",
       "       [6.4, 2.8, 5.6, 2.2],\n",
       "       [6.3, 2.8, 5.1, 1.5],\n",
       "       [6.1, 2.6, 5.6, 1.4],\n",
       "       [7.7, 3. , 6.1, 2.3],\n",
       "       [6.3, 3.4, 5.6, 2.4],\n",
       "       [6.4, 3.1, 5.5, 1.8],\n",
       "       [6. , 3. , 4.8, 1.8],\n",
       "       [6.9, 3.1, 5.4, 2.1],\n",
       "       [6.7, 3.1, 5.6, 2.4],\n",
       "       [6.9, 3.1, 5.1, 2.3],\n",
       "       [5.8, 2.7, 5.1, 1.9],\n",
       "       [6.8, 3.2, 5.9, 2.3],\n",
       "       [6.7, 3.3, 5.7, 2.5],\n",
       "       [6.7, 3. , 5.2, 2.3],\n",
       "       [6.3, 2.5, 5. , 1.9],\n",
       "       [6.5, 3. , 5.2, 2. ],\n",
       "       [6.2, 3.4, 5.4, 2.3],\n",
       "       [5.9, 3. , 5.1, 1.8]])"
      ]
     },
     "execution_count": 90,
     "metadata": {},
     "output_type": "execute_result"
    }
   ],
   "source": [
    "X"
   ]
  },
  {
   "cell_type": "code",
   "execution_count": 95,
   "metadata": {
    "ExecuteTime": {
     "end_time": "2020-10-22T03:41:45.241408Z",
     "start_time": "2020-10-22T03:41:45.222425Z"
    }
   },
   "outputs": [
    {
     "data": {
      "text/plain": [
       "array([[ 1.4922, -1.9047],\n",
       "       [ 1.2577, -1.6084],\n",
       "       [ 1.3488, -1.7498],\n",
       "       [ 1.1802, -1.6392],\n",
       "       [ 1.5104, -1.9627],\n",
       "       [ 1.4018, -2.2201],\n",
       "       [ 1.2797, -1.918 ],\n",
       "       [ 1.3784, -1.8195],\n",
       "       [ 1.1165, -1.545 ],\n",
       "       [ 1.3131, -1.5652],\n",
       "       [ 1.5765, -1.9998],\n",
       "       [ 1.2827, -1.7923],\n",
       "       [ 1.3085, -1.5308],\n",
       "       [ 1.37  , -1.6026],\n",
       "       [ 1.9385, -2.2564],\n",
       "       [ 1.7662, -2.5682],\n",
       "       [ 1.6204, -2.3218],\n",
       "       [ 1.4208, -1.9814],\n",
       "       [ 1.496 , -2.0872],\n",
       "       [ 1.4823, -2.1327],\n",
       "       [ 1.351 , -1.7722],\n",
       "       [ 1.3722, -2.1505],\n",
       "       [ 1.6471, -2.0608],\n",
       "       [ 1.0367, -1.9407],\n",
       "       [ 1.1188, -1.716 ],\n",
       "       [ 1.1689, -1.5585],\n",
       "       [ 1.181 , -1.9475],\n",
       "       [ 1.4581, -1.8802],\n",
       "       [ 1.474 , -1.8467],\n",
       "       [ 1.1848, -1.6736],\n",
       "       [ 1.1666, -1.6156],\n",
       "       [ 1.3176, -1.9765],\n",
       "       [ 1.7617, -2.1569],\n",
       "       [ 1.8452, -2.3206],\n",
       "       [ 1.3131, -1.5652],\n",
       "       [ 1.4649, -1.778 ],\n",
       "       [ 1.6288, -1.9337],\n",
       "       [ 1.3131, -1.5652],\n",
       "       [ 1.2098, -1.6294],\n",
       "       [ 1.3988, -1.8204],\n",
       "       [ 1.455 , -2.0059],\n",
       "       [ 0.888 , -1.2947],\n",
       "       [ 1.2873, -1.7472],\n",
       "       [ 1.0769, -2.1598],\n",
       "       [ 1.1924, -2.1077],\n",
       "       [ 1.1658, -1.6842],\n",
       "       [ 1.4991, -2.0306],\n",
       "       [ 1.2736, -1.7235],\n",
       "       [ 1.556 , -1.9989],\n",
       "       [ 1.3943, -1.786 ],\n",
       "       [-0.8945, -1.8264],\n",
       "       [-0.9796, -1.9485],\n",
       "       [-1.1344, -1.7924],\n",
       "       [-1.0964, -1.3841],\n",
       "       [-1.1686, -1.6884],\n",
       "       [-1.1351, -1.5532],\n",
       "       [-1.142 , -2.0324],\n",
       "       [-0.584 , -1.3855],\n",
       "       [-0.9666, -1.5948],\n",
       "       [-1.0198, -1.7191],\n",
       "       [-0.8276, -1.0999],\n",
       "       [-0.9955, -1.9025],\n",
       "       [-0.8185, -1.0996],\n",
       "       [-1.1951, -1.6416],\n",
       "       [-0.625 , -1.8401],\n",
       "       [-0.8308, -1.8411],\n",
       "       [-1.2209, -1.8236],\n",
       "       [-0.7206, -1.3669],\n",
       "       [-1.4077, -1.3577],\n",
       "       [-0.8011, -1.3748],\n",
       "       [-1.4601, -2.0979],\n",
       "       [-0.7799, -1.684 ],\n",
       "       [-1.4897, -1.4336],\n",
       "       [-1.0911, -1.4293],\n",
       "       [-0.8437, -1.6693],\n",
       "       [-0.89  , -1.7813],\n",
       "       [-1.145 , -1.5635],\n",
       "       [-1.4115, -1.8597],\n",
       "       [-1.1777, -1.7682],\n",
       "       [-0.4519, -1.4596],\n",
       "       [-0.8056, -1.3404],\n",
       "       [-0.6796, -1.2892],\n",
       "       [-0.7541, -1.5711],\n",
       "       [-1.6544, -1.5746],\n",
       "       [-1.2619, -1.8218],\n",
       "       [-1.0555, -2.1395],\n",
       "       [-1.0661, -1.8415],\n",
       "       [-1.1511, -1.2896],\n",
       "       [-0.8596, -1.7719],\n",
       "       [-1.019 , -1.5019],\n",
       "       [-1.1275, -1.3824],\n",
       "       [-1.1017, -1.7259],\n",
       "       [-0.8474, -1.4868],\n",
       "       [-0.6022, -1.3275],\n",
       "       [-1.0304, -1.5697],\n",
       "       [-0.8224, -1.6706],\n",
       "       [-0.9324, -1.6884],\n",
       "       [-0.8846, -1.6675],\n",
       "       [-0.4117, -1.5992],\n",
       "       [-0.9165, -1.655 ],\n",
       "       [-2.4949, -2.3921],\n",
       "       [-1.9095, -1.8029],\n",
       "       [-2.1069, -1.9412],\n",
       "       [-1.9315, -1.7213],\n",
       "       [-2.2466, -2.038 ],\n",
       "       [-2.387 , -1.7677],\n",
       "       [-1.7007, -1.6762],\n",
       "       [-2.1091, -1.5523],\n",
       "       [-2.1137, -1.4385],\n",
       "       [-2.2489, -2.5515],\n",
       "       [-1.6439, -2.1804],\n",
       "       [-1.8958, -1.7574],\n",
       "       [-1.9498, -2.0403],\n",
       "       [-2.0241, -1.7863],\n",
       "       [-2.2277, -2.2453],\n",
       "       [-1.9878, -2.3587],\n",
       "       [-1.7971, -1.8075],\n",
       "       [-2.1828, -2.2911],\n",
       "       [-2.8281, -1.6102],\n",
       "       [-1.7219, -1.2288],\n",
       "       [-2.1039, -2.2615],\n",
       "       [-1.8738, -1.9876],\n",
       "       [-2.4272, -1.5487],\n",
       "       [-1.6264, -1.7815],\n",
       "       [-1.9634, -2.1652],\n",
       "       [-1.8495, -1.8044],\n",
       "       [-1.5535, -1.865 ],\n",
       "       [-1.5512, -1.9564],\n",
       "       [-2.1638, -1.8934],\n",
       "       [-1.6749, -1.5841],\n",
       "       [-2.0894, -1.6219],\n",
       "       [-1.8351, -2.2158],\n",
       "       [-2.2352, -1.9701],\n",
       "       [-1.4828, -1.5595],\n",
       "       [-1.8031, -1.236 ],\n",
       "       [-2.236 , -2.0492],\n",
       "       [-2.1662, -2.4761],\n",
       "       [-1.7789, -1.8655],\n",
       "       [-1.517 , -1.981 ],\n",
       "       [-1.8359, -2.1255],\n",
       "       [-2.2003, -2.3029],\n",
       "       [-1.8147, -2.3552],\n",
       "       [-1.9095, -1.8029],\n",
       "       [-2.2337, -2.2098],\n",
       "       [-2.2489, -2.472 ],\n",
       "       [-1.9491, -2.2691],\n",
       "       [-1.8298, -1.715 ],\n",
       "       [-1.7759, -2.0372],\n",
       "       [-2.006 , -2.4493],\n",
       "       [-1.7015, -1.9038]])"
      ]
     },
     "execution_count": 95,
     "metadata": {},
     "output_type": "execute_result"
    }
   ],
   "source": [
    "X_lda = np.dot(X,W)\n",
    "X_lda"
   ]
  },
  {
   "cell_type": "code",
   "execution_count": 92,
   "metadata": {
    "ExecuteTime": {
     "end_time": "2020-10-22T03:37:09.205794Z",
     "start_time": "2020-10-22T03:37:09.200809Z"
    }
   },
   "outputs": [],
   "source": [
    "X_lda = X.dot(W)\n",
    "#assert X_lda.shape == (150,2), \"The matrix is not 150x2 dimensional.\""
   ]
  },
  {
   "cell_type": "code",
   "execution_count": 93,
   "metadata": {
    "ExecuteTime": {
     "end_time": "2020-10-22T03:37:09.769581Z",
     "start_time": "2020-10-22T03:37:09.747640Z"
    }
   },
   "outputs": [
    {
     "data": {
      "text/plain": [
       "array([[ 1.4922, -1.9047],\n",
       "       [ 1.2577, -1.6084],\n",
       "       [ 1.3488, -1.7498],\n",
       "       [ 1.1802, -1.6392],\n",
       "       [ 1.5104, -1.9627],\n",
       "       [ 1.4018, -2.2201],\n",
       "       [ 1.2797, -1.918 ],\n",
       "       [ 1.3784, -1.8195],\n",
       "       [ 1.1165, -1.545 ],\n",
       "       [ 1.3131, -1.5652],\n",
       "       [ 1.5765, -1.9998],\n",
       "       [ 1.2827, -1.7923],\n",
       "       [ 1.3085, -1.5308],\n",
       "       [ 1.37  , -1.6026],\n",
       "       [ 1.9385, -2.2564],\n",
       "       [ 1.7662, -2.5682],\n",
       "       [ 1.6204, -2.3218],\n",
       "       [ 1.4208, -1.9814],\n",
       "       [ 1.496 , -2.0872],\n",
       "       [ 1.4823, -2.1327],\n",
       "       [ 1.351 , -1.7722],\n",
       "       [ 1.3722, -2.1505],\n",
       "       [ 1.6471, -2.0608],\n",
       "       [ 1.0367, -1.9407],\n",
       "       [ 1.1188, -1.716 ],\n",
       "       [ 1.1689, -1.5585],\n",
       "       [ 1.181 , -1.9475],\n",
       "       [ 1.4581, -1.8802],\n",
       "       [ 1.474 , -1.8467],\n",
       "       [ 1.1848, -1.6736],\n",
       "       [ 1.1666, -1.6156],\n",
       "       [ 1.3176, -1.9765],\n",
       "       [ 1.7617, -2.1569],\n",
       "       [ 1.8452, -2.3206],\n",
       "       [ 1.3131, -1.5652],\n",
       "       [ 1.4649, -1.778 ],\n",
       "       [ 1.6288, -1.9337],\n",
       "       [ 1.3131, -1.5652],\n",
       "       [ 1.2098, -1.6294],\n",
       "       [ 1.3988, -1.8204],\n",
       "       [ 1.455 , -2.0059],\n",
       "       [ 0.888 , -1.2947],\n",
       "       [ 1.2873, -1.7472],\n",
       "       [ 1.0769, -2.1598],\n",
       "       [ 1.1924, -2.1077],\n",
       "       [ 1.1658, -1.6842],\n",
       "       [ 1.4991, -2.0306],\n",
       "       [ 1.2736, -1.7235],\n",
       "       [ 1.556 , -1.9989],\n",
       "       [ 1.3943, -1.786 ],\n",
       "       [-0.8945, -1.8264],\n",
       "       [-0.9796, -1.9485],\n",
       "       [-1.1344, -1.7924],\n",
       "       [-1.0964, -1.3841],\n",
       "       [-1.1686, -1.6884],\n",
       "       [-1.1351, -1.5532],\n",
       "       [-1.142 , -2.0324],\n",
       "       [-0.584 , -1.3855],\n",
       "       [-0.9666, -1.5948],\n",
       "       [-1.0198, -1.7191],\n",
       "       [-0.8276, -1.0999],\n",
       "       [-0.9955, -1.9025],\n",
       "       [-0.8185, -1.0996],\n",
       "       [-1.1951, -1.6416],\n",
       "       [-0.625 , -1.8401],\n",
       "       [-0.8308, -1.8411],\n",
       "       [-1.2209, -1.8236],\n",
       "       [-0.7206, -1.3669],\n",
       "       [-1.4077, -1.3577],\n",
       "       [-0.8011, -1.3748],\n",
       "       [-1.4601, -2.0979],\n",
       "       [-0.7799, -1.684 ],\n",
       "       [-1.4897, -1.4336],\n",
       "       [-1.0911, -1.4293],\n",
       "       [-0.8437, -1.6693],\n",
       "       [-0.89  , -1.7813],\n",
       "       [-1.145 , -1.5635],\n",
       "       [-1.4115, -1.8597],\n",
       "       [-1.1777, -1.7682],\n",
       "       [-0.4519, -1.4596],\n",
       "       [-0.8056, -1.3404],\n",
       "       [-0.6796, -1.2892],\n",
       "       [-0.7541, -1.5711],\n",
       "       [-1.6544, -1.5746],\n",
       "       [-1.2619, -1.8218],\n",
       "       [-1.0555, -2.1395],\n",
       "       [-1.0661, -1.8415],\n",
       "       [-1.1511, -1.2896],\n",
       "       [-0.8596, -1.7719],\n",
       "       [-1.019 , -1.5019],\n",
       "       [-1.1275, -1.3824],\n",
       "       [-1.1017, -1.7259],\n",
       "       [-0.8474, -1.4868],\n",
       "       [-0.6022, -1.3275],\n",
       "       [-1.0304, -1.5697],\n",
       "       [-0.8224, -1.6706],\n",
       "       [-0.9324, -1.6884],\n",
       "       [-0.8846, -1.6675],\n",
       "       [-0.4117, -1.5992],\n",
       "       [-0.9165, -1.655 ],\n",
       "       [-2.4949, -2.3921],\n",
       "       [-1.9095, -1.8029],\n",
       "       [-2.1069, -1.9412],\n",
       "       [-1.9315, -1.7213],\n",
       "       [-2.2466, -2.038 ],\n",
       "       [-2.387 , -1.7677],\n",
       "       [-1.7007, -1.6762],\n",
       "       [-2.1091, -1.5523],\n",
       "       [-2.1137, -1.4385],\n",
       "       [-2.2489, -2.5515],\n",
       "       [-1.6439, -2.1804],\n",
       "       [-1.8958, -1.7574],\n",
       "       [-1.9498, -2.0403],\n",
       "       [-2.0241, -1.7863],\n",
       "       [-2.2277, -2.2453],\n",
       "       [-1.9878, -2.3587],\n",
       "       [-1.7971, -1.8075],\n",
       "       [-2.1828, -2.2911],\n",
       "       [-2.8281, -1.6102],\n",
       "       [-1.7219, -1.2288],\n",
       "       [-2.1039, -2.2615],\n",
       "       [-1.8738, -1.9876],\n",
       "       [-2.4272, -1.5487],\n",
       "       [-1.6264, -1.7815],\n",
       "       [-1.9634, -2.1652],\n",
       "       [-1.8495, -1.8044],\n",
       "       [-1.5535, -1.865 ],\n",
       "       [-1.5512, -1.9564],\n",
       "       [-2.1638, -1.8934],\n",
       "       [-1.6749, -1.5841],\n",
       "       [-2.0894, -1.6219],\n",
       "       [-1.8351, -2.2158],\n",
       "       [-2.2352, -1.9701],\n",
       "       [-1.4828, -1.5595],\n",
       "       [-1.8031, -1.236 ],\n",
       "       [-2.236 , -2.0492],\n",
       "       [-2.1662, -2.4761],\n",
       "       [-1.7789, -1.8655],\n",
       "       [-1.517 , -1.981 ],\n",
       "       [-1.8359, -2.1255],\n",
       "       [-2.2003, -2.3029],\n",
       "       [-1.8147, -2.3552],\n",
       "       [-1.9095, -1.8029],\n",
       "       [-2.2337, -2.2098],\n",
       "       [-2.2489, -2.472 ],\n",
       "       [-1.9491, -2.2691],\n",
       "       [-1.8298, -1.715 ],\n",
       "       [-1.7759, -2.0372],\n",
       "       [-2.006 , -2.4493],\n",
       "       [-1.7015, -1.9038]])"
      ]
     },
     "execution_count": 93,
     "metadata": {},
     "output_type": "execute_result"
    }
   ],
   "source": [
    "X_lda"
   ]
  },
  {
   "cell_type": "code",
   "execution_count": 43,
   "metadata": {
    "ExecuteTime": {
     "end_time": "2020-10-22T03:23:08.504331Z",
     "start_time": "2020-10-22T03:23:08.490370Z"
    }
   },
   "outputs": [],
   "source": [
    "mean_vectors = [[ 5.006,  3.418,  1.464,  0.244], \n",
    "                [ 5.936,  2.77,   4.26,   1.326],\n",
    "                [ 6.588,  2.974,  5.552,  2.026]]"
   ]
  },
  {
   "cell_type": "code",
   "execution_count": 126,
   "metadata": {
    "ExecuteTime": {
     "end_time": "2020-10-22T04:32:18.508281Z",
     "start_time": "2020-10-22T04:32:17.793632Z"
    }
   },
   "outputs": [
    {
     "data": {
      "image/png": "[encoded data removed]",
      "text/plain": [
       "<Figure size 432x288 with 1 Axes>"
      ]
     },
     "metadata": {
      "needs_background": "light"
     },
     "output_type": "display_data"
    }
   ],
   "source": [
    "from matplotlib import pyplot as plt\n",
    "\n",
    "def plot_step_lda():\n",
    "\n",
    "    ax = plt.subplot(111)\n",
    "    for label,marker,color in zip(\n",
    "        range(1,4),('^', 's', 'o'),('blue', 'red', 'green')):\n",
    "\n",
    "        plt.scatter(x=X_lda[:,0].real[y == label],\n",
    "                y=X_lda[:,1].real[y == label],\n",
    "                marker=marker,\n",
    "                color=color,\n",
    "                alpha=0.5,\n",
    "                label=label_dict[label]\n",
    "                )\n",
    "\n",
    "    plt.xlabel('LD1')\n",
    "    plt.ylabel('LD2')\n",
    "\n",
    "    leg = plt.legend(loc='upper right', fancybox=True)\n",
    "    leg.get_frame().set_alpha(0.5)\n",
    "    plt.title('LDA: Iris projection onto the first 2 linear discriminants')\n",
    "\n",
    "    # hide axis ticks\n",
    "    plt.tick_params(axis=\"both\", which=\"both\", bottom=\"off\", top=\"off\",  \n",
    "            labelbottom=\"on\", left=\"off\", right=\"off\", labelleft=\"on\")\n",
    "\n",
    "    # remove axis spines\n",
    "    ax.spines[\"top\"].set_visible(False)  \n",
    "    ax.spines[\"right\"].set_visible(False)\n",
    "    ax.spines[\"bottom\"].set_visible(False)\n",
    "    ax.spines[\"left\"].set_visible(False)    \n",
    "\n",
    "    plt.grid()\n",
    "    plt.tight_layout\n",
    "    plt.show()\n",
    "\n",
    "plot_step_lda()"
   ]
  },
  {
   "cell_type": "code",
   "execution_count": 127,
   "metadata": {
    "ExecuteTime": {
     "end_time": "2020-10-22T04:40:34.623781Z",
     "start_time": "2020-10-22T04:40:34.402407Z"
    }
   },
   "outputs": [
    {
     "data": {
      "text/plain": [
       "<matplotlib.collections.PathCollection at 0x14a85f1f4f0>"
      ]
     },
     "execution_count": 127,
     "metadata": {},
     "output_type": "execute_result"
    },
    {
     "data": {
      "image/png": "[encoded data removed]",
      "text/plain": [
       "<Figure size 432x288 with 1 Axes>"
      ]
     },
     "metadata": {
      "needs_background": "light"
     },
     "output_type": "display_data"
    }
   ],
   "source": [
    "plt.scatter(x=X_lda[:,0].real, y=X_lda[:,1].real)"
   ]
  },
  {
   "cell_type": "code",
   "execution_count": 128,
   "metadata": {
    "ExecuteTime": {
     "end_time": "2020-10-22T04:41:04.482133Z",
     "start_time": "2020-10-22T04:41:04.238781Z"
    }
   },
   "outputs": [
    {
     "data": {
      "image/png": "[encoded data removed]",
      "text/plain": [
       "<Figure size 432x288 with 1 Axes>"
      ]
     },
     "metadata": {
      "needs_background": "light"
     },
     "output_type": "display_data"
    }
   ],
   "source": [
    "ax = plt.subplot(111)\n",
    "for label,marker,color in zip(\n",
    "    range(1,4),('^', 's', 'o'),('blue', 'red', 'green')):\n",
    "\n",
    "    plt.scatter(x=X_lda[:,0].real[y == label],\n",
    "            y=X_lda[:,1].real[y == label],\n",
    "            marker=marker,\n",
    "            color=color,\n",
    "            alpha=0.5,\n",
    "            label=label_dict[label]\n",
    "            )"
   ]
  },
  {
   "cell_type": "code",
   "execution_count": 129,
   "metadata": {
    "ExecuteTime": {
     "end_time": "2020-10-22T04:49:39.001077Z",
     "start_time": "2020-10-22T04:49:38.872426Z"
    }
   },
   "outputs": [],
   "source": [
    "from sklearn.discriminant_analysis import LinearDiscriminantAnalysis as LDA\n",
    "\n",
    "# LDA\n",
    "sklearn_lda = LDA(n_components=2)\n",
    "X_lda_sklearn = sklearn_lda.fit_transform(X, y)"
   ]
  },
  {
   "cell_type": "code",
   "execution_count": 130,
   "metadata": {
    "ExecuteTime": {
     "end_time": "2020-10-22T04:49:56.221347Z",
     "start_time": "2020-10-22T04:49:56.207386Z"
    }
   },
   "outputs": [
    {
     "data": {
      "text/plain": [
       "array([[ 8.085 ,  0.3285],\n",
       "       [ 7.1472, -0.7555],\n",
       "       [ 7.5114, -0.2381],\n",
       "       [ 6.8377, -0.6429],\n",
       "       [ 8.1578,  0.5406],\n",
       "       [ 7.7236,  1.4823],\n",
       "       [ 7.2351,  0.3772],\n",
       "       [ 7.6297,  0.0167],\n",
       "       [ 6.5827, -0.9874],\n",
       "       [ 7.3688, -0.9136],\n",
       "       [ 8.4218,  0.6762],\n",
       "       [ 7.2474, -0.0829],\n",
       "       [ 7.3506, -1.0394],\n",
       "       [ 7.5965, -0.7767],\n",
       "       [ 9.8694,  1.6149],\n",
       "       [ 9.1803,  2.7556],\n",
       "       [ 8.5976,  1.8544],\n",
       "       [ 7.7996,  0.6091],\n",
       "       [ 8.1   ,  0.9961],\n",
       "       [ 8.0454,  1.1624],\n",
       "       [ 7.5205, -0.1562],\n",
       "       [ 7.6053,  1.2276],\n",
       "       [ 8.7041,  0.8996],\n",
       "       [ 6.2637,  0.4602],\n",
       "       [ 6.5919, -0.362 ],\n",
       "       [ 6.7921, -0.9382],\n",
       "       [ 6.8405,  0.4848],\n",
       "       [ 7.9484,  0.2387],\n",
       "       [ 8.0121,  0.1163],\n",
       "       [ 6.8559, -0.5172],\n",
       "       [ 6.783 , -0.7293],\n",
       "       [ 7.3867,  0.591 ],\n",
       "       [ 9.1625,  1.2509],\n",
       "       [ 9.4962,  1.8499],\n",
       "       [ 7.3688, -0.9136],\n",
       "       [ 7.9757, -0.1352],\n",
       "       [ 8.6312,  0.4346],\n",
       "       [ 7.3688, -0.9136],\n",
       "       [ 6.956 , -0.6789],\n",
       "       [ 7.7117,  0.02  ],\n",
       "       [ 7.9361,  0.6988],\n",
       "       [ 5.6691, -1.9033],\n",
       "       [ 7.2656, -0.2479],\n",
       "       [ 6.4245,  1.2615],\n",
       "       [ 6.8861,  1.0709],\n",
       "       [ 6.7799, -0.4782],\n",
       "       [ 8.1123,  0.7888],\n",
       "       [ 7.211 , -0.3344],\n",
       "       [ 8.3399,  0.6729],\n",
       "       [ 7.6935, -0.1058],\n",
       "       [-1.4577,  0.0419],\n",
       "       [-1.7977,  0.4888],\n",
       "       [-2.4168, -0.0823],\n",
       "       [-2.2649, -1.5761],\n",
       "       [-2.5534, -0.4628],\n",
       "       [-2.4195, -0.9573],\n",
       "       [-2.4472,  0.7955],\n",
       "       [-0.216 , -1.571 ],\n",
       "       [-1.7459, -0.8053],\n",
       "       [-1.9584, -0.3504],\n",
       "       [-1.1902, -2.6156],\n",
       "       [-1.8614,  0.3205],\n",
       "       [-1.1539, -2.6169],\n",
       "       [-2.6594, -0.6341],\n",
       "       [-0.3802,  0.0921],\n",
       "       [-1.2028,  0.0956],\n",
       "       [-2.7627,  0.0316],\n",
       "       [-0.7623, -1.6392],\n",
       "       [-3.5094, -1.6725],\n",
       "       [-1.0841, -1.61  ],\n",
       "       [-3.719 ,  1.0351],\n",
       "       [-0.9994, -0.479 ],\n",
       "       [-3.8371, -1.3949],\n",
       "       [-2.2434, -1.4108],\n",
       "       [-1.2543, -0.5328],\n",
       "       [-1.4395, -0.1231],\n",
       "       [-2.4592, -0.9196],\n",
       "       [-3.5247,  0.1638],\n",
       "       [-2.5897, -0.1708],\n",
       "       [ 0.312 , -1.2998],\n",
       "       [-1.1023, -1.7358],\n",
       "       [-0.5984, -1.9233],\n",
       "       [-0.8961, -0.8919],\n",
       "       [-4.4957, -0.8792],\n",
       "       [-2.9265,  0.025 ],\n",
       "       [-2.1012,  1.1872],\n",
       "       [-2.1437,  0.0971],\n",
       "       [-2.4834, -1.9219],\n",
       "       [-1.3179, -0.1575],\n",
       "       [-1.9553, -1.1451],\n",
       "       [-2.3891, -1.5824],\n",
       "       [-2.2861, -0.3256],\n",
       "       [-1.2693, -1.2004],\n",
       "       [-0.2889, -1.7832],\n",
       "       [-2.0008, -0.897 ],\n",
       "       [-1.1691, -0.5279],\n",
       "       [-1.6093, -0.4627],\n",
       "       [-1.4181, -0.5393],\n",
       "       [ 0.4727, -0.7892],\n",
       "       [-1.5456, -0.5852],\n",
       "       [-7.8561,  2.1116],\n",
       "       [-5.5157, -0.044 ],\n",
       "       [-6.305 ,  0.4621],\n",
       "       [-5.6036, -0.3424],\n",
       "       [-6.8634,  0.816 ],\n",
       "       [-7.4248, -0.1726],\n",
       "       [-4.6809, -0.5076],\n",
       "       [-6.3137, -0.9607],\n",
       "       [-6.332 , -1.3772],\n",
       "       [-6.8729,  2.6946],\n",
       "       [-4.4536,  1.3369],\n",
       "       [-5.4611, -0.2104],\n",
       "       [-5.6768,  0.8244],\n",
       "       [-5.9741, -0.1046],\n",
       "       [-6.7878,  1.5745],\n",
       "       [-5.8287,  1.9894],\n",
       "       [-5.0664, -0.0273],\n",
       "       [-6.6085,  1.742 ],\n",
       "       [-9.1883, -0.7491],\n",
       "       [-4.7657, -2.1442],\n",
       "       [-6.2931,  1.6337],\n",
       "       [-5.3731,  0.6315],\n",
       "       [-7.5856, -0.9739],\n",
       "       [-4.3837, -0.1221],\n",
       "       [-5.7314,  1.2814],\n",
       "       [-5.2758, -0.0385],\n",
       "       [-4.0923,  0.1831],\n",
       "       [-4.0832,  0.5177],\n",
       "       [-6.5326,  0.2872],\n",
       "       [-4.5776, -0.8446],\n",
       "       [-6.235 , -0.7062],\n",
       "       [-5.2184,  1.4664],\n",
       "       [-6.818 ,  0.5678],\n",
       "       [-3.8097, -0.9345],\n",
       "       [-5.0902, -2.1178],\n",
       "       [-6.8212,  0.857 ],\n",
       "       [-6.5419,  2.4186],\n",
       "       [-4.9936,  0.1849],\n",
       "       [-3.9466,  0.6074],\n",
       "       [-5.2216,  1.1361],\n",
       "       [-6.6786,  1.7853],\n",
       "       [-5.1369,  1.9764],\n",
       "       [-5.5157, -0.044 ],\n",
       "       [-6.812 ,  1.4444],\n",
       "       [-6.8729,  2.4038],\n",
       "       [-5.674 ,  1.6613],\n",
       "       [-5.1971, -0.3655],\n",
       "       [-4.9817,  0.813 ],\n",
       "       [-5.9015,  2.3208],\n",
       "       [-4.684 ,  0.3251]])"
      ]
     },
     "execution_count": 130,
     "metadata": {},
     "output_type": "execute_result"
    }
   ],
   "source": [
    "X_lda_sklearn"
   ]
  },
  {
   "cell_type": "code",
   "execution_count": 132,
   "metadata": {
    "ExecuteTime": {
     "end_time": "2020-10-22T04:51:49.128776Z",
     "start_time": "2020-10-22T04:51:49.110819Z"
    }
   },
   "outputs": [],
   "source": [
    "def plot_scikit_lda(X, title):\n",
    "\n",
    "    ax = plt.subplot(111)\n",
    "    for label,marker,color in zip(\n",
    "        range(1,4),('^', 's', 'o'),('blue', 'red', 'green')):\n",
    "\n",
    "        plt.scatter(x=X[:,0][y == label],\n",
    "                    y=X[:,1][y == label] * -1, # flip the figure\n",
    "                    marker=marker,\n",
    "                    color=color,\n",
    "                    alpha=0.5,\n",
    "                    label=label_dict[label])\n",
    "\n",
    "    plt.xlabel('LD1')\n",
    "    plt.ylabel('LD2')\n",
    "\n",
    "    leg = plt.legend(loc='upper right', fancybox=True)\n",
    "    leg.get_frame().set_alpha(0.5)\n",
    "    plt.title(title)\n",
    "\n",
    "    # hide axis ticks\n",
    "    plt.tick_params(axis=\"both\", which=\"both\", bottom=\"off\", top=\"off\",  \n",
    "            labelbottom=\"on\", left=\"off\", right=\"off\", labelleft=\"on\")\n",
    "\n",
    "    # remove axis spines\n",
    "    ax.spines[\"top\"].set_visible(False)  \n",
    "    ax.spines[\"right\"].set_visible(False)\n",
    "    ax.spines[\"bottom\"].set_visible(False)\n",
    "    ax.spines[\"left\"].set_visible(False)    \n",
    "\n",
    "    plt.grid()\n",
    "    plt.tight_layout\n",
    "    plt.show()"
   ]
  },
  {
   "cell_type": "code",
   "execution_count": 135,
   "metadata": {
    "ExecuteTime": {
     "end_time": "2020-10-22T04:52:25.177492Z",
     "start_time": "2020-10-22T04:52:24.651898Z"
    }
   },
   "outputs": [
    {
     "data": {
      "image/png": "[encoded data removed]",
      "text/plain": [
       "<Figure size 432x288 with 1 Axes>"
      ]
     },
     "metadata": {
      "needs_background": "light"
     },
     "output_type": "display_data"
    },
    {
     "data": {
      "image/png": "[encoded data removed]",
      "text/plain": [
       "<Figure size 432x288 with 1 Axes>"
      ]
     },
     "metadata": {
      "needs_background": "light"
     },
     "output_type": "display_data"
    }
   ],
   "source": [
    "plot_step_lda()\n",
    "plot_scikit_lda(X_lda_sklearn, title='Default LDA via scikit-learn')"
   ]
  },
  {
   "cell_type": "code",
   "execution_count": null,
   "metadata": {},
   "outputs": [],
   "source": [
    "X_"
   ]
  }
 ],
 "metadata": {
  "hide_input": false,
  "kernelspec": {
   "display_name": "Python 3",
   "language": "python",
   "name": "python3"
  },
  "language_info": {
   "codemirror_mode": {
    "name": "ipython",
    "version": 3
   },
   "file_extension": ".py",
   "mimetype": "text/x-python",
   "name": "python",
   "nbconvert_exporter": "python",
   "pygments_lexer": "ipython3",
   "version": "3.8.5"
  },
  "toc": {
   "base_numbering": 1,
   "nav_menu": {},
   "number_sections": true,
   "sideBar": true,
   "skip_h1_title": false,
   "title_cell": "Table of Contents",
   "title_sidebar": "Contents",
   "toc_cell": false,
   "toc_position": {},
   "toc_section_display": true,
   "toc_window_display": false
  },
  "varInspector": {
   "cols": {
    "lenName": 16,
    "lenType": 16,
    "lenVar": 40
   },
   "kernels_config": {
    "python": {
     "delete_cmd_postfix": "",
     "delete_cmd_prefix": "del ",
     "library": "var_list.py",
     "varRefreshCmd": "print(var_dic_list())"
    },
    "r": {
     "delete_cmd_postfix": ") ",
     "delete_cmd_prefix": "rm(",
     "library": "var_list.r",
     "varRefreshCmd": "cat(var_dic_list()) "
    }
   },
   "types_to_exclude": [
    "module",
    "function",
    "builtin_function_or_method",
    "instance",
    "_Feature"
   ],
   "window_display": false
  }
 },
 "nbformat": 4,
 "nbformat_minor": 4
}
