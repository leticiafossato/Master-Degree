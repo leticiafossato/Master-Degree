{
 "cells": [
  {
   "cell_type": "markdown",
   "metadata": {},
   "source": [
    "# Linear Discriminan Analysis\n",
    "https://sebastianraschka.com/Articles/2014_python_lda.html"
   ]
  },
  {
   "cell_type": "markdown",
   "metadata": {},
   "source": [
    "## Setup "
   ]
  },
  {
   "cell_type": "markdown",
   "metadata": {},
   "source": [
    "### Import libraries"
   ]
  },
  {
   "cell_type": "code",
   "execution_count": 1,
   "metadata": {
    "ExecuteTime": {
     "end_time": "2020-10-22T19:36:20.914402Z",
     "start_time": "2020-10-22T19:36:20.302041Z"
    }
   },
   "outputs": [],
   "source": [
    "from matplotlib import pyplot as plt\n",
    "import numpy as np"
   ]
  },
  {
   "cell_type": "markdown",
   "metadata": {},
   "source": [
    "### Definição das funções"
   ]
  },
  {
   "cell_type": "code",
   "execution_count": 2,
   "metadata": {
    "ExecuteTime": {
     "end_time": "2020-10-22T19:36:20.929363Z",
     "start_time": "2020-10-22T19:36:20.917395Z"
    }
   },
   "outputs": [],
   "source": [
    "def transposta(X):\n",
    "    \"\"\"Retorna a transposta da matriz de entrada\"\"\"\n",
    "    return [[X[j][i] for j in range(len(X))] for i in range(len(X[0]))] "
   ]
  },
  {
   "cell_type": "code",
   "execution_count": 3,
   "metadata": {
    "ExecuteTime": {
     "end_time": "2020-10-22T19:36:20.993193Z",
     "start_time": "2020-10-22T19:36:20.936345Z"
    }
   },
   "outputs": [],
   "source": [
    "#Cálculo da inversa:\n",
    "\n",
    "def Determinante(matriz):\n",
    "    \"\"\"Cálculo do determinante da matriz inserida\"\"\"\n",
    "    #Determinante da matriz 2x2\n",
    "    if len(matriz) == 2:\n",
    "        return (matriz[0][0]*matriz[1][1])-(matriz[0][1]*matriz[1][0])\n",
    "\n",
    "    determinant = 0\n",
    "    for c in range(len(matriz)):\n",
    "        determinant = determinant + ((-1)**c)*matriz[0][c]*Determinante([row[:c] + row[c+1:] for \n",
    "                                                                         row in (matriz[:0]+matriz[0+1:])])\n",
    "    return determinant\n",
    "\n",
    "def matriz_inversa(m):\n",
    "    \"\"\"Cálculo da matriz inversa através do método dos cofatores.\"\"\"\n",
    "    determinant = Determinante(m)\n",
    "    \n",
    "    #Fórmula para cáculo da matriz 2x2:\n",
    "    if len(m) == 2:\n",
    "        a = m[0][0]\n",
    "        b = m[0][1]\n",
    "        c = m[1][0]\n",
    "        d = m[1][1]\n",
    "\n",
    "        inverse= [d, -b, -c, a]\n",
    "        calc_inverse=[]\n",
    "        for i in inverse:\n",
    "            x = (1/(a*d-b*c)) * i\n",
    "            calc_inverse.append(x)\n",
    "        col = 2 \n",
    "        inverse_matrix = [calc_inverse[i:i+col] for i in range(0, len(calc_inverse), col)]\n",
    "        return inverse_matrix\n",
    "    \n",
    "    else:\n",
    "    #Para os demais tamanho, matriz de cofatores:\n",
    "        cofactors = []\n",
    "        for r in range(len(m)):\n",
    "            cofactorRow = []\n",
    "            for c in range(len(m)):\n",
    "                minor = [row[:c] + row[c+1:] for row in (m[:r]+m[r+1:])]\n",
    "                cofactorRow.append(((-1)**(r+c)) * Determinante(minor))\n",
    "            cofactors.append(cofactorRow)\n",
    "        cofactors = transposta(cofactors)\n",
    "        for r in range(len(cofactors)):\n",
    "            for c in range(len(cofactors)):\n",
    "                cofactors[r][c] = cofactors[r][c]/determinant\n",
    "        return cofactors\n",
    "\n",
    "#Obs: Para construir a matriz de cofatores, consultei o site: \n",
    "#https://stackoverflow.com/questions/32114054/matrix-inversion-without-numpy"
   ]
  },
  {
   "cell_type": "code",
   "execution_count": 4,
   "metadata": {
    "ExecuteTime": {
     "end_time": "2020-10-22T19:36:21.009150Z",
     "start_time": "2020-10-22T19:36:20.995187Z"
    }
   },
   "outputs": [],
   "source": [
    "def multiply_matrix_matrix(mult1,mult2):\n",
    "    \"\"\"Retorna o produto escalar de duas matrizes\"\"\"\n",
    "    x = []\n",
    "    for i in range(0,len(mult1)):\n",
    "        y=[]\n",
    "        for j in range(0,len(mult2[0])):\n",
    "            total = 0\n",
    "            for k in range(0,len(mult1[0])):\n",
    "                total = total + mult1[i][k]*mult2[k][j]\n",
    "            y.append(total)\n",
    "        x.append(y)\n",
    "\n",
    "    return x"
   ]
  },
  {
   "cell_type": "code",
   "execution_count": 5,
   "metadata": {
    "ExecuteTime": {
     "end_time": "2020-10-22T19:36:21.025109Z",
     "start_time": "2020-10-22T19:36:21.012142Z"
    }
   },
   "outputs": [],
   "source": [
    "#Cálculo da média:\n",
    "def calculo_mean(x):\n",
    "    \"\"\"Retorna a média do input\"\"\"\n",
    "    soma=[]\n",
    "    soma_i = 0\n",
    "    for i in range(len(x)):\n",
    "        soma_i= soma_i + x[i]\n",
    "        media = (soma_i)/len(x)\n",
    "    return media"
   ]
  },
  {
   "cell_type": "markdown",
   "metadata": {},
   "source": [
    "## Exercício 1\n",
    "- Implementa o LDA e o use para a classificação dos dados de Iris de Fisher.<br>\n",
    "- Use funções prontas para os autovalores e autovetores.\n",
    "\n",
    "**Fisher Iris Dataset:**<br>\n",
    "The Iris flower data set or Fisher's Iris data set is a multivariate data set introduced by Sir Ronald Aylmer Fisher (1936) as an example of discriminant analysis. Quantify the geographic variation of Iris flowers in the Gaspé Peninsula\n",
    "The output is qualitative (species of Iris) finite set G = {Virginica, Setosa and Versicolor}.\n",
    "\n",
    "- Quantity of dimensions: 4\n",
    "- Quantity of classes: 3\n",
    "- Quantity of samples: 150"
   ]
  },
  {
   "cell_type": "code",
   "execution_count": 6,
   "metadata": {
    "ExecuteTime": {
     "end_time": "2020-10-22T19:36:21.997741Z",
     "start_time": "2020-10-22T19:36:21.028100Z"
    }
   },
   "outputs": [],
   "source": [
    "#Load the dataset\n",
    "from sklearn.datasets import load_iris\n",
    "iris = load_iris()\n",
    "X = iris['data']\n",
    "y = iris.target\n",
    "target_names = iris.target_names"
   ]
  },
  {
   "cell_type": "code",
   "execution_count": 7,
   "metadata": {
    "ExecuteTime": {
     "end_time": "2020-10-22T19:36:22.029657Z",
     "start_time": "2020-10-22T19:36:22.003726Z"
    }
   },
   "outputs": [
    {
     "data": {
      "text/plain": [
       "array([[ 0, 50],\n",
       "       [ 1, 50],\n",
       "       [ 2, 50]], dtype=int64)"
      ]
     },
     "execution_count": 7,
     "metadata": {},
     "output_type": "execute_result"
    }
   ],
   "source": [
    "#Count the quantity of sample of each class\n",
    "unique, counts = np.unique(y, return_counts=True)\n",
    "\n",
    "classe = np.asarray((unique, counts)).T\n",
    "classe"
   ]
  },
  {
   "cell_type": "code",
   "execution_count": 8,
   "metadata": {
    "ExecuteTime": {
     "end_time": "2020-10-22T19:36:22.043618Z",
     "start_time": "2020-10-22T19:36:22.037635Z"
    }
   },
   "outputs": [],
   "source": [
    "#Separate setosa samples\n",
    "setosa = []\n",
    "for i in range(classe[0][1]):\n",
    "   setosa.append(X[i])"
   ]
  },
  {
   "cell_type": "code",
   "execution_count": 9,
   "metadata": {
    "ExecuteTime": {
     "end_time": "2020-10-22T19:36:22.059576Z",
     "start_time": "2020-10-22T19:36:22.047609Z"
    }
   },
   "outputs": [],
   "source": [
    "#Separate versicolor samples\n",
    "versicolor = []\n",
    "for i in range(50,50+classe[1][1]):\n",
    "   versicolor.append(X[i])"
   ]
  },
  {
   "cell_type": "code",
   "execution_count": 10,
   "metadata": {
    "ExecuteTime": {
     "end_time": "2020-10-22T19:36:22.075534Z",
     "start_time": "2020-10-22T19:36:22.063566Z"
    }
   },
   "outputs": [],
   "source": [
    "#Separate virginica samples\n",
    "virginica = []\n",
    "for i in range(100,100+classe[2][1]):\n",
    "   virginica.append(X[i])"
   ]
  },
  {
   "cell_type": "markdown",
   "metadata": {},
   "source": [
    "### Mean"
   ]
  },
  {
   "cell_type": "markdown",
   "metadata": {},
   "source": [
    "#### Setosa Mean"
   ]
  },
  {
   "cell_type": "code",
   "execution_count": 11,
   "metadata": {
    "ExecuteTime": {
     "end_time": "2020-10-22T19:36:22.090495Z",
     "start_time": "2020-10-22T19:36:22.078526Z"
    }
   },
   "outputs": [
    {
     "data": {
      "text/plain": [
       "[[5.005999999999999],\n",
       " [3.428000000000001],\n",
       " [1.4620000000000002],\n",
       " [0.2459999999999999]]"
      ]
     },
     "execution_count": 11,
     "metadata": {},
     "output_type": "execute_result"
    }
   ],
   "source": [
    "mean_setosa = calculo_mean(setosa)\n",
    "\n",
    "#Separação em matriz coluna\n",
    "mean_setosa_lista=[]\n",
    "for i in mean_setosa:\n",
    "    mean_setosa_lista.append([i])\n",
    "mean_setosa_lista"
   ]
  },
  {
   "cell_type": "markdown",
   "metadata": {},
   "source": [
    "#### Versicolor Mean"
   ]
  },
  {
   "cell_type": "code",
   "execution_count": 12,
   "metadata": {
    "ExecuteTime": {
     "end_time": "2020-10-22T19:36:22.121411Z",
     "start_time": "2020-10-22T19:36:22.094484Z"
    }
   },
   "outputs": [
    {
     "data": {
      "text/plain": [
       "[[5.936], [2.7700000000000005], [4.26], [1.3259999999999998]]"
      ]
     },
     "execution_count": 12,
     "metadata": {},
     "output_type": "execute_result"
    }
   ],
   "source": [
    "mean_versicolor = calculo_mean(versicolor)\n",
    "\n",
    "#Separação em matriz coluna\n",
    "mean_versicolor_lista=[]\n",
    "for i in mean_versicolor:\n",
    "    mean_versicolor_lista.append([i])\n",
    "mean_versicolor_lista"
   ]
  },
  {
   "cell_type": "markdown",
   "metadata": {},
   "source": [
    "#### Virginica Mean"
   ]
  },
  {
   "cell_type": "code",
   "execution_count": 13,
   "metadata": {
    "ExecuteTime": {
     "end_time": "2020-10-22T19:36:22.137369Z",
     "start_time": "2020-10-22T19:36:22.124403Z"
    }
   },
   "outputs": [
    {
     "data": {
      "text/plain": [
       "[[6.587999999999998], [2.9739999999999998], [5.552], [2.026]]"
      ]
     },
     "execution_count": 13,
     "metadata": {},
     "output_type": "execute_result"
    }
   ],
   "source": [
    "mean_virginica = calculo_mean(virginica)\n",
    "\n",
    "#Separação em matriz coluna\n",
    "mean_virginica_lista=[]\n",
    "for i in mean_virginica:\n",
    "    mean_virginica_lista.append([i])\n",
    "mean_virginica_lista"
   ]
  },
  {
   "cell_type": "markdown",
   "metadata": {},
   "source": [
    "### Matriz de covariância "
   ]
  },
  {
   "cell_type": "markdown",
   "metadata": {
    "ExecuteTime": {
     "end_time": "2020-10-22T18:21:43.068882Z",
     "start_time": "2020-10-22T18:21:43.059907Z"
    }
   },
   "source": [
    "$ \\frac{1}{Ni-1} \\sum_{j=1}^{Ni} (xij-xi)(xij-xi)^T $\n",
    "<br>\n",
    "- Ni = 50 <br>\n",
    "- Há uma matriz de covariância para cada classe. 03 classes -> 03 matrizes."
   ]
  },
  {
   "cell_type": "markdown",
   "metadata": {},
   "source": [
    "#### Matriz de covariância setosa (S1)"
   ]
  },
  {
   "cell_type": "code",
   "execution_count": 14,
   "metadata": {
    "ExecuteTime": {
     "end_time": "2020-10-22T19:36:22.184243Z",
     "start_time": "2020-10-22T19:36:22.140360Z"
    }
   },
   "outputs": [
    {
     "data": {
      "text/plain": [
       "[[0.12424897959183666,\n",
       "  0.09921632653061219,\n",
       "  0.01635510204081632,\n",
       "  0.01033061224489795],\n",
       " [0.09921632653061219,\n",
       "  0.14368979591836734,\n",
       "  0.01169795918367346,\n",
       "  0.009297959183673474],\n",
       " [0.01635510204081632,\n",
       "  0.01169795918367346,\n",
       "  0.030159183673469397,\n",
       "  0.006069387755102041],\n",
       " [0.01033061224489795,\n",
       "  0.009297959183673474,\n",
       "  0.006069387755102041,\n",
       "  0.0111061224489796]]"
      ]
     },
     "execution_count": 14,
     "metadata": {},
     "output_type": "execute_result"
    }
   ],
   "source": [
    "#Subtração de cada elemento pela média * transposta do resultado\n",
    "to_sum_1_class=[]\n",
    "for i in range(len(setosa)):\n",
    "    z = [[list(setosa[i])[0] - mean_setosa[0]], [list(setosa[i])[1] - mean_setosa[1]], [list(setosa[i])[2] - mean_setosa[2]],[list(setosa[i])[3] - mean_setosa[3]]] \n",
    "    z=np.array(z)\n",
    "    z2 = z.transpose()\n",
    "    resp = np.matmul(z,z2)\n",
    "    to_sum_1_class.append(resp)\n",
    "to_sum_1_class\n",
    "\n",
    "#Matriz de covariância da 1ª classe - setosa (S1)\n",
    "\n",
    "somita=[]\n",
    "for j in range(len(setosa[0])):\n",
    "    soma=0\n",
    "    for i in range(len(setosa)):\n",
    "        soma=(soma+to_sum_1_class[i][0][j])\n",
    "    somita.append(soma)\n",
    "somita\n",
    "\n",
    "somita1=[]\n",
    "for j in range(len(setosa[0])):\n",
    "    soma=0\n",
    "    for i in range(len(setosa)):\n",
    "        soma=(soma+to_sum_1_class[i][1][j])\n",
    "    somita1.append(soma)\n",
    "somita1\n",
    "\n",
    "somita2=[]\n",
    "for j in range(len(setosa[0])):\n",
    "    soma=0\n",
    "    for i in range(len(setosa)):\n",
    "        soma=(soma+to_sum_1_class[i][2][j])\n",
    "    somita2.append(soma)\n",
    "somita2\n",
    "\n",
    "somita3=[]\n",
    "for j in range(len(setosa[0])):\n",
    "    soma=0\n",
    "    for i in range(len(setosa)):\n",
    "        soma=(soma+to_sum_1_class[i][3][j])\n",
    "    somita3.append(soma)\n",
    "somita3\n",
    "\n",
    "#Normalizar a matriz: dividir por (len(setosa)-1)\n",
    "\n",
    "S1_non_normalize = [somita,somita1,somita2,somita3]\n",
    "S1_non_normalize\n",
    "\n",
    "S1=[]\n",
    "for i in range(0,4):\n",
    "    for j in range(0,4):\n",
    "        S1.append(S1_non_normalize [i][j]/(len(setosa)-1))\n",
    "S1\n",
    "\n",
    "S1 = [S1[x:x+4] for x in range(0, len(S1), 4)]\n",
    "S1"
   ]
  },
  {
   "cell_type": "markdown",
   "metadata": {},
   "source": [
    "#### Matriz de covariância versicolor (S2)"
   ]
  },
  {
   "cell_type": "code",
   "execution_count": 15,
   "metadata": {
    "ExecuteTime": {
     "end_time": "2020-10-22T19:36:22.232115Z",
     "start_time": "2020-10-22T19:36:22.187235Z"
    }
   },
   "outputs": [
    {
     "data": {
      "text/plain": [
       "[[0.2664326530612246,\n",
       "  0.08518367346938774,\n",
       "  0.18289795918367358,\n",
       "  0.055779591836734706],\n",
       " [0.08518367346938774,\n",
       "  0.09846938775510206,\n",
       "  0.08265306122448983,\n",
       "  0.041204081632653065],\n",
       " [0.18289795918367358,\n",
       "  0.08265306122448983,\n",
       "  0.22081632653061237,\n",
       "  0.07310204081632653],\n",
       " [0.055779591836734706,\n",
       "  0.041204081632653065,\n",
       "  0.07310204081632653,\n",
       "  0.039106122448979576]]"
      ]
     },
     "execution_count": 15,
     "metadata": {},
     "output_type": "execute_result"
    }
   ],
   "source": [
    "#Subtração de cada elemento pela média * transposta do resultado\n",
    "\n",
    "to_sum_2_class=[]\n",
    "for i in range(len(versicolor)):\n",
    "    z = [[list(versicolor[i])[0] - mean_versicolor[0]], [list(versicolor[i])[1] - mean_versicolor[1]], [list(versicolor[i])[2] - mean_versicolor[2]],[list(versicolor[i])[3] - mean_versicolor[3]]] \n",
    "    z=np.array(z)\n",
    "    z2 = z.transpose()\n",
    "    resp = np.matmul(z,z2)\n",
    "    to_sum_2_class.append(resp)\n",
    "to_sum_2_class\n",
    "\n",
    "#Matriz de covariância da 2ª classe -versicolor (S2)\n",
    "somita=[]\n",
    "for j in range(len(versicolor[0])):\n",
    "    soma=0\n",
    "    for i in range(len(versicolor)):\n",
    "        soma=(soma+to_sum_2_class[i][0][j])\n",
    "    somita.append(soma)\n",
    "somita\n",
    "\n",
    "somita1=[]\n",
    "for j in range(len(versicolor[0])):\n",
    "    soma=0\n",
    "    for i in range(len(versicolor)):\n",
    "        soma=(soma+to_sum_2_class[i][1][j])\n",
    "    somita1.append(soma)\n",
    "somita1\n",
    "\n",
    "somita2=[]\n",
    "for j in range(len(versicolor[0])):\n",
    "    soma=0\n",
    "    for i in range(len(versicolor)):\n",
    "        soma=(soma+to_sum_2_class[i][2][j])\n",
    "    somita2.append(soma)\n",
    "somita2\n",
    "\n",
    "somita3=[]\n",
    "for j in range(len(versicolor[0])):\n",
    "    soma=0\n",
    "    for i in range(len(versicolor)):\n",
    "        soma=(soma+to_sum_2_class[i][3][j])\n",
    "    somita3.append(soma)\n",
    "somita3\n",
    "\n",
    "#Normalizar a matriz: dividir por (len(versicolor)-1)\n",
    "\n",
    "S2_non_normalize = [somita,somita1,somita2,somita3]\n",
    "S2_non_normalize \n",
    "\n",
    "S2=[]\n",
    "for i in range(0,4):\n",
    "    for j in range(0,4):\n",
    "        S2.append(S2_non_normalize [i][j]/(len(versicolor)-1))\n",
    "\n",
    "S2 = [S2[x:x+4] for x in range(0, len(S2), 4)]\n",
    "S2"
   ]
  },
  {
   "cell_type": "markdown",
   "metadata": {},
   "source": [
    "#### Matriz de covariância virginica (S3)"
   ]
  },
  {
   "cell_type": "code",
   "execution_count": 16,
   "metadata": {
    "ExecuteTime": {
     "end_time": "2020-10-22T19:36:22.278990Z",
     "start_time": "2020-10-22T19:36:22.235107Z"
    }
   },
   "outputs": [
    {
     "data": {
      "text/plain": [
       "[[0.40434285714285706,\n",
       "  0.09376326530612243,\n",
       "  0.3032897959183674,\n",
       "  0.04909387755102043],\n",
       " [0.09376326530612243,\n",
       "  0.10400408163265312,\n",
       "  0.07137959183673467,\n",
       "  0.04762857142857144],\n",
       " [0.3032897959183674,\n",
       "  0.07137959183673467,\n",
       "  0.304587755102041,\n",
       "  0.04882448979591837],\n",
       " [0.04909387755102043,\n",
       "  0.04762857142857144,\n",
       "  0.04882448979591837,\n",
       "  0.07543265306122447]]"
      ]
     },
     "execution_count": 16,
     "metadata": {},
     "output_type": "execute_result"
    }
   ],
   "source": [
    "#Subtração de cada elemento pela média * transposta do resultado\n",
    "to_sum_3_class=[]\n",
    "for i in range(len(virginica)):\n",
    "    z = [[list(virginica[i])[0] - mean_virginica[0]], [list(virginica[i])[1] - mean_virginica[1]], [list(virginica[i])[2] - mean_virginica[2]],[list(virginica[i])[3] - mean_virginica[3]]] \n",
    "    z=np.array(z)\n",
    "    z2 = z.transpose()\n",
    "    resp = np.matmul(z,z2)\n",
    "    to_sum_3_class.append(resp)\n",
    "to_sum_3_class\n",
    "\n",
    "#Matriz de covariância da 2ª classe -virginica (S3)\n",
    "\n",
    "somita=[]\n",
    "for j in range(len(virginica[0])):\n",
    "    soma=0\n",
    "    for i in range(len(virginica)):\n",
    "        soma=(soma+to_sum_3_class[i][0][j])\n",
    "    somita.append(soma)\n",
    "somita\n",
    "\n",
    "somita1=[]\n",
    "for j in range(len(virginica[0])):\n",
    "    soma=0\n",
    "    for i in range(len(virginica)):\n",
    "        soma=(soma+to_sum_3_class[i][1][j])\n",
    "    somita1.append(soma)\n",
    "somita1\n",
    "\n",
    "somita2=[]\n",
    "for j in range(len(virginica[0])):\n",
    "    soma=0\n",
    "    for i in range(len(virginica)):\n",
    "        soma=(soma+to_sum_3_class[i][2][j])\n",
    "    somita2.append(soma)\n",
    "somita2\n",
    "\n",
    "somita3=[]\n",
    "for j in range(len(virginica[0])):\n",
    "    soma=0\n",
    "    for i in range(len(virginica)):\n",
    "        soma=(soma+to_sum_3_class[i][3][j])\n",
    "    somita3.append(soma)\n",
    "somita3\n",
    "\n",
    "S3_non_normalize = [somita,somita1,somita2,somita3]\n",
    "S3_non_normalize \n",
    "\n",
    "#Normalizar a matriz: dividir por (len(virginica)-1)\n",
    "\n",
    "S3=[]\n",
    "for i in range(0,4):\n",
    "    for j in range(0,4):\n",
    "        S3.append(S3_non_normalize [i][j]/(len(virginica)-1))\n",
    "\n",
    "S3 = [S3[x:x+4] for x in range(0, len(S3), 4)]\n",
    "S3"
   ]
  },
  {
   "cell_type": "markdown",
   "metadata": {},
   "source": [
    "### Within-class scatter matrix \n",
    "\n",
    "$ Sw = (Ni-1) \\sum_{i=1}^{g}\\sum_{j=1}^{Ni}(xij-xi)(xij-xi)^T $"
   ]
  },
  {
   "cell_type": "code",
   "execution_count": 17,
   "metadata": {
    "ExecuteTime": {
     "end_time": "2020-10-22T19:36:22.294946Z",
     "start_time": "2020-10-22T19:36:22.281983Z"
    },
    "code_folding": [],
    "scrolled": true
   },
   "outputs": [
    {
     "data": {
      "text/plain": [
       "[[38.956199999999995,\n",
       "  13.629999999999995,\n",
       "  24.624600000000008,\n",
       "  5.645000000000001],\n",
       " [13.629999999999995,\n",
       "  16.962000000000003,\n",
       "  8.120800000000001,\n",
       "  4.808400000000001],\n",
       " [24.624600000000008,\n",
       "  8.120800000000001,\n",
       "  27.222600000000014,\n",
       "  6.271800000000001],\n",
       " [5.645000000000001, 4.808400000000001, 6.271800000000001, 6.156599999999999]]"
      ]
     },
     "execution_count": 17,
     "metadata": {},
     "output_type": "execute_result"
    }
   ],
   "source": [
    "#Calculate the matrix Sw\n",
    "Sw_list=[]\n",
    "for i in range(len(S1[0])):\n",
    "    for j in range(len(S1[0])):\n",
    "        soma = (S1[i][j]+ S2[i][j]+ S3[i][j])*(49)\n",
    "        Sw_list.append(soma)\n",
    "\n",
    "#Reshape Sw_list into a matrix 4x4\n",
    "Sw = [Sw_list[x:x+4] for x in range(0, len(Sw_list), 4)]\n",
    "Sw"
   ]
  },
  {
   "cell_type": "markdown",
   "metadata": {},
   "source": [
    "### Between-class scatter matrix "
   ]
  },
  {
   "cell_type": "markdown",
   "metadata": {
    "ExecuteTime": {
     "end_time": "2020-10-22T18:47:17.203834Z",
     "start_time": "2020-10-22T18:47:17.193898Z"
    }
   },
   "source": [
    "$ Sb = Ni \\sum_{i=1}^{g}(xi-x)(xi-x)^T $"
   ]
  },
  {
   "cell_type": "markdown",
   "metadata": {},
   "source": [
    "#### Grand mean vector"
   ]
  },
  {
   "cell_type": "code",
   "execution_count": 18,
   "metadata": {
    "ExecuteTime": {
     "end_time": "2020-10-22T19:36:22.326862Z",
     "start_time": "2020-10-22T19:36:22.298936Z"
    }
   },
   "outputs": [
    {
     "data": {
      "text/plain": [
       "[[5.843333333333334],\n",
       " [3.057333333333334],\n",
       " [3.758000000000002],\n",
       " [1.199333333333334]]"
      ]
     },
     "execution_count": 18,
     "metadata": {},
     "output_type": "execute_result"
    }
   ],
   "source": [
    "#Grand mean vector:\n",
    "soma0=0\n",
    "for i in range(len(setosa)):\n",
    "    soma0 = soma0 + setosa[i][0]+ versicolor[i][0] + virginica[i][0]\n",
    "soma0\n",
    "\n",
    "soma1=0\n",
    "for i in range(len(setosa)):\n",
    "    soma1 = soma1 + setosa[i][1]+ versicolor[i][1] + virginica[i][1]\n",
    "soma1\n",
    "\n",
    "soma2=0\n",
    "for i in range(len(setosa)):\n",
    "    soma2 = soma2 + setosa[i][2]+ versicolor[i][2] + virginica[i][2]\n",
    "soma2\n",
    "\n",
    "soma3=0\n",
    "for i in range(len(setosa)):\n",
    "    soma3 = soma3 + setosa[i][3]+ versicolor[i][3] + virginica[i][3]\n",
    "soma3\n",
    "\n",
    "mean_total = [[(soma0/len(X))],\n",
    "              [(soma1/len(X))],\n",
    "              [(soma2/len(X))],\n",
    "              [(soma3/len(X))]]\n",
    "mean_total"
   ]
  },
  {
   "cell_type": "markdown",
   "metadata": {},
   "source": [
    "#### Sb setosa "
   ]
  },
  {
   "cell_type": "code",
   "execution_count": 19,
   "metadata": {
    "ExecuteTime": {
     "end_time": "2020-10-22T19:36:22.357779Z",
     "start_time": "2020-10-22T19:36:22.332847Z"
    }
   },
   "outputs": [
    {
     "data": {
      "text/plain": [
       "array([[ 0.70112711, -0.31037156,  1.92251733,  0.79825778],\n",
       "       [-0.31037156,  0.13739378, -0.85105067, -0.35336889],\n",
       "       [ 1.92251733, -0.85105067,  5.271616  ,  2.18885333],\n",
       "       [ 0.79825778, -0.35336889,  2.18885333,  0.90884444]])"
      ]
     },
     "execution_count": 19,
     "metadata": {},
     "output_type": "execute_result"
    }
   ],
   "source": [
    "#Subtração da média da setosa pela média total\n",
    "multi=[]\n",
    "for i in range(len(mean_total)):\n",
    "    multi.append([mean_setosa_lista[i][0] - mean_total[i][0]])\n",
    "multi\n",
    "\n",
    "#Transposta do resultado\n",
    "multi = np.array(multi)\n",
    "multi_transpose = multi.transpose()\n",
    "multi_transpose\n",
    "\n",
    "#Sb setosa\n",
    "Sb_Setosa = np.matmul(multi,multi_transpose)\n",
    "Sb_Setosa"
   ]
  },
  {
   "cell_type": "markdown",
   "metadata": {},
   "source": [
    "#### Sb versicolor"
   ]
  },
  {
   "cell_type": "code",
   "execution_count": 20,
   "metadata": {
    "ExecuteTime": {
     "end_time": "2020-10-22T19:36:22.372741Z",
     "start_time": "2020-10-22T19:36:22.360772Z"
    }
   },
   "outputs": [
    {
     "data": {
      "text/plain": [
       "array([[ 0.00858711, -0.02662622,  0.04651867,  0.01173778],\n",
       "       [-0.02662622,  0.08256044, -0.14424133, -0.03639556],\n",
       "       [ 0.04651867, -0.14424133,  0.252004  ,  0.06358667],\n",
       "       [ 0.01173778, -0.03639556,  0.06358667,  0.01604444]])"
      ]
     },
     "execution_count": 20,
     "metadata": {},
     "output_type": "execute_result"
    }
   ],
   "source": [
    "#Subtração da média da versicolor\n",
    "multi_v=[]\n",
    "for i in range(len(mean_total)):\n",
    "    multi_v.append([mean_versicolor_lista[i][0] - mean_total[i][0]])\n",
    "multi_v\n",
    "\n",
    "#Transposta do resultado\n",
    "multi_v = np.array(multi_v)\n",
    "multi_v_transpose = multi_v.transpose()\n",
    "multi_v_transpose\n",
    "\n",
    "#Sb setosa\n",
    "Sb_Versicolor = np.matmul(multi_v,multi_v_transpose)\n",
    "Sb_Versicolor"
   ]
  },
  {
   "cell_type": "markdown",
   "metadata": {},
   "source": [
    "#### Sb virginica"
   ]
  },
  {
   "cell_type": "code",
   "execution_count": 21,
   "metadata": {
    "ExecuteTime": {
     "end_time": "2020-10-22T19:36:22.388699Z",
     "start_time": "2020-10-22T19:36:22.375732Z"
    }
   },
   "outputs": [
    {
     "data": {
      "text/plain": [
       "array([[ 0.55452844, -0.06205556,  1.335932  ,  0.61559111],\n",
       "       [-0.06205556,  0.00694444, -0.1495    , -0.06888889],\n",
       "       [ 1.335932  , -0.1495    ,  3.218436  ,  1.48304   ],\n",
       "       [ 0.61559111, -0.06888889,  1.48304   ,  0.68337778]])"
      ]
     },
     "execution_count": 21,
     "metadata": {},
     "output_type": "execute_result"
    }
   ],
   "source": [
    "#Subtração da média da versicolor\n",
    "multi_vi=[]\n",
    "for i in range(len(mean_total)):\n",
    "    multi_vi.append([mean_virginica_lista[i][0]] - mean_total[i][0])\n",
    "multi_vi\n",
    "\n",
    "#Transposta do resultado\n",
    "multi_vi = np.array(multi_vi)\n",
    "multi_vi_transpose = multi_vi.transpose()\n",
    "multi_vi_transpose\n",
    "\n",
    "#Sb setosa\n",
    "Sb_Virginica = np.matmul(multi_vi,multi_vi_transpose)\n",
    "Sb_Virginica"
   ]
  },
  {
   "cell_type": "markdown",
   "metadata": {},
   "source": [
    "#### Sb "
   ]
  },
  {
   "cell_type": "code",
   "execution_count": 22,
   "metadata": {
    "ExecuteTime": {
     "end_time": "2020-10-22T19:36:22.419614Z",
     "start_time": "2020-10-22T19:36:22.399669Z"
    },
    "scrolled": true
   },
   "outputs": [
    {
     "data": {
      "text/plain": [
       "[[63.21213333333326, -19.952666666666712, 165.2483999999999, 71.2793333333333],\n",
       " [-19.952666666666712,\n",
       "  11.344933333333353,\n",
       "  -57.23960000000009,\n",
       "  -22.932666666666712],\n",
       " [165.2483999999999,\n",
       "  -57.23960000000009,\n",
       "  437.10279999999983,\n",
       "  186.77399999999994],\n",
       " [71.2793333333333,\n",
       "  -22.932666666666712,\n",
       "  186.77399999999994,\n",
       "  80.41333333333333]]"
      ]
     },
     "execution_count": 22,
     "metadata": {},
     "output_type": "execute_result"
    }
   ],
   "source": [
    "#Soma da matriz Sb de cada classe e multiplicação por Ni\n",
    "Ni = 50\n",
    "listah=[]\n",
    "for i in range(4):\n",
    "    soma=0\n",
    "    for j in range(4):\n",
    "        soma = Ni * (Sb_Setosa[i][j] +Sb_Versicolor[i][j] +Sb_Virginica[i][j])\n",
    "        listah.append(soma)\n",
    "\n",
    "#Reshape into a 4x4 matrix        \n",
    "Sb = [listah[x:x+4] for x in range(0, len(listah), 4)]\n",
    "Sb"
   ]
  },
  {
   "cell_type": "markdown",
   "metadata": {},
   "source": [
    "###  Cálculo do autovalor e autovetor"
   ]
  },
  {
   "cell_type": "markdown",
   "metadata": {
    "ExecuteTime": {
     "end_time": "2020-10-22T18:36:26.656518Z",
     "start_time": "2020-10-22T18:36:26.647542Z"
    }
   },
   "source": [
    "$ \n",
    "𝑆w^{−1}* 𝑆b \n",
    "$"
   ]
  },
  {
   "cell_type": "code",
   "execution_count": 23,
   "metadata": {
    "ExecuteTime": {
     "end_time": "2020-10-22T19:36:22.450531Z",
     "start_time": "2020-10-22T19:36:22.425600Z"
    }
   },
   "outputs": [
    {
     "data": {
      "text/plain": [
       "[[-3.058369391467145,\n",
       "  1.0813826444329417,\n",
       "  -8.111922702319275,\n",
       "  -3.458649872345982],\n",
       " [-5.561639262673131,\n",
       "  2.1782186630757585,\n",
       "  -14.964611937241006,\n",
       "  -6.307739505812652],\n",
       " [8.077438781883151,\n",
       "  -2.9427185421935196,\n",
       "  21.51159090073163,\n",
       "  9.142064681969181],\n",
       " [10.497081867684766,\n",
       "  -3.4198544912930533,\n",
       "  27.54852481603696,\n",
       "  11.845880068560824]]"
      ]
     },
     "execution_count": 23,
     "metadata": {},
     "output_type": "execute_result"
    }
   ],
   "source": [
    "# Cálculo de Sw-1 * Sb\n",
    "matrix = multiply_matrix_matrix(matriz_inversa(Sw),Sb)\n",
    "matrix"
   ]
  },
  {
   "cell_type": "markdown",
   "metadata": {},
   "source": [
    "#### Autovalor\n",
    "\n",
    "É esperado que tenhamos (g – 1) nonzero eigenvalues, onde g - número de classes.<br>\n",
    "Portanto, teremos 3-1 = 2 eigenvalues diferentes de zero."
   ]
  },
  {
   "cell_type": "code",
   "execution_count": 24,
   "metadata": {
    "ExecuteTime": {
     "end_time": "2020-10-22T19:36:22.481449Z",
     "start_time": "2020-10-22T19:36:22.454521Z"
    }
   },
   "outputs": [
    {
     "name": "stdout",
     "output_type": "stream",
     "text": [
      "Autovalor 1: 3.22e+01\n",
      "Autovalor 2: 2.85e-01\n",
      "Autovalor 3: 1.04e-15\n",
      "Autovalor 4: 1.04e-15\n"
     ]
    }
   ],
   "source": [
    "# Utilização de fórmula para obter os autovalores, que são números complexos\n",
    "eig_val = np.linalg.eig(matrix)[0]\n",
    "\n",
    "# Printando de maneira organizada somente a parte real\n",
    "for i in range(len(eig_val)):\n",
    "    print('Autovalor {:}: {:.2e}'.format(i+1, eig_val[i].real))"
   ]
  },
  {
   "cell_type": "markdown",
   "metadata": {},
   "source": [
    "Notar que os autovalores já estão em ordem descrescente, portanto, podemos descartar os autovalores 3 e 4, pois são muito pequenos (aproximadamente iguais a zero). "
   ]
  },
  {
   "cell_type": "markdown",
   "metadata": {},
   "source": [
    "#### Autovetor (W)"
   ]
  },
  {
   "cell_type": "code",
   "execution_count": 25,
   "metadata": {
    "ExecuteTime": {
     "end_time": "2020-10-22T19:36:22.497406Z",
     "start_time": "2020-10-22T19:36:22.485438Z"
    }
   },
   "outputs": [
    {
     "name": "stdout",
     "output_type": "stream",
     "text": [
      "\n",
      "Eigenvector 1: \n",
      "[[ 0.20874182]\n",
      " [ 0.38620369]\n",
      " [-0.55401172]\n",
      " [-0.7073504 ]]\n",
      "\n",
      "Eigenvector 2: \n",
      "[[-0.00653196]\n",
      " [-0.58661055]\n",
      " [ 0.25256154]\n",
      " [-0.76945309]]\n",
      "\n",
      "Eigenvector 3: \n",
      "[[-0.69104857]\n",
      " [ 0.31072357]\n",
      " [ 0.3104214 ]\n",
      " [-0.01984056]]\n",
      "\n",
      "Eigenvector 4: \n",
      "[[-0.69104857]\n",
      " [ 0.31072357]\n",
      " [ 0.3104214 ]\n",
      " [-0.01984056]]\n"
     ]
    }
   ],
   "source": [
    "# Utilização de fórmula para obter os autovetores correspondentes, que são números complexos\n",
    "eig_vecs = np.linalg.eig(matrix)[1]\n",
    "\n",
    "# Printando de maneira organizada somente a parte real\n",
    "for i in range(len(eig_val)):\n",
    "    eigvec_sc = eig_vecs[:,i].reshape(4,1)   \n",
    "    print('\\nEigenvector {}: \\n{}'.format(i+1, eigvec_sc.real))"
   ]
  },
  {
   "cell_type": "markdown",
   "metadata": {},
   "source": [
    "Como descartamos os autovalores 3 e 4, ficamos apenas com os autovetores correspondentes 1 e 2."
   ]
  },
  {
   "cell_type": "code",
   "execution_count": 26,
   "metadata": {
    "ExecuteTime": {
     "end_time": "2020-10-22T19:36:22.527328Z",
     "start_time": "2020-10-22T19:36:22.501395Z"
    }
   },
   "outputs": [
    {
     "data": {
      "text/plain": [
       "[[0.20874182147455314, -0.006531964047186783],\n",
       " [0.3862036867550528, -0.5866105531246786],\n",
       " [-0.5540117155528652, 0.2525615400443024],\n",
       " [-0.7073503964333815, -0.7694530920718267]]"
      ]
     },
     "execution_count": 26,
     "metadata": {},
     "output_type": "execute_result"
    }
   ],
   "source": [
    "#Cálculo final de W\n",
    "W =[[eig_vecs.real[0][0],eig_vecs.real[0][1]],\n",
    "    [eig_vecs.real[1][0],eig_vecs.real[1][1]],\n",
    "    [eig_vecs.real[2][0],eig_vecs.real[2][1]],\n",
    "    [eig_vecs.real[3][0],eig_vecs.real[3][1]]]\n",
    "W"
   ]
  },
  {
   "cell_type": "markdown",
   "metadata": {},
   "source": [
    "### Transforming the samples into the new subspace"
   ]
  },
  {
   "cell_type": "code",
   "execution_count": 27,
   "metadata": {
    "ExecuteTime": {
     "end_time": "2020-10-22T19:36:22.543283Z",
     "start_time": "2020-10-22T19:36:22.531315Z"
    }
   },
   "outputs": [],
   "source": [
    "X_lda = multiply_matrix_matrix(X,W)\n",
    "\n",
    "#Transform the multiply result into a array to get the real part\n",
    "X_lda = np.array(multiply_matrix_matrix(X,W)).real"
   ]
  },
  {
   "cell_type": "markdown",
   "metadata": {},
   "source": [
    "### Graphic of result"
   ]
  },
  {
   "cell_type": "code",
   "execution_count": 28,
   "metadata": {
    "ExecuteTime": {
     "end_time": "2020-10-22T19:36:22.936232Z",
     "start_time": "2020-10-22T19:36:22.546276Z"
    }
   },
   "outputs": [
    {
     "data": {
      "image/png": "[encoded data removed]",
      "text/plain": [
       "<Figure size 432x288 with 1 Axes>"
      ]
     },
     "metadata": {
      "needs_background": "light"
     },
     "output_type": "display_data"
    }
   ],
   "source": [
    "label_dict = {0: 'Setosa', 1: 'Versicolor', 2:'Virginica'}\n",
    "for label,marker,color in zip(\n",
    "    range(0,3),('^', 's', 'o'),('blue', 'red', 'green')):\n",
    "\n",
    "    plt.scatter(x=X_lda[:,0].real[y == label],\n",
    "            y=X_lda[:,1].real[y == label],\n",
    "            marker=marker,\n",
    "            color=color,\n",
    "            alpha=0.5,\n",
    "            label=label_dict[label]\n",
    "            )\n",
    "leg = plt.legend(loc='upper right', fancybox=True)\n",
    "leg.get_frame().set_alpha(0.5)"
   ]
  },
  {
   "cell_type": "markdown",
   "metadata": {},
   "source": [
    "## Exercício 2"
   ]
  },
  {
   "cell_type": "markdown",
   "metadata": {},
   "source": [
    "- Implementa o PCA+LDA e o use para a classificação dos dados de Iris de Fisher:\n",
    "- Teste com 1, 2 e 3 Componentes Principais.\n",
    "- Compare as retas geradas pelos dois métodos."
   ]
  },
  {
   "cell_type": "code",
   "execution_count": 29,
   "metadata": {
    "ExecuteTime": {
     "end_time": "2020-10-22T19:36:22.952191Z",
     "start_time": "2020-10-22T19:36:22.938228Z"
    }
   },
   "outputs": [],
   "source": [
    "#Subtraindo a média para definição do novo Dataset:\n",
    "\n",
    "def subtract_mean(x,y,z,f):\n",
    "    new_X = [i - calculo_mean(x) for i in x]\n",
    "    new_Y = [i - calculo_mean(y) for i in y]\n",
    "    new_Z = [i - calculo_mean(z) for i in z]\n",
    "    new_F = [i - calculo_mean(f) for i in f]\n",
    "    \n",
    "    dataset =[[i,j,z,f] for i, j, z,f in zip(new_X, new_Y,new_Z, new_F)]\n",
    "    return dataset"
   ]
  },
  {
   "cell_type": "markdown",
   "metadata": {},
   "source": [
    "### 1 Componente Principal"
   ]
  },
  {
   "cell_type": "code",
   "execution_count": 30,
   "metadata": {
    "ExecuteTime": {
     "end_time": "2020-10-22T19:36:23.124730Z",
     "start_time": "2020-10-22T19:36:22.954185Z"
    }
   },
   "outputs": [],
   "source": [
    "#Checando a resposta\n",
    "import numpy as np\n",
    "from sklearn.decomposition import PCA\n",
    "pca = PCA(n_components = 1)\n",
    "pca.fit(X)\n",
    "Transformed_X = pca.transform(X)\n",
    "#Transformed_X\n",
    "pca .components_"
   ]
  },
  {
   "cell_type": "code",
   "execution_count": 31,
   "metadata": {
    "ExecuteTime": {
     "end_time": "2020-10-22T19:36:23.140686Z",
     "start_time": "2020-10-22T19:36:23.126725Z"
    }
   },
   "outputs": [
    {
     "data": {
      "text/plain": [
       "array([[ 0.36138659, -0.08452251,  0.85667061,  0.3582892 ]])"
      ]
     },
     "execution_count": 31,
     "metadata": {},
     "output_type": "execute_result"
    }
   ],
   "source": [
    "pca .components_"
   ]
  },
  {
   "cell_type": "code",
   "execution_count": 32,
   "metadata": {
    "ExecuteTime": {
     "end_time": "2020-10-22T19:36:23.266351Z",
     "start_time": "2020-10-22T19:36:23.142682Z"
    }
   },
   "outputs": [
    {
     "data": {
      "text/plain": [
       "[[-0.2686306998937908],\n",
       " [-0.34090801825086414],\n",
       " [-0.41318533660793777],\n",
       " [-0.44932399578647475],\n",
       " [-0.30476935907232744],\n",
       " [-0.16021472235818013],\n",
       " [-0.44932399578647475],\n",
       " [-0.30476935907232744],\n",
       " [-0.5216013141435482],\n",
       " [-0.34090801825086414],\n",
       " [-0.16021472235818013],\n",
       " [-0.3770466774294011],\n",
       " [-0.3770466774294011],\n",
       " [-0.5577399733220851],\n",
       " [-0.015660085644033133],\n",
       " [-0.051798744822569805],\n",
       " [-0.16021472235818013],\n",
       " [-0.2686306998937908],\n",
       " [-0.051798744822569805],\n",
       " [-0.2686306998937908],\n",
       " [-0.16021472235818013],\n",
       " [-0.2686306998937908],\n",
       " [-0.44932399578647475],\n",
       " [-0.2686306998937908],\n",
       " [-0.3770466774294011],\n",
       " [-0.30476935907232744],\n",
       " [-0.30476935907232744],\n",
       " [-0.23249204071525378],\n",
       " [-0.23249204071525378],\n",
       " [-0.41318533660793777],\n",
       " [-0.3770466774294011],\n",
       " [-0.16021472235818013],\n",
       " [-0.23249204071525378],\n",
       " [-0.12407606317964347],\n",
       " [-0.34090801825086414],\n",
       " [-0.30476935907232744],\n",
       " [-0.12407606317964347],\n",
       " [-0.34090801825086414],\n",
       " [-0.5216013141435482],\n",
       " [-0.2686306998937908],\n",
       " [-0.30476935907232744],\n",
       " [-0.48546265496501145],\n",
       " [-0.5216013141435482],\n",
       " [-0.30476935907232744],\n",
       " [-0.2686306998937908],\n",
       " [-0.3770466774294011],\n",
       " [-0.2686306998937908],\n",
       " [-0.44932399578647475],\n",
       " [-0.1963533815367171],\n",
       " [-0.30476935907232744],\n",
       " [0.4180038244984085],\n",
       " [0.20117186942718784],\n",
       " [0.3818651653198718],\n",
       " [-0.12407606317964347],\n",
       " [0.23731052860572452],\n",
       " [-0.051798744822569805],\n",
       " [0.16503321024865086],\n",
       " [-0.34090801825086414],\n",
       " [0.2734491877842612],\n",
       " [-0.23249204071525378],\n",
       " [-0.30476935907232744],\n",
       " [0.020478573534503854],\n",
       " [0.056617232713040526],\n",
       " [0.0927558918915772],\n",
       " [-0.08793740400110679],\n",
       " [0.3095878469627982],\n",
       " [-0.08793740400110679],\n",
       " [-0.015660085644033133],\n",
       " [0.1288945510701142],\n",
       " [-0.08793740400110679],\n",
       " [0.020478573534503854],\n",
       " [0.0927558918915772],\n",
       " [0.16503321024865086],\n",
       " [0.0927558918915772],\n",
       " [0.20117186942718784],\n",
       " [0.2734491877842612],\n",
       " [0.3457265061413348],\n",
       " [0.3095878469627982],\n",
       " [0.056617232713040526],\n",
       " [-0.051798744822569805],\n",
       " [-0.12407606317964347],\n",
       " [-0.12407606317964347],\n",
       " [-0.015660085644033133],\n",
       " [0.056617232713040526],\n",
       " [-0.16021472235818013],\n",
       " [0.056617232713040526],\n",
       " [0.3095878469627982],\n",
       " [0.16503321024865086],\n",
       " [-0.08793740400110679],\n",
       " [-0.12407606317964347],\n",
       " [-0.12407606317964347],\n",
       " [0.0927558918915772],\n",
       " [-0.015660085644033133],\n",
       " [-0.30476935907232744],\n",
       " [-0.08793740400110679],\n",
       " [-0.051798744822569805],\n",
       " [-0.051798744822569805],\n",
       " [0.1288945510701142],\n",
       " [-0.2686306998937908],\n",
       " [-0.051798744822569805],\n",
       " [0.16503321024865086],\n",
       " [-0.015660085644033133],\n",
       " [0.45414248367694515],\n",
       " [0.16503321024865086],\n",
       " [0.23731052860572452],\n",
       " [0.6348357795696291],\n",
       " [-0.34090801825086414],\n",
       " [0.5264198020340188],\n",
       " [0.3095878469627982],\n",
       " [0.49028114285548213],\n",
       " [0.23731052860572452],\n",
       " [0.20117186942718784],\n",
       " [0.3457265061413348],\n",
       " [-0.051798744822569805],\n",
       " [-0.015660085644033133],\n",
       " [0.20117186942718784],\n",
       " [0.23731052860572452],\n",
       " [0.6709744387481661],\n",
       " [0.6709744387481661],\n",
       " [0.056617232713040526],\n",
       " [0.3818651653198718],\n",
       " [-0.08793740400110679],\n",
       " [0.6709744387481661],\n",
       " [0.16503321024865086],\n",
       " [0.3095878469627982],\n",
       " [0.49028114285548213],\n",
       " [0.1288945510701142],\n",
       " [0.0927558918915772],\n",
       " [0.20117186942718784],\n",
       " [0.49028114285548213],\n",
       " [0.5625584612125558],\n",
       " [0.7432517571052398],\n",
       " [0.20117186942718784],\n",
       " [0.16503321024865086],\n",
       " [0.0927558918915772],\n",
       " [0.6709744387481661],\n",
       " [0.16503321024865086],\n",
       " [0.20117186942718784],\n",
       " [0.056617232713040526],\n",
       " [0.3818651653198718],\n",
       " [0.3095878469627982],\n",
       " [0.3818651653198718],\n",
       " [-0.015660085644033133],\n",
       " [0.3457265061413348],\n",
       " [0.3095878469627982],\n",
       " [0.3095878469627982],\n",
       " [0.16503321024865086],\n",
       " [0.23731052860572452],\n",
       " [0.1288945510701142],\n",
       " [0.020478573534503854]]"
      ]
     },
     "execution_count": 32,
     "metadata": {},
     "output_type": "execute_result"
    }
   ],
   "source": [
    "# 1° Passo - Transformando as entradas em listas\n",
    "x1 = X[:,0]\n",
    "x2 = X[:,1]\n",
    "x3 = X[:,2]\n",
    "x4 = X[:,3]\n",
    "\n",
    "#Defining dataset to apply PCA\n",
    "dataset_iris= X\n",
    "\n",
    "#2° Passo - Subtraindo a média\n",
    "new_dataset_iris = subtract_mean(x1,x2,x3,x4)\n",
    "new_dataset_iris\n",
    "\n",
    "#3° Passo - Cálculo da matriz de covariância\n",
    "covariance_matrix_iris = np.cov(new_dataset_iris, rowvar=False)\n",
    "covariance_matrix_iris\n",
    "\n",
    "#4° Passo - Encontrar os autovalores, checar se estão na ordem\n",
    "autovalores_iris = np.linalg.eig(covariance_matrix_iris)[0]\n",
    "autovalores_iris\n",
    "\n",
    "#4° Passo - Encontrar os autovetores\n",
    "autovetores_alps = np.linalg.eig(covariance_matrix_iris)[1]\n",
    "autovetores_alps\n",
    "\n",
    "#5° Passo - Escolher os componentes\n",
    "FeatureVector = [autovetores_alps[0][0],autovetores_alps[1][0],autovetores_alps[2][0],autovetores_alps[3][0]]\n",
    "FeatureVector_transposed = [[autovetores_alps[0][0]],[autovetores_alps[1][0]],[autovetores_alps[2][0]],[autovetores_alps[3][0]]]\n",
    "FeatureVector_transposed\n",
    "\n",
    "#6° Passo - Derive the new \n",
    "#Multiplicar os autovetores pela matriz após subtração da média:\n",
    "#Conferir resultado :\n",
    "#np.matmul(pca.components_,transposta(new_dataset_alps))\n",
    "pca_iris = multiply_matrix_matrix(FeatureVector_transposed,transposta(new_dataset_iris))\n",
    "pca_iris\n",
    "\n",
    "pca_iris_1d=[]\n",
    "for i in pca_iris[0]:\n",
    "    pca_iris_1d.append([i])\n",
    "pca_iris_1d"
   ]
  },
  {
   "cell_type": "code",
   "execution_count": 33,
   "metadata": {
    "ExecuteTime": {
     "end_time": "2020-10-22T19:36:23.281311Z",
     "start_time": "2020-10-22T19:36:23.269343Z"
    }
   },
   "outputs": [],
   "source": [
    "#PCA\n",
    "#Separate setosa samples\n",
    "setosa_1d = []\n",
    "for i in range(classe[0][1]):\n",
    "   setosa_1d.append(pca_iris_1d[i])\n",
    "#Separate versicolor samples\n",
    "versicolor_1d = []\n",
    "for i in range(50,50+classe[1][1]):\n",
    "   versicolor_1d.append(pca_iris_1d[i])\n",
    "#Separate virginica samples\n",
    "virginica_1d = []\n",
    "for i in range(100,100+classe[2][1]):\n",
    "   virginica_1d.append(pca_iris_1d[i])"
   ]
  },
  {
   "cell_type": "markdown",
   "metadata": {},
   "source": [
    "### PCA"
   ]
  },
  {
   "cell_type": "code",
   "execution_count": null,
   "metadata": {
    "ExecuteTime": {
     "end_time": "2020-10-22T19:36:23.832836Z",
     "start_time": "2020-10-22T19:36:20.513Z"
    }
   },
   "outputs": [],
   "source": [
    "#MEAN\n",
    "#Setosa\n",
    "mean_setosa_1d = calculo_mean(setosa_1d)\n",
    "\n",
    "#Separação em matriz coluna\n",
    "mean_setosa_1d_lista=[]\n",
    "for i in mean_setosa_1d:\n",
    "    mean_setosa_1d_lista.append([i])\n",
    "mean_setosa_1d_lista\n",
    "\n",
    "#Versicolor\n",
    "#Separação em matriz coluna\n",
    "mean_versicolor_1d_lista=[]\n",
    "for i in mean_versicolor_1d:\n",
    "    mean_versicolor_1d_lista.append([i])\n",
    "mean_versicolor_1d_lista\n",
    "\n",
    "#Virginica\n",
    "#Separação em matriz coluna\n",
    "mean_virginica_1d = calculo_mean(virginica_1d)\n",
    "\n",
    "mean_virginica_1d_lista=[]\n",
    "for i in mean_virginica_1d:\n",
    "    mean_virginica_1d_lista.append([i])\n",
    "mean_virginica_1d_lista"
   ]
  },
  {
   "cell_type": "markdown",
   "metadata": {},
   "source": [
    "### 2 Componentes Principais"
   ]
  },
  {
   "cell_type": "code",
   "execution_count": 119,
   "metadata": {
    "ExecuteTime": {
     "end_time": "2020-10-22T20:02:39.722620Z",
     "start_time": "2020-10-22T20:02:39.692701Z"
    }
   },
   "outputs": [
    {
     "data": {
      "text/plain": [
       "[[-2.6841256259695374, 0.3193972465851007],\n",
       " [-2.714141687294326, -0.17700122506478055],\n",
       " [-2.888990569059297, -0.14494942608555778],\n",
       " [-2.74534285564141, -0.31829897925191636],\n",
       " [-2.728716536554531, 0.32675451293491964],\n",
       " [-2.2808596328444932, 0.7413304490629147],\n",
       " [-2.8205377507406095, -0.089461384528569],\n",
       " [-2.6261449731466335, 0.1633849596983284],\n",
       " [-2.8863827317805533, -0.578311754186704],\n",
       " [-2.672755797820954, -0.11377424587411718],\n",
       " [-2.506947090651857, 0.6450688986485735],\n",
       " [-2.6127552309087236, 0.014729939161374175],\n",
       " [-2.786109266188018, -0.23511200020171885],\n",
       " [-3.2238037438656524, -0.5113945870063824],\n",
       " [-2.6447503899420313, 1.1787646364375746],\n",
       " [-2.386039033531135, 1.3380623304006523],\n",
       " [-2.6235278752244278, 0.8106795141812576],\n",
       " [-2.6482967062543823, 0.31184914459335444],\n",
       " [-2.199820323617581, 0.8728390389622105],\n",
       " [-2.5879863998787696, 0.5135603087492767],\n",
       " [-2.310256215242519, 0.39134593565389364],\n",
       " [-2.5437052287571573, 0.432996063279028],\n",
       " [-3.2159394156486125, 0.13346806953852564],\n",
       " [-2.3027331822262074, 0.09870885481409922],\n",
       " [-2.355754049123773, -0.037281859677382886],\n",
       " [-2.5066689069258223, -0.14601688049526812],\n",
       " [-2.4688200731213397, 0.1309514894352501],\n",
       " [-2.562319906196017, 0.3677188574341995],\n",
       " [-2.6395347153845434, 0.31203998023528245],\n",
       " [-2.6319893872743463, -0.19696122492431495],\n",
       " [-2.5873984766893527, -0.20431849127413376],\n",
       " [-2.409932497002176, 0.41092426422957257],\n",
       " [-2.648862334349913, 0.8133638202969617],\n",
       " [-2.5987367491005884, 1.0931457594493565],\n",
       " [-2.6369268781057995, -0.12132234786586342],\n",
       " [-2.86624165211867, 0.06936447158008026],\n",
       " [-2.6252380498503736, 0.5993700213794233],\n",
       " [-2.8006841154482225, 0.268643737797982],\n",
       " [-2.980502043781994, -0.4879583444286156],\n",
       " [-2.5900063139680967, 0.22904383682701224],\n",
       " [-2.770102426027903, 0.2635275337442563],\n",
       " [-2.8493687050431036, -0.9409605736411968],\n",
       " [-2.997406546594908, -0.34192605747161003],\n",
       " [-2.405614485097486, 0.18887142893026035],\n",
       " [-2.20948923778368, 0.4366631416391876],\n",
       " [-2.7144514267577082, -0.2502082041852114],\n",
       " [-2.5381482589989406, 0.5037711444614372],\n",
       " [-2.8394621676428504, -0.22794556949382794],\n",
       " [-2.543085749830394, 0.579410021519889],\n",
       " [-2.70335978233516, 0.10770608249941134],\n",
       " [1.2848256888583502, 0.685160470467308],\n",
       " [0.9324885323123175, 0.3183336382626286],\n",
       " [1.4643023219913929, 0.5042628153092037],\n",
       " [0.1833177199583707, -0.8279590118206324],\n",
       " [1.088103257711665, 0.07459067519771581],\n",
       " [0.6416690842580774, -0.418246871568679],\n",
       " [1.095060662632446, 0.28346827006152886],\n",
       " [-0.7491226698296569, -1.0048909611818955],\n",
       " [1.0441318260534347, 0.228361899788395],\n",
       " [-0.008745404082895897, -0.7230819050048342],\n",
       " [-0.5078408838353254, -1.2659711905263937],\n",
       " [0.511698557447597, -0.10398123549904048],\n",
       " [0.2649765081120463, -0.5500364636804753],\n",
       " [0.9849345104708896, -0.12481785412635774],\n",
       " [-0.17392537168176816, -0.25485420870258935],\n",
       " [0.9278607809442465, 0.4671794944415101],\n",
       " [0.6602837616969367, -0.35296966572385047],\n",
       " [0.23610499331767132, -0.3336107668249158],\n",
       " [0.9447337280198129, -0.5431455507797668],\n",
       " [0.04522697629869978, -0.5838343774718647],\n",
       " [1.1162831773500492, -0.08461685219478793],\n",
       " [0.35788841799730675, -0.06892503165601428],\n",
       " [1.2981838753589134, -0.3277873083339178],\n",
       " [0.9217289224470364, -0.182737793621368],\n",
       " [0.7148533259114109, 0.14905594436978425],\n",
       " [0.9001743731721663, 0.3285044738343228],\n",
       " [1.3320244367220875, 0.24444087601634293],\n",
       " [1.5578021550660692, 0.26749544731025426],\n",
       " [0.813290649817541, -0.16335030068761644],\n",
       " [-0.30558377802430925, -0.3682621897545883],\n",
       " [-0.06812649206836358, -0.7051721317994656],\n",
       " [-0.18962247237850188, -0.6802867635281337],\n",
       " [0.13642871155801461, -0.314032438249237],\n",
       " [1.3800264359155108, -0.4209542873138821],\n",
       " [0.5880064433398634, -0.48428741998121827],\n",
       " [0.8068583125004115, 0.19418231471315078],\n",
       " [1.2206908824443519, 0.4076195936110067],\n",
       " [0.8150952357665995, -0.3720370599095022],\n",
       " [0.24595767988669215, -0.26852439662201505],\n",
       " [0.16641321714545684, -0.6819267248636269],\n",
       " [0.46480028840377924, -0.6707115445117207],\n",
       " [0.8908151984694488, -0.034464444368269155],\n",
       " [0.23054802355945514, -0.40438584800732547],\n",
       " [-0.7045317592446634, -1.0122482275317142],\n",
       " [0.3569814947010469, -0.5049100933371088],\n",
       " [0.33193447994505804, -0.21265468378117008],\n",
       " [0.3762156510666701, -0.2932189292514191],\n",
       " [0.6425760075543373, 0.017738190112415904],\n",
       " [-0.9064698649488359, -0.756093366599014],\n",
       " [0.29900084187814296, -0.3488978064503361],\n",
       " [2.531192727803627, -0.00984910949880162],\n",
       " [1.4152358767039022, -0.5749163475464893],\n",
       " [2.6166760159956888, 0.3439031513417341],\n",
       " [1.971531053043435, -0.17972790435224564],\n",
       " [2.350005920044639, -0.04026094714253105],\n",
       " [3.397038736053257, 0.550836673028055],\n",
       " [0.521232243909774, -1.192758727000645],\n",
       " [2.932587068993688, 0.3555000029774958],\n",
       " [2.321228816573377, -0.24383150231069114],\n",
       " [2.9167509667860707, 0.7827919488152785],\n",
       " [1.6617741536365302, 0.24222840775506704],\n",
       " [1.8034019529650904, -0.21563761733355558],\n",
       " [2.1655917960801436, 0.2162755850740246],\n",
       " [1.3461635794584512, -0.7768183473443394],\n",
       " [1.5859282238732206, -0.5396407140267181],\n",
       " [1.904456374793426, 0.11925069209197289],\n",
       " [1.9496890593990683, 0.04194325966321114],\n",
       " [3.4870553642902773, 1.1757393297134289],\n",
       " [3.7956454220728824, 0.25732297342047894],\n",
       " [1.300791712637657, -0.7611496364350637],\n",
       " [2.427817913066044, 0.3781960126170507],\n",
       " [1.1990011054655603, -0.6060915277579303],\n",
       " [3.4999200389245364, 0.4606740989118944],\n",
       " [1.3887661316914646, -0.20439932735215105],\n",
       " [2.2754305038722036, 0.33499060582167717],\n",
       " [2.61409047381083, 0.5609013551230773],\n",
       " [1.2585081605114872, -0.17970479472274672],\n",
       " [1.2911320591150202, -0.11666865117401148],\n",
       " [2.123608722773894, -0.20972947667730274],\n",
       " [2.3880030160034664, 0.4646398047087356],\n",
       " [2.8416727781038693, 0.3752691671951026],\n",
       " [3.2306736614320903, 1.3741650867930468],\n",
       " [2.159437642489049, -0.217277578669049],\n",
       " [1.444161242329509, -0.14341341045758108],\n",
       " [1.7812948100451118, -0.499901681078137],\n",
       " [3.076499931687186, 0.6880856775711756],\n",
       " [2.1442433143020807, 0.1400642010897903],\n",
       " [1.9050981488140748, 0.04930052601303001],\n",
       " [1.1693263393414997, -0.16499026202310954],\n",
       " [2.1076111432572406, 0.37228787196079766],\n",
       " [2.3141547052355986, 0.1836512791690191],\n",
       " [1.9222678009025997, 0.40920346681606234],\n",
       " [1.4152358767039022, -0.5749163475464893],\n",
       " [2.5630133750774746, 0.27786260292919474],\n",
       " [2.418746182732824, 0.3047981978546921],\n",
       " [1.944109794546967, 0.18753230280060526],\n",
       " [1.5271666148145169, -0.37531698258048846],\n",
       " [1.7643457170444283, 0.07885885451847569],\n",
       " [1.9009416142184226, 0.11662795851202398],\n",
       " [1.3901888619479132, -0.28266093799055053]]"
      ]
     },
     "execution_count": 119,
     "metadata": {},
     "output_type": "execute_result"
    }
   ],
   "source": [
    "# 1° Passo,2° Passo e 3° Passo são iguais aos anteriores\n",
    "\n",
    "#4° Passo - Encontrar os autovalores, checar se estão na ordem\n",
    "autovalores_iris = np.linalg.eig(covariance_matrix_iris)[0]\n",
    "autovalores_iris\n",
    "\n",
    "#4° Passo - Encontrar os autovetores\n",
    "autovetores_alps = np.linalg.eig(covariance_matrix_iris)[1]\n",
    "autovetores_alps\n",
    "\n",
    "#5° Passo - Escolher os componentes\n",
    "FeatureVector = [[autovetores_alps[0][0],autovetores_alps[1][0],autovetores_alps[2][0],autovetores_alps[3][0]],\n",
    "                [-autovetores_alps[0][1],-autovetores_alps[1][1],-autovetores_alps[2][1],-autovetores_alps[3][1]]]\n",
    "#6° Passo - Derive the new dataset\n",
    "pca_iris_2 = multiply_matrix_matrix(np.array(FeatureVector),transposta(new_dataset_iris))\n",
    "pca_iris_2\n",
    "\n",
    "#7° Passo - Reorganizing\n",
    "pca_iris_2d=[]\n",
    "for i in range(150):\n",
    "    x=[pca_iris_2[0][i],pca_iris_2[1][i]]\n",
    "    pca_iris_2d.append(x)\n",
    "pca_iris_2d\n"
   ]
  },
  {
   "cell_type": "markdown",
   "metadata": {},
   "source": [
    "### 3 Componentes Principais"
   ]
  },
  {
   "cell_type": "code",
   "execution_count": 64,
   "metadata": {
    "ExecuteTime": {
     "end_time": "2020-10-22T19:46:05.763161Z",
     "start_time": "2020-10-22T19:46:05.744179Z"
    }
   },
   "outputs": [
    {
     "data": {
      "text/plain": [
       "[[0.36138659178536797,\n",
       "  -0.08452251406456912,\n",
       "  0.8566706059498352,\n",
       "  0.35828919715155066],\n",
       " [0.6565887712868413,\n",
       "  0.730161434785027,\n",
       "  -0.17337266279585706,\n",
       "  -0.07548101991746264],\n",
       " [-0.582029851306065,\n",
       "  0.5979108301000877,\n",
       "  0.07623607582096412,\n",
       "  0.5458314320200734]]"
      ]
     },
     "execution_count": 64,
     "metadata": {},
     "output_type": "execute_result"
    }
   ],
   "source": [
    "# 1° Passo,2° Passo e 3° Passo são iguais aos anteriores\n",
    "\n",
    "#4° Passo - Encontrar os autovalores, checar se estão na ordem\n",
    "autovalores_iris = np.linalg.eig(covariance_matrix_iris)[0]\n",
    "autovalores_iris\n",
    "\n",
    "#4° Passo - Encontrar os autovetores\n",
    "autovetores_alps = np.linalg.eig(covariance_matrix_iris)[1]\n",
    "autovetores_alps\n",
    "\n",
    "#5° Passo - Escolher os componentes\n",
    "FeatureVector = [[autovetores_alps[0][0],autovetores_alps[1][0],autovetores_alps[2][0],autovetores_alps[3][0]],\n",
    "                [-autovetores_alps[0][1],-autovetores_alps[1][1],-autovetores_alps[2][1],-autovetores_alps[3][1]],\n",
    "                [autovetores_alps[0][2],autovetores_alps[1][2],autovetores_alps[2][2],autovetores_alps[3][2]]]\n",
    "FeatureVector \n",
    "\n",
    "\n",
    "#6° Passo - Derive the new dataset\n",
    "pca_iris_3 = multiply_matrix_matrix(np.array(FeatureVector),transposta(new_dataset_iris))\n",
    "pca_iris_3\n",
    "\n",
    "#7° Passo - Reorganizing\n",
    "pca_iris_3d=[]\n",
    "for i in range(150):\n",
    "    x=[pca_iris_3[0][i],pca_iris_3[1][i],pca_iris_3[2][i]]\n",
    "    pca_iris_3d.append(x)\n",
    "pca_iris_3d"
   ]
  }
 ],
 "metadata": {
  "hide_input": false,
  "kernelspec": {
   "display_name": "Python 3",
   "language": "python",
   "name": "python3"
  },
  "language_info": {
   "codemirror_mode": {
    "name": "ipython",
    "version": 3
   },
   "file_extension": ".py",
   "mimetype": "text/x-python",
   "name": "python",
   "nbconvert_exporter": "python",
   "pygments_lexer": "ipython3",
   "version": "3.8.5"
  },
  "toc": {
   "base_numbering": 1,
   "nav_menu": {},
   "number_sections": true,
   "sideBar": true,
   "skip_h1_title": false,
   "title_cell": "Table of Contents",
   "title_sidebar": "Contents",
   "toc_cell": false,
   "toc_position": {
    "height": "calc(100% - 180px)",
    "left": "10px",
    "top": "150px",
    "width": "342.292px"
   },
   "toc_section_display": true,
   "toc_window_display": true
  },
  "varInspector": {
   "cols": {
    "lenName": 16,
    "lenType": 16,
    "lenVar": 40
   },
   "kernels_config": {
    "python": {
     "delete_cmd_postfix": "",
     "delete_cmd_prefix": "del ",
     "library": "var_list.py",
     "varRefreshCmd": "print(var_dic_list())"
    },
    "r": {
     "delete_cmd_postfix": ") ",
     "delete_cmd_prefix": "rm(",
     "library": "var_list.r",
     "varRefreshCmd": "cat(var_dic_list()) "
    }
   },
   "types_to_exclude": [
    "module",
    "function",
    "builtin_function_or_method",
    "instance",
    "_Feature"
   ],
   "window_display": false
  }
 },
 "nbformat": 4,
 "nbformat_minor": 4
}
