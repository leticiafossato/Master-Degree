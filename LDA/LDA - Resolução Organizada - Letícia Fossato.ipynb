{
 "cells": [
  {
   "cell_type": "markdown",
   "metadata": {
    "ExecuteTime": {
     "end_time": "2020-10-27T22:29:30.831803Z",
     "start_time": "2020-10-27T22:29:30.821829Z"
    }
   },
   "source": [
    "# Linear Discriminan Analysis"
   ]
  },
  {
   "cell_type": "markdown",
   "metadata": {},
   "source": [
    "## Import Libraries"
   ]
  },
  {
   "cell_type": "code",
   "execution_count": 1,
   "metadata": {
    "ExecuteTime": {
     "end_time": "2020-10-28T02:26:37.359355Z",
     "start_time": "2020-10-28T02:26:36.630303Z"
    }
   },
   "outputs": [],
   "source": [
    "from matplotlib import pyplot as plt\n",
    "import numpy as np"
   ]
  },
  {
   "cell_type": "markdown",
   "metadata": {},
   "source": [
    "## Defining Functions"
   ]
  },
  {
   "cell_type": "markdown",
   "metadata": {},
   "source": [
    "### Matriz de médias\n",
    "\n",
    "$ \\frac{1}{N} \\sum_{x}^{N}x $"
   ]
  },
  {
   "cell_type": "code",
   "execution_count": 2,
   "metadata": {
    "ExecuteTime": {
     "end_time": "2020-10-28T02:26:37.421189Z",
     "start_time": "2020-10-28T02:26:37.362348Z"
    }
   },
   "outputs": [],
   "source": [
    "def media(matriz):\n",
    "    \"\"\"Esta função retorna a matriz de médias:\n",
    "    Entrada: Matriz de cada classe\n",
    "    Saída:   Matriz coluna coluna com (Número de dimensões de cada classe)linhas\"\"\"\n",
    "    \n",
    "    d=[]\n",
    "     #4 dimensões\n",
    "    if len(matriz[0])==4:\n",
    "        soma=0\n",
    "        for i in range(len(matriz)):\n",
    "            soma = soma + (matriz[i][0])\n",
    "        d.append([(soma)/(len(matriz))])\n",
    "\n",
    "        soma=0\n",
    "        for i in range(len(matriz)):\n",
    "            soma = soma + (matriz[i][1])\n",
    "        d.append([(soma)/(len(matriz))])\n",
    "\n",
    "        soma=0\n",
    "        for i in range(len(matriz)):\n",
    "            soma = soma + (matriz[i][2])\n",
    "        d.append([(soma)/(len(matriz))])\n",
    "\n",
    "        soma=0\n",
    "        for i in range(len(matriz)):\n",
    "            soma = soma + (matriz[i][3])\n",
    "        d.append([(soma)/(len(matriz))])\n",
    "        return d\n",
    "\n",
    "     #3 dimensões    \n",
    "    if len(matriz[0])==3:\n",
    "        soma=0\n",
    "        for i in range(len(matriz)):\n",
    "            soma = soma + (matriz[i][0])\n",
    "        d.append([(soma)/(len(matriz))])\n",
    "\n",
    "        soma=0\n",
    "        for i in range(len(matriz)):\n",
    "            soma = soma + (matriz[i][1])\n",
    "        d.append([(soma)/(len(matriz))])\n",
    "\n",
    "        soma=0\n",
    "        for i in range(len(matriz)):\n",
    "            soma = soma + (matriz[i][2])\n",
    "        d.append([(soma)/(len(matriz))])\n",
    "        return d\n",
    "\n",
    "     #2 dimensões    \n",
    "    if len(matriz[0])==2:\n",
    "        soma=0\n",
    "        for i in range(len(matriz)):\n",
    "            soma = soma + (matriz[i][0])\n",
    "        d.append([(soma)/(len(matriz))])\n",
    "\n",
    "        soma=0\n",
    "        for i in range(len(matriz)):\n",
    "            soma = soma + (matriz[i][1])\n",
    "        d.append([(soma)/(len(matriz))])\n",
    "        return d\n",
    "\n",
    "     #1 dimensão   \n",
    "    if len(matriz[0])==1:\n",
    "        soma=0\n",
    "        for i in range(len(matriz)):\n",
    "            soma = soma + (matriz[i][0])\n",
    "        d.append([(soma)/(len(matriz))])\n",
    "        return d"
   ]
  },
  {
   "cell_type": "markdown",
   "metadata": {},
   "source": [
    "### Matriz de covariância\n",
    "\n",
    "$ \\frac{1}{Ni-1} \\sum_{j=1}^{Ni} (xij-xi)(xij-xi)^T $\n",
    "<br>\n",
    "- Ni = 50 <br>"
   ]
  },
  {
   "cell_type": "code",
   "execution_count": 3,
   "metadata": {
    "ExecuteTime": {
     "end_time": "2020-10-28T02:26:37.485019Z",
     "start_time": "2020-10-28T02:26:37.429168Z"
    }
   },
   "outputs": [],
   "source": [
    "def covariance_matrix(matriz):\n",
    "    \"Esta função retorna a matriz de covariância da matriz de entrada\"\n",
    "    #4 dimensões\n",
    "    if len(matriz[0])==4:\n",
    "        a=[]\n",
    "        mat_cov=[]\n",
    "        for i in range(len(matriz)):\n",
    "            e1 =(matriz[i][0] - media(matriz)[0][0])\n",
    "            e2 =(matriz[i][1] - media(matriz)[1][0])\n",
    "            e3 =(matriz[i][2] - media(matriz)[2][0])\n",
    "            e4 =(matriz[i][3] - media(matriz)[3][0])\n",
    "            element_cov = ([[e1],[e2],[e3],[e4]])  #subtração de cada elemento pela média correspondente\n",
    "            transpose_element_cov = np.transpose(element_cov) #multiplicação do resultado pela transposta\n",
    "            a.append(np.matmul(element_cov,transpose_element_cov)) #50 matrizes 4x4\n",
    "\n",
    "        #Soma dos elementos das matrizes resultantes\n",
    "        for j in range(len(a[0])):\n",
    "            x=0\n",
    "            for k in range(len(a[0])):\n",
    "                x=0\n",
    "                for i in range(len(a)):\n",
    "                    x = x + a[i][j][k]\n",
    "                mat_cov.append(x/(len(matriz)-1)) #dividindo para normalizar\n",
    "        mat_cov = [mat_cov[y:y+4] for y in range(0, len(mat_cov), 4)]\n",
    "        return mat_cov\n",
    "\n",
    "    #3 dimensões\n",
    "    if len(matriz[0])==3:\n",
    "        a=[]\n",
    "        mat_cov=[]\n",
    "        for i in range(len(matriz)):\n",
    "            e1 =(matriz[i][0] - media(matriz)[0][0])\n",
    "            e2 =(matriz[i][1] - media(matriz)[1][0])\n",
    "            e3 =(matriz[i][2] - media(matriz)[2][0])\n",
    "            element_cov = ([[e1],[e2],[e3]])  #subtração de cada elemento pela média correspondente\n",
    "            transpose_element_cov = np.transpose(element_cov) #multiplicação do resultado pela transposta\n",
    "            a.append(np.matmul(element_cov,transpose_element_cov)) #50 matrizes 3x3\n",
    "\n",
    "        #Soma dos elementos das matrizes resultantes\n",
    "        for j in range(len(a[0])):\n",
    "            x=0\n",
    "            for k in range(len(a[0])):\n",
    "                x=0\n",
    "                for i in range(len(a)):\n",
    "                    x = x + a[i][j][k]\n",
    "                mat_cov.append(x/(len(matriz)-1)) #dividindo para normalizar\n",
    "        mat_cov = [mat_cov[y:y+3] for y in range(0, len(mat_cov), 3)]\n",
    "        return mat_cov\n",
    "\n",
    "    #2 dimensões\n",
    "    if len(matriz[0])==2:\n",
    "        a=[]\n",
    "        mat_cov=[]\n",
    "        for i in range(len(matriz)):\n",
    "            e1 =(matriz[i][0] - media(matriz)[0][0])\n",
    "            e2 =(matriz[i][1] - media(matriz)[1][0])\n",
    "            element_cov = ([[e1],[e2]])  #subtração de cada elemento pela média correspondente\n",
    "            transpose_element_cov = np.transpose(element_cov) #multiplicação do resultado pela transposta\n",
    "            a.append(np.matmul(element_cov,transpose_element_cov)) #50 matrizes 2x2\n",
    "\n",
    "        #Soma dos elementos das matrizes resultantes\n",
    "        for j in range(len(a[0])):\n",
    "            x=0\n",
    "            for k in range(len(a[0])):\n",
    "                x=0\n",
    "                for i in range(len(a)):\n",
    "                    x = x + a[i][j][k]\n",
    "                mat_cov.append(x/(len(matriz)-1)) #dividindo para normalizar\n",
    "        mat_cov = [mat_cov[y:y+2] for y in range(0, len(mat_cov), 2)]\n",
    "        return mat_cov\n",
    "    \n",
    "    #1 dimensão\n",
    "    if len(matriz[0])==1:\n",
    "        a=[]\n",
    "        mat_cov=[]\n",
    "        for i in range(len(matriz)):\n",
    "            e1 =(matriz[i][0] - media(matriz)[0][0])\n",
    "            element_cov = ([[e1]])  #subtração de cada elemento pela média correspondente\n",
    "            transpose_element_cov = np.transpose(element_cov) #multiplicação do resultado pela transposta\n",
    "            a.append(np.matmul(element_cov,transpose_element_cov)) #50 matrizes 1x1\n",
    "\n",
    "        #Soma dos elementos das matrizes resultantes\n",
    "        for j in range(len(a[0])):\n",
    "            x=0\n",
    "            for k in range(len(a[0])):\n",
    "                x=0\n",
    "                for i in range(len(a)):\n",
    "                    x = x + a[i][j][k]\n",
    "                mat_cov.append(x/(len(matriz)-1)) #dividindo para normalizar\n",
    "        mat_cov = [mat_cov[y:y+1] for y in range(0, len(mat_cov), 1)]\n",
    "        return mat_cov"
   ]
  },
  {
   "cell_type": "markdown",
   "metadata": {},
   "source": [
    "### Within-class scatter matrix \n",
    "\n",
    "\n",
    "$ Sw = (Ni-1) \\sum_{i=1}^{g}\\sum_{j=1}^{Ni}(xij-xi)(xij-xi)^T $"
   ]
  },
  {
   "cell_type": "code",
   "execution_count": 4,
   "metadata": {
    "ExecuteTime": {
     "end_time": "2020-10-28T02:26:37.515937Z",
     "start_time": "2020-10-28T02:26:37.488011Z"
    }
   },
   "outputs": [],
   "source": [
    "def within_class_matrix(s1,s2,s3):\n",
    "    \"\"\"Esta função calcula a within class matrix das matrizes de covariância de entrada.\n",
    "    Input: 03 matrizes de covariância (pois há 03 classes)\n",
    "    Output: Within class scatter matrix, matriz com (N° de dim) linhas x (N° de dim) colunas \"\"\"\n",
    "    #4 dimensões\n",
    "    if(len(s1)==4):\n",
    "        z=[]\n",
    "        for j in range(len(s1)):\n",
    "            x=0\n",
    "            for i in range(len(s1)):\n",
    "                x=0\n",
    "                x =s1[j][i]+s2[j][i]+s3[j][i]\n",
    "                z.append(x*49) #Multiplicando por N-1\n",
    "                within_matrix = [z[y:y+4] for y in range(0, len(z), 4)]\n",
    "        return within_matrix\n",
    "    \n",
    "    #3 dimensões    \n",
    "    if(len(s1)==3):\n",
    "        z=[]\n",
    "        for j in range(len(s1)):\n",
    "            x=0\n",
    "            for i in range(len(s1)):\n",
    "                x=0\n",
    "                x =s1[j][i]+s2[j][i]+s3[j][i] \n",
    "                z.append(x*49)\n",
    "                within_matrix = [z[y:y+3] for y in range(0, len(z), 3)]\n",
    "        return within_matrix\n",
    "\n",
    "    #2 dimensões\n",
    "    if(len(s1)==2):\n",
    "        z=[]\n",
    "        for j in range(len(s1)):\n",
    "            x=0\n",
    "            for i in range(len(s1)):\n",
    "                x=0\n",
    "                x =s1[j][i]+s2[j][i]+s3[j][i] \n",
    "                z.append(x*49)\n",
    "                within_matrix = [z[y:y+2] for y in range(0, len(z), 2)]\n",
    "        return within_matrix\n",
    "\n",
    "    #1 dimensões  \n",
    "    if(len(s1)==1):\n",
    "        z=[]\n",
    "        for j in range(len(s1)):\n",
    "            x=0\n",
    "            for i in range(len(s1)):\n",
    "                x=0\n",
    "                x =s1[j][i]+s2[j][i]+s3[j][i] \n",
    "                z.append(x*49)\n",
    "                within_matrix = [z[y:y+1] for y in range(0, len(z), 1)]\n",
    "        return within_matrix"
   ]
  },
  {
   "cell_type": "markdown",
   "metadata": {},
   "source": [
    "### Grand mean vector"
   ]
  },
  {
   "cell_type": "code",
   "execution_count": 5,
   "metadata": {
    "ExecuteTime": {
     "end_time": "2020-10-28T02:26:37.545856Z",
     "start_time": "2020-10-28T02:26:37.518930Z"
    }
   },
   "outputs": [],
   "source": [
    "def grand_mean_vector(setosa,versicolor,virginica):\n",
    "    \"\"\"Esta função retorna uma matriz com o grand mean vector das 03 classes de entrada.\n",
    "    Input: classes de entrada\n",
    "    Output: Grand mean vector, matriz coluna com (quantidade  de amostras de total) linhas\"\"\"\n",
    "    N = 150 #quantidade de amostras de todas as classes\n",
    "    grand_mean= []\n",
    "    for i in range(len(setosa[0])):\n",
    "        soma=0\n",
    "        for j in range(len(setosa)):\n",
    "            soma = soma + setosa[j][i] + versicolor[j][i]+ virginica[j][i]\n",
    "        grand_mean.append([soma/N])\n",
    "    return grand_mean"
   ]
  },
  {
   "cell_type": "markdown",
   "metadata": {},
   "source": [
    "### Between-class scatter matrix "
   ]
  },
  {
   "cell_type": "markdown",
   "metadata": {},
   "source": [
    "$ Sb = Ni \\sum_{i=1}^{g}(xi-x)(xi-x)^T $"
   ]
  },
  {
   "cell_type": "code",
   "execution_count": 6,
   "metadata": {
    "ExecuteTime": {
     "end_time": "2020-10-28T02:26:37.560816Z",
     "start_time": "2020-10-28T02:26:37.549847Z"
    }
   },
   "outputs": [],
   "source": [
    "def between_not_final(media_setosa,grand_mean_vector):\n",
    "    \"\"\"Função criada somente para auxiliar no cálculo da betweenn matrix.\n",
    "    Esta função retorna a matriz resultante da subtração entre (média da classe pelo grand mean vector) * transposta\n",
    "    Input: Matriz com a média da classe e grand mean vector\n",
    "    Output: Matriz com o resultado da subtração dos elementos * transposta\"\"\"\n",
    "    x=[]\n",
    "    for i in range(len(grand_mean_vector)):\n",
    "        result = media_setosa[i][0] - grand_mean_vector[i][0] #subtração dos elementos\n",
    "        x.append([result]) #armazenamento dos resultado em uma matriz coluna\n",
    "    return np.matmul(x,np.transpose(x)) #multiplicação da matriz pela transposta"
   ]
  },
  {
   "cell_type": "code",
   "execution_count": 7,
   "metadata": {
    "ExecuteTime": {
     "end_time": "2020-10-28T02:26:37.592731Z",
     "start_time": "2020-10-28T02:26:37.565803Z"
    }
   },
   "outputs": [],
   "source": [
    "def between_final(bt1,bt2,bt3):\n",
    "    \"\"\" Esta função retorna o resultado da bewteen-class scatter matrix.\n",
    "    Input: between_not_final de cada classe\n",
    "    Output: bewteen-class scatter matrix \"\"\"\n",
    "    z=0\n",
    "    if len(bt1)==4:\n",
    "        between=[]\n",
    "        for i in range(len(bt1)):\n",
    "            for j in range(len(bt1)):\n",
    "                z = bt1[i][j]+bt2[i][j]+bt3[i][j]\n",
    "                between.append(z*50)\n",
    "        between = [between[y:y+4] for y in range(0, len(between), 4)]\n",
    "        return between    \n",
    "    \n",
    "    \n",
    "    if len(bt1)==3:\n",
    "        between=[]\n",
    "        for i in range(len(bt1)):\n",
    "            for j in range(len(bt1)):\n",
    "                z = bt1[i][j]+bt2[i][j]+bt3[i][j]\n",
    "                between.append(z*50)\n",
    "        between = [between[y:y+3] for y in range(0, len(between), 3)]\n",
    "        return between   \n",
    "    \n",
    "    if len(bt1)==2:\n",
    "        between=[]\n",
    "        for i in range(len(bt1)):\n",
    "            for j in range(len(bt1)):\n",
    "                z = bt1[i][j]+bt2[i][j]+bt3[i][j]\n",
    "                between.append(z*50)\n",
    "        between = [between[y:y+2] for y in range(0, len(between), 2)]\n",
    "        return between  \n",
    "    \n",
    "    \n",
    "    if len(bt1)==1:\n",
    "        between=[]\n",
    "        for i in range(len(bt1)):\n",
    "            for j in range(len(bt1)):\n",
    "                z = bt1[i][j]+bt2[i][j]+bt3[i][j]\n",
    "                between.append(z*50)\n",
    "        between = [between[y:y+1] for y in range(0, len(between), 1)]\n",
    "        return between   "
   ]
  },
  {
   "cell_type": "markdown",
   "metadata": {},
   "source": [
    "## Exercício 01\n",
    "\n",
    "- Implementa o LDA e o use para a classificação dos dados de Iris de Fisher.<br>\n",
    "- Use funções prontas para os autovalores e autovetores.\n",
    "\n",
    "**Fisher Iris Dataset:**<br>\n",
    "The Iris flower data set or Fisher's Iris data set is a multivariate data set introduced by Sir Ronald Aylmer Fisher (1936) as an example of discriminant analysis. Quantify the geographic variation of Iris flowers in the Gaspé Peninsula\n",
    "The output is qualitative (species of Iris) finite set G = {Virginica, Setosa and Versicolor}.\n",
    "\n",
    "- Quantity of dimensions: 4\n",
    "- Quantity of classes: 3\n",
    "- Quantity of samples: 150"
   ]
  },
  {
   "cell_type": "code",
   "execution_count": 8,
   "metadata": {
    "ExecuteTime": {
     "end_time": "2020-10-28T02:26:38.869320Z",
     "start_time": "2020-10-28T02:26:37.596721Z"
    }
   },
   "outputs": [
    {
     "name": "stdout",
     "output_type": "stream",
     "text": [
      "Counting the quantity of sample of each class:\n",
      " [[ 0 50]\n",
      " [ 1 50]\n",
      " [ 2 50]]\n"
     ]
    }
   ],
   "source": [
    "#Load the dataset\n",
    "from sklearn.datasets import load_iris\n",
    "iris = load_iris()\n",
    "X = iris['data']\n",
    "y = iris.target\n",
    "target_names = iris.target_names #0-setosa, 1-versicolor, 2-virginica\n",
    "\n",
    "#Count the quantity of sample of each class\n",
    "unique, counts = np.unique(y, return_counts=True)\n",
    "\n",
    "classe = np.asarray((unique, counts)).T\n",
    "print('Counting the quantity of sample of each class:\\n',classe)\n",
    "\n",
    "#Separate setosa samples\n",
    "setosa = []\n",
    "for i in range(classe[0][1]):\n",
    "   setosa.append(X[i])\n",
    "\n",
    "#Separate versicolor samples\n",
    "versicolor = []\n",
    "for i in range(50,50+classe[1][1]):\n",
    "   versicolor.append(X[i])\n",
    "\n",
    "#Separate virginica samples\n",
    "virginica = []\n",
    "for i in range(100,100+classe[2][1]):\n",
    "   virginica.append(X[i])"
   ]
  },
  {
   "cell_type": "code",
   "execution_count": 9,
   "metadata": {
    "ExecuteTime": {
     "end_time": "2020-10-28T02:26:39.008945Z",
     "start_time": "2020-10-28T02:26:38.872311Z"
    }
   },
   "outputs": [
    {
     "name": "stdout",
     "output_type": "stream",
     "text": [
      "Media da setosa = [[5.005999999999999], [3.428000000000001], [1.4620000000000002], [0.2459999999999999]]\n",
      "Media da virginica = [[6.587999999999998], [2.9739999999999998], [5.552], [2.026]]\n",
      "Media da versicolor = [[5.936], [2.7700000000000005], [4.26], [1.3259999999999998]]\n",
      "\n",
      "\n",
      "Matriz de covariância setosa:\n",
      "[0.12424897959183666, 0.09921632653061219, 0.01635510204081632, 0.01033061224489795]\n",
      "[0.09921632653061219, 0.14368979591836734, 0.01169795918367346, 0.009297959183673474]\n",
      "[0.01635510204081632, 0.01169795918367346, 0.030159183673469397, 0.006069387755102041]\n",
      "[0.01033061224489795, 0.009297959183673474, 0.006069387755102041, 0.0111061224489796]\n",
      "\n",
      "\n",
      "Matriz de covariância versicolor:\n",
      "[0.2664326530612246, 0.08518367346938774, 0.18289795918367358, 0.055779591836734706]\n",
      "[0.08518367346938774, 0.09846938775510206, 0.08265306122448983, 0.041204081632653065]\n",
      "[0.18289795918367358, 0.08265306122448983, 0.22081632653061237, 0.07310204081632653]\n",
      "[0.055779591836734706, 0.041204081632653065, 0.07310204081632653, 0.039106122448979576]\n",
      "\n",
      "\n",
      "Matriz de covariância virginica:\n",
      "[0.40434285714285706, 0.09376326530612243, 0.3032897959183674, 0.04909387755102043]\n",
      "[0.09376326530612243, 0.10400408163265312, 0.07137959183673467, 0.04762857142857144]\n",
      "[0.3032897959183674, 0.07137959183673467, 0.304587755102041, 0.04882448979591837]\n",
      "[0.04909387755102043, 0.04762857142857144, 0.04882448979591837, 0.07543265306122447]\n",
      "\n",
      "\n",
      "Within-Class Scatter Matrix:\n",
      "[38.956199999999995, 13.629999999999995, 24.624600000000008, 5.645000000000001]\n",
      "[13.629999999999995, 16.962000000000003, 8.120800000000001, 4.808400000000001]\n",
      "[24.624600000000008, 8.120800000000001, 27.222600000000014, 6.271800000000001]\n",
      "[5.645000000000001, 4.808400000000001, 6.271800000000001, 6.156599999999999]\n",
      "\n",
      "\n",
      "Grand Mean Vector = [[5.843333333333334], [3.057333333333334], [3.758000000000002], [1.199333333333334]]\n",
      "\n",
      "\n",
      "Between-class scatter matrix: \n",
      "[63.21213333333326, -19.952666666666712, 165.2483999999999, 71.2793333333333]\n",
      "[-19.952666666666712, 11.344933333333353, -57.23960000000009, -22.932666666666712]\n",
      "[165.2483999999999, -57.23960000000009, 437.10279999999983, 186.77399999999994]\n",
      "[71.2793333333333, -22.932666666666712, 186.77399999999994, 80.41333333333333]\n",
      "\n",
      "\n",
      "Sw-1*Sb: \n",
      " [[ -3.05836939   1.08138264  -8.1119227   -3.45864987]\n",
      " [ -5.56163926   2.17821866 -14.96461194  -6.30773951]\n",
      " [  8.07743878  -2.94271854  21.5115909    9.14206468]\n",
      " [ 10.49708187  -3.41985449  27.54852482  11.84588007]]\n",
      "\n",
      "\n"
     ]
    }
   ],
   "source": [
    "#Médias\n",
    "media_setosa = media(setosa)\n",
    "media_virginica = media(virginica)\n",
    "media_versicolor = media(versicolor)\n",
    "\n",
    "print('Media da setosa =' ,media_setosa)\n",
    "print('Media da virginica =' , media_virginica)\n",
    "print('Media da versicolor =' ,media_versicolor)\n",
    "print('\\n')\n",
    "\n",
    "#Matriz de covariância\n",
    "s1 = covariance_matrix(setosa)\n",
    "s2 = covariance_matrix(versicolor)\n",
    "s3 = covariance_matrix(virginica)\n",
    "\n",
    "print('Matriz de covariância setosa:')\n",
    "for i in s1:\n",
    "      print(i)\n",
    "print('\\n')\n",
    "      \n",
    "print('Matriz de covariância versicolor:')\n",
    "for i in s2:\n",
    "      print(i)\n",
    "print('\\n')\n",
    "      \n",
    "print('Matriz de covariância virginica:')\n",
    "for i in s3:\n",
    "      print(i)\n",
    "print('\\n')\n",
    "\n",
    "#Within-class Scatter Matrix\n",
    "Sw= within_class_matrix(s1,s2,s3)\n",
    "print('Within-Class Scatter Matrix:')\n",
    "for i in Sw:\n",
    "    print(i)\n",
    "print('\\n')\n",
    "\n",
    "#Grand Mean Vector\n",
    "grand_mean = grand_mean_vector(setosa,versicolor,virginica)\n",
    "print('Grand Mean Vector =',grand_mean)\n",
    "print('\\n')\n",
    "\n",
    "#Between-class scatter matrix\n",
    "bt1 = between_not_final(media_setosa,grand_mean)\n",
    "bt2 = between_not_final(media_versicolor,grand_mean)\n",
    "bt3 = between_not_final(media_virginica,grand_mean)\n",
    "\n",
    "Sb = between_final(bt1,bt2,bt3)\n",
    "print('Between-class scatter matrix: ')\n",
    "for i in Sb:\n",
    "    print(i)\n",
    "print('\\n')\n",
    "    \n",
    "#Sw-1*Sb \n",
    "Sw_Sb = np.matmul(np.linalg.inv(Sw),Sb)\n",
    "Sw_Sb\n",
    "print('Sw-1*Sb: \\n',Sw_Sb)\n",
    "print('\\n')"
   ]
  },
  {
   "cell_type": "code",
   "execution_count": 10,
   "metadata": {
    "ExecuteTime": {
     "end_time": "2020-10-28T02:26:39.024903Z",
     "start_time": "2020-10-28T02:26:39.012935Z"
    }
   },
   "outputs": [
    {
     "name": "stdout",
     "output_type": "stream",
     "text": [
      "Autovalor 1: 3.22e+01\n",
      "Autovalor 2: 2.85e-01\n",
      "Autovalor 3: 3.27e-15\n",
      "Autovalor 4: 3.27e-15\n"
     ]
    }
   ],
   "source": [
    "# Utilização de fórmula para obter os autovalores, que são números complexos\n",
    "eig_val = np.linalg.eig(Sw_Sb)[0]\n",
    "\n",
    "# Printando de maneira organizada somente a parte real\n",
    "for i in range(len(eig_val)):\n",
    "    print('Autovalor {:}: {:.2e}'.format(i+1, eig_val[i].real))"
   ]
  },
  {
   "cell_type": "markdown",
   "metadata": {},
   "source": [
    "Notar que os autovalores já estão em ordem descrescente, portanto, podemos descartar os autovalores 3 e 4, pois são muito pequenos (aproximadamente iguais a zero). "
   ]
  },
  {
   "cell_type": "code",
   "execution_count": 11,
   "metadata": {
    "ExecuteTime": {
     "end_time": "2020-10-28T02:26:39.055819Z",
     "start_time": "2020-10-28T02:26:39.027894Z"
    }
   },
   "outputs": [
    {
     "name": "stdout",
     "output_type": "stream",
     "text": [
      "\n",
      "Eigenvector 1: \n",
      "[[ 0.20874182]\n",
      " [ 0.38620369]\n",
      " [-0.55401172]\n",
      " [-0.7073504 ]]\n",
      "\n",
      "Eigenvector 2: \n",
      "[[-0.00653196]\n",
      " [-0.58661055]\n",
      " [ 0.25256154]\n",
      " [-0.76945309]]\n",
      "\n",
      "Eigenvector 3: \n",
      "[[-0.2289618 ]\n",
      " [-0.22824453]\n",
      " [-0.29754257]\n",
      " [ 0.8289571 ]]\n",
      "\n",
      "Eigenvector 4: \n",
      "[[-0.2289618 ]\n",
      " [-0.22824453]\n",
      " [-0.29754257]\n",
      " [ 0.8289571 ]]\n"
     ]
    }
   ],
   "source": [
    "# Utilização de fórmula para obter os autovetores correspondentes, que são números complexos\n",
    "eig_vecs = np.linalg.eig(Sw_Sb)[1]\n",
    "\n",
    "# Printando de maneira organizada somente a parte real\n",
    "for i in range(len(eig_val)):\n",
    "    eigvec_sc = eig_vecs[:,i].reshape(4,1)   \n",
    "    print('\\nEigenvector {}: \\n{}'.format(i+1, eigvec_sc.real))"
   ]
  },
  {
   "cell_type": "markdown",
   "metadata": {
    "ExecuteTime": {
     "end_time": "2020-10-28T01:53:41.635389Z",
     "start_time": "2020-10-28T01:53:41.622425Z"
    }
   },
   "source": [
    "Como descartamos os autovalores 3 e 4, ficamos apenas com os autovetores correspondentes 1 e 2."
   ]
  },
  {
   "cell_type": "code",
   "execution_count": 12,
   "metadata": {
    "ExecuteTime": {
     "end_time": "2020-10-28T02:26:39.086736Z",
     "start_time": "2020-10-28T02:26:39.057815Z"
    }
   },
   "outputs": [
    {
     "data": {
      "text/plain": [
       "[[0.2087418214745536, -0.0065319640471979655],\n",
       " [0.38620368675505246, -0.5866105531246715],\n",
       " [-0.554011715552865, 0.2525615400443091],\n",
       " [-0.7073503964333818, -0.76945309207183]]"
      ]
     },
     "execution_count": 12,
     "metadata": {},
     "output_type": "execute_result"
    }
   ],
   "source": [
    "#Cálculo final de W\n",
    "W =[[eig_vecs.real[0][0],eig_vecs.real[0][1]],\n",
    "    [eig_vecs.real[1][0],eig_vecs.real[1][1]],\n",
    "    [eig_vecs.real[2][0],eig_vecs.real[2][1]],\n",
    "    [eig_vecs.real[3][0],eig_vecs.real[3][1]]]\n",
    "W"
   ]
  },
  {
   "cell_type": "markdown",
   "metadata": {},
   "source": [
    "### Result"
   ]
  },
  {
   "cell_type": "code",
   "execution_count": 13,
   "metadata": {
    "ExecuteTime": {
     "end_time": "2020-10-28T02:26:39.118653Z",
     "start_time": "2020-10-28T02:26:39.088732Z"
    }
   },
   "outputs": [
    {
     "name": "stdout",
     "output_type": "stream",
     "text": [
      "Setosa:\n",
      " [[ 1.49920971 -1.88675441]\n",
      " [ 1.2643595  -1.59214275]\n",
      " [ 1.35525305 -1.73341462]\n",
      " [ 1.18495616 -1.62358806]\n",
      " [ 1.5169559  -1.94476227]\n",
      " [ 1.40864014 -2.20148038]\n",
      " [ 1.28548339 -1.90177269]\n",
      " [ 1.38431399 -1.80218401]\n",
      " [ 1.12136823 -1.53021571]\n",
      " [ 1.31831374 -1.54860234]\n",
      " [ 1.58367182 -1.98077996]\n",
      " [ 1.28716445 -1.77562146]\n",
      " [ 1.31422036 -1.51454424]\n",
      " [ 1.37605297 -1.58704672]\n",
      " [ 1.94923317 -2.23514437]\n",
      " [ 1.77516687 -2.54725756]\n",
      " [ 1.63024483 -2.302505  ]\n",
      " [ 1.42847467 -1.96369972]\n",
      " [ 1.50337736 -2.06783361]\n",
      " [ 1.48893461 -2.11442674]\n",
      " [ 1.35700838 -1.75428449]\n",
      " [ 1.3795792  -2.13271099]\n",
      " [ 1.65506386 -2.0431741 ]\n",
      " [ 1.04356034 -1.92449977]\n",
      " [ 1.12096094 -1.699853  ]\n",
      " [ 1.17443134 -1.54228363]\n",
      " [ 1.18744274 -1.93081847]\n",
      " [ 1.46468272 -1.86215146]\n",
      " [ 1.48146353 -1.82874656]\n",
      " [ 1.18904953 -1.65764616]\n",
      " [ 1.17130335 -1.5996383 ]\n",
      " [ 1.32634064 -1.95868741]\n",
      " [ 1.76713997 -2.13717248]\n",
      " [ 1.85304902 -2.29999459]\n",
      " [ 1.2475787  -1.62554765]\n",
      " [ 1.47327677 -1.76063036]\n",
      " [ 1.63810761 -1.91462335]\n",
      " [ 1.56681676 -1.86716377]\n",
      " [ 1.21538977 -1.61413292]\n",
      " [ 1.40518817 -1.80283721]\n",
      " [ 1.46300166 -1.98830268]\n",
      " [ 0.89518633 -1.28110404]\n",
      " [ 1.2926305  -1.73145503]\n",
      " [ 1.08459303 -2.14337015]\n",
      " [ 1.19659488 -2.09034743]\n",
      " [ 1.17275028 -1.66843486]\n",
      " [ 1.50426848 -2.01222527]\n",
      " [ 1.2789777  -1.70750527]\n",
      " [ 1.56279764 -1.98012676]\n",
      " [ 1.40109479 -1.76877911]]\n",
      "\n",
      "\n",
      "Versicolor:\n",
      " [[-0.89710107 -1.81307261]\n",
      " [-0.98227886 -1.93661105]\n",
      " [-1.138133   -1.78019136]\n",
      " [-1.09925388 -1.37517293]\n",
      " [-1.17128732 -1.67736387]\n",
      " [-1.14140953 -1.54350383]\n",
      " [-1.14607006 -2.02105191]\n",
      " [-0.58586528 -1.37587196]\n",
      " [-0.97032269 -1.5827875 ]\n",
      " [-1.02272882 -1.71005903]\n",
      " [-0.83027492 -1.09136863]\n",
      " [-0.99768699 -1.89179142]\n",
      " [-0.82129822 -1.08894193]\n",
      " [-1.20082982 -1.63121068]\n",
      " [-0.6250528  -1.82881708]\n",
      " [-0.83214047 -1.82822043]\n",
      " [-1.22651305 -1.81406337]\n",
      " [-0.72534591 -1.35568466]\n",
      " [-1.41023091 -1.3486941 ]\n",
      " [-0.80426771 -1.36451378]\n",
      " [-1.4650584  -2.08841253]\n",
      " [-0.78090694 -1.67239739]\n",
      " [-1.49510031 -1.42430585]\n",
      " [-1.0979801  -1.418659  ]\n",
      " [-0.84586754 -1.65724957]\n",
      " [-0.89163502 -1.76890617]\n",
      " [-1.14873208 -1.55186584]\n",
      " [-1.41537299 -1.84885837]\n",
      " [-1.18163669 -1.7580151 ]\n",
      " [-0.45243343 -1.44790734]\n",
      " [-0.80836109 -1.33045568]\n",
      " [-0.68222488 -1.27876652]\n",
      " [-0.75601365 -1.56008759]\n",
      " [-1.6620195  -1.56610137]\n",
      " [-1.26826142 -1.81275697]\n",
      " [-1.05926989 -2.12826568]\n",
      " [-1.06907902 -1.82939727]\n",
      " [-1.15386511 -1.27937389]\n",
      " [-0.86343829 -1.76119736]\n",
      " [-1.02201314 -1.49249504]\n",
      " [-1.13426242 -1.37318617]\n",
      " [-1.10680828 -1.71512788]\n",
      " [-0.85003519 -1.47617038]\n",
      " [-0.60361147 -1.3178641 ]\n",
      " [-1.03470057 -1.55995804]\n",
      " [-0.82723024 -1.6596491 ]\n",
      " [-0.93658565 -1.67793335]\n",
      " [-0.88761591 -1.65594318]\n",
      " [-0.41002808 -1.58855318]\n",
      " [-0.91980484 -1.64452845]]\n",
      "\n",
      "\n",
      "Virginica:\n",
      " [[-2.50290064 -2.38522969]\n",
      " [-1.91597298 -1.79563091]\n",
      " [-2.11342696 -1.93194701]\n",
      " [-1.94063215 -1.71299292]\n",
      " [-2.25400592 -2.0302293 ]\n",
      " [-2.39686425 -1.75841992]\n",
      " [-1.70720425 -1.67007633]\n",
      " [-2.11969853 -1.54273181]\n",
      " [-2.12241924 -1.43044918]\n",
      " [-2.25457307 -2.54183547]\n",
      " [-1.6474869  -2.17045387]\n",
      " [-1.90153023 -1.74903778]\n",
      " [-1.95444482 -2.03101204]\n",
      " [-2.02942177 -1.77985706]\n",
      " [-2.23102781 -2.23901851]\n",
      " [-1.99136855 -2.35012429]\n",
      " [-1.80486225 -1.79821652]\n",
      " [-2.19316333 -2.28005071]\n",
      " [-2.83814514 -1.60255105]\n",
      " [-1.72898513 -1.22110694]\n",
      " [-2.10860232 -2.25236566]\n",
      " [-1.87903368 -1.98044319]\n",
      " [-2.43789694 -1.53954954]\n",
      " [-1.63006469 -1.77246389]\n",
      " [-1.97026024 -2.1558297 ]\n",
      " [-1.85850809 -1.79383024]\n",
      " [-1.55691733 -1.8557279 ]\n",
      " [-1.55595195 -1.94714066]\n",
      " [-2.17058346 -1.88582099]\n",
      " [-1.68347641 -1.57312982]\n",
      " [-2.09737742 -1.61218156]\n",
      " [-1.84374137 -2.20323495]\n",
      " [-2.2413185  -1.9627663 ]\n",
      " [-1.49004155 -1.54977671]\n",
      " [-1.81530147 -1.22792212]\n",
      " [-2.24045429 -2.0392445 ]\n",
      " [-2.17194055 -2.46797005]\n",
      " [-1.78711606 -1.85622438]\n",
      " [-1.52142496 -1.97174362]\n",
      " [-1.8395491  -2.11558244]\n",
      " [-2.20430493 -2.29459967]\n",
      " [-1.81481566 -2.34524152]\n",
      " [-1.91597298 -1.79563091]\n",
      " [-2.24027885 -2.20120015]\n",
      " [-2.2532004  -2.46361094]\n",
      " [-1.95058557 -2.26001792]\n",
      " [-1.83344164 -1.70683093]\n",
      " [-1.78012881 -2.0278756 ]\n",
      " [-2.01127735 -2.44088385]\n",
      " [-1.70850266 -1.89532196]]\n"
     ]
    }
   ],
   "source": [
    "X_lda = np.matmul(X,W)\n",
    "\n",
    "#Transform the multiply result into a array to get the real part\n",
    "X_lda = X_lda.real\n",
    "\n",
    "print('Setosa:\\n',X_lda[y==0])\n",
    "print('\\n')\n",
    "print('Versicolor:\\n',X_lda[y==1])\n",
    "print('\\n')\n",
    "print('Virginica:\\n',X_lda[y==2])"
   ]
  },
  {
   "cell_type": "code",
   "execution_count": 14,
   "metadata": {
    "ExecuteTime": {
     "end_time": "2020-10-28T02:26:39.522572Z",
     "start_time": "2020-10-28T02:26:39.121644Z"
    }
   },
   "outputs": [
    {
     "data": {
      "image/png": "[encoded data removed]",
      "text/plain": [
       "<Figure size 432x288 with 1 Axes>"
      ]
     },
     "metadata": {
      "needs_background": "light"
     },
     "output_type": "display_data"
    }
   ],
   "source": [
    "label_dict = {0: 'Setosa', 1: 'Versicolor', 2:'Virginica'}\n",
    "for label,marker,color in zip(\n",
    "    range(0,3),('^', 's', 'o'),('blue', 'red', 'green')):\n",
    "\n",
    "    plt.scatter(x=X_lda[:,0].real[y == label],\n",
    "            y=X_lda[:,1].real[y == label],\n",
    "            marker=marker,\n",
    "            color=color,\n",
    "            alpha=0.5,\n",
    "            label=label_dict[label]\n",
    "            )\n",
    "leg = plt.legend(loc='upper right', fancybox=True)\n",
    "leg.get_frame().set_alpha(0.5)"
   ]
  },
  {
   "cell_type": "markdown",
   "metadata": {},
   "source": [
    "## Exercício 02\n",
    "\n",
    "- Implementa o PCA+LDA e o use para a classificação dos dados de Iris de Fisher:\n",
    "- Teste com 1, 2 e 3 Componentes Principais.\n",
    "- Compare as retas geradas pelos dois métodos."
   ]
  },
  {
   "cell_type": "code",
   "execution_count": 15,
   "metadata": {
    "ExecuteTime": {
     "end_time": "2020-10-28T02:26:39.538530Z",
     "start_time": "2020-10-28T02:26:39.524567Z"
    }
   },
   "outputs": [],
   "source": [
    "#Subtraindo a média para definição do novo Dataset:\n",
    "\n",
    "def subtract_mean(x,y,z,f):\n",
    "    new_X = [i - calculo_mean(x) for i in x]\n",
    "    new_Y = [i - calculo_mean(y) for i in y]\n",
    "    new_Z = [i - calculo_mean(z) for i in z]\n",
    "    new_F = [i - calculo_mean(f) for i in f]\n",
    "    \n",
    "    dataset =[[i,j,z,f] for i, j, z,f in zip(new_X, new_Y,new_Z, new_F)]\n",
    "    return dataset\n",
    "\n",
    "#Cálculo da média:\n",
    "def calculo_mean(x):\n",
    "    \"\"\"Retorna a média do input\"\"\"\n",
    "    soma=[]\n",
    "    soma_i = 0\n",
    "    for i in range(len(x)):\n",
    "        soma_i= soma_i + x[i]\n",
    "        media = (soma_i)/len(x)\n",
    "    return media\n",
    "\n",
    "#Multiplicação de matrizes\n",
    "def multiply_matrix_matrix(mult1,mult2):\n",
    "    \"\"\"Retorna o produto escalar de duas matrizes\"\"\"\n",
    "    x = []\n",
    "    for i in range(0,len(mult1)):\n",
    "        y=[]\n",
    "        for j in range(0,len(mult2[0])):\n",
    "            total = 0\n",
    "            for k in range(0,len(mult1[0])):\n",
    "                total = total + mult1[i][k]*mult2[k][j]\n",
    "            y.append(total)\n",
    "        x.append(y)\n",
    "\n",
    "    return x"
   ]
  },
  {
   "cell_type": "markdown",
   "metadata": {},
   "source": [
    "### Uma Componente Principal"
   ]
  },
  {
   "cell_type": "markdown",
   "metadata": {},
   "source": [
    "#### PCA"
   ]
  },
  {
   "cell_type": "code",
   "execution_count": 16,
   "metadata": {
    "ExecuteTime": {
     "end_time": "2020-10-28T02:26:39.709074Z",
     "start_time": "2020-10-28T02:26:39.540524Z"
    }
   },
   "outputs": [],
   "source": [
    "# 1° Passo - Transformando as entradas em listas\n",
    "x1 = X[:,0]\n",
    "x2 = X[:,1]\n",
    "x3 = X[:,2]\n",
    "x4 = X[:,3]\n",
    "\n",
    "#Defining dataset to apply PCA\n",
    "dataset_iris= X\n",
    "\n",
    "#2° Passo - Subtraindo a média\n",
    "new_dataset_iris = subtract_mean(x1,x2,x3,x4)\n",
    "new_dataset_iris\n",
    "\n",
    "#3° Passo - Cálculo da matriz de covariância\n",
    "covariance_matrix_iris = np.cov(new_dataset_iris, rowvar=False)\n",
    "covariance_matrix_iris\n",
    "\n",
    "#4° Passo - Encontrar os autovalores, checar se estão na ordem\n",
    "autovalores_iris = np.linalg.eig(covariance_matrix_iris)[0]\n",
    "autovalores_iris\n",
    "\n",
    "#4° Passo - Encontrar os autovetores\n",
    "autovetores_alps = np.linalg.eig(covariance_matrix_iris)[1]\n",
    "autovetores_alps\n",
    "\n",
    "#5° Passo - Escolher os componentes\n",
    "FeatureVector = [autovetores_alps[0][0],autovetores_alps[1][0],autovetores_alps[2][0],autovetores_alps[3][0]]\n",
    "FeatureVector_transposed = [[autovetores_alps[0][0]],[autovetores_alps[1][0]],[autovetores_alps[2][0]],[autovetores_alps[3][0]]]\n",
    "FeatureVector_transposed\n",
    "\n",
    "#6° Passo - Derive the new \n",
    "#Multiplicar os autovetores pela matriz após subtração da média:\n",
    "#Conferir resultado :\n",
    "#np.matmul(pca.components_,transposta(new_dataset_alps))\n",
    "pca_iris = multiply_matrix_matrix(FeatureVector_transposed,np.transpose(new_dataset_iris))\n",
    "pca_iris\n",
    "\n",
    "pca_iris_1d=[]\n",
    "for i in pca_iris[0]:\n",
    "    pca_iris_1d.append([i])\n",
    "#pca_iris_1d"
   ]
  },
  {
   "cell_type": "code",
   "execution_count": 17,
   "metadata": {
    "ExecuteTime": {
     "end_time": "2020-10-28T02:26:39.725033Z",
     "start_time": "2020-10-28T02:26:39.711068Z"
    }
   },
   "outputs": [],
   "source": [
    "#PCA\n",
    "#Separate setosa samples\n",
    "setosa_1d = []\n",
    "for i in range(0,50):\n",
    "   setosa_1d.append(pca_iris_1d[i])\n",
    "#Separate versicolor samples\n",
    "versicolor_1d = []\n",
    "for i in range(50,100):\n",
    "   versicolor_1d.append(pca_iris_1d[i])\n",
    "#Separate virginica samples\n",
    "virginica_1d = []\n",
    "for i in range(100,150):\n",
    "   virginica_1d.append(pca_iris_1d[i])"
   ]
  },
  {
   "cell_type": "markdown",
   "metadata": {},
   "source": [
    "#### LDA"
   ]
  },
  {
   "cell_type": "code",
   "execution_count": 18,
   "metadata": {
    "ExecuteTime": {
     "end_time": "2020-10-28T02:26:39.771905Z",
     "start_time": "2020-10-28T02:26:39.728023Z"
    }
   },
   "outputs": [
    {
     "name": "stdout",
     "output_type": "stream",
     "text": [
      "Media da setosa = [[-0.3026010395216154]]\n",
      "Media da virginica = [[0.26911254868283696]]\n",
      "Media da versicolor = [[0.03348849083877698]]\n",
      "\n",
      "\n",
      "Matriz de covariância 1d setosa = [[0.01622695012315852]]\n",
      "Matriz de covariância 1d versicolor = [[0.03479617608617637]]\n",
      "Matriz de covariância 1d virginica = [[0.05280728579877713]]\n",
      "\n",
      "\n",
      "Within-Class Scatter Matrix 1d = [[5.087690188397489]]\n",
      "\n",
      "\n",
      "Grand Mean Vector = [[-4.613670556707916e-16]]\n",
      "\n",
      "\n",
      "Between-class scatter matrix:  [[8.25552159983967]]\n"
     ]
    }
   ],
   "source": [
    "#Médias\n",
    "media_setosa_1d = media(setosa_1d)\n",
    "media_virginica_1d = media(virginica_1d)\n",
    "media_versicolor_1d = media(versicolor_1d)\n",
    "\n",
    "print('Media da setosa =' ,media_setosa_1d)\n",
    "print('Media da virginica =' , media_virginica_1d)\n",
    "print('Media da versicolor =' ,media_versicolor_1d)\n",
    "print('\\n')\n",
    "\n",
    "#Matriz de covariância\n",
    "s1_1d = covariance_matrix(setosa_1d)\n",
    "s2_1d = covariance_matrix(versicolor_1d)\n",
    "s3_1d = covariance_matrix(virginica_1d)\n",
    "\n",
    "print('Matriz de covariância 1d setosa =', s1_1d)\n",
    "print('Matriz de covariância 1d versicolor =', s2_1d)\n",
    "print('Matriz de covariância 1d virginica =', s3_1d)\n",
    "print('\\n')\n",
    "\n",
    "#Within-class\n",
    "within_1d = within_class_matrix(s1_1d,s2_1d,s3_1d)\n",
    "print('Within-Class Scatter Matrix 1d =', within_1d)\n",
    "print('\\n')\n",
    "\n",
    "#Grand Mean Vector\n",
    "grand_mean1d = grand_mean_vector(setosa_1d,versicolor_1d,virginica_1d)\n",
    "print('Grand Mean Vector =',grand_mean1d)\n",
    "print('\\n')\n",
    "\n",
    "#Between-class scatter matrix\n",
    "\n",
    "bt_setosa_1d = between_not_final(media_setosa_1d ,grand_mean1d)\n",
    "bt_versicolor_1d = between_not_final(media_versicolor_1d ,grand_mean1d)\n",
    "bt_virginica_1d = between_not_final(media_virginica_1d ,grand_mean1d)\n",
    "\n",
    "Bt_1d = between_final(bt_setosa_1d,bt_versicolor_1d,bt_virginica_1d)\n",
    "print('Between-class scatter matrix: ',Bt_1d)"
   ]
  },
  {
   "cell_type": "markdown",
   "metadata": {},
   "source": [
    "#### Result"
   ]
  },
  {
   "cell_type": "markdown",
   "metadata": {},
   "source": [
    "Não é possível encontrar o autovetor e autovalor da matriz Between-Class, pois a mesma possui apenas 01 dimensão.<br> Logo, **não é possível aplicar o LDA nesta matriz**."
   ]
  },
  {
   "cell_type": "markdown",
   "metadata": {
    "ExecuteTime": {
     "end_time": "2020-10-28T01:10:00.647201Z",
     "start_time": "2020-10-28T01:10:00.637228Z"
    }
   },
   "source": [
    "### Duas Componentes Principais"
   ]
  },
  {
   "cell_type": "markdown",
   "metadata": {},
   "source": [
    "#### PCA"
   ]
  },
  {
   "cell_type": "code",
   "execution_count": 19,
   "metadata": {
    "ExecuteTime": {
     "end_time": "2020-10-28T02:26:39.802822Z",
     "start_time": "2020-10-28T02:26:39.773900Z"
    }
   },
   "outputs": [],
   "source": [
    "# 1° Passo,2° Passo e 3° Passo são iguais aos anteriores\n",
    "\n",
    "#4° Passo - Encontrar os autovalores, checar se estão na ordem\n",
    "autovalores_iris = np.linalg.eig(covariance_matrix_iris)[0]\n",
    "autovalores_iris\n",
    "\n",
    "#4° Passo - Encontrar os autovetores\n",
    "autovetores_alps = np.linalg.eig(covariance_matrix_iris)[1]\n",
    "autovetores_alps\n",
    "\n",
    "#5° Passo - Escolher os componentes\n",
    "FeatureVector = [[autovetores_alps[0][0],autovetores_alps[1][0],autovetores_alps[2][0],autovetores_alps[3][0]],\n",
    "                [-autovetores_alps[0][1],-autovetores_alps[1][1],-autovetores_alps[2][1],-autovetores_alps[3][1]]]\n",
    "#6° Passo - Derive the new dataset\n",
    "pca_iris_2 = multiply_matrix_matrix(np.array(FeatureVector),np.transpose(new_dataset_iris))\n",
    "pca_iris_2\n",
    "\n",
    "#7° Passo - Reorganizing\n",
    "pca_iris_2d=[]\n",
    "for i in range(150):\n",
    "    x=[pca_iris_2[0][i],pca_iris_2[1][i]]\n",
    "    pca_iris_2d.append(x)\n",
    "pca_iris_2d = np.array(pca_iris_2d)\n",
    "\n",
    "#Separate setosa samples - 0-setosa, 1-versicolor, 2-virginica\n",
    "setosa_2d = pca_iris_2d[y==0]\n",
    "#Separate versicolor samples\n",
    "versicolor_2d =pca_iris_2d[y==1]\n",
    "#Separate virginica samples\n",
    "virginica_2d = pca_iris_2d[y==2];"
   ]
  },
  {
   "cell_type": "markdown",
   "metadata": {
    "ExecuteTime": {
     "end_time": "2020-10-28T01:10:34.882852Z",
     "start_time": "2020-10-28T01:10:34.871860Z"
    }
   },
   "source": [
    "#### LDA"
   ]
  },
  {
   "cell_type": "code",
   "execution_count": 20,
   "metadata": {
    "ExecuteTime": {
     "end_time": "2020-10-28T02:26:39.864658Z",
     "start_time": "2020-10-28T02:26:39.805815Z"
    }
   },
   "outputs": [
    {
     "name": "stdout",
     "output_type": "stream",
     "text": [
      "Media da setosa = [[-2.6424154639468513], [0.19088504677006946]]\n",
      "Media da virginica = [[2.1092088949075016], [0.054664785265311426]]\n",
      "Media da versicolor = [[0.5332065690393412], [-0.24554983203538364]]\n",
      "\n",
      "\n",
      "Matriz de covariância 2d setosa = [[0.049021943697852656, 0.05604270136775451], [0.05604270136775451, 0.21769730314771762]]\n",
      "Matriz de covariância 2d versicolor = [[0.3554709684628474, 0.19874216796934455], [0.19874216796934455, 0.1851722265135031]]\n",
      "Matriz de covariância 2d virginica = [[0.49829218197686337, 0.27585485675414606], [0.27585485675414606, 0.23329247950837936]]\n",
      "\n",
      "\n",
      "Within-Class Scatter Matrix 2d = [[44.23646961274061, 26.00134657847101], [26.00134657847101, 31.171938449310403]]\n",
      "\n",
      "\n",
      "Grand Mean Vector = [[-3.0479322769375964e-15], [-8.804068585277491e-16]]\n",
      "\n",
      "\n",
      "Between-class scatter matrix:  [[585.7715445864542, -26.001346578470972], [-26.001346578470972, 4.986002992055966]]\n"
     ]
    }
   ],
   "source": [
    "#Médias\n",
    "media_setosa_2d = media(setosa_2d)\n",
    "media_virginica_2d = media(virginica_2d)\n",
    "media_versicolor_2d = media(versicolor_2d)\n",
    "\n",
    "print('Media da setosa =' ,media_setosa_2d)\n",
    "print('Media da virginica =' , media_virginica_2d)\n",
    "print('Media da versicolor =' ,media_versicolor_2d)\n",
    "print('\\n')\n",
    "\n",
    "#Matriz de covariância\n",
    "s1_2d = covariance_matrix(setosa_2d)\n",
    "s2_2d = covariance_matrix(versicolor_2d)\n",
    "s3_2d = covariance_matrix(virginica_2d)\n",
    "\n",
    "print('Matriz de covariância 2d setosa =', s1_2d)\n",
    "print('Matriz de covariância 2d versicolor =', s2_2d)\n",
    "print('Matriz de covariância 2d virginica =', s3_2d)\n",
    "print('\\n')\n",
    "\n",
    "\n",
    "#Within-class\n",
    "within_2d = within_class_matrix(s1_2d,s2_2d,s3_2d)\n",
    "print('Within-Class Scatter Matrix 2d =', within_2d)\n",
    "print('\\n')\n",
    "\n",
    "#Grand Mean Vector\n",
    "grand_mean2d = grand_mean_vector(setosa_2d,versicolor_2d,virginica_2d)\n",
    "print('Grand Mean Vector =',grand_mean2d)\n",
    "print('\\n')\n",
    "\n",
    "#Between-class scatter matrix\n",
    "\n",
    "bt_setosa_2d = between_not_final(media_setosa_2d ,grand_mean2d)\n",
    "bt_versicolor_2d = between_not_final(media_versicolor_2d ,grand_mean2d)\n",
    "bt_virginica_2d = between_not_final(media_virginica_2d ,grand_mean2d)\n",
    "\n",
    "Bt_2d = between_final(bt_setosa_2d,bt_versicolor_2d,bt_virginica_2d)\n",
    "print('Between-class scatter matrix: ',Bt_2d)"
   ]
  },
  {
   "cell_type": "code",
   "execution_count": 21,
   "metadata": {
    "ExecuteTime": {
     "end_time": "2020-10-28T02:26:39.910537Z",
     "start_time": "2020-10-28T02:26:39.869645Z"
    }
   },
   "outputs": [
    {
     "name": "stdout",
     "output_type": "stream",
     "text": [
      "Sw-1*Sb: \n",
      " [[ 26.94068502  -1.33760136]\n",
      " [-23.30607177   1.27568068]]\n",
      "\n",
      "\n",
      "Autovalores:\n",
      " [28.10272983  0.11363586]\n",
      "\n",
      "\n",
      "Autovetores:\n",
      " [[ 0.75490915  0.04979831]\n",
      " [-0.65582938  0.99875929]]\n",
      "\n",
      "\n",
      "W matrix:\n",
      " [[0.7549091531968606, 0.04979831309742204], [-0.6558293759962258, 0.998759294331047]]\n"
     ]
    }
   ],
   "source": [
    "#𝑆_𝑊^(−1) 𝑆_𝐵 𝑤\n",
    "Sw_Sb_2d = np.matmul(np.linalg.inv(within_2d),Bt_2d)\n",
    "print('Sw-1*Sb: \\n',Sw_Sb_2d)\n",
    "print('\\n')\n",
    "\n",
    "#Autovalores\n",
    "autovalores_2d = np.linalg.eig(Sw_Sb_2d)[0]\n",
    "print('Autovalores:\\n',autovalores_2d)\n",
    "print('\\n')\n",
    "\n",
    "#Autovetores\n",
    "autovetores_2d = np.linalg.eig(Sw_Sb_2d)[1]\n",
    "print('Autovetores:\\n',autovetores_2d)\n",
    "print('\\n')\n",
    "\n",
    "#Escolha dos autovetores para compor a matriz W\n",
    "W =[[autovetores_2d[0][0],autovetores_2d[0][1]],\n",
    "    [autovetores_2d[1][0],autovetores_2d[1][1]]]\n",
    "print('W matrix:\\n',W)\n",
    "\n",
    "#Convert the data\n",
    "X_lda_2d = multiply_matrix_matrix(pca_iris_2d,W)"
   ]
  },
  {
   "cell_type": "markdown",
   "metadata": {},
   "source": [
    "#### Result"
   ]
  },
  {
   "cell_type": "code",
   "execution_count": 22,
   "metadata": {
    "ExecuteTime": {
     "end_time": "2020-10-28T02:26:39.941453Z",
     "start_time": "2020-10-28T02:26:39.918515Z"
    }
   },
   "outputs": [
    {
     "name": "stdout",
     "output_type": "stream",
     "text": [
      "Setosa:\n",
      " [[-2.2357411   0.18533604]\n",
      " [-1.9328478  -0.3119413 ]\n",
      " [-2.08586333 -0.28863644]\n",
      " [-1.86373463 -0.45461751]\n",
      " [-2.2742283   0.19046363]\n",
      " [-2.2080281   0.62682771]\n",
      " [-2.07057836 -0.22980841]\n",
      " [-2.08965353  0.03240466]\n",
      " [-1.79968291 -0.72133123]\n",
      " [-1.94307132 -0.24673182]\n",
      " [-2.31557244  0.51942682]\n",
      " [-1.98205317 -0.11539914]\n",
      " [-1.94906603 -0.37356384]\n",
      " [-2.09829136 -0.67130009]\n",
      " [-2.76961475  1.04559803]\n",
      " [-2.67878329  1.21758147]\n",
      " [-2.51219265  0.67902644]\n",
      " [-2.20374325  0.17958152]\n",
      " [-2.23309798  0.76220876]\n",
      " [-2.29050256  0.38404577]\n",
      " [-2.00068972  0.27581353]\n",
      " [-2.2042379   0.30578661]\n",
      " [-2.51527438 -0.02684588]\n",
      " [-1.80309052 -0.01608584]\n",
      " [-1.75392976 -0.15454818]\n",
      " [-1.79654514 -0.2706636 ]\n",
      " [-1.9496167   0.00784594]\n",
      " [-2.17547958  0.23966342]\n",
      " [-2.1972539   0.18020845]\n",
      " [-1.85773992 -0.32778549]\n",
      " [-1.81925272 -0.33291307]\n",
      " [-2.0887763   0.29040386]\n",
      " [-2.53307831  0.6804458 ]\n",
      " [-2.67872726  0.96237678]\n",
      " [-1.91107348 -0.25248633]\n",
      " [-2.20924332 -0.07345559]\n",
      " [-2.3749007   0.46789395]\n",
      " [-2.29044653  0.12884109]\n",
      " [-1.92999086 -0.63577691]\n",
      " [-2.10543315  0.09978172]\n",
      " [-2.26400477  0.12525415]\n",
      " [-1.53390493 -1.08168687]\n",
      " [-2.03852448 -0.49076762]\n",
      " [-1.93988783  0.06884155]\n",
      " [-1.95434017  0.32609253]\n",
      " [-1.88507034 -0.38507287]\n",
      " [-2.24645927  0.37675061]\n",
      " [-1.99404258 -0.36906318]\n",
      " [-2.29979282  0.45204976]\n",
      " [-2.11142786 -0.02705031]]\n",
      "\n",
      "\n",
      "Versicolor:\n",
      " [[ 0.52057831  0.74829254]\n",
      " [ 0.49517158  0.36437504]\n",
      " [ 0.77470486  0.57655696]\n",
      " [ 0.68138807 -0.81780285]\n",
      " [ 0.77250035  0.12868384]\n",
      " [ 0.75870045 -0.38577391]\n",
      " [ 0.6407645   0.33764874]\n",
      " [ 0.09351745 -1.04094923]\n",
      " [ 0.63845823  0.28007457]\n",
      " [ 0.46761637 -0.72262028]\n",
      " [ 0.44688736 -1.28969011]\n",
      " [ 0.45447987 -0.0783705 ]\n",
      " [ 0.56076326 -0.53615865]\n",
      " [ 0.82539529 -0.07561491]\n",
      " [ 0.03584302 -0.2631992 ]\n",
      " [ 0.39406056  0.51280576]\n",
      " [ 0.72994213 -0.31965072]\n",
      " [ 0.39702956 -0.32143922]\n",
      " [ 1.06939895 -0.49542552]\n",
      " [ 0.41703799 -0.58085778]\n",
      " [ 0.89818661 -0.02892285]\n",
      " [ 0.3153763  -0.05101728]\n",
      " [ 1.19498344 -0.26273325]\n",
      " [ 0.81566641 -0.13661052]\n",
      " [ 0.44189405  0.1844695 ]\n",
      " [ 0.46410699  0.37292406]\n",
      " [ 0.84524593  0.31047017]\n",
      " [ 1.00056773  0.34473948]\n",
      " [ 0.72109048 -0.12264713]\n",
      " [ 0.01082917 -0.38302284]\n",
      " [ 0.41104329 -0.70768981]\n",
      " [ 0.3030043  -0.68888561]\n",
      " [ 0.30894298 -0.3068489 ]\n",
      " [ 1.31786878 -0.35170902]\n",
      " [ 0.76150136 -0.45440483]\n",
      " [ 0.48175426  0.23412157]\n",
      " [ 0.65418182  0.4679022 ]\n",
      " [ 0.85931569 -0.3309851 ]\n",
      " [ 0.36178189 -0.25594296]\n",
      " [ 0.57285444 -0.67279356]\n",
      " [ 0.79075433 -0.64673312]\n",
      " [ 0.69508734  0.00993941]\n",
      " [ 0.43925093 -0.39240322]\n",
      " [ 0.13200465 -1.04607682]\n",
      " [ 0.60062347 -0.48650657]\n",
      " [ 0.39004557 -0.19586106]\n",
      " [ 0.47631023 -0.27412023]\n",
      " [ 0.47345328  0.04971538]\n",
      " [-0.18843416 -0.80029595]\n",
      " [ 0.4545359  -0.33357519]]\n",
      "\n",
      "\n",
      "Virginica:\n",
      " [[ 1.91727989  0.11621224]\n",
      " [ 1.44542155 -0.50372669]\n",
      " [ 1.74981089  0.47378252]\n",
      " [ 1.60619768 -0.08132599]\n",
      " [ 1.80044529  0.07681534]\n",
      " [ 2.20320076  0.71932005]\n",
      " [ 1.1757292  -1.16532238]\n",
      " [ 1.98068948  0.50109682]\n",
      " [ 1.91222874 -0.1279357 ]\n",
      " [ 1.68850405  0.92707001]\n",
      " [ 1.09562801  0.32468142]\n",
      " [ 1.50282613 -0.1255637 ]\n",
      " [ 1.49298519  0.32385007]\n",
      " [ 1.5256915  -0.70881787]\n",
      " [ 1.55114397 -0.45999463]\n",
      " [ 1.35948344  0.21394145]\n",
      " [ 1.4443305   0.13898245]\n",
      " [ 1.86132562  1.34793006]\n",
      " [ 2.69660751  0.44602045]\n",
      " [ 1.48116386 -0.69542804]\n",
      " [ 1.58474991  0.49862802]\n",
      " [ 1.30262954 -0.54563131]\n",
      " [ 2.33999807  0.63439265]\n",
      " [ 1.18244335 -0.13498752]\n",
      " [ 1.49804663  0.44788758]\n",
      " [ 1.60554524  0.69038274]\n",
      " [ 1.06791501 -0.11681025]\n",
      " [ 1.05120214 -0.0522277 ]\n",
      " [ 1.74067841 -0.10371713]\n",
      " [ 1.4980009   0.58298185]\n",
      " [ 1.89909225  0.51631408]\n",
      " [ 1.53764729  1.53334225]\n",
      " [ 1.77267626 -0.10947165]\n",
      " [ 1.18426527 -0.07131868]\n",
      " [ 1.67256596 -0.41057597]\n",
      " [ 1.87121116  0.84043647]\n",
      " [ 1.52685069  0.24667012]\n",
      " [ 1.4058433   0.14411003]\n",
      " [ 0.99094062 -0.10655508]\n",
      " [ 1.34689762  0.47678145]\n",
      " [ 1.62653267  0.29866442]\n",
      " [ 1.1827699   0.50442146]\n",
      " [ 1.44542155 -0.50372669]\n",
      " [ 1.7526118   0.4051516 ]\n",
      " [ 1.62603802  0.42486951]\n",
      " [ 1.34463709  0.28411302]\n",
      " [ 1.39901596 -0.298801  ]\n",
      " [ 1.28020278  0.16662245]\n",
      " [ 1.35855018  0.21114694]\n",
      " [ 1.23484364 -0.21308118]]\n"
     ]
    }
   ],
   "source": [
    "X_lda_2d = np.array(X_lda_2d)\n",
    "\n",
    "print('Setosa:\\n',X_lda_2d[y==0])\n",
    "print('\\n')\n",
    "print('Versicolor:\\n',X_lda_2d[y==1])\n",
    "print('\\n')\n",
    "print('Virginica:\\n',X_lda_2d[y==2])"
   ]
  },
  {
   "cell_type": "code",
   "execution_count": 23,
   "metadata": {
    "ExecuteTime": {
     "end_time": "2020-10-28T02:26:40.331410Z",
     "start_time": "2020-10-28T02:26:39.945442Z"
    }
   },
   "outputs": [
    {
     "data": {
      "image/png": "[encoded data removed]",
      "text/plain": [
       "<Figure size 432x288 with 1 Axes>"
      ]
     },
     "metadata": {
      "needs_background": "light"
     },
     "output_type": "display_data"
    }
   ],
   "source": [
    "#Gráfico\n",
    "label_dict = {0: 'Setosa', 1: 'Versicolor', 2:'Virginica'}\n",
    "for label,marker,color in zip(\n",
    "    range(0,3),('^', 's', 'o'),('blue', 'red', 'green')):\n",
    "\n",
    "    plt.scatter(x=X_lda_2d[:,0].real[y == label],\n",
    "            y=X_lda_2d[:,1].real[y == label],\n",
    "            marker=marker,\n",
    "            color=color,\n",
    "            alpha=0.5,\n",
    "            label=label_dict[label]\n",
    "            )\n",
    "leg = plt.legend(loc='upper right', fancybox=True)\n",
    "leg.get_frame().set_alpha(0.5)"
   ]
  },
  {
   "cell_type": "markdown",
   "metadata": {},
   "source": [
    "### Três Componentes Principais"
   ]
  },
  {
   "cell_type": "markdown",
   "metadata": {
    "ExecuteTime": {
     "end_time": "2020-10-28T01:33:34.817965Z",
     "start_time": "2020-10-28T01:33:34.812977Z"
    }
   },
   "source": [
    "#### PCA"
   ]
  },
  {
   "cell_type": "code",
   "execution_count": 24,
   "metadata": {
    "ExecuteTime": {
     "end_time": "2020-10-28T02:26:40.362329Z",
     "start_time": "2020-10-28T02:26:40.335400Z"
    }
   },
   "outputs": [],
   "source": [
    "# 1° Passo,2° Passo e 3° Passo são iguais aos anteriores\n",
    "\n",
    "#4° Passo - Encontrar os autovalores, checar se estão na ordem\n",
    "autovalores_iris = np.linalg.eig(covariance_matrix_iris)[0]\n",
    "autovalores_iris\n",
    "\n",
    "#4° Passo - Encontrar os autovetores\n",
    "autovetores_alps = np.linalg.eig(covariance_matrix_iris)[1]\n",
    "autovetores_alps\n",
    "\n",
    "#5° Passo - Escolher os componentes\n",
    "FeatureVector = [[autovetores_alps[0][0],autovetores_alps[1][0],autovetores_alps[2][0],autovetores_alps[3][0]],\n",
    "                [-autovetores_alps[0][1],-autovetores_alps[1][1],-autovetores_alps[2][1],-autovetores_alps[3][1]],\n",
    "                [autovetores_alps[0][2],autovetores_alps[1][2],autovetores_alps[2][2],autovetores_alps[3][2]]]\n",
    "FeatureVector \n",
    "\n",
    "\n",
    "#6° Passo - Derive the new dataset\n",
    "pca_iris_3 = multiply_matrix_matrix(np.array(FeatureVector),np.transpose(new_dataset_iris))\n",
    "pca_iris_3\n",
    "\n",
    "#7° Passo - Reorganizing\n",
    "pca_iris_3d=[]\n",
    "for i in range(150):\n",
    "    x=[pca_iris_3[0][i],pca_iris_3[1][i],pca_iris_3[2][i]]\n",
    "    pca_iris_3d.append(x)"
   ]
  },
  {
   "cell_type": "code",
   "execution_count": 25,
   "metadata": {
    "ExecuteTime": {
     "end_time": "2020-10-28T02:26:40.377288Z",
     "start_time": "2020-10-28T02:26:40.368312Z"
    }
   },
   "outputs": [],
   "source": [
    "#PCA\n",
    "#Separate setosa samples\n",
    "setosa_3d = []\n",
    "for i in range(0,50):\n",
    "   setosa_3d.append(pca_iris_3d[i])\n",
    "#Separate versicolor samples\n",
    "versicolor_3d = []\n",
    "for i in range(50,100):\n",
    "   versicolor_3d.append(pca_iris_3d[i])\n",
    "#Separate virginica samples\n",
    "virginica_3d = []\n",
    "for i in range(100,150):\n",
    "   virginica_3d.append(pca_iris_3d[i])"
   ]
  },
  {
   "cell_type": "markdown",
   "metadata": {},
   "source": [
    "#### LDA"
   ]
  },
  {
   "cell_type": "code",
   "execution_count": 26,
   "metadata": {
    "ExecuteTime": {
     "end_time": "2020-10-28T02:26:40.516913Z",
     "start_time": "2020-10-28T02:26:40.383273Z"
    }
   },
   "outputs": [
    {
     "name": "stdout",
     "output_type": "stream",
     "text": [
      "Media da setosa = [[-2.6424154639468513], [0.19088504677006946], [0.013581281239973651]]\n",
      "Media da virginica = [[2.1092088949075016], [0.054664785265311426], [0.10474403871181293]]\n",
      "Media da versicolor = [[0.5332065690393412], [-0.24554983203538364], [-0.1183253199517876]]\n",
      "\n",
      "\n",
      "Matriz de covariância 3d setosa =\n",
      "[0.049021943697852656, 0.05604270136775451, -0.0002725095017331085]\n",
      "[0.05604270136775451, 0.21769730314771762, 0.019918865502645267]\n",
      "[-0.0002725095017331085, 0.019918865502645267, 0.027513575709909314]\n",
      "\n",
      "\n",
      "Matriz de covariância 3d versicolor =\n",
      "[0.3554709684628474, 0.19874216796934455, -0.01822731831406725]\n",
      "[0.19874216796934455, 0.1851722265135031, -0.012809942244831871]\n",
      "[-0.01822731831406725, -0.012809942244831871, 0.06794637236101672]\n",
      "\n",
      "\n",
      "Matriz de covariância 3d virginica =\n",
      "[0.49829218197686337, 0.27585485675414606, -0.10593673615236257]\n",
      "[0.27585485675414606, 0.23329247950837936, -0.0452446746133089]\n",
      "[-0.10593673615236257, -0.0452446746133089, 0.11669072941930433]\n",
      "\n",
      "\n",
      "Within-Class Scatter Matrix 3d =\n",
      "\n",
      "[44.23646961274061, 26.00134657847101, -6.097391634439983]\n",
      "[26.00134657847101, 31.171938449310403, -1.8686518164192796]\n",
      "[-6.097391634439983, -1.8686518164192796, 10.395383197021287]\n",
      "\n",
      "\n",
      "Grand Mean Vector = [[-3.0479322769375964e-15], [-8.804068585277491e-16], [-3.3195668436292183e-16]]\n",
      "\n",
      "\n",
      "Between-class scatter matrix: \n",
      "[585.7715445864542, -26.001346578470972, 6.097391634439946]\n",
      "[-26.001346578470972, 4.986002992055966, 1.868651816419352]\n",
      "[6.097391634439946, 1.868651816419352, 1.2578323093736965]\n",
      "\n",
      "\n",
      "Sw-1*Sb: \n",
      " [[ 29.66502913  -1.42145836   0.25034521]\n",
      " [-24.7671776    1.32065442  -0.13426382]\n",
      " [ 13.53441793  -0.41659775   0.24370364]]\n",
      "\n",
      "\n",
      "Autovalores 3D: [3.09685141e+01 1.37927872e-16 2.60873141e-01]\n",
      "\n",
      "\n",
      "Autovetores 3D: \n",
      " [[-0.72443674  0.03071207  0.01608513]\n",
      " [ 0.60666112  0.48723995  0.48657357]\n",
      " [-0.32734338 -0.87272791  0.87349152]]\n"
     ]
    }
   ],
   "source": [
    "#Médias\n",
    "media_setosa_3d = media(setosa_3d)\n",
    "media_virginica_3d = media(virginica_3d)\n",
    "media_versicolor_3d = media(versicolor_3d)\n",
    "\n",
    "print('Media da setosa =' ,media_setosa_3d)\n",
    "print('Media da virginica =' , media_virginica_3d)\n",
    "print('Media da versicolor =' ,media_versicolor_3d)\n",
    "print('\\n')\n",
    "\n",
    "#Matriz de covariância\n",
    "s1_3d = covariance_matrix(setosa_3d)\n",
    "s2_3d = covariance_matrix(versicolor_3d)\n",
    "s3_3d = covariance_matrix(virginica_3d)\n",
    "\n",
    "print('Matriz de covariância 3d setosa =')\n",
    "for i in s1_3d:\n",
    "    print(i)\n",
    "\n",
    "print('\\n')\n",
    "print('Matriz de covariância 3d versicolor =')\n",
    "for i in s2_3d:\n",
    "    print(i)\n",
    "print('\\n')\n",
    "\n",
    "print('Matriz de covariância 3d virginica =')\n",
    "for i in s3_3d:\n",
    "    print(i)\n",
    "print('\\n')\n",
    "\n",
    "\n",
    "\n",
    "#Within-class\n",
    "within_3d = within_class_matrix(s1_3d,s2_3d,s3_3d)\n",
    "print('Within-Class Scatter Matrix 3d =\\n')\n",
    "for i in  within_3d:\n",
    "    print(i)\n",
    "print('\\n')\n",
    "\n",
    "#Grand Mean Vector\n",
    "grand_mean3d = grand_mean_vector(setosa_3d,versicolor_3d,virginica_3d)\n",
    "print('Grand Mean Vector =',grand_mean3d)\n",
    "print('\\n')\n",
    "\n",
    "#Between-class scatter matrix\n",
    "\n",
    "bt_setosa_3d = between_not_final(media_setosa_3d ,grand_mean3d)\n",
    "bt_versicolor_3d = between_not_final(media_versicolor_3d ,grand_mean3d)\n",
    "bt_virginica_3d = between_not_final(media_virginica_3d ,grand_mean3d)\n",
    "\n",
    "Bt_3d = between_final(bt_setosa_3d,bt_versicolor_3d,bt_virginica_3d)\n",
    "print('Between-class scatter matrix: ')\n",
    "for i in Bt_3d:\n",
    "    print(i)\n",
    "print('\\n')\n",
    "\n",
    "#𝑆_𝑊^(−1) 𝑆_𝐵 𝑤\n",
    "produto_3d = np.matmul(np.linalg.inv(within_3d),Bt_3d)\n",
    "print('Sw-1*Sb: \\n',produto_3d)\n",
    "print('\\n')\n",
    "\n",
    "#Autovalor\n",
    "\n",
    "autovalores_3d = np.linalg.eig(produto_3d)[0]\n",
    "print('Autovalores 3D:',autovalores_3d)\n",
    "print('\\n')\n",
    "autovetores_3d = np.linalg.eig(produto_3d)[1]\n",
    "print('Autovetores 3D: \\n',autovetores_3d)\n",
    "\n",
    "#Seleção dos autovetores\n",
    "W =[[autovetores_3d[0][0],autovetores_3d[0][1],autovetores_3d[0][2]],\n",
    "    [autovetores_3d[1][0],autovetores_3d[1][1],autovetores_3d[1][2]],\n",
    "    [autovetores_3d[2][0],autovetores_3d[2][1],autovetores_3d[2][2]]]\n",
    "W\n",
    "\n",
    "#Convert the data\n",
    "X_lda_3d = np.matmul(pca_iris_3d,W)\n",
    "X_lda_3d = np.array(X_lda_3d)"
   ]
  },
  {
   "cell_type": "markdown",
   "metadata": {},
   "source": [
    "#### Result\n",
    "Não plotei os resultados pois é gerado um gráfico de 3 dimensões e portanto não há como representar em um scatter plot 2d."
   ]
  },
  {
   "cell_type": "code",
   "execution_count": 27,
   "metadata": {
    "ExecuteTime": {
     "end_time": "2020-10-28T02:26:40.531874Z",
     "start_time": "2020-10-28T02:26:40.519907Z"
    }
   },
   "outputs": [
    {
     "name": "stdout",
     "output_type": "stream",
     "text": [
      "Setosa points:\n"
     ]
    },
    {
     "data": {
      "text/plain": [
       "array([[ 2.14738285e+00,  9.75500845e-02,  8.78523855e-02],\n",
       "       [ 1.92773829e+00,  1.40790570e-02, -3.13620194e-01],\n",
       "       [ 1.99909620e+00, -1.74974095e-01, -1.01362624e-01],\n",
       "       [ 1.78539687e+00, -2.66945896e-01, -1.71468220e-01],\n",
       "       [ 2.14552493e+00, -3.21135677e-03,  1.93781804e-01],\n",
       "       [ 2.04685937e+00,  1.43946184e-01,  4.71362384e-01],\n",
       "       [ 1.90460914e+00, -3.55283406e-01,  1.36368353e-01],\n",
       "       [ 2.00875726e+00,  1.80480139e-02,  1.81455231e-02],\n",
       "       [ 1.73336694e+00, -3.88540845e-01, -3.09685745e-01],\n",
       "       [ 1.93191386e+00,  3.49583642e-02, -2.70981672e-01],\n",
       "       [ 2.23211766e+00,  3.03041924e-01,  2.07759266e-01],\n",
       "       [ 1.86827376e+00, -1.62215498e-01,  5.43680792e-02],\n",
       "       [ 1.94343576e+00, -1.96042448e-02, -3.39891068e-01],\n",
       "       [ 2.00513263e+00, -4.01679505e-01, -2.47141645e-01],\n",
       "       [ 2.68069930e+00,  6.25445027e-01,  3.98569208e-01],\n",
       "       [ 2.44935631e+00,  3.36253563e-01,  8.55321785e-01],\n",
       "       [ 2.34715437e+00,  1.93825107e-01,  4.72957317e-01],\n",
       "       [ 2.09898049e+00,  4.73364958e-02,  1.32433904e-01],\n",
       "       [ 2.16252940e+00,  4.62714995e-01,  2.84230158e-01],\n",
       "       [ 2.11644763e+00, -1.57268872e-02,  3.94891492e-01],\n",
       "       [ 1.98942927e+00,  3.28696115e-01, -5.58945219e-02],\n",
       "       [ 2.03719831e+00, -4.90759252e-02,  3.51854237e-01],\n",
       "       [ 2.31500042e+00, -2.88919996e-01,  2.68619315e-01],\n",
       "       [ 1.71526061e+00, -5.67707726e-02,  4.51631936e-02],\n",
       "       [ 1.64305251e+00, -1.99624690e-01,  5.31718795e-02],\n",
       "       [ 1.81029567e+00,  7.30364860e-02, -3.32728305e-01],\n",
       "       [ 1.83687880e+00, -9.48488944e-02,  1.06909827e-01],\n",
       "       [ 2.10501398e+00,  1.68977244e-01,  6.91430076e-02],\n",
       "       [ 2.14924077e+00,  1.98311526e-01, -1.80770329e-02],\n",
       "       [ 1.77387496e+00, -2.12383287e-01, -1.02558824e-01],\n",
       "       [ 1.77573287e+00, -1.11621846e-01, -2.08488242e-01],\n",
       "       [ 2.04277206e+00,  2.53208399e-01,  3.40659815e-02],\n",
       "       [ 2.33849811e+00,  1.18003529e-01,  5.50274132e-01],\n",
       "       [ 2.49413109e+00,  3.15085792e-01,  6.27941223e-01],\n",
       "       [ 1.88351150e+00, -1.52552245e-02, -2.26400154e-01],\n",
       "       [ 2.17228459e+00,  8.91863077e-02, -1.55895825e-01],\n",
       "       [ 2.35327611e+00,  4.45607378e-01,  1.50085401e-02],\n",
       "       [ 2.16122241e+00, -3.68946586e-02,  1.67510930e-01],\n",
       "       [ 1.83928765e+00, -3.92935665e-01, -2.21668238e-01],\n",
       "       [ 2.04146214e+00,  1.01944904e-01, -1.65121524e-04],\n",
       "       [ 2.14134937e+00, -2.40906640e-02,  1.51143282e-01],\n",
       "       [ 1.60766144e+00, -2.41200508e-01, -8.08728780e-01],\n",
       "       [ 1.90098157e+00, -4.26664767e-01, -4.64306900e-02],\n",
       "       [ 1.77092105e+00, -2.12140623e-01,  2.83691638e-01],\n",
       "       [ 1.76775028e+00, -1.15819399e-01,  4.37878078e-01],\n",
       "       [ 1.84663105e+00, -1.20031422e-01, -2.50728031e-01],\n",
       "       [ 2.08977624e+00,  2.20169708e-02,  3.49911240e-01],\n",
       "       [ 1.89131758e+00, -2.71340716e-01, -8.34507126e-02],\n",
       "       [ 2.19941278e+00,  2.19145033e-01,  2.26069910e-01],\n",
       "       [ 2.05298405e+00,  4.73822954e-02, -6.90745174e-02]])"
      ]
     },
     "execution_count": 27,
     "metadata": {},
     "output_type": "execute_result"
    }
   ],
   "source": [
    "#Setosa Points\n",
    "print('Setosa points:')\n",
    "X_lda_3d[y==0]"
   ]
  },
  {
   "cell_type": "code",
   "execution_count": 28,
   "metadata": {
    "ExecuteTime": {
     "end_time": "2020-10-28T02:26:40.562792Z",
     "start_time": "2020-10-28T02:26:40.535865Z"
    }
   },
   "outputs": [
    {
     "name": "stdout",
     "output_type": "stream",
     "text": [
      "Versicolor points:\n"
     ]
    },
    {
     "data": {
      "text/plain": [
       "array([[-3.82027364e-01,  7.28120476e-01, -1.08615918e-03],\n",
       "       [-4.76511487e-01,  1.99465006e-01,  1.54156694e-01],\n",
       "       [-6.44129058e-01,  5.85935086e-01, -2.66102363e-02],\n",
       "       [-5.76304583e-01, -2.41050221e-01, -5.56785839e-01],\n",
       "       [-6.42268206e-01,  3.38350369e-01, -2.15027779e-01],\n",
       "       [-7.32028764e-01, -2.19927848e-01, -1.57306926e-01],\n",
       "       [-6.76919258e-01,  2.35505142e-02,  3.03870164e-01],\n",
       "       [-7.09635719e-02, -5.23367234e-01, -4.90256620e-01],\n",
       "       [-4.81911654e-01,  5.05809886e-01, -2.34882687e-01],\n",
       "       [-5.24359975e-01, -5.97942954e-01, -1.06398558e-01],\n",
       "       [-3.11794040e-01, -3.96951602e-01, -8.59839826e-01],\n",
       "       [-4.76508551e-01, -1.48881153e-01,  7.16685690e-02],\n",
       "       [-2.98420088e-01,  3.45939548e-01, -8.69702392e-01],\n",
       "       [-7.68912147e-01,  2.36421134e-02, -9.91466786e-02],\n",
       "       [-5.82229371e-02, -2.08461712e-01, -4.77889083e-02],\n",
       "       [-2.85767711e-01,  5.30703548e-01, -3.25767993e-02],\n",
       "       [-7.99844431e-01, -4.37981017e-01,  1.25404303e-01],\n",
       "       [-2.84668782e-01,  8.13532829e-02, -3.95385967e-01],\n",
       "       [-8.50390861e-01,  2.00316732e-01, -6.85409755e-01],\n",
       "       [-3.10027319e-01, -7.79855240e-02, -4.88623240e-01],\n",
       "       [-1.01046419e+00, -4.08069406e-01,  3.78258273e-01],\n",
       "       [-2.25840508e-01,  1.78008368e-01, -2.28555838e-01],\n",
       "       [-1.02544009e+00,  1.83741047e-01, -4.42459011e-01],\n",
       "       [-7.02954396e-01,  1.40933842e-01, -2.75928489e-01],\n",
       "       [-3.22100161e-01,  3.75425297e-01, -1.97065198e-01],\n",
       "       [-3.49319550e-01,  4.63671208e-01, -1.01884928e-01],\n",
       "       [-6.45898716e-01,  6.15315167e-01, -3.15338698e-01],\n",
       "       [-9.12264237e-01,  3.22108948e-01,  1.11565829e-02],\n",
       "       [-6.99871883e-01, -8.55289043e-02, -3.54570491e-02],\n",
       "       [ 1.02221873e-01,  8.91393278e-02, -4.62301696e-01],\n",
       "       [-2.98505409e-01, -1.32548133e-01, -5.57532636e-01],\n",
       "       [-1.75029304e-01, -6.98648135e-02, -6.01715421e-01],\n",
       "       [-2.31325997e-01,  5.86556701e-03, -3.05425463e-01],\n",
       "       [-1.26041066e+00, -1.76831776e-01, -1.68505477e-01],\n",
       "       [-8.65254186e-01, -6.05774799e-01,  1.62025593e-01],\n",
       "       [-5.94039430e-01, -2.20065247e-01,  4.47218338e-01],\n",
       "       [-5.59391315e-01,  4.43080767e-01,  1.08085195e-02],\n",
       "       [-6.14960559e-01,  3.80245980e-01, -7.04865929e-01],\n",
       "       [-4.02744721e-01, -2.87674917e-01,  3.78361993e-02],\n",
       "       [-5.14610659e-01, -2.74779323e-01, -3.81548292e-01],\n",
       "       [-7.35656337e-01, -2.91309208e-01, -3.40105969e-01],\n",
       "       [-6.62991436e-01,  1.92472935e-02, -1.11291716e-02],\n",
       "       [-3.37246708e-01,  1.02603869e-02, -3.93442970e-01],\n",
       "       [-6.91056562e-02, -4.22605792e-01, -5.96186039e-01],\n",
       "       [-5.70359356e-01, -2.49550995e-01, -2.25418855e-01],\n",
       "       [-3.96711236e-01, -1.66034168e-01, -2.54546970e-02],\n",
       "       [-4.75960555e-01, -1.99383206e-01, -6.84919523e-02],\n",
       "       [-3.87509916e-01,  2.07631516e-01, -1.60443909e-01],\n",
       "       [ 2.02112036e-01, -3.85242400e-01, -3.93481418e-01],\n",
       "       [-4.31733767e-01, -1.70048925e-01, -1.55711993e-01]])"
      ]
     },
     "execution_count": 28,
     "metadata": {},
     "output_type": "execute_result"
    }
   ],
   "source": [
    "#Versicolor Points\n",
    "print('Versicolor points:')\n",
    "X_lda_3d[y==1]"
   ]
  },
  {
   "cell_type": "code",
   "execution_count": 29,
   "metadata": {
    "ExecuteTime": {
     "end_time": "2020-10-28T02:26:40.593709Z",
     "start_time": "2020-10-28T02:26:40.566782Z"
    }
   },
   "outputs": [
    {
     "name": "stdout",
     "output_type": "stream",
     "text": [
      "Virginica points:\n",
      "[[-2.08849921e+00 -5.90478285e-01  6.99920298e-01]\n",
      " [-1.47102748e+00 -4.95266324e-01  1.86036719e-03]\n",
      " [-1.65071790e+00  3.44614578e-01  1.12651479e-01]\n",
      " [-1.57277556e+00 -1.21646038e-01  3.89695069e-02]\n",
      " [-1.82027577e+00 -1.96510624e-01  2.67495599e-01]\n",
      " [-2.01270975e+00  6.76810915e-01  1.83071233e-02]\n",
      " [-1.27981810e+00 -1.04136368e+00 -9.53520160e-02]\n",
      " [-1.77124303e+00  6.30034753e-01 -1.46928072e-01]\n",
      " [-1.71549140e+00  2.56460266e-01 -3.85545633e-01]\n",
      " [-1.77668817e+00  1.01530347e-01  7.97582084e-01]\n",
      " [-1.13626089e+00 -4.25244321e-02  3.56361242e-01]\n",
      " [-1.42494572e+00 -1.68244419e-02 -1.08800967e-01]\n",
      " [-1.44853753e+00  1.42802829e-01  1.69178346e-01]\n",
      " [-1.53875489e+00 -5.83177971e-01 -1.10086284e-01]\n",
      " [-1.68219230e+00 -7.63198818e-01  3.12386733e-01]\n",
      " [-1.46432033e+00 -3.02001550e-01  5.07618976e-01]\n",
      " [-1.40144509e+00  4.17529237e-02  9.03657246e-02]\n",
      " [-1.85670529e+00  5.63108080e-01  7.45129454e-01]\n",
      " [-2.42541868e+00  6.90329639e-01 -2.62511779e-01]\n",
      " [-1.29116936e+00 -2.98257032e-02 -6.50782132e-01]\n",
      " [-1.60109094e+00  6.76039793e-02  4.14470819e-01]\n",
      " [-1.40384513e+00 -7.05198783e-01  1.71479415e-01]\n",
      " [-2.06837019e+00  8.32180765e-01 -2.20221321e-01]\n",
      " [-1.10895324e+00 -6.28820513e-04 -1.33476908e-01]\n",
      " [-1.53884902e+00 -1.66271752e-02  4.49547845e-01]\n",
      " [-1.48618577e+00  5.32953402e-01  1.35435093e-01]\n",
      " [-1.03573741e+00 -8.89205310e-02 -2.71487564e-02]\n",
      " [-1.08182211e+00 -2.19016254e-01  1.66000703e-01]\n",
      " [-1.71612471e+00 -1.71525362e-01  6.67846438e-02]\n",
      " [-1.30092749e+00  6.92049143e-01 -1.28168025e-01]\n",
      " [-1.66763997e+00  7.05522067e-01 -2.07478506e-01]\n",
      " [-1.46926957e+00  8.68738231e-01  6.20541327e-01]\n",
      " [-1.76452707e+00 -2.21738951e-01  1.11366162e-01]\n",
      " [-1.08304671e+00  1.08207933e-01 -1.80400156e-01]\n",
      " [-1.53711678e+00 -3.79918116e-02 -3.65591599e-01]\n",
      " [-1.70144084e+00  7.22629282e-01  9.11531817e-02]\n",
      " [-1.70895489e+00 -5.07250324e-01  7.44552486e-01]\n",
      " [-1.40330301e+00 -5.90085176e-02  1.96295143e-01]\n",
      " [-1.03945324e+00 -2.90443414e-01  1.84710080e-01]\n",
      " [-1.30991194e+00  2.22304900e-01  2.38885208e-01]\n",
      " [-1.67067627e+00 -1.21069109e-01  4.08453587e-01]\n",
      " [-1.18149541e+00  1.59286915e-01  3.29244445e-01]\n",
      " [-1.47102748e+00 -4.95266324e-01  1.86036719e-03]\n",
      " [-1.78394332e+00 -4.12323729e-02  4.31983998e-01]\n",
      " [-1.73245845e+00 -2.17481530e-01  6.27873919e-01]\n",
      " [-1.35282587e+00 -4.11204645e-03  2.77848227e-01]\n",
      " [-1.29412327e+00 -2.95830386e-02 -2.64531670e-01]\n",
      " [-1.27302856e+00 -2.12650614e-02  1.80724961e-01]\n",
      " [-1.54310991e+00 -5.15994164e-01  7.19079079e-01]\n",
      " [-1.29737936e+00 -4.11749497e-01  2.01824525e-01]]\n"
     ]
    }
   ],
   "source": [
    "#Virginica Points\n",
    "print('Virginica points:')\n",
    "print(X_lda_3d[y==2])"
   ]
  }
 ],
 "metadata": {
  "hide_input": false,
  "kernelspec": {
   "display_name": "Python 3",
   "language": "python",
   "name": "python3"
  },
  "language_info": {
   "codemirror_mode": {
    "name": "ipython",
    "version": 3
   },
   "file_extension": ".py",
   "mimetype": "text/x-python",
   "name": "python",
   "nbconvert_exporter": "python",
   "pygments_lexer": "ipython3",
   "version": "3.8.5"
  },
  "toc": {
   "base_numbering": 1,
   "nav_menu": {},
   "number_sections": true,
   "sideBar": true,
   "skip_h1_title": false,
   "title_cell": "Table of Contents",
   "title_sidebar": "Contents",
   "toc_cell": false,
   "toc_position": {
    "height": "calc(100% - 180px)",
    "left": "10px",
    "top": "150px",
    "width": "341.484px"
   },
   "toc_section_display": true,
   "toc_window_display": true
  },
  "varInspector": {
   "cols": {
    "lenName": 16,
    "lenType": 16,
    "lenVar": 40
   },
   "kernels_config": {
    "python": {
     "delete_cmd_postfix": "",
     "delete_cmd_prefix": "del ",
     "library": "var_list.py",
     "varRefreshCmd": "print(var_dic_list())"
    },
    "r": {
     "delete_cmd_postfix": ") ",
     "delete_cmd_prefix": "rm(",
     "library": "var_list.r",
     "varRefreshCmd": "cat(var_dic_list()) "
    }
   },
   "types_to_exclude": [
    "module",
    "function",
    "builtin_function_or_method",
    "instance",
    "_Feature"
   ],
   "window_display": false
  }
 },
 "nbformat": 4,
 "nbformat_minor": 4
}
