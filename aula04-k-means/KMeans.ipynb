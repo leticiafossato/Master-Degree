{
 "cells": [
  {
   "cell_type": "markdown",
   "metadata": {},
   "source": [
    "# K-Means"
   ]
  },
  {
   "cell_type": "markdown",
   "metadata": {},
   "source": [
    "## Import libraries"
   ]
  },
  {
   "cell_type": "markdown",
   "metadata": {},
   "source": [
    "Usei numpy para contas matemáticas, pandas para criar o dataframe e matplotlib + seaborn para plotar os gráficos."
   ]
  },
  {
   "cell_type": "code",
   "execution_count": 1,
   "metadata": {
    "ExecuteTime": {
     "end_time": "2020-10-29T21:25:03.487819Z",
     "start_time": "2020-10-29T21:24:38.853162Z"
    }
   },
   "outputs": [],
   "source": [
    "#How to Create Pandas DataFrame in Python\n",
    "import pandas as pd\n",
    "import numpy as np\n",
    "import matplotlib.pyplot as plt\n",
    "import seaborn as sns"
   ]
  },
  {
   "cell_type": "markdown",
   "metadata": {},
   "source": [
    "### Definição de funções:"
   ]
  },
  {
   "cell_type": "code",
   "execution_count": 2,
   "metadata": {
    "ExecuteTime": {
     "end_time": "2020-10-29T21:25:03.503777Z",
     "start_time": "2020-10-29T21:25:03.491810Z"
    }
   },
   "outputs": [],
   "source": [
    "def euclidiana_dis(X, center, num_center):\n",
    "    \"\"\"Calcula a distância euclidiana para o centro de entrada.\n",
    "    Input: entrar com a array X e centro desejado.\n",
    "    Ex: 03 clusters -> 03 centros: Calcular esta função para c0, depois para c1 e depois para c2\"\"\"\n",
    "    dist=[]\n",
    "    soma=0\n",
    "    for i in range(len(X)):\n",
    "        soma=0\n",
    "        for j in range(len(X.loc[0,:])):\n",
    "            soma = soma + (X.loc[i,j]-center[num_center][j])**2\n",
    "        dist.append(np.sqrt(soma))\n",
    "    return dist"
   ]
  },
  {
   "cell_type": "code",
   "execution_count": 3,
   "metadata": {
    "ExecuteTime": {
     "end_time": "2020-10-29T21:25:03.534695Z",
     "start_time": "2020-10-29T21:25:03.507766Z"
    }
   },
   "outputs": [],
   "source": [
    "def center_classification(dist_c1,dist_c2,dist_c3,dist_c4=0):\n",
    "    a=[]\n",
    "    if dist_c4==0:\n",
    "        for i in range(len(dist_c2)):\n",
    "            if ((dist_c1[i]<dist_c2[i])&(dist_c1[i]<dist_c3[i])):\n",
    "                a.append('c1')\n",
    "            if ((dist_c2[i]<dist_c1[i])&(dist_c2[i]<dist_c3[i])):\n",
    "                a.append('c2')\n",
    "            if ((dist_c3[i]<dist_c2[i])&(dist_c3[i]<dist_c1[i])):\n",
    "                a.append('c3')\n",
    "    if dist_c4!=0:\n",
    "        for i in range(len(dist_c2)):\n",
    "            if ((dist_c1[i]<dist_c2[i])&(dist_c1[i]<dist_c3[i])&(dist_c1[i]<dist_c4[i])):\n",
    "                a.append('c1')\n",
    "            if ((dist_c2[i]<dist_c1[i])&(dist_c2[i]<dist_c3[i])&(dist_c2[i]<dist_c4[i])):\n",
    "                a.append('c2')\n",
    "            if ((dist_c3[i]<dist_c2[i])&(dist_c3[i]<dist_c1[i])&(dist_c3[i]<dist_c4[i])):\n",
    "                a.append('c3')\n",
    "            if ((dist_c4[i]<dist_c1[i])&(dist_c4[i]<dist_c2[i])&(dist_c4[i]<dist_c3[i])):\n",
    "                a.append('c4')            \n",
    "    return a"
   ]
  },
  {
   "cell_type": "code",
   "execution_count": 4,
   "metadata": {
    "ExecuteTime": {
     "end_time": "2020-10-29T21:25:03.550652Z",
     "start_time": "2020-10-29T21:25:03.540680Z"
    }
   },
   "outputs": [],
   "source": [
    "def new_center(indices_c):\n",
    "    \"\"\"Função para cálculo do novo centro.\n",
    "    Input = Lista com os índices do cluster correspondente\n",
    "    Ex: linhas 0, 3 e 5 de X foram classificadas como c1.\n",
    "    Input: indices_c = [7, 8, 9, 10]\n",
    "    Output: c_novo = [4.78, 7.82]\"\"\"\n",
    "    soma=0\n",
    "    c_novo=[]\n",
    "    for j in range(X.shape[1]):\n",
    "        soma=0\n",
    "        for i in indices_c:\n",
    "            soma=soma+X.iloc[i,j]\n",
    "        x_centro=soma/len(indices_c)\n",
    "        x_centro=round(x_centro,2)\n",
    "        c_novo.append(x_centro)\n",
    "    return c_novo"
   ]
  },
  {
   "cell_type": "markdown",
   "metadata": {},
   "source": [
    "## Exercício 01"
   ]
  },
  {
   "cell_type": "markdown",
   "metadata": {},
   "source": [
    "Implementar o K-Means para o dataset de exemplo para 03 clusters."
   ]
  },
  {
   "cell_type": "code",
   "execution_count": 5,
   "metadata": {
    "ExecuteTime": {
     "end_time": "2020-10-29T21:25:03.581568Z",
     "start_time": "2020-10-29T21:25:03.554641Z"
    }
   },
   "outputs": [],
   "source": [
    "#Inicialização do dataset\n",
    "import pandas as pd\n",
    "X = [[1.9, 7.3],\n",
    " [3.4, 7.5],\n",
    " [2.5, 6.8],\n",
    " [1.5, 6.5],\n",
    " [3.5, 6.4],\n",
    " [2.2, 5.8],\n",
    " [3.4, 5.2],\n",
    " [3.6, 4],\n",
    " [5, 3.2],\n",
    " [4.5, 2.4],\n",
    " [6, 2.6],\n",
    " [1.9, 3],\n",
    " [1, 2.7],\n",
    " [1.9, 2.4],\n",
    " [0.8, 2],\n",
    " [1.6, 1.8],\n",
    " [1, 1]]\n",
    "X = pd.DataFrame(np.array(X), columns=[0,1])"
   ]
  },
  {
   "cell_type": "code",
   "execution_count": 6,
   "metadata": {
    "ExecuteTime": {
     "end_time": "2020-10-29T21:25:03.940099Z",
     "start_time": "2020-10-29T21:25:03.583564Z"
    }
   },
   "outputs": [
    {
     "data": {
      "image/png": "[encoded data removed]",
      "text/plain": [
       "<Figure size 432x288 with 1 Axes>"
      ]
     },
     "metadata": {
      "needs_background": "light"
     },
     "output_type": "display_data"
    }
   ],
   "source": [
    "#Gráfico para ver a distribuição dos pontos\n",
    "plt.scatter(X.loc[:,0],X.loc[:,1]);"
   ]
  },
  {
   "cell_type": "code",
   "execution_count": 7,
   "metadata": {
    "ExecuteTime": {
     "end_time": "2020-10-29T21:25:03.986975Z",
     "start_time": "2020-10-29T21:25:03.943093Z"
    }
   },
   "outputs": [
    {
     "name": "stdout",
     "output_type": "stream",
     "text": [
      "[[4.78, 3.05], [2.63, 6.5], [1.37, 2.15]]\n"
     ]
    }
   ],
   "source": [
    "#Inicialização dos centros de maneira aleatória (valores aproximados pelo gráfico): \n",
    "center =[[5.0, 3],[2.5, 6.5],[1, 2]]\n",
    "\n",
    "#Distância do conjunto de pessoas para o centro c1:\n",
    "dist_c1 = euclidiana_dis(X, center, 0)\n",
    "\n",
    "#Distância do conjunto de pessoas para o centro c2:\n",
    "dist_c2 = euclidiana_dis(X, center, 1)\n",
    "\n",
    "#Distância do conjunto de pessoas para o centro c3:\n",
    "dist_c3 = euclidiana_dis(X,center, 2)\n",
    "\n",
    "#Identificando qual dos centros é menor e fazendo a clusterização dos dados:\n",
    "clust = center_classification(dist_c1,dist_c2,dist_c3)\n",
    "clust\n",
    "\n",
    "#Cálculo do novo centro:\n",
    "indices_c1 = [i for i, j in enumerate(clust) if j == 'c1']\n",
    "indices_c2 = [i for i, j in enumerate(clust) if j == 'c2']\n",
    "indices_c3 = [i for i, j in enumerate(clust) if j == 'c3']\n",
    "\n",
    "centro1=new_center(indices_c1)\n",
    "centro2=new_center(indices_c2)\n",
    "centro3=new_center(indices_c3)\n",
    "\n",
    "center2=[centro1,centro2,centro3]\n",
    "\n",
    "#Repeat all steps\n",
    "while(center!=center2):\n",
    "    #Distância do conjunto de pessoas para o centro c1:\n",
    "    dist_c1 = euclidiana_dis(X, center2, 0)\n",
    "\n",
    "    #Distância do conjunto de pessoas para o centro c2:\n",
    "    dist_c2 = euclidiana_dis(X, center2, 1)\n",
    "\n",
    "    #Distância do conjunto de pessoas para o centro c3:\n",
    "    dist_c3 = euclidiana_dis(X, center2, 2)\n",
    "\n",
    "    #Identificando qual dos centros é menor e fazendo a clusterização dos dados:\n",
    "    clust = center_classification(dist_c1,dist_c2,dist_c3)\n",
    "\n",
    "    #Cálculo do novo centro:\n",
    "    indices_c1 = [i for i, j in enumerate(clust) if j == 'c1']\n",
    "    indices_c2 = [i for i, j in enumerate(clust) if j == 'c2']\n",
    "    indices_c3 = [i for i, j in enumerate(clust) if j == 'c3']\n",
    "\n",
    "    center=center2\n",
    "\n",
    "    centro1=new_center(indices_c1)\n",
    "    centro2=new_center(indices_c2)\n",
    "    centro3=new_center(indices_c3)\n",
    "\n",
    "    center2 =[centro1,centro2,centro3]\n",
    "    \n",
    "print(center2)"
   ]
  },
  {
   "cell_type": "code",
   "execution_count": 8,
   "metadata": {
    "ExecuteTime": {
     "end_time": "2020-10-29T21:25:04.391055Z",
     "start_time": "2020-10-29T21:25:03.990966Z"
    }
   },
   "outputs": [
    {
     "name": "stderr",
     "output_type": "stream",
     "text": [
      "c:\\users\\letic\\appdata\\local\\programs\\python\\python38\\lib\\site-packages\\seaborn\\_decorators.py:36: FutureWarning: Pass the following variables as keyword args: x, y. From version 0.12, the only valid positional argument will be `data`, and passing other arguments without an explicit keyword will result in an error or misinterpretation.\n",
      "  warnings.warn(\n"
     ]
    },
    {
     "data": {
      "image/png": "[encoded data removed]",
      "text/plain": [
       "<Figure size 432x288 with 1 Axes>"
      ]
     },
     "metadata": {
      "needs_background": "light"
     },
     "output_type": "display_data"
    }
   ],
   "source": [
    "sns.scatterplot(X.loc[:,0],X.loc[:,1],hue=clust);\n",
    "\n",
    "#Plot centers\n",
    "plt.scatter(center2[0][0],center2[0][1], color='orange')\n",
    "plt.scatter(center2[1][0],center2[1][1], color='blue')\n",
    "plt.scatter(center2[2][0],center2[2][1], color='green');"
   ]
  },
  {
   "cell_type": "markdown",
   "metadata": {},
   "source": [
    "## Exercício 02\n",
    "\n",
    "class/clusters: três (setosa, versicolor, virginica)"
   ]
  },
  {
   "cell_type": "markdown",
   "metadata": {},
   "source": [
    "### Dataset Iris"
   ]
  },
  {
   "cell_type": "code",
   "execution_count": 9,
   "metadata": {
    "ExecuteTime": {
     "end_time": "2020-10-29T21:25:08.418929Z",
     "start_time": "2020-10-29T21:25:04.394007Z"
    }
   },
   "outputs": [],
   "source": [
    "#Load the dataset\n",
    "from sklearn.datasets import load_iris\n",
    "iris = load_iris()\n",
    "X = iris['data']\n",
    "X = pd.DataFrame(np.array(X), columns=[0,1,2,3])"
   ]
  },
  {
   "cell_type": "code",
   "execution_count": 10,
   "metadata": {
    "ExecuteTime": {
     "end_time": "2020-10-29T21:25:08.497307Z",
     "start_time": "2020-10-29T21:25:08.420889Z"
    }
   },
   "outputs": [
    {
     "data": {
      "text/html": [
       "<div>\n",
       "<style scoped>\n",
       "    .dataframe tbody tr th:only-of-type {\n",
       "        vertical-align: middle;\n",
       "    }\n",
       "\n",
       "    .dataframe tbody tr th {\n",
       "        vertical-align: top;\n",
       "    }\n",
       "\n",
       "    .dataframe thead th {\n",
       "        text-align: right;\n",
       "    }\n",
       "</style>\n",
       "<table border=\"1\" class=\"dataframe\">\n",
       "  <thead>\n",
       "    <tr style=\"text-align: right;\">\n",
       "      <th></th>\n",
       "      <th>0</th>\n",
       "      <th>1</th>\n",
       "      <th>2</th>\n",
       "      <th>3</th>\n",
       "    </tr>\n",
       "  </thead>\n",
       "  <tbody>\n",
       "    <tr>\n",
       "      <th>count</th>\n",
       "      <td>150.000000</td>\n",
       "      <td>150.000000</td>\n",
       "      <td>150.000000</td>\n",
       "      <td>150.000000</td>\n",
       "    </tr>\n",
       "    <tr>\n",
       "      <th>mean</th>\n",
       "      <td>5.843333</td>\n",
       "      <td>3.057333</td>\n",
       "      <td>3.758000</td>\n",
       "      <td>1.199333</td>\n",
       "    </tr>\n",
       "    <tr>\n",
       "      <th>std</th>\n",
       "      <td>0.828066</td>\n",
       "      <td>0.435866</td>\n",
       "      <td>1.765298</td>\n",
       "      <td>0.762238</td>\n",
       "    </tr>\n",
       "    <tr>\n",
       "      <th>min</th>\n",
       "      <td>4.300000</td>\n",
       "      <td>2.000000</td>\n",
       "      <td>1.000000</td>\n",
       "      <td>0.100000</td>\n",
       "    </tr>\n",
       "    <tr>\n",
       "      <th>25%</th>\n",
       "      <td>5.100000</td>\n",
       "      <td>2.800000</td>\n",
       "      <td>1.600000</td>\n",
       "      <td>0.300000</td>\n",
       "    </tr>\n",
       "    <tr>\n",
       "      <th>50%</th>\n",
       "      <td>5.800000</td>\n",
       "      <td>3.000000</td>\n",
       "      <td>4.350000</td>\n",
       "      <td>1.300000</td>\n",
       "    </tr>\n",
       "    <tr>\n",
       "      <th>75%</th>\n",
       "      <td>6.400000</td>\n",
       "      <td>3.300000</td>\n",
       "      <td>5.100000</td>\n",
       "      <td>1.800000</td>\n",
       "    </tr>\n",
       "    <tr>\n",
       "      <th>max</th>\n",
       "      <td>7.900000</td>\n",
       "      <td>4.400000</td>\n",
       "      <td>6.900000</td>\n",
       "      <td>2.500000</td>\n",
       "    </tr>\n",
       "  </tbody>\n",
       "</table>\n",
       "</div>"
      ],
      "text/plain": [
       "                0           1           2           3\n",
       "count  150.000000  150.000000  150.000000  150.000000\n",
       "mean     5.843333    3.057333    3.758000    1.199333\n",
       "std      0.828066    0.435866    1.765298    0.762238\n",
       "min      4.300000    2.000000    1.000000    0.100000\n",
       "25%      5.100000    2.800000    1.600000    0.300000\n",
       "50%      5.800000    3.000000    4.350000    1.300000\n",
       "75%      6.400000    3.300000    5.100000    1.800000\n",
       "max      7.900000    4.400000    6.900000    2.500000"
      ]
     },
     "execution_count": 10,
     "metadata": {},
     "output_type": "execute_result"
    }
   ],
   "source": [
    "#Visualização dos dados\n",
    "X.describe()"
   ]
  },
  {
   "cell_type": "code",
   "execution_count": 11,
   "metadata": {
    "ExecuteTime": {
     "end_time": "2020-10-29T21:25:08.964307Z",
     "start_time": "2020-10-29T21:25:08.500300Z"
    }
   },
   "outputs": [
    {
     "name": "stdout",
     "output_type": "stream",
     "text": [
      "Centers: [[5.9, 2.75, 4.39, 1.43], [5.01, 3.43, 1.46, 0.25], [6.85, 3.07, 5.74, 2.07]]\n",
      "Number of interactions: 5\n"
     ]
    }
   ],
   "source": [
    "#Inicializando os centros iniciais com base nas médias calculadas\n",
    "center =[[5.8, 3.05, 3.75,2],[5, 2, 3, 1],[6, 4, 4, 2]]\n",
    "\n",
    "#Distância do conjunto de pessoas para o centro c1:\n",
    "dist_c1 = euclidiana_dis(X, center, 0)\n",
    "\n",
    "#Distância do conjunto de pessoas para o centro c2:\n",
    "dist_c2 = euclidiana_dis(X, center, 1)\n",
    "\n",
    "#Distância do conjunto de pessoas para o centro c3:\n",
    "dist_c3 = euclidiana_dis(X,center, 2)\n",
    "\n",
    "#Identificando qual dos centros é menor e fazendo a clusterização dos dados:\n",
    "clust = center_classification(dist_c1,dist_c2,dist_c3)\n",
    "clust\n",
    "\n",
    "#Cálculo do novo centro:\n",
    "indices_c1 = [i for i, j in enumerate(clust) if j == 'c1']\n",
    "indices_c2 = [i for i, j in enumerate(clust) if j == 'c2']\n",
    "indices_c3 = [i for i, j in enumerate(clust) if j == 'c3']\n",
    "\n",
    "centro1=new_center(indices_c1)\n",
    "centro2=new_center(indices_c2)\n",
    "centro3=new_center(indices_c3)\n",
    "\n",
    "center2=[centro1,centro2,centro3]\n",
    "\n",
    "#LOOP\n",
    "\n",
    "inter=1 #count the quantity of interaction\n",
    "while(center!=center2):\n",
    "    #Distância do conjunto de pessoas para o centro c1:\n",
    "    dist_c1 = euclidiana_dis(X, center2, 0)\n",
    "\n",
    "    #Distância do conjunto de pessoas para o centro c2:\n",
    "    dist_c2 = euclidiana_dis(X, center2, 1)\n",
    "\n",
    "    #Distância do conjunto de pessoas para o centro c3:\n",
    "    dist_c3 = euclidiana_dis(X, center2, 2)\n",
    "\n",
    "    #Identificando qual dos centros é menor e fazendo a clusterização dos dados:\n",
    "    clust = center_classification(dist_c1,dist_c2,dist_c3)\n",
    "\n",
    "    #Cálculo do novo centro:\n",
    "    indices_c1 = [i for i, j in enumerate(clust) if j == 'c1']\n",
    "    indices_c2 = [i for i, j in enumerate(clust) if j == 'c2']\n",
    "    indices_c3 = [i for i, j in enumerate(clust) if j == 'c3']\n",
    "\n",
    "    center=center2\n",
    "\n",
    "    centro1=new_center(indices_c1)\n",
    "    centro2=new_center(indices_c2)\n",
    "    centro3=new_center(indices_c3)\n",
    "\n",
    "    center2 =[centro1,centro2,centro3]\n",
    "    inter=inter+1 \n",
    "    \n",
    "print('Centers:',center2)\n",
    "print('Number of interactions:',inter)"
   ]
  },
  {
   "cell_type": "code",
   "execution_count": 12,
   "metadata": {
    "ExecuteTime": {
     "end_time": "2020-10-29T21:25:09.306146Z",
     "start_time": "2020-10-29T21:25:08.966054Z"
    }
   },
   "outputs": [
    {
     "name": "stderr",
     "output_type": "stream",
     "text": [
      "c:\\users\\letic\\appdata\\local\\programs\\python\\python38\\lib\\site-packages\\seaborn\\_decorators.py:36: FutureWarning: Pass the following variables as keyword args: x, y. From version 0.12, the only valid positional argument will be `data`, and passing other arguments without an explicit keyword will result in an error or misinterpretation.\n",
      "  warnings.warn(\n"
     ]
    },
    {
     "data": {
      "image/png": "[encoded data removed]",
      "text/plain": [
       "<Figure size 432x288 with 1 Axes>"
      ]
     },
     "metadata": {
      "needs_background": "light"
     },
     "output_type": "display_data"
    }
   ],
   "source": [
    "#Plot data Petal Length x Petal Width\n",
    "sns.scatterplot(X.loc[:,1],X.loc[:,2],hue=clust);"
   ]
  },
  {
   "cell_type": "markdown",
   "metadata": {},
   "source": [
    "### Dataset 02 - Wholesale customers Data Set"
   ]
  },
  {
   "cell_type": "markdown",
   "metadata": {
    "ExecuteTime": {
     "end_time": "2020-10-29T04:33:43.684892Z",
     "start_time": "2020-10-29T04:33:43.610089Z"
    }
   },
   "source": [
    "Source of dataset: https://archive.ics.uci.edu/ml/datasets/wholesale+customers\n",
    "\n",
    "\n",
    "- Data Set Characteristics:  Multivariate\n",
    "- Number of Instances: 440\n",
    "- Area:Business\n",
    "- Attribute Characteristics: Integer\n",
    "- Number of Attributes: 8\n",
    "- Associated Tasks: Classification, Clustering\n",
    "- Missing Values?N/A\n",
    "- Number of Web Hits: 359808"
   ]
  },
  {
   "cell_type": "code",
   "execution_count": 13,
   "metadata": {
    "ExecuteTime": {
     "end_time": "2020-10-29T21:25:09.402196Z",
     "start_time": "2020-10-29T21:25:09.309137Z"
    }
   },
   "outputs": [],
   "source": [
    "# Importando o dataset\n",
    "X = pd.read_csv('Wholesale customers data.csv')\n",
    "X.rename(columns={\"Channel\": 0, \"Region\": 1, \"Fresh\": 2, \"Milk\": 3, \"Grocery\": 4, \"Frozen\": 5,\n",
    "                 \"Detergents_Paper\": 6,\"Delicassen\": 7}, inplace=True)"
   ]
  },
  {
   "cell_type": "code",
   "execution_count": 14,
   "metadata": {
    "ExecuteTime": {
     "end_time": "2020-10-29T21:25:09.464097Z",
     "start_time": "2020-10-29T21:25:09.406186Z"
    }
   },
   "outputs": [
    {
     "data": {
      "text/html": [
       "<div>\n",
       "<style scoped>\n",
       "    .dataframe tbody tr th:only-of-type {\n",
       "        vertical-align: middle;\n",
       "    }\n",
       "\n",
       "    .dataframe tbody tr th {\n",
       "        vertical-align: top;\n",
       "    }\n",
       "\n",
       "    .dataframe thead th {\n",
       "        text-align: right;\n",
       "    }\n",
       "</style>\n",
       "<table border=\"1\" class=\"dataframe\">\n",
       "  <thead>\n",
       "    <tr style=\"text-align: right;\">\n",
       "      <th></th>\n",
       "      <th>0</th>\n",
       "      <th>1</th>\n",
       "      <th>2</th>\n",
       "      <th>3</th>\n",
       "      <th>4</th>\n",
       "      <th>5</th>\n",
       "      <th>6</th>\n",
       "      <th>7</th>\n",
       "    </tr>\n",
       "  </thead>\n",
       "  <tbody>\n",
       "    <tr>\n",
       "      <th>count</th>\n",
       "      <td>440.000000</td>\n",
       "      <td>440.000000</td>\n",
       "      <td>440.000000</td>\n",
       "      <td>440.000000</td>\n",
       "      <td>440.000000</td>\n",
       "      <td>440.000000</td>\n",
       "      <td>440.000000</td>\n",
       "      <td>440.000000</td>\n",
       "    </tr>\n",
       "    <tr>\n",
       "      <th>mean</th>\n",
       "      <td>1.322727</td>\n",
       "      <td>2.543182</td>\n",
       "      <td>12000.297727</td>\n",
       "      <td>5796.265909</td>\n",
       "      <td>7951.277273</td>\n",
       "      <td>3071.931818</td>\n",
       "      <td>2881.493182</td>\n",
       "      <td>1524.870455</td>\n",
       "    </tr>\n",
       "    <tr>\n",
       "      <th>std</th>\n",
       "      <td>0.468052</td>\n",
       "      <td>0.774272</td>\n",
       "      <td>12647.328865</td>\n",
       "      <td>7380.377175</td>\n",
       "      <td>9503.162829</td>\n",
       "      <td>4854.673333</td>\n",
       "      <td>4767.854448</td>\n",
       "      <td>2820.105937</td>\n",
       "    </tr>\n",
       "    <tr>\n",
       "      <th>min</th>\n",
       "      <td>1.000000</td>\n",
       "      <td>1.000000</td>\n",
       "      <td>3.000000</td>\n",
       "      <td>55.000000</td>\n",
       "      <td>3.000000</td>\n",
       "      <td>25.000000</td>\n",
       "      <td>3.000000</td>\n",
       "      <td>3.000000</td>\n",
       "    </tr>\n",
       "    <tr>\n",
       "      <th>25%</th>\n",
       "      <td>1.000000</td>\n",
       "      <td>2.000000</td>\n",
       "      <td>3127.750000</td>\n",
       "      <td>1533.000000</td>\n",
       "      <td>2153.000000</td>\n",
       "      <td>742.250000</td>\n",
       "      <td>256.750000</td>\n",
       "      <td>408.250000</td>\n",
       "    </tr>\n",
       "    <tr>\n",
       "      <th>50%</th>\n",
       "      <td>1.000000</td>\n",
       "      <td>3.000000</td>\n",
       "      <td>8504.000000</td>\n",
       "      <td>3627.000000</td>\n",
       "      <td>4755.500000</td>\n",
       "      <td>1526.000000</td>\n",
       "      <td>816.500000</td>\n",
       "      <td>965.500000</td>\n",
       "    </tr>\n",
       "    <tr>\n",
       "      <th>75%</th>\n",
       "      <td>2.000000</td>\n",
       "      <td>3.000000</td>\n",
       "      <td>16933.750000</td>\n",
       "      <td>7190.250000</td>\n",
       "      <td>10655.750000</td>\n",
       "      <td>3554.250000</td>\n",
       "      <td>3922.000000</td>\n",
       "      <td>1820.250000</td>\n",
       "    </tr>\n",
       "    <tr>\n",
       "      <th>max</th>\n",
       "      <td>2.000000</td>\n",
       "      <td>3.000000</td>\n",
       "      <td>112151.000000</td>\n",
       "      <td>73498.000000</td>\n",
       "      <td>92780.000000</td>\n",
       "      <td>60869.000000</td>\n",
       "      <td>40827.000000</td>\n",
       "      <td>47943.000000</td>\n",
       "    </tr>\n",
       "  </tbody>\n",
       "</table>\n",
       "</div>"
      ],
      "text/plain": [
       "                0           1              2             3             4  \\\n",
       "count  440.000000  440.000000     440.000000    440.000000    440.000000   \n",
       "mean     1.322727    2.543182   12000.297727   5796.265909   7951.277273   \n",
       "std      0.468052    0.774272   12647.328865   7380.377175   9503.162829   \n",
       "min      1.000000    1.000000       3.000000     55.000000      3.000000   \n",
       "25%      1.000000    2.000000    3127.750000   1533.000000   2153.000000   \n",
       "50%      1.000000    3.000000    8504.000000   3627.000000   4755.500000   \n",
       "75%      2.000000    3.000000   16933.750000   7190.250000  10655.750000   \n",
       "max      2.000000    3.000000  112151.000000  73498.000000  92780.000000   \n",
       "\n",
       "                  5             6             7  \n",
       "count    440.000000    440.000000    440.000000  \n",
       "mean    3071.931818   2881.493182   1524.870455  \n",
       "std     4854.673333   4767.854448   2820.105937  \n",
       "min       25.000000      3.000000      3.000000  \n",
       "25%      742.250000    256.750000    408.250000  \n",
       "50%     1526.000000    816.500000    965.500000  \n",
       "75%     3554.250000   3922.000000   1820.250000  \n",
       "max    60869.000000  40827.000000  47943.000000  "
      ]
     },
     "execution_count": 14,
     "metadata": {},
     "output_type": "execute_result"
    }
   ],
   "source": [
    "#Análise dos dados para inicializar o centro\n",
    "X.describe()"
   ]
  },
  {
   "cell_type": "code",
   "execution_count": 15,
   "metadata": {
    "ExecuteTime": {
     "end_time": "2020-10-29T21:25:13.818394Z",
     "start_time": "2020-10-29T21:25:09.466059Z"
    }
   },
   "outputs": [
    {
     "name": "stdout",
     "output_type": "stream",
     "text": [
      "Centers:\n",
      "[1.96, 2.47, 7751.98, 17910.51, 27037.91, 1970.94, 12104.87, 2185.74]\n",
      "[1.13, 2.57, 35941.4, 6044.45, 6288.62, 6713.97, 1039.67, 3049.47]\n",
      "[1.25, 2.55, 8296.0, 3787.26, 5162.8, 2582.12, 1724.52, 1138.02]\n",
      "\n",
      "\n",
      "Number of interactions: 11\n",
      "\n",
      "\n"
     ]
    }
   ],
   "source": [
    "#Inicialização do centro de acordo com o describe\n",
    "center = [[1.3,  2.5,  12000,  5796,   7951, 3071, 2881, 1524],\n",
    "          [1,      2,  25000,  5000,   6000, 2000, 1000, 2000],\n",
    "          [1,    2.6,   9000,  5000,   8000, 2500, 1050, 1000]]\n",
    "\n",
    "#Distância do conjunto de pessoas para o centro c1:\n",
    "dist_c1 = euclidiana_dis(X, center, 0)\n",
    "\n",
    "#Distância do conjunto de pessoas para o centro c2:\n",
    "dist_c2 = euclidiana_dis(X, center, 1)\n",
    "\n",
    "#Distância do conjunto de pessoas para o centro c3:\n",
    "dist_c3 = euclidiana_dis(X,center, 2)\n",
    "\n",
    "#Identificando qual dos centros é menor e fazendo a clusterização dos dados:\n",
    "clust = center_classification(dist_c1,dist_c2,dist_c3)\n",
    "clust\n",
    "\n",
    "#Cálculo do novo centro:\n",
    "indices_c1 = [i for i, j in enumerate(clust) if j == 'c1']\n",
    "indices_c2 = [i for i, j in enumerate(clust) if j == 'c2']\n",
    "indices_c3 = [i for i, j in enumerate(clust) if j == 'c3']\n",
    "\n",
    "centro1=new_center(indices_c1)\n",
    "centro2=new_center(indices_c2)\n",
    "centro3=new_center(indices_c3)\n",
    "\n",
    "center2=[centro1,centro2,centro3]\n",
    "#LOOP\n",
    "\n",
    "inter=1\n",
    "while(center!=center2):\n",
    "    #Distância do conjunto de pessoas para o centro c1:\n",
    "    dist_c1 = euclidiana_dis(X, center2, 0)\n",
    "\n",
    "    #Distância do conjunto de pessoas para o centro c2:\n",
    "    dist_c2 = euclidiana_dis(X, center2, 1)\n",
    "\n",
    "    #Distância do conjunto de pessoas para o centro c3:\n",
    "    dist_c3 = euclidiana_dis(X, center2, 2)\n",
    "\n",
    "    #Identificando qual dos centros é menor e fazendo a clusterização dos dados:\n",
    "    clust = center_classification(dist_c1,dist_c2,dist_c3)\n",
    "\n",
    "    #Cálculo do novo centro:\n",
    "    indices_c1 = [i for i, j in enumerate(clust) if j == 'c1']\n",
    "    indices_c2 = [i for i, j in enumerate(clust) if j == 'c2']\n",
    "    indices_c3 = [i for i, j in enumerate(clust) if j == 'c3']\n",
    "\n",
    "    center=center2\n",
    "\n",
    "    centro1=new_center(indices_c1)\n",
    "    centro2=new_center(indices_c2)\n",
    "    centro3=new_center(indices_c3)\n",
    "\n",
    "    center2 =[centro1,centro2,centro3]\n",
    "    inter=inter+1\n",
    "    \n",
    "print('Centers:')\n",
    "for i in center2:\n",
    "    print(i)\n",
    "print('\\n')\n",
    "print('Number of interactions:',inter)\n",
    "print('\\n')\n",
    "#print('Dados classificados:\\n',clust)"
   ]
  },
  {
   "cell_type": "code",
   "execution_count": 16,
   "metadata": {
    "ExecuteTime": {
     "end_time": "2020-10-29T21:25:14.161677Z",
     "start_time": "2020-10-29T21:25:13.820386Z"
    }
   },
   "outputs": [
    {
     "name": "stderr",
     "output_type": "stream",
     "text": [
      "c:\\users\\letic\\appdata\\local\\programs\\python\\python38\\lib\\site-packages\\seaborn\\_decorators.py:36: FutureWarning: Pass the following variables as keyword args: x, y. From version 0.12, the only valid positional argument will be `data`, and passing other arguments without an explicit keyword will result in an error or misinterpretation.\n",
      "  warnings.warn(\n"
     ]
    },
    {
     "data": {
      "image/png": "[encoded data removed]",
      "text/plain": [
       "<Figure size 432x288 with 1 Axes>"
      ]
     },
     "metadata": {
      "needs_background": "light"
     },
     "output_type": "display_data"
    }
   ],
   "source": [
    "#\"Milk\": 3 x \"Grocery\": 4\n",
    "sns.scatterplot(X.loc[:,3],X.loc[:,4],hue=clust);"
   ]
  },
  {
   "cell_type": "markdown",
   "metadata": {},
   "source": [
    "### Dataset 03 - Wine dataset "
   ]
  },
  {
   "cell_type": "markdown",
   "metadata": {},
   "source": [
    "Source of dataset: https://scikit-learn.org/stable/modules/generated/sklearn.datasets.load_wine.html\n",
    "\n",
    "- Classes  - 3\n",
    "- Samples per class [59,71,48]\n",
    "- Samples total 178\n",
    "- Dimensionality 13\n",
    "- Features real, positive\n",
    "\n",
    "The number of classes is 03 so I'll consider three clusters k=3."
   ]
  },
  {
   "cell_type": "code",
   "execution_count": 17,
   "metadata": {
    "ExecuteTime": {
     "end_time": "2020-10-29T21:25:14.254526Z",
     "start_time": "2020-10-29T21:25:14.163595Z"
    }
   },
   "outputs": [],
   "source": [
    "#Import dataset\n",
    "from sklearn.datasets import load_wine\n",
    "wine = load_wine()\n",
    "X = wine['data']\n",
    "\n",
    "X = pd.DataFrame(np.array(X), columns=[0,1,2,3,4,5,6,7,8,9,10,11,12])"
   ]
  },
  {
   "cell_type": "code",
   "execution_count": 18,
   "metadata": {
    "ExecuteTime": {
     "end_time": "2020-10-29T21:25:14.315720Z",
     "start_time": "2020-10-29T21:25:14.257518Z"
    }
   },
   "outputs": [
    {
     "data": {
      "text/html": [
       "<div>\n",
       "<style scoped>\n",
       "    .dataframe tbody tr th:only-of-type {\n",
       "        vertical-align: middle;\n",
       "    }\n",
       "\n",
       "    .dataframe tbody tr th {\n",
       "        vertical-align: top;\n",
       "    }\n",
       "\n",
       "    .dataframe thead th {\n",
       "        text-align: right;\n",
       "    }\n",
       "</style>\n",
       "<table border=\"1\" class=\"dataframe\">\n",
       "  <thead>\n",
       "    <tr style=\"text-align: right;\">\n",
       "      <th></th>\n",
       "      <th>0</th>\n",
       "      <th>1</th>\n",
       "      <th>2</th>\n",
       "      <th>3</th>\n",
       "      <th>4</th>\n",
       "      <th>5</th>\n",
       "      <th>6</th>\n",
       "      <th>7</th>\n",
       "      <th>8</th>\n",
       "      <th>9</th>\n",
       "      <th>10</th>\n",
       "      <th>11</th>\n",
       "      <th>12</th>\n",
       "    </tr>\n",
       "  </thead>\n",
       "  <tbody>\n",
       "    <tr>\n",
       "      <th>count</th>\n",
       "      <td>178.000000</td>\n",
       "      <td>178.000000</td>\n",
       "      <td>178.000000</td>\n",
       "      <td>178.000000</td>\n",
       "      <td>178.000000</td>\n",
       "      <td>178.000000</td>\n",
       "      <td>178.000000</td>\n",
       "      <td>178.000000</td>\n",
       "      <td>178.000000</td>\n",
       "      <td>178.000000</td>\n",
       "      <td>178.000000</td>\n",
       "      <td>178.000000</td>\n",
       "      <td>178.000000</td>\n",
       "    </tr>\n",
       "    <tr>\n",
       "      <th>mean</th>\n",
       "      <td>13.000618</td>\n",
       "      <td>2.336348</td>\n",
       "      <td>2.366517</td>\n",
       "      <td>19.494944</td>\n",
       "      <td>99.741573</td>\n",
       "      <td>2.295112</td>\n",
       "      <td>2.029270</td>\n",
       "      <td>0.361854</td>\n",
       "      <td>1.590899</td>\n",
       "      <td>5.058090</td>\n",
       "      <td>0.957449</td>\n",
       "      <td>2.611685</td>\n",
       "      <td>746.893258</td>\n",
       "    </tr>\n",
       "    <tr>\n",
       "      <th>std</th>\n",
       "      <td>0.811827</td>\n",
       "      <td>1.117146</td>\n",
       "      <td>0.274344</td>\n",
       "      <td>3.339564</td>\n",
       "      <td>14.282484</td>\n",
       "      <td>0.625851</td>\n",
       "      <td>0.998859</td>\n",
       "      <td>0.124453</td>\n",
       "      <td>0.572359</td>\n",
       "      <td>2.318286</td>\n",
       "      <td>0.228572</td>\n",
       "      <td>0.709990</td>\n",
       "      <td>314.907474</td>\n",
       "    </tr>\n",
       "    <tr>\n",
       "      <th>min</th>\n",
       "      <td>11.030000</td>\n",
       "      <td>0.740000</td>\n",
       "      <td>1.360000</td>\n",
       "      <td>10.600000</td>\n",
       "      <td>70.000000</td>\n",
       "      <td>0.980000</td>\n",
       "      <td>0.340000</td>\n",
       "      <td>0.130000</td>\n",
       "      <td>0.410000</td>\n",
       "      <td>1.280000</td>\n",
       "      <td>0.480000</td>\n",
       "      <td>1.270000</td>\n",
       "      <td>278.000000</td>\n",
       "    </tr>\n",
       "    <tr>\n",
       "      <th>25%</th>\n",
       "      <td>12.362500</td>\n",
       "      <td>1.602500</td>\n",
       "      <td>2.210000</td>\n",
       "      <td>17.200000</td>\n",
       "      <td>88.000000</td>\n",
       "      <td>1.742500</td>\n",
       "      <td>1.205000</td>\n",
       "      <td>0.270000</td>\n",
       "      <td>1.250000</td>\n",
       "      <td>3.220000</td>\n",
       "      <td>0.782500</td>\n",
       "      <td>1.937500</td>\n",
       "      <td>500.500000</td>\n",
       "    </tr>\n",
       "    <tr>\n",
       "      <th>50%</th>\n",
       "      <td>13.050000</td>\n",
       "      <td>1.865000</td>\n",
       "      <td>2.360000</td>\n",
       "      <td>19.500000</td>\n",
       "      <td>98.000000</td>\n",
       "      <td>2.355000</td>\n",
       "      <td>2.135000</td>\n",
       "      <td>0.340000</td>\n",
       "      <td>1.555000</td>\n",
       "      <td>4.690000</td>\n",
       "      <td>0.965000</td>\n",
       "      <td>2.780000</td>\n",
       "      <td>673.500000</td>\n",
       "    </tr>\n",
       "    <tr>\n",
       "      <th>75%</th>\n",
       "      <td>13.677500</td>\n",
       "      <td>3.082500</td>\n",
       "      <td>2.557500</td>\n",
       "      <td>21.500000</td>\n",
       "      <td>107.000000</td>\n",
       "      <td>2.800000</td>\n",
       "      <td>2.875000</td>\n",
       "      <td>0.437500</td>\n",
       "      <td>1.950000</td>\n",
       "      <td>6.200000</td>\n",
       "      <td>1.120000</td>\n",
       "      <td>3.170000</td>\n",
       "      <td>985.000000</td>\n",
       "    </tr>\n",
       "    <tr>\n",
       "      <th>max</th>\n",
       "      <td>14.830000</td>\n",
       "      <td>5.800000</td>\n",
       "      <td>3.230000</td>\n",
       "      <td>30.000000</td>\n",
       "      <td>162.000000</td>\n",
       "      <td>3.880000</td>\n",
       "      <td>5.080000</td>\n",
       "      <td>0.660000</td>\n",
       "      <td>3.580000</td>\n",
       "      <td>13.000000</td>\n",
       "      <td>1.710000</td>\n",
       "      <td>4.000000</td>\n",
       "      <td>1680.000000</td>\n",
       "    </tr>\n",
       "  </tbody>\n",
       "</table>\n",
       "</div>"
      ],
      "text/plain": [
       "               0           1           2           3           4           5   \\\n",
       "count  178.000000  178.000000  178.000000  178.000000  178.000000  178.000000   \n",
       "mean    13.000618    2.336348    2.366517   19.494944   99.741573    2.295112   \n",
       "std      0.811827    1.117146    0.274344    3.339564   14.282484    0.625851   \n",
       "min     11.030000    0.740000    1.360000   10.600000   70.000000    0.980000   \n",
       "25%     12.362500    1.602500    2.210000   17.200000   88.000000    1.742500   \n",
       "50%     13.050000    1.865000    2.360000   19.500000   98.000000    2.355000   \n",
       "75%     13.677500    3.082500    2.557500   21.500000  107.000000    2.800000   \n",
       "max     14.830000    5.800000    3.230000   30.000000  162.000000    3.880000   \n",
       "\n",
       "               6           7           8           9           10          11  \\\n",
       "count  178.000000  178.000000  178.000000  178.000000  178.000000  178.000000   \n",
       "mean     2.029270    0.361854    1.590899    5.058090    0.957449    2.611685   \n",
       "std      0.998859    0.124453    0.572359    2.318286    0.228572    0.709990   \n",
       "min      0.340000    0.130000    0.410000    1.280000    0.480000    1.270000   \n",
       "25%      1.205000    0.270000    1.250000    3.220000    0.782500    1.937500   \n",
       "50%      2.135000    0.340000    1.555000    4.690000    0.965000    2.780000   \n",
       "75%      2.875000    0.437500    1.950000    6.200000    1.120000    3.170000   \n",
       "max      5.080000    0.660000    3.580000   13.000000    1.710000    4.000000   \n",
       "\n",
       "                12  \n",
       "count   178.000000  \n",
       "mean    746.893258  \n",
       "std     314.907474  \n",
       "min     278.000000  \n",
       "25%     500.500000  \n",
       "50%     673.500000  \n",
       "75%     985.000000  \n",
       "max    1680.000000  "
      ]
     },
     "execution_count": 18,
     "metadata": {},
     "output_type": "execute_result"
    }
   ],
   "source": [
    "#Análise dos dados para inicializar o centro\n",
    "X.describe()"
   ]
  },
  {
   "cell_type": "code",
   "execution_count": 19,
   "metadata": {
    "ExecuteTime": {
     "end_time": "2020-10-29T21:25:33.958203Z",
     "start_time": "2020-10-29T21:25:14.317699Z"
    }
   },
   "outputs": [
    {
     "name": "stdout",
     "output_type": "stream",
     "text": [
      "Centers:\n",
      "[13.8, 1.88, 2.43, 17.02, 105.51, 2.87, 3.01, 0.29, 1.91, 5.7, 1.08, 3.11, 1195.15]\n",
      "[12.52, 2.49, 2.29, 20.82, 92.35, 2.07, 1.76, 0.39, 1.45, 4.09, 0.94, 2.49, 458.23]\n",
      "[12.93, 2.5, 2.41, 19.89, 103.6, 2.11, 1.58, 0.39, 1.5, 5.65, 0.88, 2.37, 728.34]\n",
      "\n",
      "\n",
      "Number of interactions: 101\n",
      "\n",
      "\n"
     ]
    }
   ],
   "source": [
    "#Inicialização dos centros\n",
    "center = [[12,     2,   2,  19, 10,  2,  0.1,  4,1,  6,  0.8,  2,  728],\n",
    "          [13,     1,   1,  18,  9,  1,  0.2,  3,1,  5,  1,    2,  130],\n",
    "          [12.5, 2.5, 2.3,  20,  9,  1,  0.2,  3,1,  5,  0.9,  2,  500]]\n",
    "#Distância do conjunto de pessoas para o centro c1:\n",
    "dist_c1 = euclidiana_dis(X, center, 0)\n",
    "\n",
    "#Distância do conjunto de pessoas para o centro c2:\n",
    "dist_c2 = euclidiana_dis(X, center, 1)\n",
    "\n",
    "#Distância do conjunto de pessoas para o centro c3:\n",
    "dist_c3 = euclidiana_dis(X,center, 2)\n",
    "\n",
    "\n",
    "#Identificando qual dos centros é menor e fazendo a clusterização dos dados:\n",
    "clust = center_classification(dist_c1,dist_c2,dist_c3)\n",
    "clust\n",
    "\n",
    "#Cálculo do novo centro:\n",
    "indices_c1 = [i for i, j in enumerate(clust) if j == 'c1']\n",
    "indices_c2 = [i for i, j in enumerate(clust) if j == 'c2']\n",
    "indices_c3 = [i for i, j in enumerate(clust) if j == 'c3']\n",
    "\n",
    "centro1=new_center(indices_c1)\n",
    "centro2=new_center(indices_c2)\n",
    "centro3=new_center(indices_c3)\n",
    "\n",
    "center2=[centro1,centro2,centro3]\n",
    "#LOOP\n",
    "\n",
    "inter=1\n",
    "for i in range(100): #testei com outros valores e vi que 100 iterações garante que a convergência foi atingida\n",
    "    #Distância do conjunto de pessoas para o centro c1:\n",
    "    dist_c1 = euclidiana_dis(X, center2, 0)\n",
    "\n",
    "    #Distância do conjunto de pessoas para o centro c2:\n",
    "    dist_c2 = euclidiana_dis(X, center2, 1)\n",
    "\n",
    "    #Distância do conjunto de pessoas para o centro c3:\n",
    "    dist_c3 = euclidiana_dis(X, center2, 2)\n",
    "\n",
    "    #Identificando qual dos centros é menor e fazendo a clusterização dos dados:\n",
    "    clust = center_classification(dist_c1,dist_c2,dist_c3)\n",
    "\n",
    "    #Cálculo do novo centro:\n",
    "    indices_c1 = [i for i, j in enumerate(clust) if j == 'c1']\n",
    "    indices_c2 = [i for i, j in enumerate(clust) if j == 'c2']\n",
    "    indices_c3 = [i for i, j in enumerate(clust) if j == 'c3']\n",
    "\n",
    "    center=center2\n",
    "\n",
    "    centro1=new_center(indices_c1)\n",
    "    centro2=new_center(indices_c2)\n",
    "    centro3=new_center(indices_c3)\n",
    "\n",
    "    center2 =[centro1,centro2,centro3]\n",
    "    inter=inter+1\n",
    "    \n",
    "print('Centers:')\n",
    "for i in center2:\n",
    "    print(i)\n",
    "print('\\n')\n",
    "print('Number of interactions:',inter)\n",
    "print('\\n')\n",
    "#print('Dados classificados:\\n',clust)"
   ]
  }
 ],
 "metadata": {
  "hide_input": false,
  "kernelspec": {
   "display_name": "Python 3",
   "language": "python",
   "name": "python3"
  },
  "language_info": {
   "codemirror_mode": {
    "name": "ipython",
    "version": 3
   },
   "file_extension": ".py",
   "mimetype": "text/x-python",
   "name": "python",
   "nbconvert_exporter": "python",
   "pygments_lexer": "ipython3",
   "version": "3.8.5"
  },
  "toc": {
   "base_numbering": 1,
   "nav_menu": {},
   "number_sections": true,
   "sideBar": true,
   "skip_h1_title": false,
   "title_cell": "Table of Contents",
   "title_sidebar": "Contents",
   "toc_cell": false,
   "toc_position": {
    "height": "calc(100% - 180px)",
    "left": "10px",
    "top": "150px",
    "width": "341.458px"
   },
   "toc_section_display": true,
   "toc_window_display": true
  },
  "varInspector": {
   "cols": {
    "lenName": 16,
    "lenType": 16,
    "lenVar": 40
   },
   "kernels_config": {
    "python": {
     "delete_cmd_postfix": "",
     "delete_cmd_prefix": "del ",
     "library": "var_list.py",
     "varRefreshCmd": "print(var_dic_list())"
    },
    "r": {
     "delete_cmd_postfix": ") ",
     "delete_cmd_prefix": "rm(",
     "library": "var_list.r",
     "varRefreshCmd": "cat(var_dic_list()) "
    }
   },
   "types_to_exclude": [
    "module",
    "function",
    "builtin_function_or_method",
    "instance",
    "_Feature"
   ],
   "window_display": false
  }
 },
 "nbformat": 4,
 "nbformat_minor": 4
}
