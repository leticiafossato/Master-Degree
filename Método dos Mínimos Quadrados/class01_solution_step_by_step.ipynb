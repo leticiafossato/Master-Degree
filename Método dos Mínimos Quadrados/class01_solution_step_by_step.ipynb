{
 "cells": [
  {
   "cell_type": "markdown",
   "metadata": {
    "ExecuteTime": {
     "end_time": "2020-10-05T02:31:35.547700Z",
     "start_time": "2020-10-05T02:31:35.529711Z"
    }
   },
   "source": [
    "# Implementação do Método dos Míninos quadrados"
   ]
  },
  {
   "cell_type": "markdown",
   "metadata": {
    "ExecuteTime": {
     "end_time": "2020-10-06T13:43:22.814994Z",
     "start_time": "2020-10-06T13:43:22.791014Z"
    }
   },
   "source": [
    "Instruções: \n",
    "Implemente o Método dos Míninos quadrados em Python:\n",
    "- Básico - Linear\n",
    "- Quadrático.\n",
    "- Robusto (com peso).<br>\n",
    "<br>\n",
    "Teste o funcionamento usando:\n",
    "- “Alps Water”\n",
    "- “Books x Grades”\n",
    "- “US Census Dataset”\n",
    "\n",
    "Não é permitido usar bibliotecas prontas. Proibidas: Sklearn, NumPy, SciPy."
   ]
  },
  {
   "cell_type": "markdown",
   "metadata": {},
   "source": [
    "## Básico - Linear"
   ]
  },
  {
   "cell_type": "markdown",
   "metadata": {
    "ExecuteTime": {
     "end_time": "2020-10-06T13:27:01.283297Z",
     "start_time": "2020-10-06T13:27:01.258178Z"
    }
   },
   "source": [
    "$ β = (X^t.X)^{-1}.X^T.y $"
   ]
  },
  {
   "cell_type": "markdown",
   "metadata": {},
   "source": [
    "### Definição das funções"
   ]
  },
  {
   "cell_type": "code",
   "execution_count": 1,
   "metadata": {
    "ExecuteTime": {
     "end_time": "2020-10-08T03:51:50.848869Z",
     "start_time": "2020-10-08T03:51:50.832870Z"
    },
    "code_folding": []
   },
   "outputs": [],
   "source": [
    "#Função para calcular a matriz transposta:\n",
    "\n",
    "def transposta(X):\n",
    "    \"\"\"Retorna a transposta da matriz de entrada\"\"\"\n",
    "    return [[X[j][i] for j in range(len(X))] for i in range(len(X[0]))] "
   ]
  },
  {
   "cell_type": "code",
   "execution_count": 2,
   "metadata": {
    "ExecuteTime": {
     "end_time": "2020-10-08T03:51:51.038164Z",
     "start_time": "2020-10-08T03:51:50.848869Z"
    }
   },
   "outputs": [],
   "source": [
    "#Multiplicação de duas matrizes:\n",
    "\n",
    "def multiply_matrix_matrix(mult1,mult2):\n",
    "    \"\"\"Retorna o produto escalar de duas matrizes\"\"\"\n",
    "    x = []\n",
    "    for i in range(0,len(mult1)):\n",
    "        y=[]\n",
    "        for j in range(0,len(mult2[0])):\n",
    "            total = 0\n",
    "            for k in range(0,len(mult1[0])):\n",
    "                total = total + mult1[i][k]*mult2[k][j]\n",
    "            y.append(total)\n",
    "        x.append(y)\n",
    "\n",
    "    return x"
   ]
  },
  {
   "cell_type": "code",
   "execution_count": 3,
   "metadata": {
    "ExecuteTime": {
     "end_time": "2020-10-08T03:51:51.235326Z",
     "start_time": "2020-10-08T03:51:51.042263Z"
    }
   },
   "outputs": [],
   "source": [
    "#Multiplicação da matriz transposta por um vetor:\n",
    "\n",
    "def multiply_matrix_vector(mult1,mult2):\n",
    "    \"\"\"Retorna o produto escalar de uma matriz com um vetor\"\"\"\n",
    "    x=[]\n",
    "    total = 0\n",
    "    for i in range(len(mult1)):\n",
    "        total=0\n",
    "        for j in range(len(mult2)):\n",
    "            total = total + mult1[i][j] * mult2[j]\n",
    "        x.append(total)\n",
    "    return x"
   ]
  },
  {
   "cell_type": "code",
   "execution_count": 4,
   "metadata": {
    "ExecuteTime": {
     "end_time": "2020-10-08T03:51:51.403302Z",
     "start_time": "2020-10-08T03:51:51.243320Z"
    }
   },
   "outputs": [],
   "source": [
    "#Cálculo da inversa:\n",
    "\n",
    "def Determinante(matriz):\n",
    "    \"\"\"Cálculo do determinante da matriz inserida\"\"\"\n",
    "    #Determinante da matriz 2x2\n",
    "    if len(matriz) == 2:\n",
    "        return (matriz[0][0]*matriz[1][1])-(matriz[0][1]*matriz[1][0])\n",
    "\n",
    "    determinant = 0\n",
    "    for c in range(len(matriz)):\n",
    "        determinant = determinant + ((-1)**c)*matriz[0][c]*Determinante([row[:c] + row[c+1:] for \n",
    "                                                                         row in (matriz[:0]+matriz[0+1:])])\n",
    "    return determinant\n",
    "\n",
    "def matriz_inversa(m):\n",
    "    \"\"\"Cálculo da matriz inversa através do método dos cofatores.\"\"\"\n",
    "    determinant = Determinante(m)\n",
    "    \n",
    "    #Fórmula para cáculo da matriz 2x2:\n",
    "    if len(m) == 2:\n",
    "        a = m[0][0]\n",
    "        b = m[0][1]\n",
    "        c = m[1][0]\n",
    "        d = m[1][1]\n",
    "\n",
    "        inverse= [d, -b, -c, a]\n",
    "        calc_inverse=[]\n",
    "        for i in inverse:\n",
    "            x = (1/(a*d-b*c)) * i\n",
    "            calc_inverse.append(x)\n",
    "        col = 2 \n",
    "        inverse_matrix = [calc_inverse[i:i+col] for i in range(0, len(calc_inverse), col)]\n",
    "        return inverse_matrix\n",
    "    \n",
    "    else:\n",
    "    #Para os demais tamanho, matriz de cofatores:\n",
    "        cofactors = []\n",
    "        for r in range(len(m)):\n",
    "            cofactorRow = []\n",
    "            for c in range(len(m)):\n",
    "                minor = [row[:c] + row[c+1:] for row in (m[:r]+m[r+1:])]\n",
    "                cofactorRow.append(((-1)**(r+c)) * Determinante(minor))\n",
    "            cofactors.append(cofactorRow)\n",
    "        cofactors = transposta(cofactors)\n",
    "        for r in range(len(cofactors)):\n",
    "            for c in range(len(cofactors)):\n",
    "                cofactors[r][c] = cofactors[r][c]/determinant\n",
    "        return cofactors\n",
    "\n",
    "#Obs: Para construir a matriz de cofatores, consultei o site: \n",
    "#https://stackoverflow.com/questions/32114054/matrix-inversion-without-numpy"
   ]
  },
  {
   "cell_type": "markdown",
   "metadata": {},
   "source": [
    "### Testando nos Datasets:"
   ]
  },
  {
   "cell_type": "code",
   "execution_count": 5,
   "metadata": {
    "ExecuteTime": {
     "end_time": "2020-10-08T03:51:52.437005Z",
     "start_time": "2020-10-08T03:51:51.403302Z"
    }
   },
   "outputs": [],
   "source": [
    "#Biblioteca Pandas - para carregar os arquivos txt disponibilizados no Moodle\n",
    "import pandas as pd"
   ]
  },
  {
   "cell_type": "markdown",
   "metadata": {},
   "source": [
    "#### Alps Water"
   ]
  },
  {
   "cell_type": "markdown",
   "metadata": {},
   "source": [
    "- **Input:** Boiling\n",
    "- **Output:** Pressure\n",
    "\n",
    "Variáveis relevantes:\n",
    "\n",
    "Xl_alps - Input X para o método dos mínimos quadrados linear;<br>\n",
    "Y_alps - Saída Y (igual para todos os métodos);<br>\n",
    "Xlt_alps - Transposta da input Xl_alps;<br>\n",
    "ml_alps - multiplicação  $(Xt.X)$  para o método dos mínimos quadrados linear;<br>\n",
    "p1l_alps -  $(Xt.X)^{−1}$  para o método dos mínimos quadrados linear;<br>\n",
    "p2l_alps -  $(Xt.y)$  para o método dos mínimos quadrados linear;<br>\n",
    "betthal_alps - Resposta do exercício, coeficientes β0 e β1."
   ]
  },
  {
   "cell_type": "code",
   "execution_count": 6,
   "metadata": {
    "ExecuteTime": {
     "end_time": "2020-10-08T03:51:52.492942Z",
     "start_time": "2020-10-08T03:51:52.437005Z"
    }
   },
   "outputs": [
    {
     "data": {
      "text/html": [
       "<div>\n",
       "<style scoped>\n",
       "    .dataframe tbody tr th:only-of-type {\n",
       "        vertical-align: middle;\n",
       "    }\n",
       "\n",
       "    .dataframe tbody tr th {\n",
       "        vertical-align: top;\n",
       "    }\n",
       "\n",
       "    .dataframe thead th {\n",
       "        text-align: right;\n",
       "    }\n",
       "</style>\n",
       "<table border=\"1\" class=\"dataframe\">\n",
       "  <thead>\n",
       "    <tr style=\"text-align: right;\">\n",
       "      <th></th>\n",
       "      <th>Pressure</th>\n",
       "      <th>Boiling</th>\n",
       "    </tr>\n",
       "  </thead>\n",
       "  <tbody>\n",
       "    <tr>\n",
       "      <th>0</th>\n",
       "      <td>20.79</td>\n",
       "      <td>194.5</td>\n",
       "    </tr>\n",
       "    <tr>\n",
       "      <th>1</th>\n",
       "      <td>20.79</td>\n",
       "      <td>194.3</td>\n",
       "    </tr>\n",
       "    <tr>\n",
       "      <th>2</th>\n",
       "      <td>22.40</td>\n",
       "      <td>197.9</td>\n",
       "    </tr>\n",
       "    <tr>\n",
       "      <th>3</th>\n",
       "      <td>22.67</td>\n",
       "      <td>198.4</td>\n",
       "    </tr>\n",
       "    <tr>\n",
       "      <th>4</th>\n",
       "      <td>23.15</td>\n",
       "      <td>199.4</td>\n",
       "    </tr>\n",
       "  </tbody>\n",
       "</table>\n",
       "</div>"
      ],
      "text/plain": [
       "   Pressure  Boiling\n",
       "0     20.79    194.5\n",
       "1     20.79    194.3\n",
       "2     22.40    197.9\n",
       "3     22.67    198.4\n",
       "4     23.15    199.4"
      ]
     },
     "execution_count": 6,
     "metadata": {},
     "output_type": "execute_result"
    }
   ],
   "source": [
    "#Importando o dataset\n",
    "alps_water = pd.read_csv('DataSets/alpswater1.txt',sep='\\t',header=None)\n",
    "alps_water.columns= ['Row','Pressure','Boiling']\n",
    "alps_water.drop(columns='Row', inplace=True)\n",
    "alps_water.head()"
   ]
  },
  {
   "cell_type": "code",
   "execution_count": 7,
   "metadata": {
    "ExecuteTime": {
     "end_time": "2020-10-08T03:51:52.596934Z",
     "start_time": "2020-10-08T03:51:52.532940Z"
    }
   },
   "outputs": [],
   "source": [
    "# Defining input\n",
    "x_input = [i for i in alps_water['Boiling']]\n",
    "Xl_alps = [[1,i] for i in x_input]\n",
    "#Defining output\n",
    "Y_alps = alps_water['Pressure']"
   ]
  },
  {
   "cell_type": "code",
   "execution_count": 8,
   "metadata": {
    "ExecuteTime": {
     "end_time": "2020-10-08T03:51:52.852911Z",
     "start_time": "2020-10-08T03:51:52.628935Z"
    }
   },
   "outputs": [
    {
     "data": {
      "text/plain": [
       "[[1, 1, 1, 1, 1, 1, 1, 1, 1, 1, 1, 1, 1, 1, 1, 1, 1],\n",
       " [194.5,\n",
       "  194.3,\n",
       "  197.9,\n",
       "  198.4,\n",
       "  199.4,\n",
       "  199.9,\n",
       "  200.9,\n",
       "  201.1,\n",
       "  201.4,\n",
       "  201.3,\n",
       "  203.6,\n",
       "  204.6,\n",
       "  209.5,\n",
       "  208.6,\n",
       "  210.7,\n",
       "  211.9,\n",
       "  212.2]]"
      ]
     },
     "execution_count": 8,
     "metadata": {},
     "output_type": "execute_result"
    }
   ],
   "source": [
    "Xlt_alps = transposta(Xl_alps)\n",
    "Xlt_alps"
   ]
  },
  {
   "cell_type": "code",
   "execution_count": 9,
   "metadata": {
    "ExecuteTime": {
     "end_time": "2020-10-08T03:51:53.124277Z",
     "start_time": "2020-10-08T03:51:52.852911Z"
    }
   },
   "outputs": [
    {
     "data": {
      "text/plain": [
       "[[17, 3450.2], [3450.2, 700759.02]]"
      ]
     },
     "execution_count": 9,
     "metadata": {},
     "output_type": "execute_result"
    }
   ],
   "source": [
    "ml_alps = multiply_matrix_matrix(Xlt_alps,Xl_alps)\n",
    "ml_alps"
   ]
  },
  {
   "cell_type": "code",
   "execution_count": 10,
   "metadata": {
    "ExecuteTime": {
     "end_time": "2020-10-08T03:51:53.242289Z",
     "start_time": "2020-10-08T03:51:53.132274Z"
    }
   },
   "outputs": [
    {
     "data": {
      "text/plain": [
       "[[77.6610574845059, -0.382365653364037],\n",
       " [-0.382365653364037, 0.0018840113927275604]]"
      ]
     },
     "execution_count": 10,
     "metadata": {},
     "output_type": "execute_result"
    }
   ],
   "source": [
    "p1l_alps = matriz_inversa(ml_alps)\n",
    "p1l_alps"
   ]
  },
  {
   "cell_type": "code",
   "execution_count": 11,
   "metadata": {
    "ExecuteTime": {
     "end_time": "2020-10-08T03:51:53.370277Z",
     "start_time": "2020-10-08T03:51:53.242289Z"
    }
   },
   "outputs": [
    {
     "data": {
      "text/plain": [
       "[426.00000000000006, 86735.49500000001]"
      ]
     },
     "execution_count": 11,
     "metadata": {},
     "output_type": "execute_result"
    }
   ],
   "source": [
    "#Multiplicação da matriz X transposta pelo vetor y\n",
    "p2l_alps= multiply_matrix_vector(Xlt_alps,Y_alps)\n",
    "p2l_alps"
   ]
  },
  {
   "cell_type": "code",
   "execution_count": 12,
   "metadata": {
    "ExecuteTime": {
     "end_time": "2020-10-08T03:51:53.546260Z",
     "start_time": "2020-10-08T03:51:53.370277Z"
    }
   },
   "outputs": [
    {
     "name": "stdout",
     "output_type": "stream",
     "text": [
      "Método Linear - Alps Water:\n",
      "Coeficiente β0 = -81.06372712864686\n",
      "Coeficiente β1 = 0.522892400784599\n"
     ]
    }
   ],
   "source": [
    "#Resultado final\n",
    "print('Método Linear - Alps Water:')\n",
    "betthal_alps = multiply_matrix_vector(p1l_alps,p2l_alps)\n",
    "print('Coeficiente β0 =', betthal_alps[0])\n",
    "print('Coeficiente β1 =', betthal_alps[1])"
   ]
  },
  {
   "cell_type": "markdown",
   "metadata": {},
   "source": [
    "#### Books, attend and grade "
   ]
  },
  {
   "cell_type": "markdown",
   "metadata": {},
   "source": [
    "- **Inputs:** Books and Attend\n",
    "- **Output:** Grade\n",
    "\n",
    "Variáveis relevantes:\n",
    "\n",
    "Xl_books - Input X para o método dos mínimos quadrados linear;<br>\n",
    "Y_books - Saída Y (igual para todos os métodos);<br>\n",
    "Xlt_books - Transposta da input Xl_books;<br>\n",
    "ml_books - multiplicação  $(Xt.X)$  para o método dos mínimos quadrados linear;<br>\n",
    "p1l_books -  $(Xt.X)^{−1}$  para o método dos mínimos quadrados linear;<br>\n",
    "p2l_books-  $(Xt.y)$  para o método dos mínimos quadrados linear;<br>\n",
    "betthal_books - Resposta do exercício, coeficientes β0, β1 e β2.<br>"
   ]
  },
  {
   "cell_type": "code",
   "execution_count": 13,
   "metadata": {
    "ExecuteTime": {
     "end_time": "2020-10-08T03:51:53.818260Z",
     "start_time": "2020-10-08T03:51:53.554261Z"
    }
   },
   "outputs": [
    {
     "data": {
      "text/html": [
       "<div>\n",
       "<style scoped>\n",
       "    .dataframe tbody tr th:only-of-type {\n",
       "        vertical-align: middle;\n",
       "    }\n",
       "\n",
       "    .dataframe tbody tr th {\n",
       "        vertical-align: top;\n",
       "    }\n",
       "\n",
       "    .dataframe thead th {\n",
       "        text-align: right;\n",
       "    }\n",
       "</style>\n",
       "<table border=\"1\" class=\"dataframe\">\n",
       "  <thead>\n",
       "    <tr style=\"text-align: right;\">\n",
       "      <th></th>\n",
       "      <th>Books</th>\n",
       "      <th>Attend</th>\n",
       "      <th>Grade</th>\n",
       "    </tr>\n",
       "  </thead>\n",
       "  <tbody>\n",
       "    <tr>\n",
       "      <th>0</th>\n",
       "      <td>0</td>\n",
       "      <td>9</td>\n",
       "      <td>45</td>\n",
       "    </tr>\n",
       "    <tr>\n",
       "      <th>1</th>\n",
       "      <td>1</td>\n",
       "      <td>15</td>\n",
       "      <td>57</td>\n",
       "    </tr>\n",
       "    <tr>\n",
       "      <th>2</th>\n",
       "      <td>0</td>\n",
       "      <td>10</td>\n",
       "      <td>45</td>\n",
       "    </tr>\n",
       "    <tr>\n",
       "      <th>3</th>\n",
       "      <td>2</td>\n",
       "      <td>16</td>\n",
       "      <td>51</td>\n",
       "    </tr>\n",
       "    <tr>\n",
       "      <th>4</th>\n",
       "      <td>4</td>\n",
       "      <td>10</td>\n",
       "      <td>65</td>\n",
       "    </tr>\n",
       "  </tbody>\n",
       "</table>\n",
       "</div>"
      ],
      "text/plain": [
       "   Books  Attend  Grade\n",
       "0      0       9     45\n",
       "1      1      15     57\n",
       "2      0      10     45\n",
       "3      2      16     51\n",
       "4      4      10     65"
      ]
     },
     "execution_count": 13,
     "metadata": {},
     "output_type": "execute_result"
    }
   ],
   "source": [
    "books_attend_grade = pd.read_csv('DataSets/Books_attend_grade.txt',sep='\\t',header=None)\n",
    "books_attend_grade.columns=['Books', 'Attend', 'Grade']\n",
    "books_attend_grade.head()"
   ]
  },
  {
   "cell_type": "code",
   "execution_count": 14,
   "metadata": {
    "ExecuteTime": {
     "end_time": "2020-10-08T03:51:54.034238Z",
     "start_time": "2020-10-08T03:51:53.818260Z"
    }
   },
   "outputs": [
    {
     "data": {
      "text/plain": [
       "[[1, 0, 9],\n",
       " [1, 1, 15],\n",
       " [1, 0, 10],\n",
       " [1, 2, 16],\n",
       " [1, 4, 10],\n",
       " [1, 4, 20],\n",
       " [1, 1, 11],\n",
       " [1, 4, 20],\n",
       " [1, 3, 15],\n",
       " [1, 0, 15],\n",
       " [1, 2, 8],\n",
       " [1, 1, 13],\n",
       " [1, 4, 18],\n",
       " [1, 1, 10],\n",
       " [1, 0, 8],\n",
       " [1, 1, 10],\n",
       " [1, 3, 16],\n",
       " [1, 0, 11],\n",
       " [1, 1, 19],\n",
       " [1, 4, 12],\n",
       " [1, 4, 11],\n",
       " [1, 0, 19],\n",
       " [1, 2, 15],\n",
       " [1, 3, 15],\n",
       " [1, 1, 20],\n",
       " [1, 0, 6],\n",
       " [1, 3, 15],\n",
       " [1, 3, 19],\n",
       " [1, 2, 14],\n",
       " [1, 2, 13],\n",
       " [1, 3, 17],\n",
       " [1, 2, 20],\n",
       " [1, 2, 11],\n",
       " [1, 3, 20],\n",
       " [1, 4, 20],\n",
       " [1, 4, 20],\n",
       " [1, 3, 9],\n",
       " [1, 1, 8],\n",
       " [1, 2, 16],\n",
       " [1, 0, 10]]"
      ]
     },
     "execution_count": 14,
     "metadata": {},
     "output_type": "execute_result"
    }
   ],
   "source": [
    "#Cálculo da matriz X\n",
    "x_input = [i for i in books_attend_grade['Books']]\n",
    "Xl_books=[[1,i,j] for i, j in zip(x_input, books_attend_grade['Attend'])]\n",
    "Xl_books"
   ]
  },
  {
   "cell_type": "code",
   "execution_count": 15,
   "metadata": {
    "ExecuteTime": {
     "end_time": "2020-10-08T03:51:54.148244Z",
     "start_time": "2020-10-08T03:51:54.042218Z"
    }
   },
   "outputs": [
    {
     "data": {
      "text/plain": [
       "[45,\n",
       " 57,\n",
       " 45,\n",
       " 51,\n",
       " 65,\n",
       " 88,\n",
       " 44,\n",
       " 87,\n",
       " 89,\n",
       " 59,\n",
       " 66,\n",
       " 65,\n",
       " 56,\n",
       " 47,\n",
       " 66,\n",
       " 41,\n",
       " 56,\n",
       " 37,\n",
       " 45,\n",
       " 58,\n",
       " 47,\n",
       " 64,\n",
       " 97,\n",
       " 55,\n",
       " 51,\n",
       " 61,\n",
       " 69,\n",
       " 79,\n",
       " 71,\n",
       " 62,\n",
       " 87,\n",
       " 54,\n",
       " 43,\n",
       " 92,\n",
       " 83,\n",
       " 94,\n",
       " 60,\n",
       " 56,\n",
       " 88,\n",
       " 62]"
      ]
     },
     "execution_count": 15,
     "metadata": {},
     "output_type": "execute_result"
    }
   ],
   "source": [
    "#Cálculo da matriz Y\n",
    "Y_books = [i for i in books_attend_grade['Grade']]\n",
    "Y_books"
   ]
  },
  {
   "cell_type": "code",
   "execution_count": 16,
   "metadata": {
    "ExecuteTime": {
     "end_time": "2020-10-08T03:51:54.332226Z",
     "start_time": "2020-10-08T03:51:54.164242Z"
    }
   },
   "outputs": [
    {
     "data": {
      "text/plain": [
       "[[1,\n",
       "  1,\n",
       "  1,\n",
       "  1,\n",
       "  1,\n",
       "  1,\n",
       "  1,\n",
       "  1,\n",
       "  1,\n",
       "  1,\n",
       "  1,\n",
       "  1,\n",
       "  1,\n",
       "  1,\n",
       "  1,\n",
       "  1,\n",
       "  1,\n",
       "  1,\n",
       "  1,\n",
       "  1,\n",
       "  1,\n",
       "  1,\n",
       "  1,\n",
       "  1,\n",
       "  1,\n",
       "  1,\n",
       "  1,\n",
       "  1,\n",
       "  1,\n",
       "  1,\n",
       "  1,\n",
       "  1,\n",
       "  1,\n",
       "  1,\n",
       "  1,\n",
       "  1,\n",
       "  1,\n",
       "  1,\n",
       "  1,\n",
       "  1],\n",
       " [0,\n",
       "  1,\n",
       "  0,\n",
       "  2,\n",
       "  4,\n",
       "  4,\n",
       "  1,\n",
       "  4,\n",
       "  3,\n",
       "  0,\n",
       "  2,\n",
       "  1,\n",
       "  4,\n",
       "  1,\n",
       "  0,\n",
       "  1,\n",
       "  3,\n",
       "  0,\n",
       "  1,\n",
       "  4,\n",
       "  4,\n",
       "  0,\n",
       "  2,\n",
       "  3,\n",
       "  1,\n",
       "  0,\n",
       "  3,\n",
       "  3,\n",
       "  2,\n",
       "  2,\n",
       "  3,\n",
       "  2,\n",
       "  2,\n",
       "  3,\n",
       "  4,\n",
       "  4,\n",
       "  3,\n",
       "  1,\n",
       "  2,\n",
       "  0],\n",
       " [9,\n",
       "  15,\n",
       "  10,\n",
       "  16,\n",
       "  10,\n",
       "  20,\n",
       "  11,\n",
       "  20,\n",
       "  15,\n",
       "  15,\n",
       "  8,\n",
       "  13,\n",
       "  18,\n",
       "  10,\n",
       "  8,\n",
       "  10,\n",
       "  16,\n",
       "  11,\n",
       "  19,\n",
       "  12,\n",
       "  11,\n",
       "  19,\n",
       "  15,\n",
       "  15,\n",
       "  20,\n",
       "  6,\n",
       "  15,\n",
       "  19,\n",
       "  14,\n",
       "  13,\n",
       "  17,\n",
       "  20,\n",
       "  11,\n",
       "  20,\n",
       "  20,\n",
       "  20,\n",
       "  9,\n",
       "  8,\n",
       "  16,\n",
       "  10]]"
      ]
     },
     "execution_count": 16,
     "metadata": {},
     "output_type": "execute_result"
    }
   ],
   "source": [
    "#Cálculo da matrix X transposta\n",
    "Xlt_books = transposta(Xl_books)\n",
    "Xlt_books"
   ]
  },
  {
   "cell_type": "code",
   "execution_count": 17,
   "metadata": {
    "ExecuteTime": {
     "end_time": "2020-10-08T03:51:54.460213Z",
     "start_time": "2020-10-08T03:51:54.332226Z"
    }
   },
   "outputs": [
    {
     "data": {
      "text/plain": [
       "[[40, 80, 564], [80, 240, 1234], [564, 1234, 8666]]"
      ]
     },
     "execution_count": 17,
     "metadata": {},
     "output_type": "execute_result"
    }
   ],
   "source": [
    "#Multiplicação de X transposta pela entrada X\n",
    "ml_books = multiply_matrix_matrix(Xlt_books,Xl_books)\n",
    "ml_books "
   ]
  },
  {
   "cell_type": "code",
   "execution_count": 18,
   "metadata": {
    "ExecuteTime": {
     "end_time": "2020-10-08T03:51:54.636197Z",
     "start_time": "2020-10-08T03:51:54.468217Z"
    }
   },
   "outputs": [
    {
     "data": {
      "text/plain": [
       "[[0.30374029486172904, 0.001469946785309256, -0.019977318328535287],\n",
       " [0.001469946785309256, 0.015563116112710459, -0.0023117857454418565],\n",
       " [-0.019977318328535287, -0.0023117857454418565, 0.0017447439588240425]]"
      ]
     },
     "execution_count": 18,
     "metadata": {},
     "output_type": "execute_result"
    }
   ],
   "source": [
    "#Cálculo da inversa da matrix 3x3 (Inversa da Multiplicação de X transposta por X)\n",
    "p1l_books = matriz_inversa(ml_books)\n",
    "p1l_books"
   ]
  },
  {
   "cell_type": "code",
   "execution_count": 19,
   "metadata": {
    "ExecuteTime": {
     "end_time": "2020-10-08T03:51:54.812182Z",
     "start_time": "2020-10-08T03:51:54.636197Z"
    }
   },
   "outputs": [
    {
     "data": {
      "text/plain": [
       "[2542, 5543, 37186]"
      ]
     },
     "execution_count": 19,
     "metadata": {},
     "output_type": "execute_result"
    }
   ],
   "source": [
    "#Multiplicação da matriz X transposta pelo vetor y\n",
    "p2l_books = multiply_matrix_vector(Xlt_books,Y_books)\n",
    "p2l_books"
   ]
  },
  {
   "cell_type": "code",
   "execution_count": 20,
   "metadata": {
    "ExecuteTime": {
     "end_time": "2020-10-08T03:51:55.015992Z",
     "start_time": "2020-10-08T03:51:54.812182Z"
    }
   },
   "outputs": [
    {
     "name": "stdout",
     "output_type": "stream",
     "text": [
      "Método Linear - Books, Attend and Grade:\n",
      "Coeficiente β0 = 37.379185204571286\n",
      "Coeficiente β1 = 4.036892611009321\n",
      "Coeficiente β2 = 1.2834772747099308\n"
     ]
    }
   ],
   "source": [
    "#Resultado final\n",
    "print('Método Linear - Books, Attend and Grade:')\n",
    "betthal_books = multiply_matrix_vector(p1l_books,p2l_books)\n",
    "print('Coeficiente β0 =', betthal_books[0])\n",
    "print('Coeficiente β1 =', betthal_books[1])\n",
    "print('Coeficiente β2 =', betthal_books[2])"
   ]
  },
  {
   "cell_type": "markdown",
   "metadata": {
    "ExecuteTime": {
     "end_time": "2020-10-07T01:38:37.533130Z",
     "start_time": "2020-10-07T01:38:37.525136Z"
    }
   },
   "source": [
    "#### US-Census"
   ]
  },
  {
   "cell_type": "markdown",
   "metadata": {
    "ExecuteTime": {
     "end_time": "2020-10-07T01:39:56.277160Z",
     "start_time": "2020-10-07T01:39:56.247142Z"
    }
   },
   "source": [
    "- **Input:** x\n",
    "- **Output:** y\n",
    "\n",
    "\n",
    "Variáveis relevantes:\n",
    "\n",
    "Xl_us - Input X para o método dos mínimos quadrados linear;<br>\n",
    "Y_us - Saída Y (igual para todos os métodos);<br>\n",
    "Xlt_us - Transposta da input Xl_us;<br>\n",
    "ml_us - multiplicação  $(Xt.X)$  para o método dos mínimos quadrados linear;<br>\n",
    "p1l_us -  $(Xt.X)^{−1}$  para o método dos mínimos quadrados linear;<br>\n",
    "p2l_us-  $(Xt.y)$  para o método dos mínimos quadrados linear;<br>\n",
    "betthal_us - Resposta do exercício, coeficientes β0 e β1.<br>"
   ]
  },
  {
   "cell_type": "code",
   "execution_count": 67,
   "metadata": {
    "ExecuteTime": {
     "end_time": "2020-10-08T03:52:47.698777Z",
     "start_time": "2020-10-08T03:52:47.674778Z"
    },
    "collapsed": true
   },
   "outputs": [
    {
     "data": {
      "text/html": [
       "<div>\n",
       "<style scoped>\n",
       "    .dataframe tbody tr th:only-of-type {\n",
       "        vertical-align: middle;\n",
       "    }\n",
       "\n",
       "    .dataframe tbody tr th {\n",
       "        vertical-align: top;\n",
       "    }\n",
       "\n",
       "    .dataframe thead th {\n",
       "        text-align: right;\n",
       "    }\n",
       "</style>\n",
       "<table border=\"1\" class=\"dataframe\">\n",
       "  <thead>\n",
       "    <tr style=\"text-align: right;\">\n",
       "      <th></th>\n",
       "      <th>x</th>\n",
       "      <th>y</th>\n",
       "    </tr>\n",
       "  </thead>\n",
       "  <tbody>\n",
       "    <tr>\n",
       "      <th>0</th>\n",
       "      <td>1900</td>\n",
       "      <td>75.995</td>\n",
       "    </tr>\n",
       "    <tr>\n",
       "      <th>1</th>\n",
       "      <td>1910</td>\n",
       "      <td>91.972</td>\n",
       "    </tr>\n",
       "    <tr>\n",
       "      <th>2</th>\n",
       "      <td>1920</td>\n",
       "      <td>105.711</td>\n",
       "    </tr>\n",
       "    <tr>\n",
       "      <th>3</th>\n",
       "      <td>1930</td>\n",
       "      <td>123.203</td>\n",
       "    </tr>\n",
       "    <tr>\n",
       "      <th>4</th>\n",
       "      <td>1940</td>\n",
       "      <td>131.669</td>\n",
       "    </tr>\n",
       "    <tr>\n",
       "      <th>5</th>\n",
       "      <td>1950</td>\n",
       "      <td>150.697</td>\n",
       "    </tr>\n",
       "    <tr>\n",
       "      <th>6</th>\n",
       "      <td>1960</td>\n",
       "      <td>179.323</td>\n",
       "    </tr>\n",
       "    <tr>\n",
       "      <th>7</th>\n",
       "      <td>1970</td>\n",
       "      <td>203.212</td>\n",
       "    </tr>\n",
       "    <tr>\n",
       "      <th>8</th>\n",
       "      <td>1980</td>\n",
       "      <td>226.505</td>\n",
       "    </tr>\n",
       "    <tr>\n",
       "      <th>9</th>\n",
       "      <td>1990</td>\n",
       "      <td>249.633</td>\n",
       "    </tr>\n",
       "    <tr>\n",
       "      <th>10</th>\n",
       "      <td>2000</td>\n",
       "      <td>281.422</td>\n",
       "    </tr>\n",
       "  </tbody>\n",
       "</table>\n",
       "</div>"
      ],
      "text/plain": [
       "       x        y\n",
       "0   1900   75.995\n",
       "1   1910   91.972\n",
       "2   1920  105.711\n",
       "3   1930  123.203\n",
       "4   1940  131.669\n",
       "5   1950  150.697\n",
       "6   1960  179.323\n",
       "7   1970  203.212\n",
       "8   1980  226.505\n",
       "9   1990  249.633\n",
       "10  2000  281.422"
      ]
     },
     "execution_count": 67,
     "metadata": {},
     "output_type": "execute_result"
    }
   ],
   "source": [
    "us_census = pd.read_csv('DataSets/US-Census.txt', sep='\\t', header=None)\n",
    "us_census.columns = ['x','y'] #atribuição de nomes às colunas\n",
    "us_census "
   ]
  },
  {
   "cell_type": "code",
   "execution_count": 68,
   "metadata": {
    "ExecuteTime": {
     "end_time": "2020-10-08T03:53:04.001438Z",
     "start_time": "2020-10-08T03:53:03.993431Z"
    }
   },
   "outputs": [
    {
     "data": {
      "text/plain": [
       "[[1, 1900],\n",
       " [1, 1910],\n",
       " [1, 1920],\n",
       " [1, 1930],\n",
       " [1, 1940],\n",
       " [1, 1950],\n",
       " [1, 1960],\n",
       " [1, 1970],\n",
       " [1, 1980],\n",
       " [1, 1990],\n",
       " [1, 2000]]"
      ]
     },
     "execution_count": 68,
     "metadata": {},
     "output_type": "execute_result"
    }
   ],
   "source": [
    "#Definindo a matriz de entrada (X)\n",
    "x_input = [i for i in us_census['x']]\n",
    "Xl_us = [[1,i] for i in x_input]\n",
    "Xl_us "
   ]
  },
  {
   "cell_type": "code",
   "execution_count": 69,
   "metadata": {
    "ExecuteTime": {
     "end_time": "2020-10-08T03:53:16.217023Z",
     "start_time": "2020-10-08T03:53:16.205026Z"
    }
   },
   "outputs": [
    {
     "data": {
      "text/plain": [
       "[75.995,\n",
       " 91.972,\n",
       " 105.711,\n",
       " 123.203,\n",
       " 131.669,\n",
       " 150.697,\n",
       " 179.323,\n",
       " 203.212,\n",
       " 226.505,\n",
       " 249.633,\n",
       " 281.422]"
      ]
     },
     "execution_count": 69,
     "metadata": {},
     "output_type": "execute_result"
    }
   ],
   "source": [
    "#Definindo a matriz de saída(y)\n",
    "Y_us = [i for i in us_census['y']]\n",
    "Y_us"
   ]
  },
  {
   "cell_type": "code",
   "execution_count": 70,
   "metadata": {
    "ExecuteTime": {
     "end_time": "2020-10-08T03:53:25.127900Z",
     "start_time": "2020-10-08T03:53:25.113887Z"
    }
   },
   "outputs": [
    {
     "data": {
      "text/plain": [
       "[[1, 1, 1, 1, 1, 1, 1, 1, 1, 1, 1],\n",
       " [1900, 1910, 1920, 1930, 1940, 1950, 1960, 1970, 1980, 1990, 2000]]"
      ]
     },
     "execution_count": 70,
     "metadata": {},
     "output_type": "execute_result"
    }
   ],
   "source": [
    "#Cálculo da matriz X transposta\n",
    "Xlt_us = transposta(Xl_us)\n",
    "Xlt_us"
   ]
  },
  {
   "cell_type": "code",
   "execution_count": 71,
   "metadata": {
    "ExecuteTime": {
     "end_time": "2020-10-08T03:53:33.621865Z",
     "start_time": "2020-10-08T03:53:33.613866Z"
    }
   },
   "outputs": [
    {
     "data": {
      "text/plain": [
       "[[11, 21450], [21450, 41838500]]"
      ]
     },
     "execution_count": 71,
     "metadata": {},
     "output_type": "execute_result"
    }
   ],
   "source": [
    "#Multiplicação de X transposta pela entrada X\n",
    "ml_us = multiply_matrix_matrix(Xlt_us,Xl_us)\n",
    "ml_us"
   ]
  },
  {
   "cell_type": "code",
   "execution_count": 72,
   "metadata": {
    "ExecuteTime": {
     "end_time": "2020-10-08T03:53:41.345122Z",
     "start_time": "2020-10-08T03:53:41.332088Z"
    }
   },
   "outputs": [
    {
     "data": {
      "text/plain": [
       "[[345.7727272727273, -0.17727272727272728],\n",
       " [-0.17727272727272728, 9.090909090909092e-05]]"
      ]
     },
     "execution_count": 72,
     "metadata": {},
     "output_type": "execute_result"
    }
   ],
   "source": [
    "#Cálculo da inversa da matrix 2x2 (Inversa da Multiplicação de X transposta por X)\n",
    "p1l_us = matriz_inversa(ml_us)\n",
    "p1l_us"
   ]
  },
  {
   "cell_type": "code",
   "execution_count": 73,
   "metadata": {
    "ExecuteTime": {
     "end_time": "2020-10-08T03:53:48.204604Z",
     "start_time": "2020-10-08T03:53:48.196605Z"
    }
   },
   "outputs": [
    {
     "data": {
      "text/plain": [
       "[1819.3419999999999, 3569995.23]"
      ]
     },
     "execution_count": 73,
     "metadata": {},
     "output_type": "execute_result"
    }
   ],
   "source": [
    "#Multiplicação da matriz X transposta pelo vetor y\n",
    "p2l_us = multiply_matrix_vector(Xlt_us,Y_us)\n",
    "p2l_us "
   ]
  },
  {
   "cell_type": "code",
   "execution_count": 74,
   "metadata": {
    "ExecuteTime": {
     "end_time": "2020-10-08T03:53:52.630596Z",
     "start_time": "2020-10-08T03:53:52.614598Z"
    }
   },
   "outputs": [
    {
     "name": "stdout",
     "output_type": "stream",
     "text": [
      "Método Linear - US-Census:\n",
      "Coeficiente β0 = -3783.9455909089884\n",
      "Coeficiente β1 = 2.025302727272731\n"
     ]
    }
   ],
   "source": [
    "#Resultado final\n",
    "print('Método Linear - US-Census:')\n",
    "betthal_us = multiply_matrix_vector(p1l_us,p2l_us)\n",
    "print('Coeficiente β0 =', betthal_us[0])\n",
    "print('Coeficiente β1 =', betthal_us[1])"
   ]
  },
  {
   "cell_type": "markdown",
   "metadata": {},
   "source": [
    "## Quadrático"
   ]
  },
  {
   "cell_type": "markdown",
   "metadata": {
    "ExecuteTime": {
     "end_time": "2020-10-06T23:45:24.418711Z",
     "start_time": "2020-10-06T23:45:24.402713Z"
    }
   },
   "source": [
    "X = [1 x ${x^2}$] <br>\n",
    "$ β = (X^t.X)^{-1}.X^T.y $"
   ]
  },
  {
   "cell_type": "markdown",
   "metadata": {},
   "source": [
    "### Testando nos Datasets:"
   ]
  },
  {
   "cell_type": "markdown",
   "metadata": {
    "ExecuteTime": {
     "end_time": "2020-10-07T01:11:36.020344Z",
     "start_time": "2020-10-07T01:11:36.003355Z"
    }
   },
   "source": [
    "#### Alps Water\n",
    "Variáveis relevantes:<br>\n",
    "- Xq_alps  - Input X para o método dos mínimos quadrados quadrático; \n",
    "- Y_alps - Saída Y (igual para todos os métodos);\n",
    "<br>\n",
    "- Xqt_alps -  Transposta da input Xq_alps;\n",
    "- mq_alps - multiplicação $(X^t.X)$ para o método dos mínimos quadrados quadrático;\n",
    "- p1q_alps - $(X^t.X)^{-1}$ para o método dos mínimos quadrados quadrático;\n",
    "- p2q_alps - $(X^t.y)$  para o método dos mínimos quadrados quadrático;\n",
    "- betthaq_alps - Resposta do exercício, coeficientes  β0, β1 e  β2."
   ]
  },
  {
   "cell_type": "code",
   "execution_count": 22,
   "metadata": {
    "ExecuteTime": {
     "end_time": "2020-10-08T03:51:55.274720Z",
     "start_time": "2020-10-08T03:51:55.194760Z"
    }
   },
   "outputs": [
    {
     "data": {
      "text/plain": [
       "[[1, 194.5, 37830.25],\n",
       " [1, 194.3, 37752.490000000005],\n",
       " [1, 197.9, 39164.41],\n",
       " [1, 198.4, 39362.560000000005],\n",
       " [1, 199.4, 39760.36],\n",
       " [1, 199.9, 39960.01],\n",
       " [1, 200.9, 40360.810000000005],\n",
       " [1, 201.1, 40441.21],\n",
       " [1, 201.4, 40561.96],\n",
       " [1, 201.3, 40521.69],\n",
       " [1, 203.6, 41452.96],\n",
       " [1, 204.6, 41861.159999999996],\n",
       " [1, 209.5, 43890.25],\n",
       " [1, 208.6, 43513.96],\n",
       " [1, 210.7, 44394.49],\n",
       " [1, 211.9, 44901.61],\n",
       " [1, 212.2, 45028.84]]"
      ]
     },
     "execution_count": 22,
     "metadata": {},
     "output_type": "execute_result"
    }
   ],
   "source": [
    "#Dataset já foi importado anteriormente \n",
    "alps_water\n",
    "\n",
    "#Definição da matriz X, incluindo x^2\n",
    "x_input= [i for i in alps_water['Boiling']]\n",
    "Xq_alps = [[1,i,i**2] for i in x_input]\n",
    "Xq_alps"
   ]
  },
  {
   "cell_type": "code",
   "execution_count": 23,
   "metadata": {
    "ExecuteTime": {
     "end_time": "2020-10-08T03:51:55.418707Z",
     "start_time": "2020-10-08T03:51:55.274720Z"
    }
   },
   "outputs": [
    {
     "data": {
      "text/plain": [
       "[20.79,\n",
       " 20.79,\n",
       " 22.4,\n",
       " 22.67,\n",
       " 23.15,\n",
       " 23.35,\n",
       " 23.89,\n",
       " 23.99,\n",
       " 24.02,\n",
       " 24.01,\n",
       " 25.14,\n",
       " 26.57,\n",
       " 28.49,\n",
       " 27.76,\n",
       " 29.04,\n",
       " 29.88,\n",
       " 30.06]"
      ]
     },
     "execution_count": 23,
     "metadata": {},
     "output_type": "execute_result"
    }
   ],
   "source": [
    "#Definição do output\n",
    "Y_alps = [i for i in alps_water['Pressure']]\n",
    "Y_alps "
   ]
  },
  {
   "cell_type": "code",
   "execution_count": 24,
   "metadata": {
    "ExecuteTime": {
     "end_time": "2020-10-08T03:51:55.546698Z",
     "start_time": "2020-10-08T03:51:55.418707Z"
    }
   },
   "outputs": [
    {
     "data": {
      "text/plain": [
       "[[1, 1, 1, 1, 1, 1, 1, 1, 1, 1, 1, 1, 1, 1, 1, 1, 1],\n",
       " [194.5,\n",
       "  194.3,\n",
       "  197.9,\n",
       "  198.4,\n",
       "  199.4,\n",
       "  199.9,\n",
       "  200.9,\n",
       "  201.1,\n",
       "  201.4,\n",
       "  201.3,\n",
       "  203.6,\n",
       "  204.6,\n",
       "  209.5,\n",
       "  208.6,\n",
       "  210.7,\n",
       "  211.9,\n",
       "  212.2],\n",
       " [37830.25,\n",
       "  37752.490000000005,\n",
       "  39164.41,\n",
       "  39362.560000000005,\n",
       "  39760.36,\n",
       "  39960.01,\n",
       "  40360.810000000005,\n",
       "  40441.21,\n",
       "  40561.96,\n",
       "  40521.69,\n",
       "  41452.96,\n",
       "  41861.159999999996,\n",
       "  43890.25,\n",
       "  43513.96,\n",
       "  44394.49,\n",
       "  44901.61,\n",
       "  45028.84]]"
      ]
     },
     "execution_count": 24,
     "metadata": {},
     "output_type": "execute_result"
    }
   ],
   "source": [
    "#Cálculo da transposta de X\n",
    "Xqt_alps = transposta(Xq_alps)\n",
    "Xqt_alps"
   ]
  },
  {
   "cell_type": "code",
   "execution_count": 25,
   "metadata": {
    "ExecuteTime": {
     "end_time": "2020-10-08T03:51:55.664913Z",
     "start_time": "2020-10-08T03:51:55.574748Z"
    }
   },
   "outputs": [
    {
     "data": {
      "text/plain": [
       "[[17, 3450.2, 700759.02],\n",
       " [3450.2, 700759.02, 142437417.332],\n",
       " [700759.02, 142437417.332, 28974240616.761]]"
      ]
     },
     "execution_count": 25,
     "metadata": {},
     "output_type": "execute_result"
    }
   ],
   "source": [
    "#Transposta de X escalar X\n",
    "mq_alps = multiply_matrix_matrix(Xqt_alps,Xq_alps)\n",
    "mq_alps"
   ]
  },
  {
   "cell_type": "code",
   "execution_count": 26,
   "metadata": {
    "ExecuteTime": {
     "end_time": "2020-10-08T03:51:55.799904Z",
     "start_time": "2020-10-08T03:51:55.691409Z"
    }
   },
   "outputs": [
    {
     "data": {
      "text/plain": [
       "[[120606.80723388986, -1184.2938772932332, 2.905044322456221],\n",
       " [-1184.2938772932332, 11.630992088921097, -0.02853513464758402],\n",
       " [2.905044322456221, -0.02853513464758402, 7.001860365542048e-05]]"
      ]
     },
     "execution_count": 26,
     "metadata": {},
     "output_type": "execute_result"
    }
   ],
   "source": [
    "#Matriz inversa da (transposta de X escalar X)\n",
    "p1q_alps = matriz_inversa(mq_alps)\n",
    "p1q_alps"
   ]
  },
  {
   "cell_type": "code",
   "execution_count": 27,
   "metadata": {
    "ExecuteTime": {
     "end_time": "2020-10-08T03:51:55.905703Z",
     "start_time": "2020-10-08T03:51:55.805352Z"
    }
   },
   "outputs": [
    {
     "data": {
      "text/plain": [
       "[426.00000000000006, 86735.49500000001, 17673346.4007]"
      ]
     },
     "execution_count": 27,
     "metadata": {},
     "output_type": "execute_result"
    }
   ],
   "source": [
    "#Multiplicação da matriz X transposta pelo vetor y\n",
    "p2q_alps = multiply_matrix_vector(Xqt_alps,Y_alps)\n",
    "p2q_alps"
   ]
  },
  {
   "cell_type": "code",
   "execution_count": 28,
   "metadata": {
    "ExecuteTime": {
     "end_time": "2020-10-08T03:51:56.004021Z",
     "start_time": "2020-10-08T03:51:55.909699Z"
    }
   },
   "outputs": [
    {
     "name": "stdout",
     "output_type": "stream",
     "text": [
      "Método Quadrático - Alps Water:\n",
      "Intercept β0 = 38.82929486036301\n",
      "Linear Coeficiente β1 = -0.6547706308192573\n",
      "Quadratic Coeficiente β2 = 0.002889712064870764\n"
     ]
    }
   ],
   "source": [
    "#Resultado final\n",
    "print('Método Quadrático - Alps Water:')\n",
    "betthaq_alps = multiply_matrix_vector(p1q_alps,p2q_alps)\n",
    "print('Intercept β0 =', betthaq_alps[0])\n",
    "print('Linear Coeficiente β1 =', betthaq_alps[1])\n",
    "print('Quadratic Coeficiente β2 =', betthaq_alps[2])"
   ]
  },
  {
   "cell_type": "markdown",
   "metadata": {},
   "source": [
    "#### Books, attend and grade\n",
    "Variáveis relevantes:\n",
    "<br>\n",
    "- Xq_books - Input X para o método dos mínimos quadrados quadrático;<br>\n",
    "- Y_books - Saída Y (igual para todos os métodos);\n",
    "- Xqt_books - Transposta da input Xq_books;<br>\n",
    "- mq_books - multiplicação $(Xt.X)$  para o método dos mínimos quadrados quadrático;<br>\n",
    "- p1q_books - $(Xt.X)^{-1}$  para o método dos mínimos quadrados quadrático;<br>\n",
    "- p2q_books -  $(Xt.y)$  para o método dos mínimos quadrados quadrático;<br>\n",
    "- betthaq_books- Resposta do exercício, coeficientes β0, β1, β2, β3 e β4.<br>"
   ]
  },
  {
   "cell_type": "code",
   "execution_count": 29,
   "metadata": {
    "ExecuteTime": {
     "end_time": "2020-10-08T03:51:56.139290Z",
     "start_time": "2020-10-08T03:51:56.004021Z"
    }
   },
   "outputs": [
    {
     "data": {
      "text/plain": [
       "[[1, 0, 9, 0, 81],\n",
       " [1, 1, 15, 1, 225],\n",
       " [1, 0, 10, 0, 100],\n",
       " [1, 2, 16, 4, 256],\n",
       " [1, 4, 10, 16, 100],\n",
       " [1, 4, 20, 16, 400],\n",
       " [1, 1, 11, 1, 121],\n",
       " [1, 4, 20, 16, 400],\n",
       " [1, 3, 15, 9, 225],\n",
       " [1, 0, 15, 0, 225],\n",
       " [1, 2, 8, 4, 64],\n",
       " [1, 1, 13, 1, 169],\n",
       " [1, 4, 18, 16, 324],\n",
       " [1, 1, 10, 1, 100],\n",
       " [1, 0, 8, 0, 64],\n",
       " [1, 1, 10, 1, 100],\n",
       " [1, 3, 16, 9, 256],\n",
       " [1, 0, 11, 0, 121],\n",
       " [1, 1, 19, 1, 361],\n",
       " [1, 4, 12, 16, 144],\n",
       " [1, 4, 11, 16, 121],\n",
       " [1, 0, 19, 0, 361],\n",
       " [1, 2, 15, 4, 225],\n",
       " [1, 3, 15, 9, 225],\n",
       " [1, 1, 20, 1, 400],\n",
       " [1, 0, 6, 0, 36],\n",
       " [1, 3, 15, 9, 225],\n",
       " [1, 3, 19, 9, 361],\n",
       " [1, 2, 14, 4, 196],\n",
       " [1, 2, 13, 4, 169],\n",
       " [1, 3, 17, 9, 289],\n",
       " [1, 2, 20, 4, 400],\n",
       " [1, 2, 11, 4, 121],\n",
       " [1, 3, 20, 9, 400],\n",
       " [1, 4, 20, 16, 400],\n",
       " [1, 4, 20, 16, 400],\n",
       " [1, 3, 9, 9, 81],\n",
       " [1, 1, 8, 1, 64],\n",
       " [1, 2, 16, 4, 256],\n",
       " [1, 0, 10, 0, 100]]"
      ]
     },
     "execution_count": 29,
     "metadata": {},
     "output_type": "execute_result"
    }
   ],
   "source": [
    "#Dataset already imported\n",
    "books_attend_grade\n",
    "\n",
    "#Definição da matriz X, incluindo x^2\n",
    "x_input = [i for i in books_attend_grade['Books']]\n",
    "Xq_books = [[1,i,j,i**2,j**2] for i, j in zip(x_input, books_attend_grade['Attend'])]\n",
    "Xq_books"
   ]
  },
  {
   "cell_type": "code",
   "execution_count": 30,
   "metadata": {
    "ExecuteTime": {
     "end_time": "2020-10-08T03:51:56.288441Z",
     "start_time": "2020-10-08T03:51:56.141199Z"
    }
   },
   "outputs": [
    {
     "data": {
      "text/plain": [
       "[45,\n",
       " 57,\n",
       " 45,\n",
       " 51,\n",
       " 65,\n",
       " 88,\n",
       " 44,\n",
       " 87,\n",
       " 89,\n",
       " 59,\n",
       " 66,\n",
       " 65,\n",
       " 56,\n",
       " 47,\n",
       " 66,\n",
       " 41,\n",
       " 56,\n",
       " 37,\n",
       " 45,\n",
       " 58,\n",
       " 47,\n",
       " 64,\n",
       " 97,\n",
       " 55,\n",
       " 51,\n",
       " 61,\n",
       " 69,\n",
       " 79,\n",
       " 71,\n",
       " 62,\n",
       " 87,\n",
       " 54,\n",
       " 43,\n",
       " 92,\n",
       " 83,\n",
       " 94,\n",
       " 60,\n",
       " 56,\n",
       " 88,\n",
       " 62]"
      ]
     },
     "execution_count": 30,
     "metadata": {},
     "output_type": "execute_result"
    }
   ],
   "source": [
    "#Cálculo da matriz Y\n",
    "Y_books = [i for i in books_attend_grade['Grade']]\n",
    "Y_books"
   ]
  },
  {
   "cell_type": "code",
   "execution_count": 31,
   "metadata": {
    "ExecuteTime": {
     "end_time": "2020-10-08T03:51:56.400429Z",
     "start_time": "2020-10-08T03:51:56.288441Z"
    }
   },
   "outputs": [
    {
     "data": {
      "text/plain": [
       "[[1,\n",
       "  1,\n",
       "  1,\n",
       "  1,\n",
       "  1,\n",
       "  1,\n",
       "  1,\n",
       "  1,\n",
       "  1,\n",
       "  1,\n",
       "  1,\n",
       "  1,\n",
       "  1,\n",
       "  1,\n",
       "  1,\n",
       "  1,\n",
       "  1,\n",
       "  1,\n",
       "  1,\n",
       "  1,\n",
       "  1,\n",
       "  1,\n",
       "  1,\n",
       "  1,\n",
       "  1,\n",
       "  1,\n",
       "  1,\n",
       "  1,\n",
       "  1,\n",
       "  1,\n",
       "  1,\n",
       "  1,\n",
       "  1,\n",
       "  1,\n",
       "  1,\n",
       "  1,\n",
       "  1,\n",
       "  1,\n",
       "  1,\n",
       "  1],\n",
       " [0,\n",
       "  1,\n",
       "  0,\n",
       "  2,\n",
       "  4,\n",
       "  4,\n",
       "  1,\n",
       "  4,\n",
       "  3,\n",
       "  0,\n",
       "  2,\n",
       "  1,\n",
       "  4,\n",
       "  1,\n",
       "  0,\n",
       "  1,\n",
       "  3,\n",
       "  0,\n",
       "  1,\n",
       "  4,\n",
       "  4,\n",
       "  0,\n",
       "  2,\n",
       "  3,\n",
       "  1,\n",
       "  0,\n",
       "  3,\n",
       "  3,\n",
       "  2,\n",
       "  2,\n",
       "  3,\n",
       "  2,\n",
       "  2,\n",
       "  3,\n",
       "  4,\n",
       "  4,\n",
       "  3,\n",
       "  1,\n",
       "  2,\n",
       "  0],\n",
       " [9,\n",
       "  15,\n",
       "  10,\n",
       "  16,\n",
       "  10,\n",
       "  20,\n",
       "  11,\n",
       "  20,\n",
       "  15,\n",
       "  15,\n",
       "  8,\n",
       "  13,\n",
       "  18,\n",
       "  10,\n",
       "  8,\n",
       "  10,\n",
       "  16,\n",
       "  11,\n",
       "  19,\n",
       "  12,\n",
       "  11,\n",
       "  19,\n",
       "  15,\n",
       "  15,\n",
       "  20,\n",
       "  6,\n",
       "  15,\n",
       "  19,\n",
       "  14,\n",
       "  13,\n",
       "  17,\n",
       "  20,\n",
       "  11,\n",
       "  20,\n",
       "  20,\n",
       "  20,\n",
       "  9,\n",
       "  8,\n",
       "  16,\n",
       "  10],\n",
       " [0,\n",
       "  1,\n",
       "  0,\n",
       "  4,\n",
       "  16,\n",
       "  16,\n",
       "  1,\n",
       "  16,\n",
       "  9,\n",
       "  0,\n",
       "  4,\n",
       "  1,\n",
       "  16,\n",
       "  1,\n",
       "  0,\n",
       "  1,\n",
       "  9,\n",
       "  0,\n",
       "  1,\n",
       "  16,\n",
       "  16,\n",
       "  0,\n",
       "  4,\n",
       "  9,\n",
       "  1,\n",
       "  0,\n",
       "  9,\n",
       "  9,\n",
       "  4,\n",
       "  4,\n",
       "  9,\n",
       "  4,\n",
       "  4,\n",
       "  9,\n",
       "  16,\n",
       "  16,\n",
       "  9,\n",
       "  1,\n",
       "  4,\n",
       "  0],\n",
       " [81,\n",
       "  225,\n",
       "  100,\n",
       "  256,\n",
       "  100,\n",
       "  400,\n",
       "  121,\n",
       "  400,\n",
       "  225,\n",
       "  225,\n",
       "  64,\n",
       "  169,\n",
       "  324,\n",
       "  100,\n",
       "  64,\n",
       "  100,\n",
       "  256,\n",
       "  121,\n",
       "  361,\n",
       "  144,\n",
       "  121,\n",
       "  361,\n",
       "  225,\n",
       "  225,\n",
       "  400,\n",
       "  36,\n",
       "  225,\n",
       "  361,\n",
       "  196,\n",
       "  169,\n",
       "  289,\n",
       "  400,\n",
       "  121,\n",
       "  400,\n",
       "  400,\n",
       "  400,\n",
       "  81,\n",
       "  64,\n",
       "  256,\n",
       "  100]]"
      ]
     },
     "execution_count": 31,
     "metadata": {},
     "output_type": "execute_result"
    }
   ],
   "source": [
    "#Cálculo da matrix X transposta\n",
    "Xqt_books = transposta(Xq_books)\n",
    "Xqt_books"
   ]
  },
  {
   "cell_type": "code",
   "execution_count": 32,
   "metadata": {
    "ExecuteTime": {
     "end_time": "2020-10-08T03:51:56.528438Z",
     "start_time": "2020-10-08T03:51:56.400429Z"
    }
   },
   "outputs": [
    {
     "data": {
      "text/plain": [
       "[[40, 80, 564, 240, 8666],\n",
       " [80, 240, 1234, 800, 20256],\n",
       " [564, 1234, 8666, 3788, 142260],\n",
       " [240, 800, 3788, 2832, 63470],\n",
       " [8666, 20256, 142260, 63470, 2451362]]"
      ]
     },
     "execution_count": 32,
     "metadata": {},
     "output_type": "execute_result"
    }
   ],
   "source": [
    "#Multiplicação de X transposta pela entrada X\n",
    "mq_books = multiply_matrix_matrix(Xqt_books,Xq_books)\n",
    "mq_books"
   ]
  },
  {
   "cell_type": "code",
   "execution_count": 33,
   "metadata": {
    "ExecuteTime": {
     "end_time": "2020-10-08T03:51:56.696406Z",
     "start_time": "2020-10-08T03:51:56.528438Z"
    }
   },
   "outputs": [
    {
     "data": {
      "text/plain": [
       "[[4.005600140848931,\n",
       "  0.2241330204971903,\n",
       "  -0.6155675942481291,\n",
       "  -0.050409152500737,\n",
       "  0.021015886508468636],\n",
       " [0.2241330204971903,\n",
       "  0.18409838945742982,\n",
       "  -0.049086371990312946,\n",
       "  -0.04129962744168894,\n",
       "  0.0016043656141310697],\n",
       " [-0.6155675942481291,\n",
       "  -0.049086371990312946,\n",
       "  0.09834186623602252,\n",
       "  0.010811349535702569,\n",
       "  -0.003405253048296229],\n",
       " [-0.050409152500737,\n",
       "  -0.04129962744168894,\n",
       "  0.010811349535702569,\n",
       "  0.010125553102763493,\n",
       "  -0.0003701128072276588],\n",
       " [0.021015886508468636,\n",
       "  0.0016043656141310697,\n",
       "  -0.003405253048296229,\n",
       "  -0.0003701128072276588,\n",
       "  0.00012005597547939996]]"
      ]
     },
     "execution_count": 33,
     "metadata": {},
     "output_type": "execute_result"
    }
   ],
   "source": [
    "#Cálculo da inversa da matrix 3x3 (Inversa da Multiplicação de X transposta por X)\n",
    "p1q_books = matriz_inversa(mq_books)\n",
    "p1q_books"
   ]
  },
  {
   "cell_type": "code",
   "execution_count": 34,
   "metadata": {
    "ExecuteTime": {
     "end_time": "2020-10-08T03:51:56.792393Z",
     "start_time": "2020-10-08T03:51:56.696406Z"
    }
   },
   "outputs": [
    {
     "data": {
      "text/plain": [
       "[2542, 5543, 37186, 17065, 589680]"
      ]
     },
     "execution_count": 34,
     "metadata": {},
     "output_type": "execute_result"
    }
   ],
   "source": [
    "#Multiplicação da matriz X transposta pelo vetor y\n",
    "p2q_books = multiply_matrix_vector(Xqt_books,Y_books)\n",
    "p2q_books"
   ]
  },
  {
   "cell_type": "code",
   "execution_count": 35,
   "metadata": {
    "ExecuteTime": {
     "end_time": "2020-10-08T03:51:56.912397Z",
     "start_time": "2020-10-08T03:51:56.800403Z"
    }
   },
   "outputs": [
    {
     "name": "stdout",
     "output_type": "stream",
     "text": [
      "Método Quadrático - Books, attend and grades:\n",
      "Coeficiente β0 = 66.52409983168764\n",
      "Coeficiente β1 = 6.161855083001456\n",
      "Coeficiente β2 = -3.4318843608712086\n",
      "Coeficiente β3 = -0.48861319886634647\n",
      "Coeficiente β4 = 0.1662748150648099\n"
     ]
    }
   ],
   "source": [
    "#Resultado final\n",
    "betthaq_books = multiply_matrix_vector(p1q_books,p2q_books)\n",
    "print('Método Quadrático - Books, attend and grades:')\n",
    "print('Coeficiente β0 =', betthaq_books[0])\n",
    "print('Coeficiente β1 =', betthaq_books[1])\n",
    "print('Coeficiente β2 =', betthaq_books[2])\n",
    "print('Coeficiente β3 =', betthaq_books[3])\n",
    "print('Coeficiente β4 =', betthaq_books[4])"
   ]
  },
  {
   "cell_type": "markdown",
   "metadata": {},
   "source": [
    "#### US-Census\n",
    "\n",
    "Variáveis relevantes:<br>\n",
    "- Xq_us  - Input X para o método dos mínimos quadrados quadrático; <br>\n",
    "- Y_us - Saída Y (igual para todos os métodos);\n",
    "- Xqt_us -  Transposta da input Xq_us;\n",
    "- mq_us - multiplicação $(X^t.X)$ para o método dos mínimos quadrados quadrático;\n",
    "- p1q_us - $(X^t.X)^{-1}$ para o método dos mínimos quadrados quadrático;\n",
    "- p2q_us - $(X^t.y)$  para o método dos mínimos quadrados quadrático;\n",
    "- betthaq_us - Resposta do exercício, coeficientes  β0, β1 e  β2."
   ]
  },
  {
   "cell_type": "code",
   "execution_count": 36,
   "metadata": {
    "ExecuteTime": {
     "end_time": "2020-10-08T03:51:57.137349Z",
     "start_time": "2020-10-08T03:51:56.920385Z"
    }
   },
   "outputs": [
    {
     "data": {
      "text/plain": [
       "[[1, 1900, 3610000],\n",
       " [1, 1910, 3648100],\n",
       " [1, 1920, 3686400],\n",
       " [1, 1930, 3724900],\n",
       " [1, 1940, 3763600],\n",
       " [1, 1950, 3802500],\n",
       " [1, 1960, 3841600],\n",
       " [1, 1970, 3880900],\n",
       " [1, 1980, 3920400],\n",
       " [1, 1990, 3960100],\n",
       " [1, 2000, 4000000]]"
      ]
     },
     "execution_count": 36,
     "metadata": {},
     "output_type": "execute_result"
    }
   ],
   "source": [
    "#Dataset already imported\n",
    "us_census \n",
    "#Definição da matriz de entrada (X), incluindo x^2\n",
    "x_input = [i for i in us_census['x']]\n",
    "Xq_us = [[1,i,i**2] for i in x_input]\n",
    "Xq_us"
   ]
  },
  {
   "cell_type": "code",
   "execution_count": 37,
   "metadata": {
    "ExecuteTime": {
     "end_time": "2020-10-08T03:51:57.285525Z",
     "start_time": "2020-10-08T03:51:57.141348Z"
    }
   },
   "outputs": [
    {
     "data": {
      "text/plain": [
       "[75.995,\n",
       " 91.972,\n",
       " 105.711,\n",
       " 123.203,\n",
       " 131.669,\n",
       " 150.697,\n",
       " 179.323,\n",
       " 203.212,\n",
       " 226.505,\n",
       " 249.633,\n",
       " 281.422]"
      ]
     },
     "execution_count": 37,
     "metadata": {},
     "output_type": "execute_result"
    }
   ],
   "source": [
    "#Definindo a matrix de saída(y)\n",
    "Y_us = [i for i in us_census['y']]\n",
    "Y_us"
   ]
  },
  {
   "cell_type": "code",
   "execution_count": 38,
   "metadata": {
    "ExecuteTime": {
     "end_time": "2020-10-08T03:51:57.413511Z",
     "start_time": "2020-10-08T03:51:57.285525Z"
    }
   },
   "outputs": [
    {
     "data": {
      "text/plain": [
       "[[1, 1, 1, 1, 1, 1, 1, 1, 1, 1, 1],\n",
       " [1900, 1910, 1920, 1930, 1940, 1950, 1960, 1970, 1980, 1990, 2000],\n",
       " [3610000,\n",
       "  3648100,\n",
       "  3686400,\n",
       "  3724900,\n",
       "  3763600,\n",
       "  3802500,\n",
       "  3841600,\n",
       "  3880900,\n",
       "  3920400,\n",
       "  3960100,\n",
       "  4000000]]"
      ]
     },
     "execution_count": 38,
     "metadata": {},
     "output_type": "execute_result"
    }
   ],
   "source": [
    "#Cálculo da matrix X transposta\n",
    "Xqt_us = transposta(Xq_us)\n",
    "Xqt_us"
   ]
  },
  {
   "cell_type": "code",
   "execution_count": 39,
   "metadata": {
    "ExecuteTime": {
     "end_time": "2020-10-08T03:51:57.589517Z",
     "start_time": "2020-10-08T03:51:57.413511Z"
    }
   },
   "outputs": [
    {
     "data": {
      "text/plain": [
       "[[11, 21450, 41838500],\n",
       " [21450, 41838500, 81627975000],\n",
       " [41838500, 81627975000, 159300053330000]]"
      ]
     },
     "execution_count": 39,
     "metadata": {},
     "output_type": "execute_result"
    }
   ],
   "source": [
    "#Multiplicação de X transposta pela entrada X\n",
    "mq_us= multiply_matrix_matrix(Xqt_us,Xq_us)\n",
    "mq_us"
   ]
  },
  {
   "cell_type": "code",
   "execution_count": 40,
   "metadata": {
    "ExecuteTime": {
     "end_time": "2020-10-08T03:51:57.765514Z",
     "start_time": "2020-10-08T03:51:57.589517Z"
    }
   },
   "outputs": [
    {
     "data": {
      "text/plain": [
       "[[1684658.3892773893, -1728.1318181818183, 0.4430652680652681],\n",
       " [-1728.1318181818183, 1.7728181818181818, -0.00045454545454545455],\n",
       " [0.4430652680652681, -0.00045454545454545455, 1.1655011655011655e-07]]"
      ]
     },
     "execution_count": 40,
     "metadata": {},
     "output_type": "execute_result"
    }
   ],
   "source": [
    "#Cálculo da inversa da matrix 2x2 (Inversa da Multiplicação de X transposta por X)\n",
    "p1q_us = matriz_inversa(mq_us)\n",
    "p1q_us"
   ]
  },
  {
   "cell_type": "code",
   "execution_count": 41,
   "metadata": {
    "ExecuteTime": {
     "end_time": "2020-10-08T03:51:57.893472Z",
     "start_time": "2020-10-08T03:51:57.773486Z"
    }
   },
   "outputs": [
    {
     "data": {
      "text/plain": [
       "[1819.3419999999999, 3569995.23, 7006834212.1]"
      ]
     },
     "execution_count": 41,
     "metadata": {},
     "output_type": "execute_result"
    }
   ],
   "source": [
    "#Multiplicação da matriz X transposta pelo vetor y\n",
    "p2q_us = multiply_matrix_vector(Xqt_us,Y_us)\n",
    "p2q_us"
   ]
  },
  {
   "cell_type": "code",
   "execution_count": 42,
   "metadata": {
    "ExecuteTime": {
     "end_time": "2020-10-08T03:51:58.021461Z",
     "start_time": "2020-10-08T03:51:57.893472Z"
    }
   },
   "outputs": [
    {
     "name": "stdout",
     "output_type": "stream",
     "text": [
      "Método Quadrático - US-Census:\n",
      "Coeficiente β0 = 32294.01736307144\n",
      "Coeficiente β1 = -34.98747000005096\n",
      "Coeficiente β2 = 0.009490454545471039\n"
     ]
    }
   ],
   "source": [
    "#Resultado final\n",
    "betthaq_us = multiply_matrix_vector(p1q_us,p2q_us)\n",
    "print('Método Quadrático - US-Census:')\n",
    "print('Coeficiente β0 =', betthaq_us[0])\n",
    "print('Coeficiente β1 =', betthaq_us[1])\n",
    "print('Coeficiente β2 =', betthaq_us[2])"
   ]
  },
  {
   "cell_type": "markdown",
   "metadata": {},
   "source": [
    "## Robusto (com peso)"
   ]
  },
  {
   "cell_type": "markdown",
   "metadata": {
    "ExecuteTime": {
     "end_time": "2020-10-07T02:13:44.980801Z",
     "start_time": "2020-10-07T02:13:44.968811Z"
    }
   },
   "source": [
    "- $ β = ({X^T} $x$ W .X)^{-1}.{X^T} $x$ W .y $<br>\n",
    "<br>Critério adotado para cálculo do peso:\n",
    "- $ W= abs({1} / {(yobs-ypred)})$"
   ]
  },
  {
   "cell_type": "markdown",
   "metadata": {},
   "source": [
    "#### Alps Water"
   ]
  },
  {
   "cell_type": "markdown",
   "metadata": {
    "ExecuteTime": {
     "end_time": "2020-10-08T02:33:31.171760Z",
     "start_time": "2020-10-08T02:33:31.151771Z"
    }
   },
   "source": [
    "Variáveis relevantes:<br>\n",
    "- Xr_alps  - Input X para o método dos mínimos quadrados robustos; \n",
    "- Xrt_alps -  Transposta da input Xr_alps;\n",
    "- Y_alps - Saída Y (igual para todos os métodos);\n",
    "<br>\n",
    "- W_alps - Peso para $W= abs({1} / {(yobs-(β0+β1*X1)})$<br>\n",
    "*Obs: coeficientes obtidos através do método linear (betthal_alps[0] e betthal_alps[1])*\n",
    "- XtW_alps - Cálculo do produto vetorial entre ${X^T} $x$ W$\n",
    "- mr_alps - multiplicação $({X^T} $x$ W .X)$ para o método dos mínimos quadrados robustos;\n",
    "- p1r_alps - $({X^T} $x$ W .X)$ para o método dos mínimos quadrados robustos;\n",
    "- p2r_alps - ${X^T} $x$ W .y$  para o método dos mínimos quadrados robustos;\n",
    "- betthar_alps - Resposta do exercício, coeficientes robustos  β0 e β1."
   ]
  },
  {
   "cell_type": "code",
   "execution_count": 43,
   "metadata": {
    "ExecuteTime": {
     "end_time": "2020-10-08T03:51:58.157892Z",
     "start_time": "2020-10-08T03:51:58.029455Z"
    }
   },
   "outputs": [
    {
     "data": {
      "text/html": [
       "<div>\n",
       "<style scoped>\n",
       "    .dataframe tbody tr th:only-of-type {\n",
       "        vertical-align: middle;\n",
       "    }\n",
       "\n",
       "    .dataframe tbody tr th {\n",
       "        vertical-align: top;\n",
       "    }\n",
       "\n",
       "    .dataframe thead th {\n",
       "        text-align: right;\n",
       "    }\n",
       "</style>\n",
       "<table border=\"1\" class=\"dataframe\">\n",
       "  <thead>\n",
       "    <tr style=\"text-align: right;\">\n",
       "      <th></th>\n",
       "      <th>Pressure</th>\n",
       "      <th>Boiling</th>\n",
       "    </tr>\n",
       "  </thead>\n",
       "  <tbody>\n",
       "    <tr>\n",
       "      <th>0</th>\n",
       "      <td>20.79</td>\n",
       "      <td>194.5</td>\n",
       "    </tr>\n",
       "    <tr>\n",
       "      <th>1</th>\n",
       "      <td>20.79</td>\n",
       "      <td>194.3</td>\n",
       "    </tr>\n",
       "    <tr>\n",
       "      <th>2</th>\n",
       "      <td>22.40</td>\n",
       "      <td>197.9</td>\n",
       "    </tr>\n",
       "    <tr>\n",
       "      <th>3</th>\n",
       "      <td>22.67</td>\n",
       "      <td>198.4</td>\n",
       "    </tr>\n",
       "    <tr>\n",
       "      <th>4</th>\n",
       "      <td>23.15</td>\n",
       "      <td>199.4</td>\n",
       "    </tr>\n",
       "    <tr>\n",
       "      <th>5</th>\n",
       "      <td>23.35</td>\n",
       "      <td>199.9</td>\n",
       "    </tr>\n",
       "    <tr>\n",
       "      <th>6</th>\n",
       "      <td>23.89</td>\n",
       "      <td>200.9</td>\n",
       "    </tr>\n",
       "    <tr>\n",
       "      <th>7</th>\n",
       "      <td>23.99</td>\n",
       "      <td>201.1</td>\n",
       "    </tr>\n",
       "    <tr>\n",
       "      <th>8</th>\n",
       "      <td>24.02</td>\n",
       "      <td>201.4</td>\n",
       "    </tr>\n",
       "    <tr>\n",
       "      <th>9</th>\n",
       "      <td>24.01</td>\n",
       "      <td>201.3</td>\n",
       "    </tr>\n",
       "    <tr>\n",
       "      <th>10</th>\n",
       "      <td>25.14</td>\n",
       "      <td>203.6</td>\n",
       "    </tr>\n",
       "    <tr>\n",
       "      <th>11</th>\n",
       "      <td>26.57</td>\n",
       "      <td>204.6</td>\n",
       "    </tr>\n",
       "    <tr>\n",
       "      <th>12</th>\n",
       "      <td>28.49</td>\n",
       "      <td>209.5</td>\n",
       "    </tr>\n",
       "    <tr>\n",
       "      <th>13</th>\n",
       "      <td>27.76</td>\n",
       "      <td>208.6</td>\n",
       "    </tr>\n",
       "    <tr>\n",
       "      <th>14</th>\n",
       "      <td>29.04</td>\n",
       "      <td>210.7</td>\n",
       "    </tr>\n",
       "    <tr>\n",
       "      <th>15</th>\n",
       "      <td>29.88</td>\n",
       "      <td>211.9</td>\n",
       "    </tr>\n",
       "    <tr>\n",
       "      <th>16</th>\n",
       "      <td>30.06</td>\n",
       "      <td>212.2</td>\n",
       "    </tr>\n",
       "  </tbody>\n",
       "</table>\n",
       "</div>"
      ],
      "text/plain": [
       "    Pressure  Boiling\n",
       "0      20.79    194.5\n",
       "1      20.79    194.3\n",
       "2      22.40    197.9\n",
       "3      22.67    198.4\n",
       "4      23.15    199.4\n",
       "5      23.35    199.9\n",
       "6      23.89    200.9\n",
       "7      23.99    201.1\n",
       "8      24.02    201.4\n",
       "9      24.01    201.3\n",
       "10     25.14    203.6\n",
       "11     26.57    204.6\n",
       "12     28.49    209.5\n",
       "13     27.76    208.6\n",
       "14     29.04    210.7\n",
       "15     29.88    211.9\n",
       "16     30.06    212.2"
      ]
     },
     "execution_count": 43,
     "metadata": {},
     "output_type": "execute_result"
    }
   ],
   "source": [
    "alps_water"
   ]
  },
  {
   "cell_type": "code",
   "execution_count": 44,
   "metadata": {
    "ExecuteTime": {
     "end_time": "2020-10-08T03:51:58.297606Z",
     "start_time": "2020-10-08T03:51:58.157892Z"
    }
   },
   "outputs": [
    {
     "data": {
      "text/plain": [
       "[20.79,\n",
       " 20.79,\n",
       " 22.4,\n",
       " 22.67,\n",
       " 23.15,\n",
       " 23.35,\n",
       " 23.89,\n",
       " 23.99,\n",
       " 24.02,\n",
       " 24.01,\n",
       " 25.14,\n",
       " 26.57,\n",
       " 28.49,\n",
       " 27.76,\n",
       " 29.04,\n",
       " 29.88,\n",
       " 30.06]"
      ]
     },
     "execution_count": 44,
     "metadata": {},
     "output_type": "execute_result"
    }
   ],
   "source": [
    "#A entrada para o método dos mínimos quadrados robustos é igual à entrada do método linear\n",
    "Xr_alps = Xl_alps\n",
    "\n",
    "#A saída do dataset é a mesma\n",
    "Y_alps"
   ]
  },
  {
   "cell_type": "code",
   "execution_count": 45,
   "metadata": {
    "ExecuteTime": {
     "end_time": "2020-10-08T03:51:58.417650Z",
     "start_time": "2020-10-08T03:51:58.297606Z"
    }
   },
   "outputs": [
    {
     "data": {
      "text/plain": [
       "[6.615717874720793,\n",
       " 3.91031831657218,\n",
       " 59.95568090952846,\n",
       " 123.07409021305531,\n",
       " 19.60108352980896,\n",
       " 8.891750989844958,\n",
       " 10.48699628945288,\n",
       " 10.006537357313336,\n",
       " 4.409124625060843,\n",
       " 5.4196679414565665,\n",
       " 3.888543893640207,\n",
       " 1.5385989989840607,\n",
       " 128.713972933644,\n",
       " 3.9741256597416235,\n",
       " 14.346848941484716,\n",
       " 7.001457586319023,\n",
       " 6.025559864993501]"
      ]
     },
     "execution_count": 45,
     "metadata": {},
     "output_type": "execute_result"
    }
   ],
   "source": [
    "#Cálculo do peso W\n",
    "W_alps=[]\n",
    "for i in range(len(Y_alps)):\n",
    "    w=1/(Y_alps[i]-(betthal_alps[0]*Xr_alps[i][0]+betthal_alps[1]*Xr_alps[i][1]))\n",
    "    if w<0:\n",
    "        w=-w\n",
    "    W_alps.append(w)\n",
    "W_alps"
   ]
  },
  {
   "cell_type": "code",
   "execution_count": 46,
   "metadata": {
    "ExecuteTime": {
     "end_time": "2020-10-08T03:51:58.561612Z",
     "start_time": "2020-10-08T03:51:58.417650Z"
    }
   },
   "outputs": [
    {
     "data": {
      "text/plain": [
       "[[1, 1, 1, 1, 1, 1, 1, 1, 1, 1, 1, 1, 1, 1, 1, 1, 1],\n",
       " [194.5,\n",
       "  194.3,\n",
       "  197.9,\n",
       "  198.4,\n",
       "  199.4,\n",
       "  199.9,\n",
       "  200.9,\n",
       "  201.1,\n",
       "  201.4,\n",
       "  201.3,\n",
       "  203.6,\n",
       "  204.6,\n",
       "  209.5,\n",
       "  208.6,\n",
       "  210.7,\n",
       "  211.9,\n",
       "  212.2]]"
      ]
     },
     "execution_count": 46,
     "metadata": {},
     "output_type": "execute_result"
    }
   ],
   "source": [
    "Xrt_alps = transposta(Xr_alps)\n",
    "Xrt_alps"
   ]
  },
  {
   "cell_type": "code",
   "execution_count": 47,
   "metadata": {
    "ExecuteTime": {
     "end_time": "2020-10-08T03:51:58.697569Z",
     "start_time": "2020-10-08T03:51:58.569582Z"
    }
   },
   "outputs": [
    {
     "data": {
      "text/plain": [
       "[[6.615717874720793,\n",
       "  3.91031831657218,\n",
       "  59.95568090952846,\n",
       "  123.07409021305531,\n",
       "  19.60108352980896,\n",
       "  8.891750989844958,\n",
       "  10.48699628945288,\n",
       "  10.006537357313336,\n",
       "  4.409124625060843,\n",
       "  5.4196679414565665,\n",
       "  3.888543893640207,\n",
       "  1.5385989989840607,\n",
       "  128.713972933644,\n",
       "  3.9741256597416235,\n",
       "  14.346848941484716,\n",
       "  7.001457586319023,\n",
       "  6.025559864993501],\n",
       " [1286.7571266331943,\n",
       "  759.7748489099747,\n",
       "  11865.229251995683,\n",
       "  24417.899498270173,\n",
       "  3908.4560558439066,\n",
       "  1777.4610228700071,\n",
       "  2106.837554551084,\n",
       "  2012.3146625557117,\n",
       "  887.9976994872538,\n",
       "  1090.9791566152069,\n",
       "  791.7075367451462,\n",
       "  314.7973551921388,\n",
       "  26965.577329598415,\n",
       "  829.0026126221027,\n",
       "  3022.8810719708295,\n",
       "  1483.608862541001,\n",
       "  1278.6238033516208]]"
      ]
     },
     "execution_count": 47,
     "metadata": {},
     "output_type": "execute_result"
    }
   ],
   "source": [
    "#X transposta vetorial W_alps\n",
    "Z=[]\n",
    "for i,j in zip(Xrt_alps[0],W_alps):\n",
    "    Z.append(i*j)\n",
    "\n",
    "for i,j in zip(Xrt_alps[1],W_alps):\n",
    "    Z.append(i*j)\n",
    "\n",
    "XtW_alps = [Z[:len(Z)//2],Z[len(Z)//2:]]\n",
    "XtW_alps"
   ]
  },
  {
   "cell_type": "code",
   "execution_count": 48,
   "metadata": {
    "ExecuteTime": {
     "end_time": "2020-10-08T03:51:58.874017Z",
     "start_time": "2020-10-08T03:51:58.697569Z"
    }
   },
   "outputs": [
    {
     "data": {
      "text/plain": [
       "[[417.86007592562146, 84799.90544975345],\n",
       " [84799.90544975345, 17222035.54376511]]"
      ]
     },
     "execution_count": 48,
     "metadata": {},
     "output_type": "execute_result"
    }
   ],
   "source": [
    "#(X transposta vetorial W_alps) escalar com a entrada X\n",
    "mr_alps = multiply_matrix_matrix(XtW_alps,Xr_alps)\n",
    "mr_alps"
   ]
  },
  {
   "cell_type": "code",
   "execution_count": 49,
   "metadata": {
    "ExecuteTime": {
     "end_time": "2020-10-08T03:51:59.093137Z",
     "start_time": "2020-10-08T03:51:58.874017Z"
    }
   },
   "outputs": [
    {
     "data": {
      "text/plain": [
       "[[3.2028389841368288, -0.015770519247587718],\n",
       " [-0.015770519247587718, 7.771082214340651e-05]]"
      ]
     },
     "execution_count": 49,
     "metadata": {},
     "output_type": "execute_result"
    }
   ],
   "source": [
    "#Inversa de do resultado anterior\n",
    "p1r_alps = matriz_inversa(mr_alps)\n",
    "p1r_alps"
   ]
  },
  {
   "cell_type": "code",
   "execution_count": 50,
   "metadata": {
    "ExecuteTime": {
     "end_time": "2020-10-08T03:51:59.240507Z",
     "start_time": "2020-10-08T03:51:59.093137Z"
    }
   },
   "outputs": [
    {
     "data": {
      "text/plain": [
       "[10462.930974138351, 2130078.9159631673]"
      ]
     },
     "execution_count": 50,
     "metadata": {},
     "output_type": "execute_result"
    }
   ],
   "source": [
    "#Cálculo do segundo elemento do produto escalar total\n",
    "p2r_alps = multiply_matrix_vector(XtW_alps,Y_alps)\n",
    "p2r_alps"
   ]
  },
  {
   "cell_type": "code",
   "execution_count": 51,
   "metadata": {
    "ExecuteTime": {
     "end_time": "2020-10-08T03:51:59.473915Z",
     "start_time": "2020-10-08T03:51:59.240507Z"
    }
   },
   "outputs": [
    {
     "name": "stdout",
     "output_type": "stream",
     "text": [
      "Método Robusto - Alps Water:\n",
      "Coeficiente β0 = -81.36733077487588\n",
      "Coeficiente β1 = 0.5243294760032597\n"
     ]
    }
   ],
   "source": [
    "# Cálculo do Bettha através do método robusto\n",
    "betthar_alps = multiply_matrix_vector(p1r_alps,p2r_alps)\n",
    "\n",
    "#Respostas\n",
    "\n",
    "print('Método Robusto - Alps Water:')\n",
    "\n",
    "print('Coeficiente β0 =', betthar_alps[0])\n",
    "print('Coeficiente β1 =', betthar_alps[1])"
   ]
  },
  {
   "cell_type": "markdown",
   "metadata": {},
   "source": [
    "#### Books, attend and grade"
   ]
  },
  {
   "cell_type": "markdown",
   "metadata": {
    "ExecuteTime": {
     "end_time": "2020-10-08T03:07:53.302578Z",
     "start_time": "2020-10-08T03:07:53.286576Z"
    }
   },
   "source": [
    "Variáveis relevantes:<br>\n",
    "- Xr_books  - Input X para o método dos mínimos quadrados robustos; \n",
    "- Xrt_books -  Transposta da input Xr_books;\n",
    "- Y_books - Saída Y (igual para todos os métodos);\n",
    "<br>\n",
    "- W_books - Peso para $W= abs({1} / {(yobs-(β0+β1*X1+β2*X2)})$<br>\n",
    "*Obs: coeficientes obtidos através do método linear (betthal_books[0] e betthal_books[1] e betthal_books[2])*\n",
    "- XtW_books - Cálculo do produto vetorial entre ${X^T} $x$ W$\n",
    "- mr_books - multiplicação $({X^T} $x$ W .X)$ para o método dos mínimos quadrados robustos;\n",
    "- p1r_books - $({X^T} $x$ W .X)^{-1}$ para o método dos mínimos quadrados robustos;\n",
    "- p2r_books - ${X^T} $x$ W .y$  para o método dos mínimos quadrados robustos;\n",
    "- betthar_books - Resposta do exercício, coeficientes robustos  β0, β1 e β2."
   ]
  },
  {
   "cell_type": "code",
   "execution_count": 52,
   "metadata": {
    "ExecuteTime": {
     "end_time": "2020-10-08T03:51:59.681838Z",
     "start_time": "2020-10-08T03:51:59.473915Z"
    }
   },
   "outputs": [
    {
     "data": {
      "text/plain": [
       "[45,\n",
       " 57,\n",
       " 45,\n",
       " 51,\n",
       " 65,\n",
       " 88,\n",
       " 44,\n",
       " 87,\n",
       " 89,\n",
       " 59,\n",
       " 66,\n",
       " 65,\n",
       " 56,\n",
       " 47,\n",
       " 66,\n",
       " 41,\n",
       " 56,\n",
       " 37,\n",
       " 45,\n",
       " 58,\n",
       " 47,\n",
       " 64,\n",
       " 97,\n",
       " 55,\n",
       " 51,\n",
       " 61,\n",
       " 69,\n",
       " 79,\n",
       " 71,\n",
       " 62,\n",
       " 87,\n",
       " 54,\n",
       " 43,\n",
       " 92,\n",
       " 83,\n",
       " 94,\n",
       " 60,\n",
       " 56,\n",
       " 88,\n",
       " 62]"
      ]
     },
     "execution_count": 52,
     "metadata": {},
     "output_type": "execute_result"
    }
   ],
   "source": [
    "#Definição da matriz X do método robusto (igual ao método linear)\n",
    "Xr_books=Xl_books\n",
    "\n",
    "#Transposta de X\n",
    "Xrt_books = transposta(Xr_books)\n",
    "\n",
    "#Definição da matriz Y (igual para todos os métodos)\n",
    "Y_books"
   ]
  },
  {
   "cell_type": "code",
   "execution_count": 53,
   "metadata": {
    "ExecuteTime": {
     "end_time": "2020-10-08T03:51:59.906600Z",
     "start_time": "2020-10-08T03:51:59.681838Z"
    }
   },
   "outputs": [
    {
     "data": {
      "text/plain": [
       "[0.2544218079640258,\n",
       " 0.2726105258151234,\n",
       " 0.19179287774647127,\n",
       " 0.06671734150338997,\n",
       " 0.734468706750758,\n",
       " 0.11358861953609173,\n",
       " 0.08669772648202224,\n",
       " 0.12814436055259634,\n",
       " 0.04936326852618996,\n",
       " 0.42218039989834494,\n",
       " 0.097283727656483,\n",
       " 0.14495447647951382,\n",
       " 0.04847463275063433,\n",
       " 0.13791485445128246,\n",
       " 0.054487014950061925,\n",
       " 0.07546685363854524,\n",
       " 0.0712987088110479,\n",
       " 0.06897771808494317,\n",
       " 0.048071963263508995,\n",
       " 0.09150400883828357,\n",
       " 0.04843786511683539,\n",
       " 0.44747803208037473,\n",
       " 0.030964669806083815,\n",
       " 0.07276949407331455,\n",
       " 0.062167314299350275,\n",
       " 0.06281426310644295,\n",
       " 3.876301907208429,\n",
       " 0.19515741301934358,\n",
       " 0.13195488462149368,\n",
       " 7.237199318140946,\n",
       " 0.0637307064918253,\n",
       " 0.058402632219830164,\n",
       " 0.06034558547536571,\n",
       " 0.059380337198260996,\n",
       " 0.2629019902847974,\n",
       " 0.06755068511233059,\n",
       " 0.9604685457653549,\n",
       " 0.23169043263837652,\n",
       " 0.04543101801466875,\n",
       " 0.08484612526405702]"
      ]
     },
     "execution_count": 53,
     "metadata": {},
     "output_type": "execute_result"
    }
   ],
   "source": [
    "#Cálculo da matriz W\n",
    "W_books=[]\n",
    "for i in range(len(Y_books)):\n",
    "    w=1/(Y_books[i]-(betthal_books[0]*Xr_books[i][0]+betthal_books[1]*Xr_books[i][1]+betthal_books[2]*Xr_books[i][2]))\n",
    "    if w<0:\n",
    "        w=-w\n",
    "    W_books.append(w)\n",
    "W_books"
   ]
  },
  {
   "cell_type": "code",
   "execution_count": 54,
   "metadata": {
    "ExecuteTime": {
     "end_time": "2020-10-08T03:52:00.162598Z",
     "start_time": "2020-10-08T03:51:59.914593Z"
    }
   },
   "outputs": [
    {
     "data": {
      "text/plain": [
       "[[0.2544218079640258,\n",
       "  0.06671734150338997,\n",
       "  0.08669772648202224,\n",
       "  0.42218039989834494,\n",
       "  0.04847463275063433,\n",
       "  0.07546685363854524,\n",
       "  0.048071963263508995,\n",
       "  0.44747803208037473,\n",
       "  0.062167314299350275,\n",
       "  0.19515741301934358,\n",
       "  0.0637307064918253,\n",
       "  0.059380337198260996,\n",
       "  0.9604685457653549,\n",
       "  0.08484612526405702,\n",
       "  0.0,\n",
       "  0.4543544781443669,\n",
       "  0.14808980557856988,\n",
       "  0.14495447647951382,\n",
       "  0.0,\n",
       "  0.0,\n",
       "  0.19375146046734157,\n",
       "  0.21830848221994364,\n",
       "  11.628905721625287,\n",
       "  14.474398636281892,\n",
       "  0.12069117095073142,\n",
       "  0.27020274044932235,\n",
       "  0.0908620360293375,\n",
       "  4.089157887226851,\n",
       "  7.34468706750758,\n",
       "  2.562887211051927,\n",
       "  0.778269821251864,\n",
       "  1.3791485445128246,\n",
       "  1.1407793409767664,\n",
       "  1.0980481060594027,\n",
       "  0.4644700470912572,\n",
       "  0.3768855786386577,\n",
       "  1.8473683847009115,\n",
       "  1.1680526443966033,\n",
       "  5.258039805695947,\n",
       "  1.8535234611070122],\n",
       " [0.2726105258151234,\n",
       "  0.734468706750758,\n",
       "  0.12814436055259634,\n",
       "  0.097283727656483,\n",
       "  0.13791485445128246,\n",
       "  0.0712987088110479,\n",
       "  0.09150400883828357,\n",
       "  0.030964669806083815,\n",
       "  0.06281426310644295,\n",
       "  0.13195488462149368,\n",
       "  0.058402632219830164,\n",
       "  0.2629019902847974,\n",
       "  0.23169043263837652,\n",
       "  0.0,\n",
       "  0.13343468300677994,\n",
       "  0.08669772648202224,\n",
       "  0.0,\n",
       "  0.19389853100253732,\n",
       "  0.07546685363854524,\n",
       "  0.048071963263508995,\n",
       "  0.0,\n",
       "  0.062167314299350275,\n",
       "  0.5854722390580307,\n",
       "  0.1911921194754759,\n",
       "  0.178141011594783,\n",
       "  2.881405637296065,\n",
       "  0.0,\n",
       "  1.9179287774647127,\n",
       "  2.271772390721835,\n",
       "  0.7404490278928494,\n",
       "  1.8844081942336797,\n",
       "  0.4358961196004954,\n",
       "  0.7587548989343749,\n",
       "  0.5328165162851893,\n",
       "  1.0915424110997183,\n",
       "  58.144528608126436,\n",
       "  94.0835911358323,\n",
       "  0.6638014402290229,\n",
       "  1.3510137022466118,\n",
       "  0.7268962882347],\n",
       " [0.19179287774647127,\n",
       "  0.11358861953609173,\n",
       "  0.04936326852618996,\n",
       "  0.14495447647951382,\n",
       "  0.054487014950061925,\n",
       "  0.06897771808494317,\n",
       "  0.04843786511683539,\n",
       "  0.07276949407331455,\n",
       "  3.876301907208429,\n",
       "  7.237199318140946,\n",
       "  0.06034558547536571,\n",
       "  0.06755068511233059,\n",
       "  0.04543101801466875,\n",
       "  0.2726105258151234,\n",
       "  2.937874827003032,\n",
       "  0.5125774422103854,\n",
       "  0.194567455312966,\n",
       "  0.13791485445128246,\n",
       "  0.2138961264331437,\n",
       "  0.36601603535313426,\n",
       "  0.06192933961216763,\n",
       "  0.0,\n",
       "  0.26390976924298737,\n",
       "  0.11680526443966033,\n",
       "  1.0516079611391895,\n",
       "  0.23169043263837652,\n",
       "  2.289796271676232,\n",
       "  1.0674774640542395,\n",
       "  0.9536749913022446,\n",
       "  6.332705998475174,\n",
       "  0.872543389511418,\n",
       "  0.7546685363854524,\n",
       "  0.9133673020066709,\n",
       "  8.50208260952712,\n",
       "  1.2433462859870055,\n",
       "  3.7079908473675283,\n",
       "  1.0834220103610301,\n",
       "  1.1876067439652198,\n",
       "  8.644216911888194,\n",
       "  0.8484612526405702]]"
      ]
     },
     "execution_count": 54,
     "metadata": {},
     "output_type": "execute_result"
    }
   ],
   "source": [
    "#Produto vetorial: X transposto x W\n",
    "Z=[]\n",
    "for i,j in zip(Xrt_books[0],W_books):\n",
    "    Z.append(i*j)\n",
    "\n",
    "for i,j in zip(Xrt_books[1],W_books):\n",
    "    Z.append(i*j)\n",
    "\n",
    "for i,j in zip(Xrt_books[2],W_books):\n",
    "    Z.append(i*j)\n",
    "\n",
    "n = 3 #separando a lista em 03 partes para representar a matriz\n",
    "XtW_books = [Z[i::n] for i in range(n)]\n",
    "XtW_books "
   ]
  },
  {
   "cell_type": "code",
   "execution_count": 55,
   "metadata": {
    "ExecuteTime": {
     "end_time": "2020-10-08T03:52:00.344408Z",
     "start_time": "2020-10-08T03:52:00.170567Z"
    }
   },
   "outputs": [
    {
     "data": {
      "text/plain": [
       "[[59.981096108062935, 139.6358982322551, 892.0195215308138],\n",
       " [171.35130135557162, 549.7333708264584, 2274.7729792437785],\n",
       " [56.7939604972647, 116.09634324188411, 877.6836130129986]]"
      ]
     },
     "execution_count": 55,
     "metadata": {},
     "output_type": "execute_result"
    }
   ],
   "source": [
    "#Multiplicação da transposta de X pelo produto vetorial\n",
    "mr_books  = multiply_matrix_matrix(XtW_books,Xr_books)\n",
    "mr_books "
   ]
  },
  {
   "cell_type": "code",
   "execution_count": 56,
   "metadata": {
    "ExecuteTime": {
     "end_time": "2020-10-08T03:52:00.488451Z",
     "start_time": "2020-10-08T03:52:00.352407Z"
    }
   },
   "outputs": [],
   "source": [
    "#Inversa do elemento 01 do produto escalar\n",
    "p1r_books = matriz_inversa(mr_books)"
   ]
  },
  {
   "cell_type": "code",
   "execution_count": 57,
   "metadata": {
    "ExecuteTime": {
     "end_time": "2020-10-08T03:52:00.705219Z",
     "start_time": "2020-10-08T03:52:00.488451Z"
    }
   },
   "outputs": [],
   "source": [
    "#Cálculo do elemento 02 do produto escalar \n",
    "p2r_books = multiply_matrix_vector(XtW_books,Y_books)"
   ]
  },
  {
   "cell_type": "code",
   "execution_count": 58,
   "metadata": {
    "ExecuteTime": {
     "end_time": "2020-10-08T03:52:00.945140Z",
     "start_time": "2020-10-08T03:52:00.713160Z"
    }
   },
   "outputs": [],
   "source": [
    "#Cálculo do coeficiente bettha\n",
    "betthar_books = multiply_matrix_vector(p1r_books,p2r_books)"
   ]
  },
  {
   "cell_type": "code",
   "execution_count": 59,
   "metadata": {
    "ExecuteTime": {
     "end_time": "2020-10-08T03:52:01.165493Z",
     "start_time": "2020-10-08T03:52:00.953144Z"
    }
   },
   "outputs": [
    {
     "name": "stdout",
     "output_type": "stream",
     "text": [
      "Método Robusto - Books, attend and grade:\n",
      "Coeficiente β0 = -818.8498826007017\n",
      "Coeficiente β1 = 85.33311830852267\n",
      "Coeficiente β2 = 46.5306542633009\n"
     ]
    }
   ],
   "source": [
    "#Resposta - coeficientes método robusto dataset Books, attend and grade\n",
    "print('Método Robusto - Books, attend and grade:')\n",
    "\n",
    "print('Coeficiente β0 =', betthar_books[0])\n",
    "print('Coeficiente β1 =', betthar_books[1])\n",
    "print('Coeficiente β2 =', betthar_books[2])"
   ]
  },
  {
   "cell_type": "markdown",
   "metadata": {
    "ExecuteTime": {
     "end_time": "2020-10-07T02:22:23.348928Z",
     "start_time": "2020-10-07T02:22:23.333145Z"
    }
   },
   "source": [
    "#### US-Census"
   ]
  },
  {
   "cell_type": "markdown",
   "metadata": {
    "ExecuteTime": {
     "end_time": "2020-10-08T03:36:03.149201Z",
     "start_time": "2020-10-08T03:36:03.117215Z"
    }
   },
   "source": [
    "Variáveis relevantes:<br>\n",
    "- Xr_us - Input X para o método dos mínimos quadrados robustos; \n",
    "- Xrt_us-  Transposta da input Xr_us;\n",
    "- Y_us - Saída Y (igual para todos os métodos);\n",
    "<br>\n",
    "- W_us - Peso para $W= abs({1} / {(yobs-(β0+β1*X1)})$<br>\n",
    "*Obs: coeficientes obtidos através do método linear (betthal_us[0] e betthal_us[1])*\n",
    "- XtW_us - Cálculo do produto vetorial entre ${X^T} $x$ W$\n",
    "- mr_us - multiplicação $({X^T} $x$ W .X)$ para o método dos mínimos quadrados robustos;\n",
    "- p1r_us - $({X^T} $x$ W .X)^{-1}$ para o método dos mínimos quadrados robustos;\n",
    "- p2r_us - ${X^T} $x$ W .y$  para o método dos mínimos quadrados robustos;\n",
    "- betthar_us - Resposta do exercício, coeficientes robustos  β0 e β1."
   ]
  },
  {
   "cell_type": "code",
   "execution_count": 60,
   "metadata": {
    "ExecuteTime": {
     "end_time": "2020-10-08T03:52:01.376962Z",
     "start_time": "2020-10-08T03:52:01.173498Z"
    }
   },
   "outputs": [
    {
     "data": {
      "text/plain": [
       "[75.995,\n",
       " 91.972,\n",
       " 105.711,\n",
       " 123.203,\n",
       " 131.669,\n",
       " 150.697,\n",
       " 179.323,\n",
       " 203.212,\n",
       " 226.505,\n",
       " 249.633,\n",
       " 281.422]"
      ]
     },
     "execution_count": 60,
     "metadata": {},
     "output_type": "execute_result"
    }
   ],
   "source": [
    "#Entrada igual ao método linear\n",
    "Xr_us=Xl_us\n",
    "\n",
    "#Transposta da entrada\n",
    "Xrt_us= transposta(Xr_us)\n",
    "\n",
    "#Saída é a mesma para todos os métodos\n",
    "Y_us"
   ]
  },
  {
   "cell_type": "code",
   "execution_count": 61,
   "metadata": {
    "ExecuteTime": {
     "end_time": "2020-10-08T03:52:01.648928Z",
     "start_time": "2020-10-08T03:52:01.376962Z"
    }
   },
   "outputs": [
    {
     "data": {
      "text/plain": [
       "[0.08427859438705773,\n",
       " 0.13176303735552444,\n",
       " 0.9299258596420059,\n",
       " 0.5932349641516997,\n",
       " 0.07422417184320074,\n",
       " 0.06803773001340926,\n",
       " 0.15810890253462162,\n",
       " 0.37191563599440197,\n",
       " 2.847454118050622,\n",
       " 0.3099656783563451,\n",
       " 0.06774087268769137]"
      ]
     },
     "execution_count": 61,
     "metadata": {},
     "output_type": "execute_result"
    }
   ],
   "source": [
    "#Cálculo do coeficiente W\n",
    "W_us=[]\n",
    "for i in range(len(Y_us)):\n",
    "    w= (1/(Y_us[i]-(betthal_us[0]*Xr_us[i][0]+betthal_us[1]*Xr_us[i][1])))\n",
    "    if w<0: #módulo não pode ser negativo\n",
    "        w=-w \n",
    "    W_us.append(w)\n",
    "W_us"
   ]
  },
  {
   "cell_type": "code",
   "execution_count": 62,
   "metadata": {
    "ExecuteTime": {
     "end_time": "2020-10-08T03:52:01.824923Z",
     "start_time": "2020-10-08T03:52:01.656916Z"
    }
   },
   "outputs": [
    {
     "data": {
      "text/plain": [
       "[[0.08427859438705773,\n",
       "  0.13176303735552444,\n",
       "  0.9299258596420059,\n",
       "  0.5932349641516997,\n",
       "  0.07422417184320074,\n",
       "  0.06803773001340926,\n",
       "  0.15810890253462162,\n",
       "  0.37191563599440197,\n",
       "  2.847454118050622,\n",
       "  0.3099656783563451,\n",
       "  0.06774087268769137],\n",
       " [160.1293293354097,\n",
       "  251.6674013490517,\n",
       "  1785.4576505126513,\n",
       "  1144.9434808127805,\n",
       "  143.99489337580943,\n",
       "  132.67357352614806,\n",
       "  309.8934489678584,\n",
       "  732.6738029089719,\n",
       "  5637.959153740232,\n",
       "  616.8316999291267,\n",
       "  135.48174537538273]]"
      ]
     },
     "execution_count": 62,
     "metadata": {},
     "output_type": "execute_result"
    }
   ],
   "source": [
    "#Produto vetorial: X transposto x W\n",
    "Z=[]\n",
    "for i,j in zip(Xrt_us[0],W_us):\n",
    "    Z.append(i*j)\n",
    "\n",
    "for i,j in zip(Xrt_us[1],W_us):\n",
    "    Z.append(i*j)\n",
    "\n",
    "XtW_us  = [Z[:len(Z)//2],Z[len(Z)//2:]]\n",
    "XtW_us "
   ]
  },
  {
   "cell_type": "code",
   "execution_count": 63,
   "metadata": {
    "ExecuteTime": {
     "end_time": "2020-10-08T03:52:01.968897Z",
     "start_time": "2020-10-08T03:52:01.824923Z"
    }
   },
   "outputs": [],
   "source": [
    "mr_us  = multiply_matrix_matrix(XtW_us,Xr_us)"
   ]
  },
  {
   "cell_type": "code",
   "execution_count": 64,
   "metadata": {
    "ExecuteTime": {
     "end_time": "2020-10-08T03:52:02.048877Z",
     "start_time": "2020-10-08T03:52:01.968897Z"
    }
   },
   "outputs": [
    {
     "data": {
      "text/plain": [
       "[[904.2995026861969, -0.46112512543630385],\n",
       " [-0.46112512543630385, 0.00023518547230758305]]"
      ]
     },
     "execution_count": 64,
     "metadata": {},
     "output_type": "execute_result"
    }
   ],
   "source": [
    "p1r_us = matriz_inversa(mr_us)\n",
    "p1r_us"
   ]
  },
  {
   "cell_type": "code",
   "execution_count": 65,
   "metadata": {
    "ExecuteTime": {
     "end_time": "2020-10-08T03:52:02.196855Z",
     "start_time": "2020-10-08T03:52:02.048877Z"
    }
   },
   "outputs": [
    {
     "data": {
      "text/plain": [
       "[1055.2753979899692, 2077665.7025045797]"
      ]
     },
     "execution_count": 65,
     "metadata": {},
     "output_type": "execute_result"
    }
   ],
   "source": [
    "p2r_us = multiply_matrix_vector(XtW_us,Y_us)\n",
    "p2r_us"
   ]
  },
  {
   "cell_type": "code",
   "execution_count": 66,
   "metadata": {
    "ExecuteTime": {
     "end_time": "2020-10-08T03:52:02.297148Z",
     "start_time": "2020-10-08T03:52:02.196855Z"
    }
   },
   "outputs": [
    {
     "name": "stdout",
     "output_type": "stream",
     "text": [
      "Método Robusto - US-Census:\n",
      "Coeficiente β0 = -3778.840082823066\n",
      "Coeficiente β1  = 2.022789272835894\n"
     ]
    }
   ],
   "source": [
    "betthar_us = multiply_matrix_vector(p1r_us,p2r_us)\n",
    "\n",
    "#Resultado, coeficiente bettha robusto\n",
    "print('Método Robusto - US-Census:')\n",
    "print('Coeficiente β0 =', betthar_us[0])\n",
    "print('Coeficiente β1  =', betthar_us[1])"
   ]
  },
  {
   "cell_type": "markdown",
   "metadata": {},
   "source": [
    "## Summary: Results\n",
    "> Aprentação do resultado de β por datasets.\n",
    "Comparação dos resultados de cada método."
   ]
  },
  {
   "cell_type": "markdown",
   "metadata": {
    "ExecuteTime": {
     "end_time": "2020-10-08T03:54:38.575110Z",
     "start_time": "2020-10-08T03:54:38.563771Z"
    }
   },
   "source": [
    "#### Alps Water"
   ]
  },
  {
   "cell_type": "code",
   "execution_count": 79,
   "metadata": {
    "ExecuteTime": {
     "end_time": "2020-10-08T03:56:06.441674Z",
     "start_time": "2020-10-08T03:56:06.425675Z"
    }
   },
   "outputs": [
    {
     "name": "stdout",
     "output_type": "stream",
     "text": [
      "Método Linear - Alps Water:\n",
      "Coeficiente β0 = -81.06372712864686\n",
      "Coeficiente β1 = 0.522892400784599\n",
      "\n",
      "\n",
      "Método Quadrático - Alps Water:\n",
      "Intercept β0 = 38.82929486036301\n",
      "Linear Coeficiente β1 = -0.6547706308192573\n",
      "Quadratic Coeficiente β2 = 0.002889712064870764\n",
      "\n",
      "\n",
      "Método Robusto - Alps Water:\n",
      "Coeficiente β0 = -81.36733077487588\n",
      "Coeficiente β1 = 0.5243294760032597\n"
     ]
    }
   ],
   "source": [
    "#Resultado final\n",
    "print('Método Linear - Alps Water:')\n",
    "betthal_alps = multiply_matrix_vector(p1l_alps,p2l_alps)\n",
    "print('Coeficiente β0 =', betthal_alps[0])\n",
    "print('Coeficiente β1 =', betthal_alps[1])\n",
    "print('\\n')\n",
    "print('Método Quadrático - Alps Water:')\n",
    "betthaq_alps = multiply_matrix_vector(p1q_alps,p2q_alps)\n",
    "print('Intercept β0 =', betthaq_alps[0])\n",
    "print('Linear Coeficiente β1 =', betthaq_alps[1])\n",
    "print('Quadratic Coeficiente β2 =', betthaq_alps[2])\n",
    "print('\\n')\n",
    "print('Método Robusto - Alps Water:')\n",
    "print('Coeficiente β0 =', betthar_alps[0])\n",
    "print('Coeficiente β1 =', betthar_alps[1])"
   ]
  },
  {
   "cell_type": "markdown",
   "metadata": {},
   "source": [
    "#### Books, attend and grade "
   ]
  },
  {
   "cell_type": "code",
   "execution_count": 83,
   "metadata": {
    "ExecuteTime": {
     "end_time": "2020-10-08T03:59:37.206240Z",
     "start_time": "2020-10-08T03:59:37.182232Z"
    }
   },
   "outputs": [
    {
     "name": "stdout",
     "output_type": "stream",
     "text": [
      "Método Linear - Books, Attend and Grade:\n",
      "Coeficiente β0 = 37.379185204571286\n",
      "Coeficiente β1 = 4.036892611009321\n",
      "Coeficiente β2 = 1.2834772747099308\n",
      "\n",
      "\n",
      "Método Quadrático - Books, attend and grades:\n",
      "Coeficiente β0 = 66.52409983168764\n",
      "Coeficiente β1 = 6.161855083001456\n",
      "Coeficiente β2 = -3.4318843608712086\n",
      "Coeficiente β3 = -0.48861319886634647\n",
      "Coeficiente β4 = 0.1662748150648099\n",
      "\n",
      "\n",
      "Método Robusto - Books, attend and grade:\n",
      "Coeficiente β0 = -818.8498826007017\n",
      "Coeficiente β1 = 85.33311830852267\n",
      "Coeficiente β2 = 46.5306542633009\n"
     ]
    }
   ],
   "source": [
    "#Resultado final\n",
    "print('Método Linear - Books, Attend and Grade:')\n",
    "betthal_books = multiply_matrix_vector(p1l_books,p2l_books)\n",
    "print('Coeficiente β0 =', betthal_books[0])\n",
    "print('Coeficiente β1 =', betthal_books[1])\n",
    "print('Coeficiente β2 =', betthal_books[2])\n",
    "print('\\n')\n",
    "betthaq_books = multiply_matrix_vector(p1q_books,p2q_books)\n",
    "print('Método Quadrático - Books, attend and grades:')\n",
    "print('Coeficiente β0 =', betthaq_books[0])\n",
    "print('Coeficiente β1 =', betthaq_books[1])\n",
    "print('Coeficiente β2 =', betthaq_books[2])\n",
    "print('Coeficiente β3 =', betthaq_books[3])\n",
    "print('Coeficiente β4 =', betthaq_books[4])\n",
    "print('\\n')\n",
    "print('Método Robusto - Books, attend and grade:')\n",
    "\n",
    "print('Coeficiente β0 =', betthar_books[0])\n",
    "print('Coeficiente β1 =', betthar_books[1])\n",
    "print('Coeficiente β2 =', betthar_books[2])"
   ]
  },
  {
   "cell_type": "markdown",
   "metadata": {
    "ExecuteTime": {
     "end_time": "2020-10-08T04:01:28.870553Z",
     "start_time": "2020-10-08T04:01:28.862552Z"
    }
   },
   "source": [
    "#### US-Census"
   ]
  },
  {
   "cell_type": "code",
   "execution_count": 85,
   "metadata": {
    "ExecuteTime": {
     "end_time": "2020-10-08T04:02:53.168772Z",
     "start_time": "2020-10-08T04:02:53.158782Z"
    }
   },
   "outputs": [
    {
     "name": "stdout",
     "output_type": "stream",
     "text": [
      "Método Linear - US-Census:\n",
      "Coeficiente β0 = -3783.9455909089884\n",
      "Coeficiente β1 = 2.025302727272731\n",
      "\n",
      "\n",
      "Método Quadrático - US-Census:\n",
      "Coeficiente β0 = 32294.01736307144\n",
      "Coeficiente β1 = -34.98747000005096\n",
      "Coeficiente β2 = 0.009490454545471039\n",
      "\n",
      "\n",
      "Método Robusto - US-Census:\n",
      "Coeficiente β0 = -3778.840082823066\n",
      "Coeficiente β1  = 2.022789272835894\n"
     ]
    }
   ],
   "source": [
    "#Resultado final\n",
    "print('Método Linear - US-Census:')\n",
    "betthal_us = multiply_matrix_vector(p1l_us,p2l_us)\n",
    "print('Coeficiente β0 =', betthal_us[0])\n",
    "print('Coeficiente β1 =', betthal_us[1])\n",
    "print('\\n')\n",
    "\n",
    "print('Método Quadrático - US-Census:')\n",
    "print('Coeficiente β0 =', betthaq_us[0])\n",
    "print('Coeficiente β1 =', betthaq_us[1])\n",
    "print('Coeficiente β2 =', betthaq_us[2])\n",
    "\n",
    "print('\\n')\n",
    "print('Método Robusto - US-Census:')\n",
    "print('Coeficiente β0 =', betthar_us[0])\n",
    "print('Coeficiente β1  =', betthar_us[1])"
   ]
  }
 ],
 "metadata": {
  "hide_input": false,
  "kernelspec": {
   "display_name": "Python 3",
   "language": "python",
   "name": "python3"
  },
  "language_info": {
   "codemirror_mode": {
    "name": "ipython",
    "version": 3
   },
   "file_extension": ".py",
   "mimetype": "text/x-python",
   "name": "python",
   "nbconvert_exporter": "python",
   "pygments_lexer": "ipython3",
   "version": "3.8.3"
  },
  "toc": {
   "base_numbering": 1,
   "nav_menu": {},
   "number_sections": true,
   "sideBar": true,
   "skip_h1_title": false,
   "title_cell": "Table of Contents",
   "title_sidebar": "Contents",
   "toc_cell": false,
   "toc_position": {
    "height": "calc(100% - 180px)",
    "left": "10px",
    "top": "150px",
    "width": "306.188px"
   },
   "toc_section_display": true,
   "toc_window_display": true
  },
  "varInspector": {
   "cols": {
    "lenName": 16,
    "lenType": 16,
    "lenVar": 40
   },
   "kernels_config": {
    "python": {
     "delete_cmd_postfix": "",
     "delete_cmd_prefix": "del ",
     "library": "var_list.py",
     "varRefreshCmd": "print(var_dic_list())"
    },
    "r": {
     "delete_cmd_postfix": ") ",
     "delete_cmd_prefix": "rm(",
     "library": "var_list.r",
     "varRefreshCmd": "cat(var_dic_list()) "
    }
   },
   "types_to_exclude": [
    "module",
    "function",
    "builtin_function_or_method",
    "instance",
    "_Feature"
   ],
   "window_display": false
  }
 },
 "nbformat": 4,
 "nbformat_minor": 4
}
