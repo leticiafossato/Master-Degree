{
 "cells": [
  {
   "cell_type": "markdown",
   "metadata": {
    "ExecuteTime": {
     "end_time": "2020-10-05T02:31:35.547700Z",
     "start_time": "2020-10-05T02:31:35.529711Z"
    }
   },
   "source": [
    "# Implementação do Método dos Míninos quadrados"
   ]
  },
  {
   "cell_type": "markdown",
   "metadata": {
    "ExecuteTime": {
     "end_time": "2020-10-06T13:43:22.814994Z",
     "start_time": "2020-10-06T13:43:22.791014Z"
    }
   },
   "source": [
    "Instruções: \n",
    "Implemente o Método dos Míninos quadrados em Python:\n",
    "- Básico - Linear\n",
    "- Quadrático.\n",
    "- Robusto (com peso).<br>\n",
    "<br>\n",
    "Teste o funcionamento usando:\n",
    "- “Alps Water”\n",
    "- “Books x Grades”\n",
    "- “US Census Dataset”\n",
    "\n",
    "Não é permitido usar bibliotecas prontas. Proibidas: Sklearn, NumPy, SciPy."
   ]
  },
  {
   "cell_type": "markdown",
   "metadata": {},
   "source": [
    "## Básico - Linear"
   ]
  },
  {
   "cell_type": "markdown",
   "metadata": {
    "ExecuteTime": {
     "end_time": "2020-10-06T13:27:01.283297Z",
     "start_time": "2020-10-06T13:27:01.258178Z"
    }
   },
   "source": [
    "$ β = (X^t.X)^{-1}.X^T.y $"
   ]
  },
  {
   "cell_type": "markdown",
   "metadata": {},
   "source": [
    "### Definição das funções"
   ]
  },
  {
   "cell_type": "code",
   "execution_count": 76,
   "metadata": {
    "ExecuteTime": {
     "end_time": "2020-10-08T04:07:26.563911Z",
     "start_time": "2020-10-08T04:07:26.540920Z"
    },
    "code_folding": []
   },
   "outputs": [],
   "source": [
    "#Função para calcular a matriz transposta:\n",
    "\n",
    "def transposta(X):\n",
    "    \"\"\"Retorna a transposta da matriz de entrada\"\"\"\n",
    "    return [[X[j][i] for j in range(len(X))] for i in range(len(X[0]))] "
   ]
  },
  {
   "cell_type": "code",
   "execution_count": 77,
   "metadata": {
    "ExecuteTime": {
     "end_time": "2020-10-08T04:07:26.969673Z",
     "start_time": "2020-10-08T04:07:26.755796Z"
    }
   },
   "outputs": [],
   "source": [
    "#Multiplicação de duas matrizes:\n",
    "\n",
    "def multiply_matrix_matrix(mult1,mult2):\n",
    "    \"\"\"Retorna o produto escalar de duas matrizes\"\"\"\n",
    "    x = []\n",
    "    for i in range(0,len(mult1)):\n",
    "        y=[]\n",
    "        for j in range(0,len(mult2[0])):\n",
    "            total = 0\n",
    "            for k in range(0,len(mult1[0])):\n",
    "                total = total + mult1[i][k]*mult2[k][j]\n",
    "            y.append(total)\n",
    "        x.append(y)\n",
    "\n",
    "    return x"
   ]
  },
  {
   "cell_type": "code",
   "execution_count": 78,
   "metadata": {
    "ExecuteTime": {
     "end_time": "2020-10-08T04:07:27.340244Z",
     "start_time": "2020-10-08T04:07:26.972671Z"
    }
   },
   "outputs": [],
   "source": [
    "#Multiplicação da matriz transposta por um vetor:\n",
    "\n",
    "def multiply_matrix_vector(mult1,mult2):\n",
    "    \"\"\"Retorna o produto escalar de uma matriz com um vetor\"\"\"\n",
    "    x=[]\n",
    "    total = 0\n",
    "    for i in range(len(mult1)):\n",
    "        total=0\n",
    "        for j in range(len(mult2)):\n",
    "            total = total + mult1[i][j] * mult2[j]\n",
    "        x.append(total)\n",
    "    return x"
   ]
  },
  {
   "cell_type": "code",
   "execution_count": 79,
   "metadata": {
    "ExecuteTime": {
     "end_time": "2020-10-08T04:07:27.512667Z",
     "start_time": "2020-10-08T04:07:27.344184Z"
    }
   },
   "outputs": [],
   "source": [
    "#Cálculo da inversa:\n",
    "\n",
    "def Determinante(matriz):\n",
    "    \"\"\"Cálculo do determinante da matriz inserida\"\"\"\n",
    "    #Determinante da matriz 2x2\n",
    "    if len(matriz) == 2:\n",
    "        return (matriz[0][0]*matriz[1][1])-(matriz[0][1]*matriz[1][0])\n",
    "\n",
    "    determinant = 0\n",
    "    for c in range(len(matriz)):\n",
    "        determinant = determinant + ((-1)**c)*matriz[0][c]*Determinante([row[:c] + row[c+1:] for \n",
    "                                                                         row in (matriz[:0]+matriz[0+1:])])\n",
    "    return determinant\n",
    "\n",
    "def matriz_inversa(m):\n",
    "    \"\"\"Cálculo da matriz inversa através do método dos cofatores.\"\"\"\n",
    "    determinant = Determinante(m)\n",
    "    \n",
    "    #Fórmula para cáculo da matriz 2x2:\n",
    "    if len(m) == 2:\n",
    "        a = m[0][0]\n",
    "        b = m[0][1]\n",
    "        c = m[1][0]\n",
    "        d = m[1][1]\n",
    "\n",
    "        inverse= [d, -b, -c, a]\n",
    "        calc_inverse=[]\n",
    "        for i in inverse:\n",
    "            x = (1/(a*d-b*c)) * i\n",
    "            calc_inverse.append(x)\n",
    "        col = 2 \n",
    "        inverse_matrix = [calc_inverse[i:i+col] for i in range(0, len(calc_inverse), col)]\n",
    "        return inverse_matrix\n",
    "    \n",
    "    else:\n",
    "    #Para os demais tamanho, matriz de cofatores:\n",
    "        cofactors = []\n",
    "        for r in range(len(m)):\n",
    "            cofactorRow = []\n",
    "            for c in range(len(m)):\n",
    "                minor = [row[:c] + row[c+1:] for row in (m[:r]+m[r+1:])]\n",
    "                cofactorRow.append(((-1)**(r+c)) * Determinante(minor))\n",
    "            cofactors.append(cofactorRow)\n",
    "        cofactors = transposta(cofactors)\n",
    "        for r in range(len(cofactors)):\n",
    "            for c in range(len(cofactors)):\n",
    "                cofactors[r][c] = cofactors[r][c]/determinant\n",
    "        return cofactors\n",
    "\n",
    "#Obs: Para construir a matriz de cofatores, consultei o site: \n",
    "#https://stackoverflow.com/questions/32114054/matrix-inversion-without-numpy"
   ]
  },
  {
   "cell_type": "markdown",
   "metadata": {},
   "source": [
    "### Testando nos Datasets:"
   ]
  },
  {
   "cell_type": "code",
   "execution_count": 80,
   "metadata": {
    "ExecuteTime": {
     "end_time": "2020-10-08T04:07:27.779493Z",
     "start_time": "2020-10-08T04:07:27.766500Z"
    }
   },
   "outputs": [],
   "source": [
    "#Biblioteca Pandas - para carregar os arquivos txt disponibilizados no Moodle\n",
    "import pandas as pd"
   ]
  },
  {
   "cell_type": "markdown",
   "metadata": {},
   "source": [
    "#### Alps Water"
   ]
  },
  {
   "cell_type": "markdown",
   "metadata": {},
   "source": [
    "- **Input:** Boiling\n",
    "- **Output:** Pressure\n",
    "\n",
    "Variáveis relevantes:\n",
    "\n",
    "Xl_alps - Input X para o método dos mínimos quadrados linear;<br>\n",
    "Y_alps - Saída Y (igual para todos os métodos);<br>\n",
    "Xlt_alps - Transposta da input Xl_alps;<br>\n",
    "ml_alps - multiplicação  $(Xt.X)$  para o método dos mínimos quadrados linear;<br>\n",
    "p1l_alps -  $(Xt.X)^{−1}$  para o método dos mínimos quadrados linear;<br>\n",
    "p2l_alps -  $(Xt.y)$  para o método dos mínimos quadrados linear;<br>\n",
    "betthal_alps - Resposta do exercício, coeficientes β0 e β1."
   ]
  },
  {
   "cell_type": "code",
   "execution_count": 97,
   "metadata": {
    "ExecuteTime": {
     "end_time": "2020-10-08T04:09:22.776753Z",
     "start_time": "2020-10-08T04:09:22.750766Z"
    }
   },
   "outputs": [
    {
     "name": "stdout",
     "output_type": "stream",
     "text": [
      "Método Linear - Alps Water:\n",
      "Coeficiente β0 = -81.06372712864686\n",
      "Coeficiente β1 = 0.522892400784599\n"
     ]
    }
   ],
   "source": [
    "#Importando o dataset\n",
    "alps_water = pd.read_csv('DataSets/alpswater1.txt',sep='\\t',header=None)\n",
    "alps_water.columns= ['Row','Pressure','Boiling']\n",
    "alps_water.drop(columns='Row', inplace=True)\n",
    "alps_water.head()\n",
    "\n",
    "# Defining input\n",
    "x_input = [i for i in alps_water['Boiling']]\n",
    "Xl_alps = [[1,i] for i in x_input]\n",
    "\n",
    "#Definindo a saída\n",
    "Y_alps = alps_water['Pressure']\n",
    "\n",
    "#Traposta da matriz de entrada\n",
    "Xlt_alps = transposta(Xl_alps)\n",
    "Xlt_alps\n",
    "\n",
    "#Produto escalar entre os elementos de duas matrizes\n",
    "ml_alps = multiply_matrix_matrix(Xlt_alps,Xl_alps)\n",
    "ml_alps\n",
    "\n",
    "#Matriz inversa do produto escalar\n",
    "p1l_alps = matriz_inversa(ml_alps)\n",
    "p1l_alps\n",
    "\n",
    "#Produto escalar da matriz X transposta pelo vetor y\n",
    "p2l_alps= multiply_matrix_vector(Xlt_alps,Y_alps)\n",
    "p2l_alps\n",
    "\n",
    "#Resultado final\n",
    "print('Método Linear - Alps Water:')\n",
    "betthal_alps = multiply_matrix_vector(p1l_alps,p2l_alps)\n",
    "print('Coeficiente β0 =', betthal_alps[0])\n",
    "print('Coeficiente β1 =', betthal_alps[1])"
   ]
  },
  {
   "cell_type": "markdown",
   "metadata": {},
   "source": [
    "#### Books, attend and grade "
   ]
  },
  {
   "cell_type": "markdown",
   "metadata": {},
   "source": [
    "- **Inputs:** Books and Attend\n",
    "- **Output:** Grade\n",
    "\n",
    "Variáveis relevantes:\n",
    "\n",
    "Xl_books - Input X para o método dos mínimos quadrados linear;<br>\n",
    "Y_books - Saída Y (igual para todos os métodos);<br>\n",
    "Xlt_books - Transposta da input Xl_books;<br>\n",
    "ml_books - multiplicação  $(Xt.X)$  para o método dos mínimos quadrados linear;<br>\n",
    "p1l_books -  $(Xt.X)^{−1}$  para o método dos mínimos quadrados linear;<br>\n",
    "p2l_books-  $(Xt.y)$  para o método dos mínimos quadrados linear;<br>\n",
    "betthal_books - Resposta do exercício, coeficientes β0, β1 e β2.<br>"
   ]
  },
  {
   "cell_type": "code",
   "execution_count": 98,
   "metadata": {
    "ExecuteTime": {
     "end_time": "2020-10-08T04:10:29.937990Z",
     "start_time": "2020-10-08T04:10:29.893009Z"
    }
   },
   "outputs": [
    {
     "name": "stdout",
     "output_type": "stream",
     "text": [
      "Método Linear - Books, Attend and Grade:\n",
      "Coeficiente β0 = 37.379185204571286\n",
      "Coeficiente β1 = 4.036892611009321\n",
      "Coeficiente β2 = 1.2834772747099308\n"
     ]
    }
   ],
   "source": [
    "#Importando o dataset\n",
    "books_attend_grade = pd.read_csv('DataSets/Books_attend_grade.txt',sep='\\t',header=None)\n",
    "books_attend_grade.columns=['Books', 'Attend', 'Grade']\n",
    "books_attend_grade.head()\n",
    "\n",
    "#Cálculo da matriz X\n",
    "x_input = [i for i in books_attend_grade['Books']]\n",
    "Xl_books=[[1,i,j] for i, j in zip(x_input, books_attend_grade['Attend'])]\n",
    "Xl_books\n",
    "\n",
    "#Cálculo da matriz Y\n",
    "Y_books = [i for i in books_attend_grade['Grade']]\n",
    "Y_books\n",
    "\n",
    "#Cálculo da matrix X transposta\n",
    "Xlt_books = transposta(Xl_books)\n",
    "Xlt_books\n",
    "\n",
    "#Produto escalar da X transposta pela entrada X\n",
    "ml_books = multiply_matrix_matrix(Xlt_books,Xl_books)\n",
    "ml_books \n",
    "\n",
    "#Cálculo da inversa da matrix 3x3 (Inversa da Multiplicação de X transposta por X)\n",
    "p1l_books = matriz_inversa(ml_books)\n",
    "p1l_books\n",
    "\n",
    "#Multiplicação da matriz X transposta pelo vetor y\n",
    "p2l_books = multiply_matrix_vector(Xlt_books,Y_books)\n",
    "p2l_books\n",
    "\n",
    "#Resultado final\n",
    "print('Método Linear - Books, Attend and Grade:')\n",
    "betthal_books = multiply_matrix_vector(p1l_books,p2l_books)\n",
    "print('Coeficiente β0 =', betthal_books[0])\n",
    "print('Coeficiente β1 =', betthal_books[1])\n",
    "print('Coeficiente β2 =', betthal_books[2])"
   ]
  },
  {
   "cell_type": "markdown",
   "metadata": {
    "ExecuteTime": {
     "end_time": "2020-10-07T01:38:37.533130Z",
     "start_time": "2020-10-07T01:38:37.525136Z"
    }
   },
   "source": [
    "#### US-Census"
   ]
  },
  {
   "cell_type": "markdown",
   "metadata": {
    "ExecuteTime": {
     "end_time": "2020-10-07T01:39:56.277160Z",
     "start_time": "2020-10-07T01:39:56.247142Z"
    }
   },
   "source": [
    "- **Input:** x\n",
    "- **Output:** y\n",
    "\n",
    "\n",
    "Variáveis relevantes:\n",
    "\n",
    "Xl_us - Input X para o método dos mínimos quadrados linear;<br>\n",
    "Y_us - Saída Y (igual para todos os métodos);<br>\n",
    "Xlt_us - Transposta da input Xl_us;<br>\n",
    "ml_us - multiplicação  $(Xt.X)$  para o método dos mínimos quadrados linear;<br>\n",
    "p1l_us -  $(Xt.X)^{−1}$  para o método dos mínimos quadrados linear;<br>\n",
    "p2l_us-  $(Xt.y)$  para o método dos mínimos quadrados linear;<br>\n",
    "betthal_us - Resposta do exercício, coeficientes β0 e β1.<br>"
   ]
  },
  {
   "cell_type": "code",
   "execution_count": 96,
   "metadata": {
    "ExecuteTime": {
     "end_time": "2020-10-08T04:07:30.552798Z",
     "start_time": "2020-10-08T04:07:30.524816Z"
    }
   },
   "outputs": [
    {
     "name": "stdout",
     "output_type": "stream",
     "text": [
      "Método Linear - US-Census:\n",
      "Coeficiente β0 = -3783.9455909089884\n",
      "Coeficiente β1 = 2.025302727272731\n"
     ]
    }
   ],
   "source": [
    "us_census = pd.read_csv('DataSets/US-Census.txt', sep='\\t', header=None)\n",
    "us_census.columns = ['x','y'] #atribuição de nomes às colunas\n",
    "us_census \n",
    "\n",
    "#Definindo a matriz de entrada (X)\n",
    "x_input = [i for i in us_census['x']]\n",
    "Xl_us = [[1,i] for i in x_input]\n",
    "Xl_us \n",
    "\n",
    "#Definindo a matriz de saída(y)\n",
    "Y_us = [i for i in us_census['y']]\n",
    "Y_us\n",
    "\n",
    "#Cálculo da matriz X transposta\n",
    "Xlt_us = transposta(Xl_us)\n",
    "Xlt_us\n",
    "\n",
    "#Multiplicação de X transposta pela entrada X\n",
    "ml_us = multiply_matrix_matrix(Xlt_us,Xl_us)\n",
    "ml_us\n",
    "\n",
    "#Cálculo da inversa da matrix 2x2 (Inversa da Multiplicação de X transposta por X)\n",
    "p1l_us = matriz_inversa(ml_us)\n",
    "p1l_us\n",
    "\n",
    "#Multiplicação da matriz X transposta pelo vetor y\n",
    "p2l_us = multiply_matrix_vector(Xlt_us,Y_us)\n",
    "p2l_us \n",
    "\n",
    "#Resultado final\n",
    "print('Método Linear - US-Census:')\n",
    "betthal_us = multiply_matrix_vector(p1l_us,p2l_us)\n",
    "print('Coeficiente β0 =', betthal_us[0])\n",
    "print('Coeficiente β1 =', betthal_us[1])"
   ]
  },
  {
   "cell_type": "markdown",
   "metadata": {},
   "source": [
    "## Quadrático"
   ]
  },
  {
   "cell_type": "markdown",
   "metadata": {
    "ExecuteTime": {
     "end_time": "2020-10-06T23:45:24.418711Z",
     "start_time": "2020-10-06T23:45:24.402713Z"
    }
   },
   "source": [
    "X = [1 x ${x^2}$] <br>\n",
    "$ β = (X^t.X)^{-1}.X^T.y $"
   ]
  },
  {
   "cell_type": "markdown",
   "metadata": {},
   "source": [
    "### Testando nos Datasets:"
   ]
  },
  {
   "cell_type": "markdown",
   "metadata": {
    "ExecuteTime": {
     "end_time": "2020-10-07T01:11:36.020344Z",
     "start_time": "2020-10-07T01:11:36.003355Z"
    }
   },
   "source": [
    "#### Alps Water\n",
    "Variáveis relevantes:<br>\n",
    "- Xq_alps  - Input X para o método dos mínimos quadrados quadrático; \n",
    "- Y_alps - Saída Y (igual para todos os métodos);\n",
    "<br>\n",
    "- Xqt_alps -  Transposta da input Xq_alps;\n",
    "- mq_alps - multiplicação $(X^t.X)$ para o método dos mínimos quadrados quadrático;\n",
    "- p1q_alps - $(X^t.X)^{-1}$ para o método dos mínimos quadrados quadrático;\n",
    "- p2q_alps - $(X^t.y)$  para o método dos mínimos quadrados quadrático;\n",
    "- betthaq_alps - Resposta do exercício, coeficientes  β0, β1 e  β2."
   ]
  },
  {
   "cell_type": "code",
   "execution_count": 99,
   "metadata": {
    "ExecuteTime": {
     "end_time": "2020-10-08T04:11:14.611041Z",
     "start_time": "2020-10-08T04:11:14.523071Z"
    }
   },
   "outputs": [
    {
     "name": "stdout",
     "output_type": "stream",
     "text": [
      "Método Quadrático - Alps Water:\n",
      "Intercept β0 = 38.82929486036301\n",
      "Linear Coeficiente β1 = -0.6547706308192573\n",
      "Quadratic Coeficiente β2 = 0.002889712064870764\n"
     ]
    }
   ],
   "source": [
    "#Dataset já foi importado anteriormente \n",
    "alps_water\n",
    "\n",
    "#Definição da matriz X, incluindo x^2\n",
    "x_input= [i for i in alps_water['Boiling']]\n",
    "Xq_alps = [[1,i,i**2] for i in x_input]\n",
    "Xq_alps\n",
    "\n",
    "#Definição do output\n",
    "Y_alps = [i for i in alps_water['Pressure']]\n",
    "Y_alps \n",
    "\n",
    "#Cálculo da transposta de X\n",
    "Xqt_alps = transposta(Xq_alps)\n",
    "Xqt_alps\n",
    "\n",
    "#Transposta de X escalar X\n",
    "mq_alps = multiply_matrix_matrix(Xqt_alps,Xq_alps)\n",
    "mq_alps\n",
    "\n",
    "#Matriz inversa da (transposta de X escalar X)\n",
    "p1q_alps = matriz_inversa(mq_alps)\n",
    "p1q_alps\n",
    "\n",
    "#Multiplicação da matriz X transposta pelo vetor y\n",
    "p2q_alps = multiply_matrix_vector(Xqt_alps,Y_alps)\n",
    "p2q_alps\n",
    "\n",
    "#Resultado final\n",
    "print('Método Quadrático - Alps Water:')\n",
    "betthaq_alps = multiply_matrix_vector(p1q_alps,p2q_alps)\n",
    "print('Intercept β0 =', betthaq_alps[0])\n",
    "print('Linear Coeficiente β1 =', betthaq_alps[1])\n",
    "print('Quadratic Coeficiente β2 =', betthaq_alps[2])"
   ]
  },
  {
   "cell_type": "markdown",
   "metadata": {},
   "source": [
    "#### Books, attend and grade\n",
    "Variáveis relevantes:\n",
    "<br>\n",
    "- Xq_books - Input X para o método dos mínimos quadrados quadrático;<br>\n",
    "- Y_books - Saída Y (igual para todos os métodos);\n",
    "- Xqt_books - Transposta da input Xq_books;<br>\n",
    "- mq_books - multiplicação $(Xt.X)$  para o método dos mínimos quadrados quadrático;<br>\n",
    "- p1q_books - $(Xt.X)^{-1}$  para o método dos mínimos quadrados quadrático;<br>\n",
    "- p2q_books -  $(Xt.y)$  para o método dos mínimos quadrados quadrático;<br>\n",
    "- betthaq_books- Resposta do exercício, coeficientes β0, β1, β2, β3 e β4.<br>"
   ]
  },
  {
   "cell_type": "code",
   "execution_count": 100,
   "metadata": {
    "ExecuteTime": {
     "end_time": "2020-10-08T04:11:56.317105Z",
     "start_time": "2020-10-08T04:11:56.217163Z"
    }
   },
   "outputs": [
    {
     "name": "stdout",
     "output_type": "stream",
     "text": [
      "Método Quadrático - Books, attend and grades:\n",
      "Coeficiente β0 = 66.52409983168764\n",
      "Coeficiente β1 = 6.161855083001456\n",
      "Coeficiente β2 = -3.4318843608712086\n",
      "Coeficiente β3 = -0.48861319886634647\n",
      "Coeficiente β4 = 0.1662748150648099\n"
     ]
    }
   ],
   "source": [
    "#Dataset already imported\n",
    "books_attend_grade\n",
    "\n",
    "#Definição da matriz X, incluindo x^2\n",
    "x_input = [i for i in books_attend_grade['Books']]\n",
    "Xq_books = [[1,i,j,i**2,j**2] for i, j in zip(x_input, books_attend_grade['Attend'])]\n",
    "Xq_books\n",
    "\n",
    "#Cálculo da matriz Y\n",
    "Y_books = [i for i in books_attend_grade['Grade']]\n",
    "Y_books\n",
    "\n",
    "#Cálculo da matrix X transposta\n",
    "Xqt_books = transposta(Xq_books)\n",
    "Xqt_books\n",
    "\n",
    "#Multiplicação de X transposta pela entrada X\n",
    "mq_books = multiply_matrix_matrix(Xqt_books,Xq_books)\n",
    "mq_books\n",
    "\n",
    "#Cálculo da inversa da matrix 3x3 (Inversa da Multiplicação de X transposta por X)\n",
    "p1q_books = matriz_inversa(mq_books)\n",
    "p1q_books\n",
    "\n",
    "#Multiplicação da matriz X transposta pelo vetor y\n",
    "p2q_books = multiply_matrix_vector(Xqt_books,Y_books)\n",
    "p2q_books\n",
    "\n",
    "#Resultado final\n",
    "betthaq_books = multiply_matrix_vector(p1q_books,p2q_books)\n",
    "print('Método Quadrático - Books, attend and grades:')\n",
    "print('Coeficiente β0 =', betthaq_books[0])\n",
    "print('Coeficiente β1 =', betthaq_books[1])\n",
    "print('Coeficiente β2 =', betthaq_books[2])\n",
    "print('Coeficiente β3 =', betthaq_books[3])\n",
    "print('Coeficiente β4 =', betthaq_books[4])"
   ]
  },
  {
   "cell_type": "markdown",
   "metadata": {},
   "source": [
    "#### US-Census\n",
    "\n",
    "Variáveis relevantes:<br>\n",
    "- Xq_us  - Input X para o método dos mínimos quadrados quadrático; <br>\n",
    "- Y_us - Saída Y (igual para todos os métodos);\n",
    "- Xqt_us -  Transposta da input Xq_us;\n",
    "- mq_us - multiplicação $(X^t.X)$ para o método dos mínimos quadrados quadrático;\n",
    "- p1q_us - $(X^t.X)^{-1}$ para o método dos mínimos quadrados quadrático;\n",
    "- p2q_us - $(X^t.y)$  para o método dos mínimos quadrados quadrático;\n",
    "- betthaq_us - Resposta do exercício, coeficientes  β0, β1 e  β2."
   ]
  },
  {
   "cell_type": "code",
   "execution_count": 101,
   "metadata": {
    "ExecuteTime": {
     "end_time": "2020-10-08T04:12:38.034358Z",
     "start_time": "2020-10-08T04:12:37.958403Z"
    }
   },
   "outputs": [
    {
     "name": "stdout",
     "output_type": "stream",
     "text": [
      "Método Quadrático - US-Census:\n",
      "Coeficiente β0 = 32294.01736307144\n",
      "Coeficiente β1 = -34.98747000005096\n",
      "Coeficiente β2 = 0.009490454545471039\n"
     ]
    }
   ],
   "source": [
    "#Dataset already imported\n",
    "us_census \n",
    "#Definição da matriz de entrada (X), incluindo x^2\n",
    "x_input = [i for i in us_census['x']]\n",
    "Xq_us = [[1,i,i**2] for i in x_input]\n",
    "Xq_us\n",
    "\n",
    "#Definindo a matrix de saída(y)\n",
    "Y_us = [i for i in us_census['y']]\n",
    "Y_us\n",
    "\n",
    "#Cálculo da matrix X transposta\n",
    "Xqt_us = transposta(Xq_us)\n",
    "Xqt_us\n",
    "\n",
    "#Multiplicação de X transposta pela entrada X\n",
    "mq_us= multiply_matrix_matrix(Xqt_us,Xq_us)\n",
    "mq_us\n",
    "\n",
    "#Cálculo da inversa da matrix 2x2 (Inversa da Multiplicação de X transposta por X)\n",
    "p1q_us = matriz_inversa(mq_us)\n",
    "p1q_us\n",
    "\n",
    "#Multiplicação da matriz X transposta pelo vetor y\n",
    "p2q_us = multiply_matrix_vector(Xqt_us,Y_us)\n",
    "p2q_us\n",
    "\n",
    "#Resultado final\n",
    "betthaq_us = multiply_matrix_vector(p1q_us,p2q_us)\n",
    "print('Método Quadrático - US-Census:')\n",
    "print('Coeficiente β0 =', betthaq_us[0])\n",
    "print('Coeficiente β1 =', betthaq_us[1])\n",
    "print('Coeficiente β2 =', betthaq_us[2])"
   ]
  },
  {
   "cell_type": "markdown",
   "metadata": {},
   "source": [
    "## Robusto (com peso)"
   ]
  },
  {
   "cell_type": "markdown",
   "metadata": {
    "ExecuteTime": {
     "end_time": "2020-10-07T02:13:44.980801Z",
     "start_time": "2020-10-07T02:13:44.968811Z"
    }
   },
   "source": [
    "- $ β = ({X^T} $x$ W .X)^{-1}.{X^T} $x$ W .y $<br>\n",
    "<br>Critério adotado para cálculo do peso:\n",
    "- $ W= abs({1} / {(yobs-ypred)})$"
   ]
  },
  {
   "cell_type": "markdown",
   "metadata": {},
   "source": [
    "#### Alps Water"
   ]
  },
  {
   "cell_type": "markdown",
   "metadata": {
    "ExecuteTime": {
     "end_time": "2020-10-08T02:33:31.171760Z",
     "start_time": "2020-10-08T02:33:31.151771Z"
    }
   },
   "source": [
    "Variáveis relevantes:<br>\n",
    "- Xr_alps  - Input X para o método dos mínimos quadrados robustos; \n",
    "- Xrt_alps -  Transposta da input Xr_alps;\n",
    "- Y_alps - Saída Y (igual para todos os métodos);\n",
    "<br>\n",
    "- W_alps - Peso para $W= abs({1} / {(yobs-(β0+β1*X1)})$<br>\n",
    "*Obs: coeficientes obtidos através do método linear (betthal_alps[0] e betthal_alps[1])*\n",
    "- XtW_alps - Cálculo do produto vetorial entre ${X^T} $x$ W$\n",
    "- mr_alps - multiplicação $({X^T} $x$ W .X)$ para o método dos mínimos quadrados robustos;\n",
    "- p1r_alps - $({X^T} $x$ W .X)$ para o método dos mínimos quadrados robustos;\n",
    "- p2r_alps - ${X^T} $x$ W .y$  para o método dos mínimos quadrados robustos;\n",
    "- betthar_alps - Resposta do exercício, coeficientes robustos  β0 e β1."
   ]
  },
  {
   "cell_type": "code",
   "execution_count": 102,
   "metadata": {
    "ExecuteTime": {
     "end_time": "2020-10-08T04:14:04.213358Z",
     "start_time": "2020-10-08T04:14:04.144864Z"
    }
   },
   "outputs": [
    {
     "name": "stdout",
     "output_type": "stream",
     "text": [
      "Método Robusto - Alps Water:\n",
      "Coeficiente β0 = -81.36733077487588\n",
      "Coeficiente β1 = 0.5243294760032597\n"
     ]
    }
   ],
   "source": [
    "#Dataset já importado anteriormente\n",
    "alps_water\n",
    "\n",
    "#A entrada para o método dos mínimos quadrados robustos é igual à entrada do método linear\n",
    "Xr_alps = Xl_alps\n",
    "\n",
    "#Transposta da entrada\n",
    "Xrt_alps = transposta(Xr_alps)\n",
    "\n",
    "#A saída do dataset é a mesma\n",
    "Y_alps\n",
    "\n",
    "#Cálculo do peso W\n",
    "W_alps=[]\n",
    "for i in range(len(Y_alps)):\n",
    "    w=1/(Y_alps[i]-(betthal_alps[0]*Xr_alps[i][0]+betthal_alps[1]*Xr_alps[i][1]))\n",
    "    if w<0:\n",
    "        w=-w\n",
    "    W_alps.append(w)\n",
    "\n",
    "#Produto vetorial da X transposta com W_alps\n",
    "Z=[]\n",
    "for i,j in zip(Xrt_alps[0],W_alps):\n",
    "    Z.append(i*j)\n",
    "\n",
    "for i,j in zip(Xrt_alps[1],W_alps):\n",
    "    Z.append(i*j)\n",
    "\n",
    "XtW_alps = [Z[:len(Z)//2],Z[len(Z)//2:]]\n",
    "\n",
    "#(X transposta vetorial W_alps) escalar com a entrada X\n",
    "mr_alps = multiply_matrix_matrix(XtW_alps,Xr_alps)\n",
    "\n",
    "#Inversa de do resultado anterior\n",
    "p1r_alps = matriz_inversa(mr_alps)\n",
    "\n",
    "#Cálculo do segundo elemento do produto escalar total\n",
    "p2r_alps = multiply_matrix_vector(XtW_alps,Y_alps)\n",
    "\n",
    "# Cálculo do Bettha através do método robusto\n",
    "betthar_alps = multiply_matrix_vector(p1r_alps,p2r_alps)\n",
    "\n",
    "#Respostas\n",
    "\n",
    "print('Método Robusto - Alps Water:')\n",
    "\n",
    "print('Coeficiente β0 =', betthar_alps[0])\n",
    "print('Coeficiente β1 =', betthar_alps[1])"
   ]
  },
  {
   "cell_type": "code",
   "execution_count": 105,
   "metadata": {
    "ExecuteTime": {
     "end_time": "2020-10-08T04:15:04.867640Z",
     "start_time": "2020-10-08T04:15:04.853648Z"
    }
   },
   "outputs": [
    {
     "name": "stdout",
     "output_type": "stream",
     "text": [
      "Valor relevante: \n",
      "Peso W calculado:\n",
      " [6.615717874720793, 3.91031831657218, 59.95568090952846, 123.07409021305531, 19.60108352980896, 8.891750989844958, 10.48699628945288, 10.006537357313336, 4.409124625060843, 5.4196679414565665, 3.888543893640207, 1.5385989989840607, 128.713972933644, 3.9741256597416235, 14.346848941484716, 7.001457586319023, 6.025559864993501]\n"
     ]
    }
   ],
   "source": [
    "#Relevante:\n",
    "print('Valor relevante: \\nPeso W calculado:\\n',W_alps)"
   ]
  },
  {
   "cell_type": "markdown",
   "metadata": {},
   "source": [
    "#### Books, attend and grade"
   ]
  },
  {
   "cell_type": "markdown",
   "metadata": {
    "ExecuteTime": {
     "end_time": "2020-10-08T03:07:53.302578Z",
     "start_time": "2020-10-08T03:07:53.286576Z"
    }
   },
   "source": [
    "Variáveis relevantes:<br>\n",
    "- Xr_books  - Input X para o método dos mínimos quadrados robustos; \n",
    "- Xrt_books -  Transposta da input Xr_books;\n",
    "- Y_books - Saída Y (igual para todos os métodos);\n",
    "<br>\n",
    "- W_books - Peso para $W= abs({1} / {(yobs-(β0+β1*X1+β2*X2)})$<br>\n",
    "*Obs: coeficientes obtidos através do método linear (betthal_books[0] e betthal_books[1] e betthal_books[2])*\n",
    "- XtW_books - Cálculo do produto vetorial entre ${X^T} $x$ W$\n",
    "- mr_books - multiplicação $({X^T} $x$ W .X)$ para o método dos mínimos quadrados robustos;\n",
    "- p1r_books - $({X^T} $x$ W .X)^{-1}$ para o método dos mínimos quadrados robustos;\n",
    "- p2r_books - ${X^T} $x$ W .y$  para o método dos mínimos quadrados robustos;\n",
    "- betthar_books - Resposta do exercício, coeficientes robustos  β0, β1 e β2."
   ]
  },
  {
   "cell_type": "code",
   "execution_count": 106,
   "metadata": {
    "ExecuteTime": {
     "end_time": "2020-10-08T04:17:45.270757Z",
     "start_time": "2020-10-08T04:17:45.177810Z"
    }
   },
   "outputs": [
    {
     "name": "stdout",
     "output_type": "stream",
     "text": [
      "Método Robusto - Books, attend and grade:\n",
      "Coeficiente β0 = -818.8498826007017\n",
      "Coeficiente β1 = 85.33311830852267\n",
      "Coeficiente β2 = 46.5306542633009\n"
     ]
    }
   ],
   "source": [
    "#Definição da matriz X do método robusto (igual ao método linear)\n",
    "Xr_books=Xl_books\n",
    "\n",
    "#Transposta de X\n",
    "Xrt_books = transposta(Xr_books)\n",
    "\n",
    "#Definição da matriz Y (igual para todos os métodos)\n",
    "Y_books\n",
    "\n",
    "#Cálculo da matriz W\n",
    "W_books=[]\n",
    "for i in range(len(Y_books)):\n",
    "    w=1/(Y_books[i]-(betthal_books[0]*Xr_books[i][0]+betthal_books[1]*Xr_books[i][1]+betthal_books[2]*Xr_books[i][2]))\n",
    "    if w<0:\n",
    "        w=-w\n",
    "    W_books.append(w)\n",
    "W_books\n",
    "\n",
    "#Produto vetorial: X transposto x W\n",
    "Z=[]\n",
    "for i,j in zip(Xrt_books[0],W_books):\n",
    "    Z.append(i*j)\n",
    "\n",
    "for i,j in zip(Xrt_books[1],W_books):\n",
    "    Z.append(i*j)\n",
    "\n",
    "for i,j in zip(Xrt_books[2],W_books):\n",
    "    Z.append(i*j)\n",
    "\n",
    "n = 3 #separando a lista em 03 partes para representar a matriz\n",
    "XtW_books = [Z[i::n] for i in range(n)]\n",
    "XtW_books \n",
    "\n",
    "#Multiplicação da transposta de X pelo produto vetorial\n",
    "mr_books  = multiply_matrix_matrix(XtW_books,Xr_books)\n",
    "mr_books \n",
    "\n",
    "#Inversa do elemento 01 do produto escalar\n",
    "p1r_books = matriz_inversa(mr_books)\n",
    "\n",
    "#Cálculo do elemento 02 do produto escalar \n",
    "p2r_books = multiply_matrix_vector(XtW_books,Y_books)\n",
    "\n",
    "#Cálculo do coeficiente bettha\n",
    "betthar_books = multiply_matrix_vector(p1r_books,p2r_books)\n",
    "\n",
    "#Resposta - coeficientes método robusto dataset Books, attend and grade\n",
    "print('Método Robusto - Books, attend and grade:')\n",
    "\n",
    "print('Coeficiente β0 =', betthar_books[0])\n",
    "print('Coeficiente β1 =', betthar_books[1])\n",
    "print('Coeficiente β2 =', betthar_books[2])"
   ]
  },
  {
   "cell_type": "code",
   "execution_count": 107,
   "metadata": {
    "ExecuteTime": {
     "end_time": "2020-10-08T04:18:04.627472Z",
     "start_time": "2020-10-08T04:18:04.612484Z"
    }
   },
   "outputs": [
    {
     "name": "stdout",
     "output_type": "stream",
     "text": [
      "Valor relevante: \n",
      "Peso W calculado:\n",
      " [0.2544218079640258, 0.2726105258151234, 0.19179287774647127, 0.06671734150338997, 0.734468706750758, 0.11358861953609173, 0.08669772648202224, 0.12814436055259634, 0.04936326852618996, 0.42218039989834494, 0.097283727656483, 0.14495447647951382, 0.04847463275063433, 0.13791485445128246, 0.054487014950061925, 0.07546685363854524, 0.0712987088110479, 0.06897771808494317, 0.048071963263508995, 0.09150400883828357, 0.04843786511683539, 0.44747803208037473, 0.030964669806083815, 0.07276949407331455, 0.062167314299350275, 0.06281426310644295, 3.876301907208429, 0.19515741301934358, 0.13195488462149368, 7.237199318140946, 0.0637307064918253, 0.058402632219830164, 0.06034558547536571, 0.059380337198260996, 0.2629019902847974, 0.06755068511233059, 0.9604685457653549, 0.23169043263837652, 0.04543101801466875, 0.08484612526405702]\n"
     ]
    }
   ],
   "source": [
    "#Relevante:\n",
    "print('Valor relevante: \\nPeso W calculado:\\n',W_books)"
   ]
  },
  {
   "cell_type": "markdown",
   "metadata": {
    "ExecuteTime": {
     "end_time": "2020-10-07T02:22:23.348928Z",
     "start_time": "2020-10-07T02:22:23.333145Z"
    }
   },
   "source": [
    "#### US-Census"
   ]
  },
  {
   "cell_type": "markdown",
   "metadata": {
    "ExecuteTime": {
     "end_time": "2020-10-08T03:36:03.149201Z",
     "start_time": "2020-10-08T03:36:03.117215Z"
    }
   },
   "source": [
    "Variáveis relevantes:<br>\n",
    "- Xr_us - Input X para o método dos mínimos quadrados robustos; \n",
    "- Xrt_us-  Transposta da input Xr_us;\n",
    "- Y_us - Saída Y (igual para todos os métodos);\n",
    "<br>\n",
    "- W_us - Peso para $W= abs({1} / {(yobs-(β0+β1*X1)})$<br>\n",
    "*Obs: coeficientes obtidos através do método linear (betthal_us[0] e betthal_us[1])*\n",
    "- XtW_us - Cálculo do produto vetorial entre ${X^T} $x$ W$\n",
    "- mr_us - multiplicação $({X^T} $x$ W .X)$ para o método dos mínimos quadrados robustos;\n",
    "- p1r_us - $({X^T} $x$ W .X)^{-1}$ para o método dos mínimos quadrados robustos;\n",
    "- p2r_us - ${X^T} $x$ W .y$  para o método dos mínimos quadrados robustos;\n",
    "- betthar_us - Resposta do exercício, coeficientes robustos  β0 e β1."
   ]
  },
  {
   "cell_type": "code",
   "execution_count": 108,
   "metadata": {
    "ExecuteTime": {
     "end_time": "2020-10-08T04:19:44.840182Z",
     "start_time": "2020-10-08T04:19:44.790211Z"
    }
   },
   "outputs": [
    {
     "name": "stdout",
     "output_type": "stream",
     "text": [
      "Método Robusto - US-Census:\n",
      "Coeficiente β0 = -3778.840082823066\n",
      "Coeficiente β1  = 2.022789272835894\n"
     ]
    }
   ],
   "source": [
    "#Entrada igual ao método linear\n",
    "Xr_us=Xl_us\n",
    "\n",
    "#Transposta da entrada\n",
    "Xrt_us= transposta(Xr_us)\n",
    "\n",
    "#Saída é a mesma para todos os métodos\n",
    "Y_us\n",
    "\n",
    "#Cálculo do coeficiente W\n",
    "W_us=[]\n",
    "for i in range(len(Y_us)):\n",
    "    w= (1/(Y_us[i]-(betthal_us[0]*Xr_us[i][0]+betthal_us[1]*Xr_us[i][1])))\n",
    "    if w<0: #módulo não pode ser negativo\n",
    "        w=-w \n",
    "    W_us.append(w)\n",
    "\n",
    "#Produto vetorial: X transposto x W\n",
    "Z=[]\n",
    "for i,j in zip(Xrt_us[0],W_us):\n",
    "    Z.append(i*j)\n",
    "\n",
    "for i,j in zip(Xrt_us[1],W_us):\n",
    "    Z.append(i*j)\n",
    "\n",
    "XtW_us  = [Z[:len(Z)//2],Z[len(Z)//2:]]\n",
    "XtW_us \n",
    "\n",
    "#Produto escalar entre as matrizes\n",
    "mr_us  = multiply_matrix_matrix(XtW_us,Xr_us)\n",
    "\n",
    "#Inversa do step anterior\n",
    "p1r_us = matriz_inversa(mr_us)\n",
    "\n",
    "#Multiplicação do produto vetorial entre Xt e W com a saída Y\n",
    "p2r_us = multiply_matrix_vector(XtW_us,Y_us)\n",
    "\n",
    "#Cálculo da resposta\n",
    "betthar_us = multiply_matrix_vector(p1r_us,p2r_us)\n",
    "\n",
    "#Resultados, coeficiente bettha robusto\n",
    "print('Método Robusto - US-Census:')\n",
    "print('Coeficiente β0 =', betthar_us[0])\n",
    "print('Coeficiente β1  =', betthar_us[1])"
   ]
  },
  {
   "cell_type": "code",
   "execution_count": 109,
   "metadata": {
    "ExecuteTime": {
     "end_time": "2020-10-08T04:20:00.382102Z",
     "start_time": "2020-10-08T04:20:00.366092Z"
    }
   },
   "outputs": [
    {
     "name": "stdout",
     "output_type": "stream",
     "text": [
      "Valor relevante: \n",
      "Peso W calculado:\n",
      " [0.2544218079640258, 0.2726105258151234, 0.19179287774647127, 0.06671734150338997, 0.734468706750758, 0.11358861953609173, 0.08669772648202224, 0.12814436055259634, 0.04936326852618996, 0.42218039989834494, 0.097283727656483, 0.14495447647951382, 0.04847463275063433, 0.13791485445128246, 0.054487014950061925, 0.07546685363854524, 0.0712987088110479, 0.06897771808494317, 0.048071963263508995, 0.09150400883828357, 0.04843786511683539, 0.44747803208037473, 0.030964669806083815, 0.07276949407331455, 0.062167314299350275, 0.06281426310644295, 3.876301907208429, 0.19515741301934358, 0.13195488462149368, 7.237199318140946, 0.0637307064918253, 0.058402632219830164, 0.06034558547536571, 0.059380337198260996, 0.2629019902847974, 0.06755068511233059, 0.9604685457653549, 0.23169043263837652, 0.04543101801466875, 0.08484612526405702]\n"
     ]
    }
   ],
   "source": [
    "#Relevante:\n",
    "print('Valor relevante: \\nPeso W calculado:\\n',W_books)"
   ]
  },
  {
   "cell_type": "markdown",
   "metadata": {},
   "source": [
    "## Summary: Results\n",
    "> Aprentação do resultado de β por datasets.\n",
    "Comparação dos resultados de cada método."
   ]
  },
  {
   "cell_type": "markdown",
   "metadata": {
    "ExecuteTime": {
     "end_time": "2020-10-08T03:54:38.575110Z",
     "start_time": "2020-10-08T03:54:38.563771Z"
    }
   },
   "source": [
    "#### Alps Water"
   ]
  },
  {
   "cell_type": "code",
   "execution_count": 79,
   "metadata": {
    "ExecuteTime": {
     "end_time": "2020-10-08T03:56:06.441674Z",
     "start_time": "2020-10-08T03:56:06.425675Z"
    }
   },
   "outputs": [
    {
     "name": "stdout",
     "output_type": "stream",
     "text": [
      "Método Linear - Alps Water:\n",
      "Coeficiente β0 = -81.06372712864686\n",
      "Coeficiente β1 = 0.522892400784599\n",
      "\n",
      "\n",
      "Método Quadrático - Alps Water:\n",
      "Intercept β0 = 38.82929486036301\n",
      "Linear Coeficiente β1 = -0.6547706308192573\n",
      "Quadratic Coeficiente β2 = 0.002889712064870764\n",
      "\n",
      "\n",
      "Método Robusto - Alps Water:\n",
      "Coeficiente β0 = -81.36733077487588\n",
      "Coeficiente β1 = 0.5243294760032597\n"
     ]
    }
   ],
   "source": [
    "#Resultado final\n",
    "print('Método Linear - Alps Water:')\n",
    "betthal_alps = multiply_matrix_vector(p1l_alps,p2l_alps)\n",
    "print('Coeficiente β0 =', betthal_alps[0])\n",
    "print('Coeficiente β1 =', betthal_alps[1])\n",
    "print('\\n')\n",
    "print('Método Quadrático - Alps Water:')\n",
    "betthaq_alps = multiply_matrix_vector(p1q_alps,p2q_alps)\n",
    "print('Intercept β0 =', betthaq_alps[0])\n",
    "print('Linear Coeficiente β1 =', betthaq_alps[1])\n",
    "print('Quadratic Coeficiente β2 =', betthaq_alps[2])\n",
    "print('\\n')\n",
    "print('Método Robusto - Alps Water:')\n",
    "print('Coeficiente β0 =', betthar_alps[0])\n",
    "print('Coeficiente β1 =', betthar_alps[1])"
   ]
  },
  {
   "cell_type": "markdown",
   "metadata": {},
   "source": [
    "#### Books, attend and grade "
   ]
  },
  {
   "cell_type": "code",
   "execution_count": 83,
   "metadata": {
    "ExecuteTime": {
     "end_time": "2020-10-08T03:59:37.206240Z",
     "start_time": "2020-10-08T03:59:37.182232Z"
    }
   },
   "outputs": [
    {
     "name": "stdout",
     "output_type": "stream",
     "text": [
      "Método Linear - Books, Attend and Grade:\n",
      "Coeficiente β0 = 37.379185204571286\n",
      "Coeficiente β1 = 4.036892611009321\n",
      "Coeficiente β2 = 1.2834772747099308\n",
      "\n",
      "\n",
      "Método Quadrático - Books, attend and grades:\n",
      "Coeficiente β0 = 66.52409983168764\n",
      "Coeficiente β1 = 6.161855083001456\n",
      "Coeficiente β2 = -3.4318843608712086\n",
      "Coeficiente β3 = -0.48861319886634647\n",
      "Coeficiente β4 = 0.1662748150648099\n",
      "\n",
      "\n",
      "Método Robusto - Books, attend and grade:\n",
      "Coeficiente β0 = -818.8498826007017\n",
      "Coeficiente β1 = 85.33311830852267\n",
      "Coeficiente β2 = 46.5306542633009\n"
     ]
    }
   ],
   "source": [
    "#Resultado final\n",
    "print('Método Linear - Books, Attend and Grade:')\n",
    "betthal_books = multiply_matrix_vector(p1l_books,p2l_books)\n",
    "print('Coeficiente β0 =', betthal_books[0])\n",
    "print('Coeficiente β1 =', betthal_books[1])\n",
    "print('Coeficiente β2 =', betthal_books[2])\n",
    "print('\\n')\n",
    "betthaq_books = multiply_matrix_vector(p1q_books,p2q_books)\n",
    "print('Método Quadrático - Books, attend and grades:')\n",
    "print('Coeficiente β0 =', betthaq_books[0])\n",
    "print('Coeficiente β1 =', betthaq_books[1])\n",
    "print('Coeficiente β2 =', betthaq_books[2])\n",
    "print('Coeficiente β3 =', betthaq_books[3])\n",
    "print('Coeficiente β4 =', betthaq_books[4])\n",
    "print('\\n')\n",
    "print('Método Robusto - Books, attend and grade:')\n",
    "\n",
    "print('Coeficiente β0 =', betthar_books[0])\n",
    "print('Coeficiente β1 =', betthar_books[1])\n",
    "print('Coeficiente β2 =', betthar_books[2])"
   ]
  },
  {
   "cell_type": "markdown",
   "metadata": {
    "ExecuteTime": {
     "end_time": "2020-10-08T04:01:28.870553Z",
     "start_time": "2020-10-08T04:01:28.862552Z"
    }
   },
   "source": [
    "#### US-Census"
   ]
  },
  {
   "cell_type": "code",
   "execution_count": 85,
   "metadata": {
    "ExecuteTime": {
     "end_time": "2020-10-08T04:02:53.168772Z",
     "start_time": "2020-10-08T04:02:53.158782Z"
    }
   },
   "outputs": [
    {
     "name": "stdout",
     "output_type": "stream",
     "text": [
      "Método Linear - US-Census:\n",
      "Coeficiente β0 = -3783.9455909089884\n",
      "Coeficiente β1 = 2.025302727272731\n",
      "\n",
      "\n",
      "Método Quadrático - US-Census:\n",
      "Coeficiente β0 = 32294.01736307144\n",
      "Coeficiente β1 = -34.98747000005096\n",
      "Coeficiente β2 = 0.009490454545471039\n",
      "\n",
      "\n",
      "Método Robusto - US-Census:\n",
      "Coeficiente β0 = -3778.840082823066\n",
      "Coeficiente β1  = 2.022789272835894\n"
     ]
    }
   ],
   "source": [
    "#Resultado final\n",
    "print('Método Linear - US-Census:')\n",
    "betthal_us = multiply_matrix_vector(p1l_us,p2l_us)\n",
    "print('Coeficiente β0 =', betthal_us[0])\n",
    "print('Coeficiente β1 =', betthal_us[1])\n",
    "print('\\n')\n",
    "\n",
    "print('Método Quadrático - US-Census:')\n",
    "print('Coeficiente β0 =', betthaq_us[0])\n",
    "print('Coeficiente β1 =', betthaq_us[1])\n",
    "print('Coeficiente β2 =', betthaq_us[2])\n",
    "\n",
    "print('\\n')\n",
    "print('Método Robusto - US-Census:')\n",
    "print('Coeficiente β0 =', betthar_us[0])\n",
    "print('Coeficiente β1  =', betthar_us[1])"
   ]
  }
 ],
 "metadata": {
  "hide_input": false,
  "kernelspec": {
   "display_name": "Python 3",
   "language": "python",
   "name": "python3"
  },
  "language_info": {
   "codemirror_mode": {
    "name": "ipython",
    "version": 3
   },
   "file_extension": ".py",
   "mimetype": "text/x-python",
   "name": "python",
   "nbconvert_exporter": "python",
   "pygments_lexer": "ipython3",
   "version": "3.8.3"
  },
  "toc": {
   "base_numbering": 1,
   "nav_menu": {},
   "number_sections": true,
   "sideBar": true,
   "skip_h1_title": false,
   "title_cell": "Table of Contents",
   "title_sidebar": "Contents",
   "toc_cell": false,
   "toc_position": {
    "height": "calc(100% - 180px)",
    "left": "10px",
    "top": "150px",
    "width": "306.188px"
   },
   "toc_section_display": true,
   "toc_window_display": true
  },
  "varInspector": {
   "cols": {
    "lenName": 16,
    "lenType": 16,
    "lenVar": 40
   },
   "kernels_config": {
    "python": {
     "delete_cmd_postfix": "",
     "delete_cmd_prefix": "del ",
     "library": "var_list.py",
     "varRefreshCmd": "print(var_dic_list())"
    },
    "r": {
     "delete_cmd_postfix": ") ",
     "delete_cmd_prefix": "rm(",
     "library": "var_list.r",
     "varRefreshCmd": "cat(var_dic_list()) "
    }
   },
   "types_to_exclude": [
    "module",
    "function",
    "builtin_function_or_method",
    "instance",
    "_Feature"
   ],
   "window_display": false
  }
 },
 "nbformat": 4,
 "nbformat_minor": 4
}
