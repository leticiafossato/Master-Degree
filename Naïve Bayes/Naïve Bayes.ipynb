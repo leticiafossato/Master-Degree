{
 "cells": [
  {
   "cell_type": "markdown",
   "metadata": {},
   "source": [
    "# Naïve Bayes"
   ]
  },
  {
   "cell_type": "code",
   "execution_count": 1,
   "metadata": {
    "ExecuteTime": {
     "end_time": "2020-11-09T16:01:14.247875Z",
     "start_time": "2020-11-09T16:01:09.828140Z"
    }
   },
   "outputs": [],
   "source": [
    "import pandas as pd\n",
    "import numpy as np\n",
    "import pandas as pd"
   ]
  },
  {
   "cell_type": "markdown",
   "metadata": {},
   "source": [
    "## Exercício 1\n",
    "###  First Question\n",
    "Dada a tabela ao lado, se uma pessoa tem 35 anos e ganha $50.000,00 (renda media), ele compra um computador?"
   ]
  },
  {
   "cell_type": "code",
   "execution_count": 2,
   "metadata": {
    "ExecuteTime": {
     "end_time": "2020-11-09T16:01:14.342110Z",
     "start_time": "2020-11-09T16:01:14.253866Z"
    }
   },
   "outputs": [
    {
     "data": {
      "text/html": [
       "<div>\n",
       "<style scoped>\n",
       "    .dataframe tbody tr th:only-of-type {\n",
       "        vertical-align: middle;\n",
       "    }\n",
       "\n",
       "    .dataframe tbody tr th {\n",
       "        vertical-align: top;\n",
       "    }\n",
       "\n",
       "    .dataframe thead th {\n",
       "        text-align: right;\n",
       "    }\n",
       "</style>\n",
       "<table border=\"1\" class=\"dataframe\">\n",
       "  <thead>\n",
       "    <tr style=\"text-align: right;\">\n",
       "      <th></th>\n",
       "      <th>rec</th>\n",
       "      <th>Age</th>\n",
       "      <th>Income</th>\n",
       "      <th>Student</th>\n",
       "      <th>Credit_rating</th>\n",
       "      <th>Buys_computer</th>\n",
       "    </tr>\n",
       "  </thead>\n",
       "  <tbody>\n",
       "    <tr>\n",
       "      <th>0</th>\n",
       "      <td>r1</td>\n",
       "      <td>&lt;=30</td>\n",
       "      <td>High</td>\n",
       "      <td>No</td>\n",
       "      <td>Fair</td>\n",
       "      <td>No</td>\n",
       "    </tr>\n",
       "    <tr>\n",
       "      <th>1</th>\n",
       "      <td>r2</td>\n",
       "      <td>&lt;=30</td>\n",
       "      <td>High</td>\n",
       "      <td>No</td>\n",
       "      <td>Excellent</td>\n",
       "      <td>No</td>\n",
       "    </tr>\n",
       "    <tr>\n",
       "      <th>2</th>\n",
       "      <td>r3</td>\n",
       "      <td>31...40</td>\n",
       "      <td>High</td>\n",
       "      <td>No</td>\n",
       "      <td>Fair</td>\n",
       "      <td>Yes</td>\n",
       "    </tr>\n",
       "    <tr>\n",
       "      <th>3</th>\n",
       "      <td>r4</td>\n",
       "      <td>&gt;40</td>\n",
       "      <td>Medium</td>\n",
       "      <td>No</td>\n",
       "      <td>Fair</td>\n",
       "      <td>Yes</td>\n",
       "    </tr>\n",
       "    <tr>\n",
       "      <th>4</th>\n",
       "      <td>r5</td>\n",
       "      <td>&gt;40</td>\n",
       "      <td>Low</td>\n",
       "      <td>Yes</td>\n",
       "      <td>Fair</td>\n",
       "      <td>Yes</td>\n",
       "    </tr>\n",
       "    <tr>\n",
       "      <th>5</th>\n",
       "      <td>r6</td>\n",
       "      <td>&gt;40</td>\n",
       "      <td>Low</td>\n",
       "      <td>Yes</td>\n",
       "      <td>Excellent</td>\n",
       "      <td>No</td>\n",
       "    </tr>\n",
       "    <tr>\n",
       "      <th>6</th>\n",
       "      <td>r7</td>\n",
       "      <td>31...40</td>\n",
       "      <td>Low</td>\n",
       "      <td>Yes</td>\n",
       "      <td>Excellent</td>\n",
       "      <td>Yes</td>\n",
       "    </tr>\n",
       "    <tr>\n",
       "      <th>7</th>\n",
       "      <td>r8</td>\n",
       "      <td>&lt;=30</td>\n",
       "      <td>Medium</td>\n",
       "      <td>No</td>\n",
       "      <td>Fair</td>\n",
       "      <td>No</td>\n",
       "    </tr>\n",
       "    <tr>\n",
       "      <th>8</th>\n",
       "      <td>r9</td>\n",
       "      <td>&lt;=30</td>\n",
       "      <td>Low</td>\n",
       "      <td>Yes</td>\n",
       "      <td>Fair</td>\n",
       "      <td>Yes</td>\n",
       "    </tr>\n",
       "    <tr>\n",
       "      <th>9</th>\n",
       "      <td>r10</td>\n",
       "      <td>&gt;40</td>\n",
       "      <td>Medium</td>\n",
       "      <td>Yes</td>\n",
       "      <td>Fair</td>\n",
       "      <td>Yes</td>\n",
       "    </tr>\n",
       "    <tr>\n",
       "      <th>10</th>\n",
       "      <td>r11</td>\n",
       "      <td>&lt;=30</td>\n",
       "      <td>Medium</td>\n",
       "      <td>Yes</td>\n",
       "      <td>Excellent</td>\n",
       "      <td>Yes</td>\n",
       "    </tr>\n",
       "    <tr>\n",
       "      <th>11</th>\n",
       "      <td>r12</td>\n",
       "      <td>31...40</td>\n",
       "      <td>Medium</td>\n",
       "      <td>No</td>\n",
       "      <td>Excellent</td>\n",
       "      <td>Yes</td>\n",
       "    </tr>\n",
       "    <tr>\n",
       "      <th>12</th>\n",
       "      <td>r13</td>\n",
       "      <td>31...40</td>\n",
       "      <td>High</td>\n",
       "      <td>Yes</td>\n",
       "      <td>Fair</td>\n",
       "      <td>Yes</td>\n",
       "    </tr>\n",
       "    <tr>\n",
       "      <th>13</th>\n",
       "      <td>r14</td>\n",
       "      <td>&gt;40</td>\n",
       "      <td>Medium</td>\n",
       "      <td>No</td>\n",
       "      <td>Excellent</td>\n",
       "      <td>No</td>\n",
       "    </tr>\n",
       "  </tbody>\n",
       "</table>\n",
       "</div>"
      ],
      "text/plain": [
       "    rec      Age  Income Student Credit_rating Buys_computer\n",
       "0    r1     <=30    High      No          Fair            No\n",
       "1    r2     <=30    High      No     Excellent            No\n",
       "2    r3  31...40    High      No          Fair           Yes\n",
       "3    r4      >40  Medium      No          Fair           Yes\n",
       "4    r5      >40     Low     Yes          Fair           Yes\n",
       "5    r6      >40     Low     Yes     Excellent            No\n",
       "6    r7  31...40     Low     Yes     Excellent           Yes\n",
       "7    r8     <=30  Medium      No          Fair            No\n",
       "8    r9     <=30     Low     Yes          Fair           Yes\n",
       "9   r10      >40  Medium     Yes          Fair           Yes\n",
       "10  r11     <=30  Medium     Yes     Excellent           Yes\n",
       "11  r12  31...40  Medium      No     Excellent           Yes\n",
       "12  r13  31...40    High     Yes          Fair           Yes\n",
       "13  r14      >40  Medium      No     Excellent            No"
      ]
     },
     "execution_count": 2,
     "metadata": {},
     "output_type": "execute_result"
    }
   ],
   "source": [
    "import pandas as pd\n",
    "  \n",
    "data = {'rec':           ['r1',          'r2',       'r3',     'r4',    'r5',         'r6',          'r7',      'r8',    'r9',   'r10',         'r11',       'r12',     'r13',        'r14'],\n",
    "        'Age':           ['<=30',      '<=30',  '31...40',    '>40',   '>40',        '>40',     '31...40',    '<=30',  '<=30',   '>40',        '<=30',   '31...40', '31...40',        '>40'],\n",
    "        'Income':        ['High',      'High',     'High', 'Medium',   'Low',        'Low',         'Low',  'Medium',   'Low','Medium',      'Medium',    'Medium',    'High',     'Medium'],\n",
    "        'Student':       [  'No',        'No',       'No',     'No',   'Yes',        'Yes',         'Yes',      'No',   'Yes',   'Yes',         'Yes',        'No',     'Yes',         'No'],\n",
    "        'Credit_rating': ['Fair', 'Excellent',     'Fair',   'Fair',  'Fair',  'Excellent',   'Excellent',    'Fair',  'Fair',  'Fair',   'Excellent', 'Excellent',    'Fair',  'Excellent'],\n",
    "        'Buys_computer': [  'No',        'No',      'Yes',    'Yes',   'Yes',         'No',         'Yes',      'No',   'Yes',   'Yes',         'Yes',       'Yes',     'Yes',         'No'],\n",
    "        }\n",
    "\n",
    "df = pd.DataFrame (data, columns = ['rec','Age','Income','Student','Credit_rating','Buys_computer'])\n",
    "\n",
    "df"
   ]
  },
  {
   "cell_type": "markdown",
   "metadata": {
    "ExecuteTime": {
     "end_time": "2020-11-09T14:19:44.955769Z",
     "start_time": "2020-11-09T14:19:44.938814Z"
    }
   },
   "source": [
    "**IMPORTANTE**: Este exercício será solucionado de duas maneiras:<br>\n",
    "\n",
    "1º Solução) Considerando P=0 para os casos em que não existir nenhuma amostra que atenda à condição analisada;<br>\n",
    "\n",
    "2º Solução) Utilizando a fórmula onde:<br>\n",
    "P= (nc+mxp)/(n+m)<br>\n",
    "Considerando que m=1 (peso dado à priori)<br>\n",
    "nc - quantidade de amostras que atendem à condição<br>\n",
    "p=m/(total de casos)=1/14<br>\n",
    "n - depende da condição analisada, será igual ao número total de casos da condição <i>yes</i> OU\n",
    "número total de casos da condição <i>no</i>.<br>\n"
   ]
  },
  {
   "cell_type": "markdown",
   "metadata": {},
   "source": [
    "#### 1º Solução"
   ]
  },
  {
   "cell_type": "code",
   "execution_count": 3,
   "metadata": {
    "ExecuteTime": {
     "end_time": "2020-11-09T16:01:14.373030Z",
     "start_time": "2020-11-09T16:01:14.345105Z"
    }
   },
   "outputs": [],
   "source": [
    "#Definição das funções\n",
    "def prob_yes(column,cond):\n",
    "    \"\"\"Probability of buy a computer with the input conditions\"\"\"\n",
    "    if ((((df.loc[(df['Buys_computer']=='Yes') & (df[f'{column}']==f'{cond}'),f'{column}']).value_counts()).any())==False):\n",
    "        x= 0\n",
    "    else:\n",
    "        x= df.loc[(df['Buys_computer']=='Yes') & (df[f'{column}']==f'{cond}'),f'{column}'].value_counts()[0]/df[['Buys_computer']].value_counts()[0]\n",
    "    return(x)\n",
    "\n",
    "def prob_no(column,cond):\n",
    "    \"\"\"Probability of not buy a computer with the input conditions\"\"\"\n",
    "    if ((((df.loc[(df['Buys_computer']=='No') & (df[f'{column}']==f'{cond}'),f'{column}']).value_counts()).any())==False):\n",
    "        x= 0\n",
    "    else:\n",
    "        x= df.loc[(df['Buys_computer']=='No') & (df[f'{column}']==f'{cond}'),f'{column}'].value_counts()[0]/df[['Buys_computer']].value_counts()[1]\n",
    "    return(x)\n",
    "\n",
    "#Cálculo das probabilidades de comprar ou não um computador\n",
    "p_buy     = df[['Buys_computer']].value_counts()[0]/df['Buys_computer'].shape[0]\n",
    "p_not_buy = df[['Buys_computer']].value_counts()[1]/df['Buys_computer'].shape[0]"
   ]
  },
  {
   "cell_type": "code",
   "execution_count": 4,
   "metadata": {
    "ExecuteTime": {
     "end_time": "2020-11-09T16:01:14.435910Z",
     "start_time": "2020-11-09T16:01:14.377017Z"
    }
   },
   "outputs": [
    {
     "name": "stdout",
     "output_type": "stream",
     "text": [
      "x’ = (Age=31...40,Income=Medium)\n",
      "\n",
      "\n",
      "P(Age=31...40 | Buys_computer=Yes)= 0.4444444444444444\n",
      "P(Income=Medium | Buys_computer=Yes)= 0.4444444444444444\n",
      "P(Buys_computer=Yes)= 0.6428571428571429\n",
      "\n",
      "\n",
      "P(Age=31...40 | Buys_computer=No)= 0\n",
      "P(Income=Medium | Buys_computer=No)= 0.4\n",
      "P(Buys_computer=No)= 0.35714285714285715\n",
      "\n",
      "\n",
      "P(Yes|x’)= 0.12698412698412698\n",
      "P(No|x’)= 0.0\n",
      "Yes, he buys a computer.\n"
     ]
    }
   ],
   "source": [
    "#Solução:\n",
    "print('x’ = (Age=31...40,Income=Medium)')\n",
    "print('\\n')\n",
    "\n",
    "#P_buy\n",
    "print('P(Age=31...40 | Buys_computer=Yes)=',  prob_yes('Age','31...40'))\n",
    "print('P(Income=Medium | Buys_computer=Yes)=',prob_yes('Income','Medium'))\n",
    "print('P(Buys_computer=Yes)=',p_buy)\n",
    "print('\\n')\n",
    "\n",
    "#P_not_buy\n",
    "print('P(Age=31...40 | Buys_computer=No)=',  prob_no('Age','31...40'))\n",
    "print('P(Income=Medium | Buys_computer=No)=',prob_no('Income','Medium'))\n",
    "print('P(Buys_computer=No)=',p_not_buy)\n",
    "print('\\n')\n",
    "\n",
    "#Resultado:\n",
    "p_yes = prob_yes('Age','31...40')*prob_yes('Income','Medium')*p_buy\n",
    "p_no = prob_no('Age','31...40')*prob_no('Income','Medium')*p_not_buy\n",
    "print('P(Yes|x’)=',p_yes)\n",
    "print('P(No|x’)=',p_no)\n",
    "if(p_yes>p_no):\n",
    "    print(\"Yes, he buys a computer.\")\n",
    "else:\n",
    "    print(\"No, he didn't buy a computer.\")"
   ]
  },
  {
   "cell_type": "markdown",
   "metadata": {},
   "source": [
    "#### 2º Solução"
   ]
  },
  {
   "cell_type": "code",
   "execution_count": 5,
   "metadata": {
    "ExecuteTime": {
     "end_time": "2020-11-09T16:01:14.466777Z",
     "start_time": "2020-11-09T16:01:14.437854Z"
    }
   },
   "outputs": [],
   "source": [
    "#Definição das funções\n",
    "def prob_yes2(column,cond):\n",
    "    \"\"\"Probability of buy a computer with the input conditions\"\"\"\n",
    "    if ((((df.loc[(df['Buys_computer']=='Yes') & (df[f'{column}']==f'{cond}'),f'{column}']).value_counts()).any())==False):\n",
    "        x= ((0 + 1/14)/(9+1))\n",
    "    else:\n",
    "        x= ((df.loc[(df['Buys_computer']=='Yes') & (df[f'{column}']==f'{cond}'),f'{column}'].value_counts()[0])+1/14)/(df[['Buys_computer']].value_counts()[0]+1)\n",
    "    return(x)\n",
    "\n",
    "def prob_no2(column,cond):\n",
    "    \"\"\"Probability of not buy a computer with the input conditions\"\"\"\n",
    "    if ((((df.loc[(df['Buys_computer']=='No') & (df[f'{column}']==f'{cond}'),f'{column}']).value_counts()).any())==False):\n",
    "        x= ((0 + 1/14)/(5+1))\n",
    "    else:\n",
    "        x= ((df.loc[(df['Buys_computer']=='No') & (df[f'{column}']==f'{cond}'),f'{column}'].value_counts()[0])+1/14)/(df[['Buys_computer']].value_counts()[1]+1)\n",
    "    return(x)\n",
    "\n",
    "#Cálculo das probabilidades de comprar ou não um computador\n",
    "p_buy     = df[['Buys_computer']].value_counts()[0]/df['Buys_computer'].shape[0]\n",
    "p_not_buy = df[['Buys_computer']].value_counts()[1]/df['Buys_computer'].shape[0]"
   ]
  },
  {
   "cell_type": "code",
   "execution_count": 6,
   "metadata": {
    "ExecuteTime": {
     "end_time": "2020-11-09T16:01:14.527616Z",
     "start_time": "2020-11-09T16:01:14.469770Z"
    }
   },
   "outputs": [
    {
     "name": "stdout",
     "output_type": "stream",
     "text": [
      "x’ = (Age=31...40,Income=Medium)\n",
      "\n",
      "\n",
      "P(Age=31...40 | Buys_computer=Yes)= 0.40714285714285714\n",
      "P(Income=Medium | Buys_computer=Yes)= 0.40714285714285714\n",
      "P(Buys_computer=Yes)= 0.6428571428571429\n",
      "\n",
      "\n",
      "P(Age=31...40 | Buys_computer=No)= 0.011904761904761904\n",
      "P(Income=Medium | Buys_computer=No)= 0.3452380952380953\n",
      "P(Buys_computer=No)= 0.35714285714285715\n",
      "\n",
      "\n",
      "P(Yes|x’)= 0.1065634110787172\n",
      "P(No|x’)= 0.0014678490443796569\n",
      "Yes, he buys a computer.\n"
     ]
    }
   ],
   "source": [
    "#Solução:\n",
    "print('x’ = (Age=31...40,Income=Medium)')\n",
    "print('\\n')\n",
    "\n",
    "#P_buy\n",
    "print('P(Age=31...40 | Buys_computer=Yes)=',  prob_yes2('Age','31...40'))\n",
    "print('P(Income=Medium | Buys_computer=Yes)=',prob_yes2('Income','Medium'))\n",
    "print('P(Buys_computer=Yes)=',p_buy)\n",
    "print('\\n')\n",
    "\n",
    "#P_not_buy\n",
    "print('P(Age=31...40 | Buys_computer=No)=',  prob_no2('Age','31...40'))\n",
    "print('P(Income=Medium | Buys_computer=No)=',prob_no2('Income','Medium'))\n",
    "print('P(Buys_computer=No)=',p_not_buy)\n",
    "print('\\n')\n",
    "\n",
    "#Resultado:\n",
    "p_yes = prob_yes2('Age','31...40')*prob_yes2('Income','Medium')*p_buy\n",
    "p_no = prob_no2('Age','31...40')*prob_no2('Income','Medium')*p_not_buy\n",
    "print('P(Yes|x’)=',p_yes)\n",
    "print('P(No|x’)=',p_no)\n",
    "if(p_yes>p_no):\n",
    "    print(\"Yes, he buys a computer.\")\n",
    "else:\n",
    "    print(\"No, he didn't buy a computer.\")"
   ]
  },
  {
   "cell_type": "markdown",
   "metadata": {},
   "source": [
    "###  Second Question\n",
    "E se a pessoa for estudante e tiver um crédito bom (fair)? "
   ]
  },
  {
   "cell_type": "markdown",
   "metadata": {},
   "source": [
    "#### 1º Solução"
   ]
  },
  {
   "cell_type": "code",
   "execution_count": 7,
   "metadata": {
    "ExecuteTime": {
     "end_time": "2020-11-09T16:01:14.668238Z",
     "start_time": "2020-11-09T16:01:14.531603Z"
    }
   },
   "outputs": [
    {
     "name": "stdout",
     "output_type": "stream",
     "text": [
      "x’ = (Age=31...40, Income=Medium, Student=Yes, Credit_rating=Fair)\n",
      "\n",
      "\n",
      "P(Age=31...40 | Buys_computer=Yes)= 0.4444444444444444\n",
      "P(Income=Medium | Buys_computer=Yes)= 0.4444444444444444\n",
      "P(Student=Yes | Buys_computer=Yes)= 0.6666666666666666\n",
      "P(Credit_rating=Fair | Buys_computer=Yes)= 0.6666666666666666\n",
      "P(Buys_computer=Yes)= 0.6428571428571429\n",
      "\n",
      "\n",
      "P(Age=31...40 | Buys_computer=No)= 0\n",
      "P(Income=Medium | Buys_computer=No)= 0.4\n",
      "P(Student=Yes | Buys_computer=No)= 0.2\n",
      "P(Credit_rating=Fair | Buys_computer=No)= 0.4\n",
      "P(Buys_computer=No)= 0.35714285714285715\n",
      "\n",
      "\n",
      "P(Yes|x’)= 0.056437389770723094\n",
      "P(No|x’)= 0.0\n",
      "Yes, he buys a computer.\n"
     ]
    }
   ],
   "source": [
    "#Solução:\n",
    "print('x’ = (Age=31...40, Income=Medium, Student=Yes, Credit_rating=Fair)')\n",
    "print('\\n')\n",
    "\n",
    "#P_buy\n",
    "print('P(Age=31...40 | Buys_computer=Yes)=',  prob_yes('Age','31...40'))\n",
    "print('P(Income=Medium | Buys_computer=Yes)=',prob_yes('Income','Medium'))\n",
    "print('P(Student=Yes | Buys_computer=Yes)=',prob_yes('Student','Yes'))\n",
    "print('P(Credit_rating=Fair | Buys_computer=Yes)=',prob_yes('Credit_rating','Fair'))\n",
    "print('P(Buys_computer=Yes)=',p_buy)\n",
    "print('\\n')\n",
    "\n",
    "#P_not_buy\n",
    "print('P(Age=31...40 | Buys_computer=No)=',  prob_no('Age','31...40'))\n",
    "print('P(Income=Medium | Buys_computer=No)=',prob_no('Income','Medium'))\n",
    "print('P(Student=Yes | Buys_computer=No)=',prob_no('Student','Yes'))\n",
    "print('P(Credit_rating=Fair | Buys_computer=No)=',prob_no('Credit_rating','Fair'))\n",
    "print('P(Buys_computer=No)=',p_not_buy)\n",
    "print('\\n')\n",
    "\n",
    "#Resultado:\n",
    "p_yes = prob_yes('Age','31...40')*prob_yes('Income','Medium')*prob_yes('Student','Yes')*prob_yes('Credit_rating','Fair')*p_buy\n",
    "p_no = prob_no('Age','31...40')*prob_no('Income','Medium')*prob_no('Student','Yes')*prob_no('Credit_rating','Fair')*p_not_buy\n",
    "print('P(Yes|x’)=',p_yes)\n",
    "print('P(No|x’)=',p_no)\n",
    "if(p_yes>p_no):\n",
    "    print(\"Yes, he buys a computer.\")\n",
    "else:\n",
    "    print(\"No, he didn't buy a computer.\")"
   ]
  },
  {
   "cell_type": "markdown",
   "metadata": {},
   "source": [
    "#### 2º Solução"
   ]
  },
  {
   "cell_type": "code",
   "execution_count": 8,
   "metadata": {
    "ExecuteTime": {
     "end_time": "2020-11-09T16:01:14.777947Z",
     "start_time": "2020-11-09T16:01:14.671232Z"
    }
   },
   "outputs": [
    {
     "name": "stdout",
     "output_type": "stream",
     "text": [
      "x’ = (Age=31...40, Income=Medium, Student=Yes, Credit_rating=Fair)\n",
      "\n",
      "\n",
      "P(Age=31...40 | Buys_computer=Yes)= 0.40714285714285714\n",
      "P(Income=Medium | Buys_computer=Yes)= 0.40714285714285714\n",
      "P(Student=Yes | Buys_computer=Yes)= 0.6071428571428571\n",
      "P(Credit_rating=Fair | Buys_computer=Yes)= 0.6071428571428571\n",
      "P(Buys_computer=Yes)= 0.6428571428571429\n",
      "\n",
      "\n",
      "P(Age=31...40 | Buys_computer=No)= 0.011904761904761904\n",
      "P(Income=Medium | Buys_computer=No)= 0.3452380952380953\n",
      "P(Student=Yes | Buys_computer=No)= 0.17857142857142858\n",
      "P(Credit_rating=Fair | Buys_computer=No)= 0.3452380952380953\n",
      "P(Buys_computer=No)= 0.35714285714285715\n",
      "\n",
      "\n",
      "P(Yes|x’)= 0.03928166556345569\n",
      "P(No|x’)= 9.049239431762341e-05\n",
      "Yes, he buys a computer.\n"
     ]
    }
   ],
   "source": [
    "#Solução:\n",
    "print('x’ = (Age=31...40, Income=Medium, Student=Yes, Credit_rating=Fair)')\n",
    "print('\\n')\n",
    "\n",
    "#P_buy\n",
    "print('P(Age=31...40 | Buys_computer=Yes)=',  prob_yes2('Age','31...40'))\n",
    "print('P(Income=Medium | Buys_computer=Yes)=',prob_yes2('Income','Medium'))\n",
    "print('P(Student=Yes | Buys_computer=Yes)=',prob_yes2('Student','Yes'))\n",
    "print('P(Credit_rating=Fair | Buys_computer=Yes)=',prob_yes2('Credit_rating','Fair'))\n",
    "print('P(Buys_computer=Yes)=',p_buy)\n",
    "print('\\n')\n",
    "\n",
    "#P_not_buy\n",
    "print('P(Age=31...40 | Buys_computer=No)=',  prob_no2('Age','31...40'))\n",
    "print('P(Income=Medium | Buys_computer=No)=',prob_no2('Income','Medium'))\n",
    "print('P(Student=Yes | Buys_computer=No)=',prob_no2('Student','Yes'))\n",
    "print('P(Credit_rating=Fair | Buys_computer=No)=',prob_no2('Credit_rating','Fair'))\n",
    "print('P(Buys_computer=No)=',p_not_buy)\n",
    "print('\\n')\n",
    "\n",
    "#Resultado:\n",
    "p_yes = prob_yes2('Age','31...40')*prob_yes2('Income','Medium')*prob_yes2('Student','Yes')*prob_yes2('Credit_rating','Fair')*p_buy\n",
    "p_no = prob_no2('Age','31...40')*prob_no2('Income','Medium')*prob_no2('Student','Yes')*prob_no2('Credit_rating','Fair')*p_not_buy\n",
    "print('P(Yes|x’)=',p_yes)\n",
    "print('P(No|x’)=',p_no)\n",
    "if(p_yes>p_no):\n",
    "    print(\"Yes, he buys a computer.\")\n",
    "else:\n",
    "    print(\"No, he didn't buy a computer.\")"
   ]
  },
  {
   "cell_type": "markdown",
   "metadata": {},
   "source": [
    "## Exercício 2"
   ]
  },
  {
   "cell_type": "markdown",
   "metadata": {},
   "source": [
    "Use o Naïve Bayes Gaussiano para classificar o dataset Iris, e mais dois de sua escolha (os mesmos do trabalho anterior).\n",
    "\n",
    "Importante: Para solucionar este exercício, primeiramente será aplicado o PCA a fim de reduzir as dimensões dos datasets para uma dimensão e posteriormente, será aplicado o método Naïve Bayes Gaussiano. Como o PCA já foi implementado em aulas anteriores, será utilizada a biblioteca sckit-learn para esta etapa."
   ]
  },
  {
   "cell_type": "code",
   "execution_count": 9,
   "metadata": {
    "ExecuteTime": {
     "end_time": "2020-11-09T16:01:26.883326Z",
     "start_time": "2020-11-09T16:01:14.780938Z"
    }
   },
   "outputs": [],
   "source": [
    "from sklearn.datasets import load_iris\n",
    "from sklearn.decomposition import PCA"
   ]
  },
  {
   "cell_type": "markdown",
   "metadata": {},
   "source": [
    "### Dataset Iris\n",
    "Classificate into 'setosa', 'versicolor' or 'virginica'."
   ]
  },
  {
   "cell_type": "code",
   "execution_count": 10,
   "metadata": {
    "ExecuteTime": {
     "end_time": "2020-11-09T16:01:26.916237Z",
     "start_time": "2020-11-09T16:01:26.887316Z"
    }
   },
   "outputs": [],
   "source": [
    "#Load the dataset\n",
    "iris = load_iris()\n",
    "X = iris['data']\n",
    "iris['target_names']\n",
    "y = iris['target']\n",
    "\n",
    "#PCA to reduce for dimentions into only one\n",
    "pca = PCA(n_components = 1)\n",
    "pca.fit(iris['data'])\n",
    "Transformed_X = pca.transform(iris['data'])\n",
    "Transformed_X\n",
    "\n",
    "#Separate iris samples - 0-setosa, 1-versicolor, 2-virginica\n",
    "setosa = Transformed_X[y==0]\n",
    "versicolor = Transformed_X[y==1]\n",
    "virginica = Transformed_X[y==2]"
   ]
  },
  {
   "cell_type": "code",
   "execution_count": 11,
   "metadata": {
    "ExecuteTime": {
     "end_time": "2020-11-09T16:01:26.930200Z",
     "start_time": "2020-11-09T16:01:26.919230Z"
    }
   },
   "outputs": [],
   "source": [
    "#Função para calcular a probabilidade\n",
    "def prob_calc(std,mean):\n",
    "    z=[]\n",
    "    for x in Transformed_X:\n",
    "        z.append((1/(std*(2*np.pi)**(1/2))) * (np.exp(-((x-mean)**2) / (2*std**2))))\n",
    "    return z"
   ]
  },
  {
   "cell_type": "code",
   "execution_count": 12,
   "metadata": {
    "ExecuteTime": {
     "end_time": "2020-11-09T16:01:26.962117Z",
     "start_time": "2020-11-09T16:01:26.933193Z"
    }
   },
   "outputs": [
    {
     "name": "stdout",
     "output_type": "stream",
     "text": [
      "[0, 0, 0, 0, 0, 0, 0, 0, 0, 0, 0, 0, 0, 0, 0, 0, 0, 0, 0, 0, 0, 0, 0, 0, 0, 0, 0, 0, 0, 0, 0, 0, 0, 0, 0, 0, 0, 0, 0, 0, 0, 0, 0, 0, 0, 0, 0, 0, 0, 0, 1, 1, 2, 1, 1, 1, 1, 1, 1, 1, 1, 1, 1, 1, 1, 1, 1, 1, 1, 1, 1, 1, 1, 1, 1, 1, 2, 2, 1, 1, 1, 1, 1, 2, 1, 1, 1, 1, 1, 1, 1, 1, 1, 1, 1, 1, 1, 1, 1, 1, 2, 2, 2, 2, 2, 2, 1, 2, 2, 2, 2, 2, 2, 2, 2, 2, 2, 2, 2, 2, 2, 1, 2, 2, 2, 2, 1, 1, 2, 2, 2, 2, 2, 2, 2, 2, 2, 2, 1, 2, 2, 2, 2, 2, 2, 2, 2, 2, 2, 2]\n",
      "\n",
      "\n",
      "Porcentagem de acerto: 94.0\n",
      "Porcentagem de erro: 6.0\n"
     ]
    }
   ],
   "source": [
    "prob_0=prob_calc(np.std(setosa),np.mean(setosa))\n",
    "prob_1=prob_calc(np.std(versicolor),np.mean(versicolor))\n",
    "prob_2=prob_calc(np.std(virginica),np.mean(virginica))\n",
    "\n",
    "classification=[]\n",
    "for i in range(len(prob_0)):\n",
    "    if ((prob_0[i]>prob_1[i])&(prob_0[i]>prob_2[i])):\n",
    "        classification.append(0)\n",
    "    if ((prob_1[i]>prob_0[i])&(prob_1[i]>prob_2[i])):\n",
    "        classification.append(1)\n",
    "    if ((prob_2[i]>prob_0[i])&(prob_2[i]>prob_1[i])):\n",
    "        classification.append(2)\n",
    "print(classification)\n",
    "print('\\n')\n",
    "x=[]\n",
    "c=0\n",
    "e=0\n",
    "for i in range(len(classification)):\n",
    "    if (classification[i]==y[i]):\n",
    "        c=c+1\n",
    "    else:\n",
    "        e=e+1\n",
    "print('Porcentagem de acerto:',(c/y.shape[0])*100)\n",
    "print('Porcentagem de erro:',(e/y.shape[0])*100)"
   ]
  },
  {
   "cell_type": "markdown",
   "metadata": {},
   "source": [
    "Interpretação do resultado: Podemos observar que a porcentagem de erro é muito pequena comparada à porcentagem de acerto, e portanto, o método Naïve Bayes teve apresentou um resultado satisfatório para a classificação do dataset Iris."
   ]
  },
  {
   "cell_type": "markdown",
   "metadata": {},
   "source": [
    "### Dataset Wholesale customers data.csv\n",
    "Classificate into regions (Regions - Lisnon, Oporto or Other (Nominal))."
   ]
  },
  {
   "cell_type": "code",
   "execution_count": 26,
   "metadata": {
    "ExecuteTime": {
     "end_time": "2020-11-09T16:04:48.895737Z",
     "start_time": "2020-11-09T16:04:48.873796Z"
    }
   },
   "outputs": [],
   "source": [
    "# Importando o dataset\n",
    "X = pd.read_csv('data/Wholesale customers data.csv')\n",
    "\n",
    "#classify into region:\n",
    "region = X['Region']\n",
    "X.drop(columns=['Region','Channel'], inplace=True)\n",
    "\n",
    "#PCA to reduce for dimentions into only one\n",
    "pca = PCA(n_components = 1)\n",
    "pca.fit(X)\n",
    "Transformed_X = pca.transform(X)\n",
    "\n",
    "#Separate classes into 03 samples\n",
    "r1 = Transformed_X[region==1]\n",
    "r2 = Transformed_X[region==2]\n",
    "r3 = Transformed_X[region==3]"
   ]
  },
  {
   "cell_type": "code",
   "execution_count": 27,
   "metadata": {
    "ExecuteTime": {
     "end_time": "2020-11-09T16:04:50.127426Z",
     "start_time": "2020-11-09T16:04:50.083542Z"
    },
    "scrolled": true
   },
   "outputs": [
    {
     "name": "stdout",
     "output_type": "stream",
     "text": [
      "[2, 2, 2, 2, 3, 2, 2, 2, 2, 2, 2, 2, 3, 3, 3, 2, 2, 2, 1, 2, 2, 2, 3, 3, 3, 2, 2, 2, 2, 3, 2, 2, 1, 3, 2, 2, 3, 2, 2, 3, 3, 2, 2, 2, 2, 2, 2, 3, 2, 2, 2, 2, 3, 2, 3, 2, 2, 2, 2, 2, 2, 3, 2, 2, 2, 2, 2, 1, 2, 2, 2, 1, 2, 1, 2, 1, 2, 2, 2, 2, 2, 2, 2, 1, 2, 3, 3, 3, 2, 3, 2, 2, 2, 2, 2, 2, 2, 2, 2, 2, 2, 2, 2, 3, 2, 2, 2, 2, 2, 2, 2, 2, 1, 2, 2, 2, 2, 2, 1, 2, 2, 2, 2, 2, 3, 3, 1, 3, 2, 3, 2, 2, 2, 2, 2, 2, 2, 2, 2, 2, 2, 3, 3, 2, 2, 3, 2, 2, 2, 3, 2, 2, 2, 2, 2, 2, 2, 2, 2, 2, 2, 2, 2, 2, 2, 2, 2, 2, 2, 2, 2, 2, 2, 2, 2, 2, 3, 2, 2, 2, 2, 3, 2, 3, 2, 2, 2, 2, 2, 2, 2, 2, 2, 2, 2, 2, 3, 2, 2, 2, 2, 2, 3, 2, 2, 2, 2, 2, 2, 2, 2, 2, 2, 2, 2, 2, 2, 2, 2, 2, 2, 2, 2, 2, 2, 2, 1, 2, 2, 2, 2, 2, 3, 2, 2, 2, 2, 2, 2, 3, 3, 3, 2, 2, 2, 2, 2, 2, 2, 2, 2, 2, 2, 3, 2, 3, 2, 2, 3, 3, 2, 2, 3, 2, 2, 2, 2, 1, 2, 2, 2, 2, 2, 3, 2, 2, 3, 2, 2, 2, 2, 2, 3, 3, 3, 3, 2, 2, 2, 3, 2, 2, 2, 2, 1, 2, 2, 2, 2, 2, 2, 2, 2, 2, 2, 2, 2, 2, 2, 2, 2, 3, 2, 2, 2, 2, 2, 2, 2, 2, 2, 2, 2, 2, 3, 3, 2, 2, 2, 2, 2, 2, 3, 2, 2, 3, 2, 2, 2, 2, 2, 2, 2, 2, 2, 2, 2, 3, 2, 2, 2, 2, 2, 2, 2, 2, 3, 2, 2, 2, 1, 2, 2, 2, 2, 2, 2, 2, 3, 2, 3, 1, 2, 2, 2, 2, 2, 3, 2, 2, 3, 2, 3, 2, 2, 2, 2, 1, 2, 2, 2, 2, 2, 3, 2, 2, 2, 2, 2, 2, 2, 3, 3, 3, 2, 2, 3, 2, 2, 2, 2, 2, 2, 2, 2, 2, 2, 2, 2, 2, 2, 2, 3, 2, 2, 2, 2, 3, 2, 2, 2, 2, 1, 2, 2, 3, 3, 2, 2, 2]\n",
      "\n",
      "\n",
      "Porcentagem de acerto: 22.272727272727273\n",
      "Porcentagem de erro: 77.72727272727272\n"
     ]
    }
   ],
   "source": [
    "prob_1=prob_calc(np.std(one),np.mean(r1))\n",
    "prob_2=prob_calc(np.std(two),np.mean(r2))\n",
    "prob_3=prob_calc(np.std(three),np.mean(r3))\n",
    "\n",
    "classification=[]\n",
    "for i in range(len(prob_1)):\n",
    "    if ((prob_1[i]>prob_2[i])&(prob_1[i]>prob_3[i])):\n",
    "        classification.append(1)\n",
    "    if ((prob_2[i]>prob_1[i])&(prob_2[i]>prob_3[i])):\n",
    "        classification.append(2)\n",
    "    if ((prob_3[i]>prob_1[i])&(prob_3[i]>prob_2[i])):\n",
    "        classification.append(3)\n",
    "print(classification)\n",
    "print('\\n')\n",
    "\n",
    "#Análise do resultado obtido\n",
    "x=[]\n",
    "c=0\n",
    "e=0\n",
    "for i in range(len(classification)):\n",
    "    if (classification[i]==region[i]):\n",
    "        c=c+1\n",
    "    else:\n",
    "        e=e+1\n",
    "print('Porcentagem de acerto:',(c/region.shape[0])*100)\n",
    "print('Porcentagem de erro:',(e/region.shape[0])*100)"
   ]
  },
  {
   "cell_type": "markdown",
   "metadata": {
    "ExecuteTime": {
     "end_time": "2020-11-09T16:07:00.925575Z",
     "start_time": "2020-11-09T16:07:00.912580Z"
    }
   },
   "source": [
    "Interpretação do resultado: Podemos observar que a porcentagem de erro é muito superior à % de acerto. Portanto, neste caso não é recomendado classificar o dataset através de regiões utilizando o método Naive Bayes, uma vez que o resultado obtido não terá uma precisão satisfatória."
   ]
  },
  {
   "cell_type": "markdown",
   "metadata": {},
   "source": [
    "### Wine dataset \n",
    "Classificate into 'class_0', 'class_1' or 'class_2'."
   ]
  },
  {
   "cell_type": "code",
   "execution_count": 24,
   "metadata": {
    "ExecuteTime": {
     "end_time": "2020-11-09T16:03:50.610062Z",
     "start_time": "2020-11-09T16:03:50.595098Z"
    }
   },
   "outputs": [],
   "source": [
    "#Import dataset\n",
    "from sklearn.datasets import load_wine\n",
    "wine = load_wine()\n",
    "X = wine['data']\n",
    "y = wine['target']\n",
    "\n",
    "#PCA to reduce for dimentions into only one\n",
    "pca = PCA(n_components = 1)\n",
    "pca.fit(X)\n",
    "Transformed_X = pca.transform(X)\n",
    "Transformed_X\n",
    "\n",
    "#Separate classes into 03 samples\n",
    "c0 = Transformed_X[y==0]\n",
    "c1 = Transformed_X[y==1]\n",
    "c2 = Transformed_X[y==2]"
   ]
  },
  {
   "cell_type": "code",
   "execution_count": 25,
   "metadata": {
    "ExecuteTime": {
     "end_time": "2020-11-09T16:03:50.735723Z",
     "start_time": "2020-11-09T16:03:50.711789Z"
    }
   },
   "outputs": [
    {
     "name": "stdout",
     "output_type": "stream",
     "text": [
      "[0, 0, 0, 0, 2, 0, 0, 0, 0, 0, 0, 0, 0, 0, 0, 0, 0, 0, 0, 0, 2, 2, 0, 0, 0, 0, 0, 0, 0, 0, 0, 0, 0, 0, 0, 0, 0, 0, 0, 2, 2, 0, 0, 2, 0, 0, 0, 0, 0, 0, 0, 0, 0, 0, 0, 0, 0, 0, 0, 1, 2, 1, 2, 1, 1, 2, 1, 1, 2, 2, 0, 1, 1, 0, 0, 1, 1, 1, 2, 1, 1, 2, 2, 1, 1, 1, 1, 2, 2, 2, 1, 1, 1, 1, 1, 0, 2, 1, 2, 1, 2, 2, 1, 1, 2, 1, 1, 1, 1, 2, 2, 1, 2, 1, 1, 1, 1, 1, 1, 2, 2, 1, 1, 1, 1, 1, 1, 1, 1, 2, 2, 1, 2, 2, 2, 2, 2, 1, 2, 2, 2, 2, 1, 2, 0, 0, 1, 2, 2, 2, 1, 1, 1, 2, 2, 2, 1, 0, 2, 2, 1, 2, 2, 2, 2, 1, 2, 2, 2, 2, 1, 1, 2, 2, 2, 0, 0, 2]\n",
      "\n",
      "\n",
      "Porcentagem de acerto: 72.47191011235955\n",
      "Porcentagem de erro: 27.52808988764045\n"
     ]
    }
   ],
   "source": [
    "prob_0=prob_calc(np.std(c0),np.mean(c0))\n",
    "prob_1=prob_calc(np.std(c1),np.mean(c1))\n",
    "prob_2=prob_calc(np.std(c2),np.mean(c2))\n",
    "\n",
    "classification=[]\n",
    "for i in range(len(prob_0)):\n",
    "    if ((prob_0[i]>prob_1[i])&(prob_0[i]>prob_2[i])):\n",
    "        classification.append(0)\n",
    "    if ((prob_1[i]>prob_0[i])&(prob_1[i]>prob_2[i])):\n",
    "        classification.append(1)\n",
    "    if ((prob_2[i]>prob_0[i])&(prob_2[i]>prob_1[i])):\n",
    "        classification.append(2)\n",
    "print(classification)\n",
    "print('\\n')\n",
    "#Análise do resultado obtido\n",
    "x=[]\n",
    "c=0\n",
    "e=0\n",
    "for i in range(len(classification)):\n",
    "    if (classification[i]==y[i]):\n",
    "        c=c+1\n",
    "    else:\n",
    "        e=e+1\n",
    "print('Porcentagem de acerto:',(c/y.shape[0])*100)\n",
    "print('Porcentagem de erro:',(e/y.shape[0])*100)"
   ]
  },
  {
   "cell_type": "markdown",
   "metadata": {},
   "source": [
    "Interpretação do resultado: Podemos observar que a porcentagem de erro é muito pequena comparada à porcentagem de acerto, e portanto, o método Naïve Bayes teve apresentou um resultado satisfatório para a classificação do dataset Wine."
   ]
  }
 ],
 "metadata": {
  "hide_input": false,
  "kernelspec": {
   "display_name": "Python 3",
   "language": "python",
   "name": "python3"
  },
  "language_info": {
   "codemirror_mode": {
    "name": "ipython",
    "version": 3
   },
   "file_extension": ".py",
   "mimetype": "text/x-python",
   "name": "python",
   "nbconvert_exporter": "python",
   "pygments_lexer": "ipython3",
   "version": "3.8.5"
  },
  "toc": {
   "base_numbering": 1,
   "nav_menu": {},
   "number_sections": true,
   "sideBar": true,
   "skip_h1_title": false,
   "title_cell": "Table of Contents",
   "title_sidebar": "Contents",
   "toc_cell": false,
   "toc_position": {
    "height": "calc(100% - 180px)",
    "left": "10px",
    "top": "150px",
    "width": "260.179px"
   },
   "toc_section_display": true,
   "toc_window_display": true
  },
  "varInspector": {
   "cols": {
    "lenName": 16,
    "lenType": 16,
    "lenVar": 40
   },
   "kernels_config": {
    "python": {
     "delete_cmd_postfix": "",
     "delete_cmd_prefix": "del ",
     "library": "var_list.py",
     "varRefreshCmd": "print(var_dic_list())"
    },
    "r": {
     "delete_cmd_postfix": ") ",
     "delete_cmd_prefix": "rm(",
     "library": "var_list.r",
     "varRefreshCmd": "cat(var_dic_list()) "
    }
   },
   "types_to_exclude": [
    "module",
    "function",
    "builtin_function_or_method",
    "instance",
    "_Feature"
   ],
   "window_display": false
  }
 },
 "nbformat": 4,
 "nbformat_minor": 4
}
