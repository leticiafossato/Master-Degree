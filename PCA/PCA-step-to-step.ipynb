{
 "cells": [
  {
   "cell_type": "markdown",
   "metadata": {},
   "source": [
    "# Principal Component Analysis (PCA)"
   ]
  },
  {
   "cell_type": "markdown",
   "metadata": {
    "ExecuteTime": {
     "end_time": "2020-10-12T20:53:17.544444Z",
     "start_time": "2020-10-12T20:53:17.528446Z"
    }
   },
   "source": [
    "## Exercício 01"
   ]
  },
  {
   "cell_type": "markdown",
   "metadata": {},
   "source": [
    "Implemente o PCA em C / C++ / Java / Python.<br>\n",
    "- PCA com 2 componentes.<br>\n",
    "- Teste o funcionamento usando:<br>\n",
    "“Alps Water”;<br>\n",
    "“US Census Dataset”.<br>"
   ]
  },
  {
   "cell_type": "markdown",
   "metadata": {
    "ExecuteTime": {
     "end_time": "2020-10-12T20:51:53.526880Z",
     "start_time": "2020-10-12T20:51:52.088809Z"
    }
   },
   "source": [
    "### Definição das funções"
   ]
  },
  {
   "cell_type": "code",
   "execution_count": 1,
   "metadata": {
    "ExecuteTime": {
     "end_time": "2020-10-15T16:01:07.610136Z",
     "start_time": "2020-10-15T16:01:06.861137Z"
    }
   },
   "outputs": [],
   "source": [
    "#Definição da biblioteca pandas para importar o dataset\n",
    "import pandas as pd\n",
    "\n",
    "#Definição da biblioteca numpy para calculo dos auto-valores\n",
    "import numpy as np"
   ]
  },
  {
   "cell_type": "markdown",
   "metadata": {},
   "source": [
    "#### Dataset - Subtração da média"
   ]
  },
  {
   "cell_type": "code",
   "execution_count": 2,
   "metadata": {
    "ExecuteTime": {
     "end_time": "2020-10-15T16:01:07.640055Z",
     "start_time": "2020-10-15T16:01:07.619111Z"
    }
   },
   "outputs": [],
   "source": [
    "#Subtraindo a média para definição do novo Dataset:\n",
    "\n",
    "#Cálculo da média:\n",
    "def calculo_mean(x):\n",
    "    soma=[]\n",
    "    soma_i = 0\n",
    "    for i in range(len(x)):\n",
    "        soma_i= soma_i + x[i]\n",
    "        media = (soma_i)/len(x)\n",
    "    return media\n",
    "\n",
    "\n",
    "def subtract_mean(x,y,z=0):\n",
    "    new_X = [i - calculo_mean(x) for i in x]\n",
    "    new_Y = [i - calculo_mean(y) for i in y]\n",
    "    \n",
    "    if z==0:\n",
    "    #Defining dataset after subtract mean:\n",
    "        dataset2=[[i,j] for i, j in zip(new_X, new_Y)]\n",
    "        return dataset2\n",
    "    \n",
    "    else:\n",
    "        new_Z = [i - calculo_mean(z) for i in z]\n",
    "        dataset3=[[i,j,z] for i, j, z in zip(new_X, new_Y,new_Z)]\n",
    "        return dataset3"
   ]
  },
  {
   "cell_type": "markdown",
   "metadata": {},
   "source": [
    "#### Cálculo da matriz de covariância"
   ]
  },
  {
   "cell_type": "code",
   "execution_count": 3,
   "metadata": {
    "ExecuteTime": {
     "end_time": "2020-10-15T16:01:07.670971Z",
     "start_time": "2020-10-15T16:01:07.648032Z"
    }
   },
   "outputs": [],
   "source": [
    "#Cálculo da matriz de covariância\n",
    "def cov_matrix(dataset):\n",
    "    if len(dataset[0])==2:\n",
    "        soma=0\n",
    "        for i in range(len(dataset)):\n",
    "            soma = soma + dataset[i][0]*dataset[i][1]\n",
    "            diag_cov_element = soma/(len(dataset)-1)\n",
    "        diag_cov_element\n",
    "\n",
    "        soma=0\n",
    "        for i in range(len(dataset)):\n",
    "            soma = soma + dataset[i][0]*dataset[i][0]\n",
    "            first_cov_element = soma/(len(dataset)-1)\n",
    "        first_cov_element\n",
    "\n",
    "        soma=0\n",
    "        for i in range(len(dataset)):\n",
    "            soma = soma + dataset[i][1]*dataset[i][1]\n",
    "            last_cov_element = soma/(len(dataset)-1)\n",
    "        last_cov_element\n",
    "\n",
    "        covariance_matrix = [[first_cov_element,diag_cov_element],[diag_cov_element,last_cov_element]]\n",
    "        return covariance_matrix\n",
    "    \n",
    "    if len(dataset[0])==3:\n",
    "        #cov(x,x)\n",
    "        soma=0\n",
    "        for i in range(len(dataset)):\n",
    "            soma = soma + dataset[i][0]*dataset[i][0]\n",
    "            cov_x_x = soma/(len(dataset)-1)\n",
    "\n",
    "        #cov(y,y)\n",
    "        soma=0\n",
    "        for i in range(len(dataset)):\n",
    "            soma = soma + dataset[i][1]*dataset[i][1]\n",
    "            cov_y_y = soma/(len(dataset)-1)\n",
    "\n",
    "        #cov(z,z)\n",
    "        soma=0\n",
    "        for i in range(len(dataset)):\n",
    "            soma = soma + dataset[i][2]*dataset[i][2]\n",
    "            cov_z_z = soma/(len(dataset)-1)\n",
    "\n",
    "        #cov(x,y) = cov(y,x)\n",
    "        soma=0\n",
    "        for i in range(len(dataset)):\n",
    "            soma = soma + dataset[i][0]*dataset[i][1]\n",
    "            cov_x_y = soma/(len(dataset)-1)\n",
    "\n",
    "\n",
    "        #cov(x,z) = cov(z,x)\n",
    "        soma=0\n",
    "        for i in range(len(dataset)):\n",
    "            soma = soma + dataset[i][0]*dataset[i][2]\n",
    "            cov_x_z = soma/(len(dataset)-1)\n",
    "\n",
    "        #cov(y,z) = cov(z,y)\n",
    "        soma=0\n",
    "        for i in range(len(dataset)):\n",
    "            soma = soma + dataset[i][1]*dataset[i][2]\n",
    "            cov_y_z = soma/(len(dataset)-1)\n",
    "\n",
    "\n",
    "        covariance_matrix = [[cov_x_x,cov_x_y,cov_x_z],\n",
    "                            [cov_x_y,cov_y_y,cov_y_z],\n",
    "                            [cov_x_z,cov_y_z,cov_z_z]]\n",
    "        return covariance_matrix"
   ]
  },
  {
   "cell_type": "markdown",
   "metadata": {},
   "source": [
    "#### Cálculo da matriz transposta"
   ]
  },
  {
   "cell_type": "code",
   "execution_count": 4,
   "metadata": {
    "ExecuteTime": {
     "end_time": "2020-10-15T16:01:07.718515Z",
     "start_time": "2020-10-15T16:01:07.673963Z"
    }
   },
   "outputs": [],
   "source": [
    "#Função para calcular a matriz transposta:\n",
    "\n",
    "def transposta(X):\n",
    "    \"\"\"Retorna a transposta da matriz de entrada\"\"\"\n",
    "    return [[X[j][i] for j in range(len(X))] for i in range(len(X[0]))] "
   ]
  },
  {
   "cell_type": "markdown",
   "metadata": {},
   "source": [
    "#### Multiplicação de duas matrizes"
   ]
  },
  {
   "cell_type": "code",
   "execution_count": 5,
   "metadata": {
    "ExecuteTime": {
     "end_time": "2020-10-15T16:01:07.748432Z",
     "start_time": "2020-10-15T16:01:07.730486Z"
    }
   },
   "outputs": [],
   "source": [
    "#Multiplicação de duas matrizes:\n",
    "\n",
    "def multiply_matrix_matrix(mult1,mult2):\n",
    "    \"\"\"Retorna o produto escalar de duas matrizes\"\"\"\n",
    "    x = []\n",
    "    for i in range(0,len(mult1)):\n",
    "        y=[]\n",
    "        for j in range(0,len(mult2[0])):\n",
    "            total = 0\n",
    "            for k in range(0,len(mult1[0])):\n",
    "                total = total + mult1[i][k]*mult2[k][j]\n",
    "            y.append(total)\n",
    "        x.append(y)\n",
    "\n",
    "    return x"
   ]
  },
  {
   "cell_type": "markdown",
   "metadata": {},
   "source": [
    "### Alps Water"
   ]
  },
  {
   "cell_type": "code",
   "execution_count": 6,
   "metadata": {
    "ExecuteTime": {
     "end_time": "2020-10-15T16:01:07.859106Z",
     "start_time": "2020-10-15T16:01:07.752422Z"
    }
   },
   "outputs": [
    {
     "data": {
      "text/html": [
       "<div>\n",
       "<style scoped>\n",
       "    .dataframe tbody tr th:only-of-type {\n",
       "        vertical-align: middle;\n",
       "    }\n",
       "\n",
       "    .dataframe tbody tr th {\n",
       "        vertical-align: top;\n",
       "    }\n",
       "\n",
       "    .dataframe thead th {\n",
       "        text-align: right;\n",
       "    }\n",
       "</style>\n",
       "<table border=\"1\" class=\"dataframe\">\n",
       "  <thead>\n",
       "    <tr style=\"text-align: right;\">\n",
       "      <th></th>\n",
       "      <th>Pressure</th>\n",
       "      <th>Boiling</th>\n",
       "    </tr>\n",
       "  </thead>\n",
       "  <tbody>\n",
       "    <tr>\n",
       "      <th>0</th>\n",
       "      <td>20.79</td>\n",
       "      <td>194.5</td>\n",
       "    </tr>\n",
       "    <tr>\n",
       "      <th>1</th>\n",
       "      <td>20.79</td>\n",
       "      <td>194.3</td>\n",
       "    </tr>\n",
       "    <tr>\n",
       "      <th>2</th>\n",
       "      <td>22.40</td>\n",
       "      <td>197.9</td>\n",
       "    </tr>\n",
       "    <tr>\n",
       "      <th>3</th>\n",
       "      <td>22.67</td>\n",
       "      <td>198.4</td>\n",
       "    </tr>\n",
       "    <tr>\n",
       "      <th>4</th>\n",
       "      <td>23.15</td>\n",
       "      <td>199.4</td>\n",
       "    </tr>\n",
       "  </tbody>\n",
       "</table>\n",
       "</div>"
      ],
      "text/plain": [
       "   Pressure  Boiling\n",
       "0     20.79    194.5\n",
       "1     20.79    194.3\n",
       "2     22.40    197.9\n",
       "3     22.67    198.4\n",
       "4     23.15    199.4"
      ]
     },
     "execution_count": 6,
     "metadata": {},
     "output_type": "execute_result"
    }
   ],
   "source": [
    "#1° Passo - Pegar os dados / Importar o dataset\n",
    "alps_water = pd.read_csv('DataSets/alpswater1.txt',sep='\\t',header=None)\n",
    "alps_water.columns= ['Row','Pressure','Boiling']\n",
    "alps_water.drop(columns='Row', inplace=True)\n",
    "alps_water.head()"
   ]
  },
  {
   "cell_type": "code",
   "execution_count": 7,
   "metadata": {
    "ExecuteTime": {
     "end_time": "2020-10-15T16:01:07.876057Z",
     "start_time": "2020-10-15T16:01:07.863092Z"
    }
   },
   "outputs": [
    {
     "data": {
      "text/plain": [
       "[[194.5, 20.79],\n",
       " [194.3, 20.79],\n",
       " [197.9, 22.4],\n",
       " [198.4, 22.67],\n",
       " [199.4, 23.15],\n",
       " [199.9, 23.35],\n",
       " [200.9, 23.89],\n",
       " [201.1, 23.99],\n",
       " [201.4, 24.02],\n",
       " [201.3, 24.01],\n",
       " [203.6, 25.14],\n",
       " [204.6, 26.57],\n",
       " [209.5, 28.49],\n",
       " [208.6, 27.76],\n",
       " [210.7, 29.04],\n",
       " [211.9, 29.88],\n",
       " [212.2, 30.06]]"
      ]
     },
     "execution_count": 7,
     "metadata": {},
     "output_type": "execute_result"
    }
   ],
   "source": [
    "# 1° Passo - Transformando as entradas em listas\n",
    "x_alps = [i for i in alps_water['Boiling']]\n",
    "y_alps = [i for i in alps_water['Pressure']]\n",
    "\n",
    "#Defining dataset to apply PCA\n",
    "dataset_alps=[[i,j] for i, j in zip(x_alps, y_alps)]\n",
    "dataset_alps"
   ]
  },
  {
   "cell_type": "code",
   "execution_count": 8,
   "metadata": {
    "ExecuteTime": {
     "end_time": "2020-10-15T16:01:07.906979Z",
     "start_time": "2020-10-15T16:01:07.883039Z"
    }
   },
   "outputs": [
    {
     "data": {
      "text/plain": [
       "[[-8.452941176470574, -4.268823529411769],\n",
       " [-8.652941176470563, -4.268823529411769],\n",
       " [-5.0529411764705685, -2.6588235294117695],\n",
       " [-4.5529411764705685, -2.3888235294117663],\n",
       " [-3.5529411764705685, -1.9088235294117695],\n",
       " [-3.0529411764705685, -1.7088235294117666],\n",
       " [-2.0529411764705685, -1.1688235294117675],\n",
       " [-1.8529411764705799, -1.0688235294117696],\n",
       " [-1.5529411764705685, -1.0388235294117685],\n",
       " [-1.6529411764705628, -1.0488235294117665],\n",
       " [0.6470588235294201, 0.08117647058823252],\n",
       " [1.6470588235294201, 1.5111764705882322],\n",
       " [6.547058823529426, 3.4311764705882304],\n",
       " [5.64705882352942, 2.7011764705882335],\n",
       " [7.747058823529414, 3.981176470588231],\n",
       " [8.947058823529431, 4.821176470588231],\n",
       " [9.247058823529414, 5.001176470588231]]"
      ]
     },
     "execution_count": 8,
     "metadata": {},
     "output_type": "execute_result"
    }
   ],
   "source": [
    "#2° Passo - Subtraindo a média\n",
    "new_dataset_alps = subtract_mean(x_alps,y_alps)\n",
    "new_dataset_alps"
   ]
  },
  {
   "cell_type": "code",
   "execution_count": 9,
   "metadata": {
    "ExecuteTime": {
     "end_time": "2020-10-15T16:01:08.032358Z",
     "start_time": "2020-10-15T16:01:07.909967Z"
    }
   },
   "outputs": [
    {
     "data": {
      "text/plain": [
       "[[33.17389705882348, 17.346378676470575],\n",
       " [17.346378676470575, 9.121111029411763]]"
      ]
     },
     "execution_count": 9,
     "metadata": {},
     "output_type": "execute_result"
    }
   ],
   "source": [
    "#3° Passo - Cálculo da matriz de covariância\n",
    "covariance_matrix_alps = cov_matrix(new_dataset_alps)\n",
    "covariance_matrix_alps"
   ]
  },
  {
   "cell_type": "code",
   "execution_count": 10,
   "metadata": {
    "ExecuteTime": {
     "end_time": "2020-10-15T16:01:08.187208Z",
     "start_time": "2020-10-15T16:01:08.038346Z"
    }
   },
   "outputs": [
    {
     "data": {
      "text/plain": [
       "array([4.22551089e+01, 3.98992029e-02])"
      ]
     },
     "execution_count": 10,
     "metadata": {},
     "output_type": "execute_result"
    }
   ],
   "source": [
    "#4° Passo - Encontrar os autovalores, checar se estão na ordem\n",
    "autovalores_alps = np.linalg.eig(covariance_matrix_alps)[0]\n",
    "autovalores_alps"
   ]
  },
  {
   "cell_type": "code",
   "execution_count": 11,
   "metadata": {
    "ExecuteTime": {
     "end_time": "2020-10-15T16:01:08.233083Z",
     "start_time": "2020-10-15T16:01:08.190203Z"
    }
   },
   "outputs": [
    {
     "data": {
      "text/plain": [
       "array([[ 0.88593619, -0.46380714],\n",
       "       [ 0.46380714,  0.88593619]])"
      ]
     },
     "execution_count": 11,
     "metadata": {},
     "output_type": "execute_result"
    }
   ],
   "source": [
    "#4° Passo - Encontrar os autovetores\n",
    "autovetores_alps = np.linalg.eig(covariance_matrix_alps)[1]\n",
    "autovetores_alps"
   ]
  },
  {
   "cell_type": "code",
   "execution_count": 12,
   "metadata": {
    "ExecuteTime": {
     "end_time": "2020-10-15T16:01:08.264666Z",
     "start_time": "2020-10-15T16:01:08.236076Z"
    },
    "code_folding": []
   },
   "outputs": [
    {
     "data": {
      "text/plain": [
       "array([[ 0.88593619, -0.46380714],\n",
       "       [ 0.46380714,  0.88593619]])"
      ]
     },
     "execution_count": 12,
     "metadata": {},
     "output_type": "execute_result"
    }
   ],
   "source": [
    "#5° Passo - Escolher os componentes\n",
    "FeatureVector = autovetores_alps\n",
    "FeatureVector "
   ]
  },
  {
   "cell_type": "code",
   "execution_count": 13,
   "metadata": {
    "ExecuteTime": {
     "end_time": "2020-10-15T16:01:08.295631Z",
     "start_time": "2020-10-15T16:01:08.266912Z"
    },
    "code_folding": []
   },
   "outputs": [
    {
     "data": {
      "text/plain": [
       "[[-9.46867735263238, 0.13862918119196577],\n",
       " [-9.64586459136409, 0.23139060868544403],\n",
       " [-5.709764802870609, -0.011957814406917233],\n",
       " [-5.141568778925107, -0.004658610852802614],\n",
       " [-4.033005159282153, -0.043216375364096615],\n",
       " [-3.4972756349593705, -0.0979327053660839],\n",
       " [-2.3608835870683698, -0.0833342982578602],\n",
       " [-2.1373156345899202, -0.08750210638548084],\n",
       " [-1.8576205623683082, -0.2000661618159525],\n",
       " [-1.9508522531088361, -0.16254481000579746],\n",
       " [0.6109030576440994, -0.22819332734663744],\n",
       " [2.1600834578811017, 0.5748882921177365],\n",
       " [7.3916805107456645, 0.003230810351890767],\n",
       " [6.2557587261017105, -0.22607618729820267],\n",
       " [8.709897868743049, -0.0660728480967765],\n",
       " [10.162619296606008, 0.1215449896155345],\n",
       " [10.511885439447706, 0.1418713632338635]]"
      ]
     },
     "execution_count": 13,
     "metadata": {},
     "output_type": "execute_result"
    }
   ],
   "source": [
    "#6° Passo - Derive the new \n",
    "#Multiplicar os autovetores pela matriz após subtração da média:\n",
    "#Conferir resultado :\n",
    "#np.matmul(pca.components_,transposta(new_dataset_alps))\n",
    "pca_alps = multiply_matrix_matrix(transposta(FeatureVector),transposta(new_dataset_alps))\n",
    "pca_alps\n",
    "\n",
    "#Organizando a resposta\n",
    "pca_alps_answer = [[pca_alps[0][i],pca_alps[1][i]] for i in range(len(pca_alps[0]))]\n",
    "pca_alps_answer"
   ]
  },
  {
   "cell_type": "code",
   "execution_count": 14,
   "metadata": {
    "ExecuteTime": {
     "end_time": "2020-10-15T16:01:16.163191Z",
     "start_time": "2020-10-15T16:01:08.298625Z"
    }
   },
   "outputs": [
    {
     "data": {
      "text/plain": [
       "array([[-9.46867735e+00,  1.38629181e-01],\n",
       "       [-9.64586459e+00,  2.31390609e-01],\n",
       "       [-5.70976480e+00, -1.19578144e-02],\n",
       "       [-5.14156878e+00, -4.65861085e-03],\n",
       "       [-4.03300516e+00, -4.32163754e-02],\n",
       "       [-3.49727563e+00, -9.79327054e-02],\n",
       "       [-2.36088359e+00, -8.33342983e-02],\n",
       "       [-2.13731563e+00, -8.75021064e-02],\n",
       "       [-1.85762056e+00, -2.00066162e-01],\n",
       "       [-1.95085225e+00, -1.62544810e-01],\n",
       "       [ 6.10903058e-01, -2.28193327e-01],\n",
       "       [ 2.16008346e+00,  5.74888292e-01],\n",
       "       [ 7.39168051e+00,  3.23081035e-03],\n",
       "       [ 6.25575873e+00, -2.26076187e-01],\n",
       "       [ 8.70989787e+00, -6.60728481e-02],\n",
       "       [ 1.01626193e+01,  1.21544990e-01],\n",
       "       [ 1.05118854e+01,  1.41871363e-01]])"
      ]
     },
     "execution_count": 14,
     "metadata": {},
     "output_type": "execute_result"
    }
   ],
   "source": [
    "#Checando a resposta\n",
    "import numpy as np\n",
    "from sklearn.decomposition import PCA\n",
    "pca = PCA(n_components = 2)\n",
    "pca.fit(dataset_alps)\n",
    "pca.explained_variance_ratio_\n",
    "pca.singular_values_\n",
    "Transformed_X = pca.transform(dataset_alps)\n",
    "Transformed_X"
   ]
  },
  {
   "cell_type": "markdown",
   "metadata": {},
   "source": [
    "### US Census Dataset"
   ]
  },
  {
   "cell_type": "code",
   "execution_count": 15,
   "metadata": {
    "ExecuteTime": {
     "end_time": "2020-10-15T16:01:16.195107Z",
     "start_time": "2020-10-15T16:01:16.168182Z"
    }
   },
   "outputs": [
    {
     "data": {
      "text/html": [
       "<div>\n",
       "<style scoped>\n",
       "    .dataframe tbody tr th:only-of-type {\n",
       "        vertical-align: middle;\n",
       "    }\n",
       "\n",
       "    .dataframe tbody tr th {\n",
       "        vertical-align: top;\n",
       "    }\n",
       "\n",
       "    .dataframe thead th {\n",
       "        text-align: right;\n",
       "    }\n",
       "</style>\n",
       "<table border=\"1\" class=\"dataframe\">\n",
       "  <thead>\n",
       "    <tr style=\"text-align: right;\">\n",
       "      <th></th>\n",
       "      <th>x</th>\n",
       "      <th>y</th>\n",
       "    </tr>\n",
       "  </thead>\n",
       "  <tbody>\n",
       "    <tr>\n",
       "      <th>0</th>\n",
       "      <td>1900</td>\n",
       "      <td>75.995</td>\n",
       "    </tr>\n",
       "    <tr>\n",
       "      <th>1</th>\n",
       "      <td>1910</td>\n",
       "      <td>91.972</td>\n",
       "    </tr>\n",
       "    <tr>\n",
       "      <th>2</th>\n",
       "      <td>1920</td>\n",
       "      <td>105.711</td>\n",
       "    </tr>\n",
       "    <tr>\n",
       "      <th>3</th>\n",
       "      <td>1930</td>\n",
       "      <td>123.203</td>\n",
       "    </tr>\n",
       "    <tr>\n",
       "      <th>4</th>\n",
       "      <td>1940</td>\n",
       "      <td>131.669</td>\n",
       "    </tr>\n",
       "    <tr>\n",
       "      <th>5</th>\n",
       "      <td>1950</td>\n",
       "      <td>150.697</td>\n",
       "    </tr>\n",
       "    <tr>\n",
       "      <th>6</th>\n",
       "      <td>1960</td>\n",
       "      <td>179.323</td>\n",
       "    </tr>\n",
       "    <tr>\n",
       "      <th>7</th>\n",
       "      <td>1970</td>\n",
       "      <td>203.212</td>\n",
       "    </tr>\n",
       "    <tr>\n",
       "      <th>8</th>\n",
       "      <td>1980</td>\n",
       "      <td>226.505</td>\n",
       "    </tr>\n",
       "    <tr>\n",
       "      <th>9</th>\n",
       "      <td>1990</td>\n",
       "      <td>249.633</td>\n",
       "    </tr>\n",
       "    <tr>\n",
       "      <th>10</th>\n",
       "      <td>2000</td>\n",
       "      <td>281.422</td>\n",
       "    </tr>\n",
       "  </tbody>\n",
       "</table>\n",
       "</div>"
      ],
      "text/plain": [
       "       x        y\n",
       "0   1900   75.995\n",
       "1   1910   91.972\n",
       "2   1920  105.711\n",
       "3   1930  123.203\n",
       "4   1940  131.669\n",
       "5   1950  150.697\n",
       "6   1960  179.323\n",
       "7   1970  203.212\n",
       "8   1980  226.505\n",
       "9   1990  249.633\n",
       "10  2000  281.422"
      ]
     },
     "execution_count": 15,
     "metadata": {},
     "output_type": "execute_result"
    }
   ],
   "source": [
    "#1° Passo - Pegar os dados / Importar o dataset\n",
    "us_census = pd.read_csv('DataSets/US-Census.txt', sep='\\t', header=None)\n",
    "us_census.columns = ['x','y'] #atribuição de nomes às colunas\n",
    "us_census "
   ]
  },
  {
   "cell_type": "code",
   "execution_count": 16,
   "metadata": {
    "ExecuteTime": {
     "end_time": "2020-10-15T16:01:16.226024Z",
     "start_time": "2020-10-15T16:01:16.198099Z"
    }
   },
   "outputs": [
    {
     "data": {
      "text/plain": [
       "[[75.995, 1900],\n",
       " [91.972, 1910],\n",
       " [105.711, 1920],\n",
       " [123.203, 1930],\n",
       " [131.669, 1940],\n",
       " [150.697, 1950],\n",
       " [179.323, 1960],\n",
       " [203.212, 1970],\n",
       " [226.505, 1980],\n",
       " [249.633, 1990],\n",
       " [281.422, 2000]]"
      ]
     },
     "execution_count": 16,
     "metadata": {},
     "output_type": "execute_result"
    }
   ],
   "source": [
    "# 1° Passo - Transformando as entradas em listas\n",
    "x_us = [i for i in us_census['x']]\n",
    "y_us = [i for i in us_census['y']]\n",
    "dataset_us = [[i,j] for i,j in zip(y_us,x_us)]\n",
    "dataset_us"
   ]
  },
  {
   "cell_type": "code",
   "execution_count": 17,
   "metadata": {
    "ExecuteTime": {
     "end_time": "2020-10-15T16:01:16.240985Z",
     "start_time": "2020-10-15T16:01:16.230015Z"
    }
   },
   "outputs": [
    {
     "data": {
      "text/plain": [
       "[[-89.39972727272726, -50.0],\n",
       " [-73.42272727272727, -40.0],\n",
       " [-59.68372727272727, -30.0],\n",
       " [-42.19172727272726, -20.0],\n",
       " [-33.725727272727255, -10.0],\n",
       " [-14.697727272727263, 0.0],\n",
       " [13.928272727272741, 10.0],\n",
       " [37.81727272727272, 20.0],\n",
       " [61.11027272727273, 30.0],\n",
       " [84.23827272727274, 40.0],\n",
       " [116.02727272727276, 50.0]]"
      ]
     },
     "execution_count": 17,
     "metadata": {},
     "output_type": "execute_result"
    }
   ],
   "source": [
    "#2° Passo - Subtraindo a média\n",
    "new_dataset_us = subtract_mean(y_us,x_us)\n",
    "new_dataset_us"
   ]
  },
  {
   "cell_type": "code",
   "execution_count": 18,
   "metadata": {
    "ExecuteTime": {
     "end_time": "2020-10-15T16:01:16.271902Z",
     "start_time": "2020-10-15T16:01:16.243977Z"
    }
   },
   "outputs": [
    {
     "data": {
      "text/plain": [
       "[[4599.596807418182, 2227.833], [2227.833, 1100.0]]"
      ]
     },
     "execution_count": 18,
     "metadata": {},
     "output_type": "execute_result"
    }
   ],
   "source": [
    "#3° Passo - Cálculo da matriz de covariância\n",
    "covariance_matrix_us = cov_matrix(new_dataset_us)\n",
    "covariance_matrix_us"
   ]
  },
  {
   "cell_type": "code",
   "execution_count": 19,
   "metadata": {
    "ExecuteTime": {
     "end_time": "2020-10-15T16:01:16.302818Z",
     "start_time": "2020-10-15T16:01:16.275890Z"
    }
   },
   "outputs": [
    {
     "data": {
      "text/plain": [
       "array([5682.64755774,   16.94924967])"
      ]
     },
     "execution_count": 19,
     "metadata": {},
     "output_type": "execute_result"
    }
   ],
   "source": [
    "#4° Passo - Encontrar os autovalores\n",
    "autovalores_us = np.linalg.eig(covariance_matrix_us)[0]\n",
    "autovalores_us"
   ]
  },
  {
   "cell_type": "code",
   "execution_count": 20,
   "metadata": {
    "ExecuteTime": {
     "end_time": "2020-10-15T16:01:16.333735Z",
     "start_time": "2020-10-15T16:01:16.310798Z"
    }
   },
   "outputs": [
    {
     "data": {
      "text/plain": [
       "array([[ 0.89935573, -0.43721765],\n",
       "       [ 0.43721765,  0.89935573]])"
      ]
     },
     "execution_count": 20,
     "metadata": {},
     "output_type": "execute_result"
    }
   ],
   "source": [
    "#4° Passo - Encontrar os autovetores\n",
    "autovetores_us = np.linalg.eig(covariance_matrix_us)[1]\n",
    "autovetores_us"
   ]
  },
  {
   "cell_type": "code",
   "execution_count": 21,
   "metadata": {
    "ExecuteTime": {
     "end_time": "2020-10-15T16:01:16.349693Z",
     "start_time": "2020-10-15T16:01:16.336728Z"
    }
   },
   "outputs": [],
   "source": [
    "#5° Passo - Escolher os componentes\n",
    "FeatureVector_us = autovetores_us"
   ]
  },
  {
   "cell_type": "code",
   "execution_count": 22,
   "metadata": {
    "ExecuteTime": {
     "end_time": "2020-10-15T16:01:16.381606Z",
     "start_time": "2020-10-15T16:01:16.352684Z"
    }
   },
   "outputs": [
    {
     "data": {
      "text/plain": [
       "[[-102.26303932718267, -5.880648264018603],\n",
       " [-83.52185636156509, -3.8725172799329215],\n",
       " [-66.79343152132931, -0.8858932050646011],\n",
       " [-46.68972462365029, 0.45985304598454846],\n",
       " [-34.70360255157288, 5.751925765936422],\n",
       " [-13.218485251487028, 6.426105713392109],\n",
       " [16.898648352180082, 2.903870698679783],\n",
       " [42.75553385936203, 1.4527356710262147],\n",
       " [68.07640335102677, 0.2621823601315576],\n",
       " [93.24887914712045, -0.8562300392442808],\n",
       " [126.21067492709801, -5.761384466890277]]"
      ]
     },
     "execution_count": 22,
     "metadata": {},
     "output_type": "execute_result"
    }
   ],
   "source": [
    "#6° Passo - Derive the new dataset\n",
    "pca_us = multiply_matrix_matrix(transposta(FeatureVector_us),transposta(new_dataset_us))\n",
    "pca_us\n",
    "\n",
    "#Organizando a resposta\n",
    "pca_us_answer = [[pca_us[0][i],pca_us[1][i]] for i in range(len(pca_us[0]))]\n",
    "pca_us_answer"
   ]
  },
  {
   "cell_type": "code",
   "execution_count": 23,
   "metadata": {
    "ExecuteTime": {
     "end_time": "2020-10-15T16:01:16.411526Z",
     "start_time": "2020-10-15T16:01:16.390596Z"
    }
   },
   "outputs": [
    {
     "data": {
      "text/plain": [
       "array([[-102.26303933,   -5.88064826],\n",
       "       [ -83.52185636,   -3.87251728],\n",
       "       [ -66.79343152,   -0.88589321],\n",
       "       [ -46.68972462,    0.45985305],\n",
       "       [ -34.70360255,    5.75192577],\n",
       "       [ -13.21848525,    6.42610571],\n",
       "       [  16.89864835,    2.9038707 ],\n",
       "       [  42.75553386,    1.45273567],\n",
       "       [  68.07640335,    0.26218236],\n",
       "       [  93.24887915,   -0.85623004],\n",
       "       [ 126.21067493,   -5.76138447]])"
      ]
     },
     "execution_count": 23,
     "metadata": {},
     "output_type": "execute_result"
    }
   ],
   "source": [
    "#Checando a resposta\n",
    "import numpy as np\n",
    "from sklearn.decomposition import PCA\n",
    "pca = PCA(n_components = 2)\n",
    "pca.fit(dataset_us)\n",
    "pca.explained_variance_ratio_\n",
    "pca.singular_values_\n",
    "Transformed_X = pca.transform(dataset_us)\n",
    "Transformed_X"
   ]
  },
  {
   "cell_type": "markdown",
   "metadata": {
    "ExecuteTime": {
     "end_time": "2020-10-12T23:38:41.595612Z",
     "start_time": "2020-10-12T23:38:41.590617Z"
    }
   },
   "source": [
    "## Exercício 02"
   ]
  },
  {
   "cell_type": "markdown",
   "metadata": {},
   "source": [
    "Implemente o PCA em C / C++ / Java Python.<br>\n",
    "- PCA com 3 componentes<br>\n",
    "- Pode usar um solucionador para os autovalores:`numpy.linalg.eig`<br>\n",
    "- Teste o funcionamento usando: “Books x Grades”<br>"
   ]
  },
  {
   "cell_type": "markdown",
   "metadata": {},
   "source": [
    "### Books x Grades"
   ]
  },
  {
   "cell_type": "code",
   "execution_count": 24,
   "metadata": {
    "ExecuteTime": {
     "end_time": "2020-10-15T16:01:16.443442Z",
     "start_time": "2020-10-15T16:01:16.415516Z"
    }
   },
   "outputs": [
    {
     "data": {
      "text/html": [
       "<div>\n",
       "<style scoped>\n",
       "    .dataframe tbody tr th:only-of-type {\n",
       "        vertical-align: middle;\n",
       "    }\n",
       "\n",
       "    .dataframe tbody tr th {\n",
       "        vertical-align: top;\n",
       "    }\n",
       "\n",
       "    .dataframe thead th {\n",
       "        text-align: right;\n",
       "    }\n",
       "</style>\n",
       "<table border=\"1\" class=\"dataframe\">\n",
       "  <thead>\n",
       "    <tr style=\"text-align: right;\">\n",
       "      <th></th>\n",
       "      <th>Books</th>\n",
       "      <th>Attend</th>\n",
       "      <th>Grade</th>\n",
       "    </tr>\n",
       "  </thead>\n",
       "  <tbody>\n",
       "    <tr>\n",
       "      <th>0</th>\n",
       "      <td>0</td>\n",
       "      <td>9</td>\n",
       "      <td>45</td>\n",
       "    </tr>\n",
       "    <tr>\n",
       "      <th>1</th>\n",
       "      <td>1</td>\n",
       "      <td>15</td>\n",
       "      <td>57</td>\n",
       "    </tr>\n",
       "    <tr>\n",
       "      <th>2</th>\n",
       "      <td>0</td>\n",
       "      <td>10</td>\n",
       "      <td>45</td>\n",
       "    </tr>\n",
       "    <tr>\n",
       "      <th>3</th>\n",
       "      <td>2</td>\n",
       "      <td>16</td>\n",
       "      <td>51</td>\n",
       "    </tr>\n",
       "    <tr>\n",
       "      <th>4</th>\n",
       "      <td>4</td>\n",
       "      <td>10</td>\n",
       "      <td>65</td>\n",
       "    </tr>\n",
       "  </tbody>\n",
       "</table>\n",
       "</div>"
      ],
      "text/plain": [
       "   Books  Attend  Grade\n",
       "0      0       9     45\n",
       "1      1      15     57\n",
       "2      0      10     45\n",
       "3      2      16     51\n",
       "4      4      10     65"
      ]
     },
     "execution_count": 24,
     "metadata": {},
     "output_type": "execute_result"
    }
   ],
   "source": [
    "#1° Passo - Pegar os dados / Importar o dataset\n",
    "books_attend_grade = pd.read_csv('DataSets/Books_attend_grade.txt',sep='\\t',header=None)\n",
    "books_attend_grade.columns=['Books', 'Attend', 'Grade']\n",
    "books_attend_grade.head()"
   ]
  },
  {
   "cell_type": "code",
   "execution_count": 25,
   "metadata": {
    "ExecuteTime": {
     "end_time": "2020-10-15T16:01:16.473364Z",
     "start_time": "2020-10-15T16:01:16.446434Z"
    }
   },
   "outputs": [],
   "source": [
    "#1° Passo - Transformando as features em linhas\n",
    "books = [i for i in books_attend_grade['Books']]\n",
    "attend = [i for i in books_attend_grade['Attend']]\n",
    "grade = [i for i in books_attend_grade['Grade']]\n",
    "dataset_books=[[i,j,k] for i, j, k in zip(books,attend,grade)]"
   ]
  },
  {
   "cell_type": "code",
   "execution_count": 26,
   "metadata": {
    "ExecuteTime": {
     "end_time": "2020-10-15T16:01:16.519238Z",
     "start_time": "2020-10-15T16:01:16.475359Z"
    }
   },
   "outputs": [
    {
     "data": {
      "text/plain": [
       "[[-2.0, -5.1, -18.549999999999997],\n",
       " [-1.0, 0.9000000000000004, -6.549999999999997],\n",
       " [-2.0, -4.1, -18.549999999999997],\n",
       " [0.0, 1.9000000000000004, -12.549999999999997],\n",
       " [2.0, -4.1, 1.4500000000000028],\n",
       " [2.0, 5.9, 24.450000000000003],\n",
       " [-1.0, -3.0999999999999996, -19.549999999999997],\n",
       " [2.0, 5.9, 23.450000000000003],\n",
       " [1.0, 0.9000000000000004, 25.450000000000003],\n",
       " [-2.0, 0.9000000000000004, -4.549999999999997],\n",
       " [0.0, -6.1, 2.450000000000003],\n",
       " [-1.0, -1.0999999999999996, 1.4500000000000028],\n",
       " [2.0, 3.9000000000000004, -7.549999999999997],\n",
       " [-1.0, -4.1, -16.549999999999997],\n",
       " [-2.0, -6.1, 2.450000000000003],\n",
       " [-1.0, -4.1, -22.549999999999997],\n",
       " [1.0, 1.9000000000000004, -7.549999999999997],\n",
       " [-2.0, -3.0999999999999996, -26.549999999999997],\n",
       " [-1.0, 4.9, -18.549999999999997],\n",
       " [2.0, -2.0999999999999996, -5.549999999999997],\n",
       " [2.0, -3.0999999999999996, -16.549999999999997],\n",
       " [-2.0, 4.9, 0.45000000000000284],\n",
       " [0.0, 0.9000000000000004, 33.45],\n",
       " [1.0, 0.9000000000000004, -8.549999999999997],\n",
       " [-1.0, 5.9, -12.549999999999997],\n",
       " [-2.0, -8.1, -2.549999999999997],\n",
       " [1.0, 0.9000000000000004, 5.450000000000003],\n",
       " [1.0, 4.9, 15.450000000000003],\n",
       " [0.0, -0.09999999999999964, 7.450000000000003],\n",
       " [0.0, -1.0999999999999996, -1.5499999999999972],\n",
       " [1.0, 2.9000000000000004, 23.450000000000003],\n",
       " [0.0, 5.9, -9.549999999999997],\n",
       " [0.0, -3.0999999999999996, -20.549999999999997],\n",
       " [1.0, 5.9, 28.450000000000003],\n",
       " [2.0, 5.9, 19.450000000000003],\n",
       " [2.0, 5.9, 30.450000000000003],\n",
       " [1.0, -5.1, -3.549999999999997],\n",
       " [-1.0, -6.1, -7.549999999999997],\n",
       " [0.0, 1.9000000000000004, 24.450000000000003],\n",
       " [-2.0, -4.1, -1.5499999999999972]]"
      ]
     },
     "execution_count": 26,
     "metadata": {},
     "output_type": "execute_result"
    }
   ],
   "source": [
    "#2° Passo - Subtraindo a média\n",
    "new_dataset_books = subtract_mean(x=books,y=attend,z=grade)\n",
    "new_dataset_books"
   ]
  },
  {
   "cell_type": "code",
   "execution_count": 27,
   "metadata": {
    "ExecuteTime": {
     "end_time": "2020-10-15T16:01:16.535195Z",
     "start_time": "2020-10-15T16:01:16.522231Z"
    }
   },
   "outputs": [],
   "source": [
    "#3° Passo - Cálculo da matriz de covariância\n",
    "covariance_matrix_books = cov_matrix(new_dataset_books)"
   ]
  },
  {
   "cell_type": "code",
   "execution_count": 28,
   "metadata": {
    "ExecuteTime": {
     "end_time": "2020-10-15T16:01:16.612464Z",
     "start_time": "2020-10-15T16:01:16.537191Z"
    }
   },
   "outputs": [
    {
     "data": {
      "text/plain": [
       "array([284.06269633,   1.42686491,  13.93351568])"
      ]
     },
     "execution_count": 28,
     "metadata": {},
     "output_type": "execute_result"
    }
   ],
   "source": [
    "#4° Passo - Encontrar os autovalores\n",
    "autovalores_books = np.linalg.eig(covariance_matrix_books)[0]\n",
    "autovalores_books"
   ]
  },
  {
   "cell_type": "code",
   "execution_count": 29,
   "metadata": {
    "ExecuteTime": {
     "end_time": "2020-10-15T16:01:16.645303Z",
     "start_time": "2020-10-15T16:01:16.620372Z"
    }
   },
   "outputs": [
    {
     "data": {
      "text/plain": [
       "[284.0626963267395, 13.933515683763172, 1.4268649125743447]"
      ]
     },
     "execution_count": 29,
     "metadata": {},
     "output_type": "execute_result"
    }
   ],
   "source": [
    "#Ordenando os autovalores\n",
    "autovalores_books_order=[autovalores_books[0],autovalores_books[2],autovalores_books[1]]\n",
    "autovalores_books_order"
   ]
  },
  {
   "cell_type": "code",
   "execution_count": 30,
   "metadata": {
    "ExecuteTime": {
     "end_time": "2020-10-15T16:01:16.674220Z",
     "start_time": "2020-10-15T16:01:16.652280Z"
    }
   },
   "outputs": [
    {
     "data": {
      "text/plain": [
       "[[0.04258907363470934, -0.09453235761511249, 0.9946103780730755],\n",
       " [0.12888537417015916, -0.9866755578201922, -0.09929704892508402],\n",
       " [0.9907445337381152, 0.13241970005985104, -0.029837759703160948]]"
      ]
     },
     "execution_count": 30,
     "metadata": {},
     "output_type": "execute_result"
    }
   ],
   "source": [
    "#4° Passo - Encontrar os autovetores\n",
    "autovetores_books = np.linalg.eig(covariance_matrix_books)[1]\n",
    "autovetores_books\n",
    "\n",
    "#Organizando, de acordo com a ordem dos autovetores\n",
    "autovetores_books_order=[[autovetores_books[0][0],autovetores_books[0][2],autovetores_books[0][1]],\n",
    "                         [autovetores_books[1][0],autovetores_books[1][2],autovetores_books[1][1]],\n",
    "                         [autovetores_books[2][0],autovetores_books[2][2],autovetores_books[2][1]]]\n",
    "autovetores_books_order"
   ]
  },
  {
   "cell_type": "code",
   "execution_count": 31,
   "metadata": {
    "ExecuteTime": {
     "end_time": "2020-10-15T16:01:16.689178Z",
     "start_time": "2020-10-15T16:01:16.678207Z"
    }
   },
   "outputs": [
    {
     "data": {
      "text/plain": [
       "[[0.04258907363470934, -0.09453235761511249, 0.9946103780730755],\n",
       " [0.12888537417015916, -0.9866755578201922, -0.09929704892508402],\n",
       " [0.9907445337381152, 0.13241970005985104, -0.029837759703160948]]"
      ]
     },
     "execution_count": 31,
     "metadata": {},
     "output_type": "execute_result"
    }
   ],
   "source": [
    "#5° Passo - Escolher os componentes\n",
    "Feature = autovetores_books_order\n",
    "Feature "
   ]
  },
  {
   "cell_type": "code",
   "execution_count": 32,
   "metadata": {
    "ExecuteTime": {
     "end_time": "2020-10-15T16:01:16.751012Z",
     "start_time": "2020-10-15T16:01:16.693169Z"
    }
   },
   "outputs": [
    {
     "data": {
      "text/plain": [
       "[[-19.120804656379264, 2.764724624002969, -0.929315364134587],\n",
       " [-6.415968932866218, -1.6608246798150847, -0.8885403960499472],\n",
       " [-18.991919282209103, 1.7780490661827764, -1.028612413059671],\n",
       " [-12.18896168749004, -3.5365507956094957, 0.18579949131701012],\n",
       " [0.993327687092036, 4.048313636919347, 2.353073905169412],\n",
       " [25.06930570477028, -2.772788839906002, 0.6738349427458701],\n",
       " [-19.81118936814235, 0.5644214506876208, -0.10346132420851861],\n",
       " [24.078561171032163, -2.905208539965853, 0.703672702449031],\n",
       " [25.373034294022887, 2.387541006869924, 0.14587204959505362],\n",
       " [-4.477068939024697, -1.3014529220802702, -1.9428262935293443],\n",
       " [1.641123325220414, 6.343149167849807, 0.5326094871702681],\n",
       " [1.2522165886983854, 1.371884036304108, -0.9286483758250665],\n",
       " [-6.892290123189728, -5.03686812618085, 1.8272373510971882],\n",
       " [-16.967841141098166, 1.9483561086873658, -0.09367755439291742],\n",
       " [1.5559451779509954, 6.532213883080033, -1.4566112689758828],\n",
       " [-22.912308343526856, 1.1538379083282595, 0.08534900382604826],\n",
       " [-7.192649945164756, -2.9689846529253527, 1.0312210708742808],\n",
       " [-26.78899017794387, -0.2679840921162242, -0.8892073843594677],\n",
       " [-17.78936184104296, -7.1965633118140655, -0.9276754753123517],\n",
       " [-5.684113300734452, 1.1480246208600056, 2.3633441252413707],\n",
       " [-16.71118854602388, 0.6780834780218363, 2.790856530901225],\n",
       " [0.9921952263465159, -4.5860566530617835, -2.4892032877454855],\n",
       " [33.2564014902931, 3.541430964963844, -1.0874404061033094],\n",
       " [-8.31227985307303, -2.1147287951650116, 1.160355879502526],\n",
       " [-11.716009264444114, -7.388720669275152, -1.2059990824564015],\n",
       " [-3.6555482390798986, 7.8434664984211615, -1.1088283726099102],\n",
       " [5.5581436192605835, -0.2608529943270972, 0.7426272436582726],\n",
       " [15.981130453322372, -2.883358225009356, 0.04706145092632702],\n",
       " [7.3681582389319455, 1.0851943212279096, -0.21236160489604078],\n",
       " [-1.6774279388812507, 0.8800925785094424, 0.15547528135749178],\n",
       " [23.649315974886974, 0.1493504911098369, 0.006953471151207591],\n",
       " [-8.701186589595059, -7.085993926710712, -0.3009019834928088],\n",
       " [-20.75934482824576, 0.3374693930126571, 0.9209868135677178],\n",
       " [28.98969476608803, -2.148577682051485, -0.4401264741398493],\n",
       " [20.115583036079702, -3.434887340205257, 0.8230237412616748],\n",
       " [31.01377290719897, -1.9782706395468956, 0.49480838452690434],\n",
       " [-4.131869429403409, 4.467423052055397, 1.6069493745372252],\n",
       " [-8.308911085795447, 5.11348452486641, -0.16362329387119795],\n",
       " [24.468586060820225, 1.3629781066049929, -0.9181976176999449],\n",
       " [-2.149262208661147, 4.029183967200244, -1.5358543280134072]]"
      ]
     },
     "execution_count": 32,
     "metadata": {},
     "output_type": "execute_result"
    }
   ],
   "source": [
    "#6° Passo - Derive the new dataset\n",
    "pca_books = multiply_matrix_matrix(transposta(Feature),transposta(new_dataset_books))\n",
    "pca_books_answer = [[pca_books[0][i],pca_books[1][i],pca_books[2][i]] for i in range(len(pca_books[0]))]\n",
    "pca_books_answer"
   ]
  },
  {
   "cell_type": "code",
   "execution_count": 33,
   "metadata": {
    "ExecuteTime": {
     "end_time": "2020-10-15T16:01:16.765972Z",
     "start_time": "2020-10-15T16:01:16.754005Z"
    }
   },
   "outputs": [
    {
     "data": {
      "text/plain": [
       "array([[-1.91208047e+01,  2.76472462e+00, -9.29315364e-01],\n",
       "       [-6.41596893e+00, -1.66082468e+00, -8.88540396e-01],\n",
       "       [-1.89919193e+01,  1.77804907e+00, -1.02861241e+00],\n",
       "       [-1.21889617e+01, -3.53655080e+00,  1.85799491e-01],\n",
       "       [ 9.93327687e-01,  4.04831364e+00,  2.35307391e+00],\n",
       "       [ 2.50693057e+01, -2.77278884e+00,  6.73834943e-01],\n",
       "       [-1.98111894e+01,  5.64421451e-01, -1.03461324e-01],\n",
       "       [ 2.40785612e+01, -2.90520854e+00,  7.03672702e-01],\n",
       "       [ 2.53730343e+01,  2.38754101e+00,  1.45872050e-01],\n",
       "       [-4.47706894e+00, -1.30145292e+00, -1.94282629e+00],\n",
       "       [ 1.64112333e+00,  6.34314917e+00,  5.32609487e-01],\n",
       "       [ 1.25221659e+00,  1.37188404e+00, -9.28648376e-01],\n",
       "       [-6.89229012e+00, -5.03686813e+00,  1.82723735e+00],\n",
       "       [-1.69678411e+01,  1.94835611e+00, -9.36775544e-02],\n",
       "       [ 1.55594518e+00,  6.53221388e+00, -1.45661127e+00],\n",
       "       [-2.29123083e+01,  1.15383791e+00,  8.53490038e-02],\n",
       "       [-7.19264995e+00, -2.96898465e+00,  1.03122107e+00],\n",
       "       [-2.67889902e+01, -2.67984092e-01, -8.89207384e-01],\n",
       "       [-1.77893618e+01, -7.19656331e+00, -9.27675475e-01],\n",
       "       [-5.68411330e+00,  1.14802462e+00,  2.36334413e+00],\n",
       "       [-1.67111885e+01,  6.78083478e-01,  2.79085653e+00],\n",
       "       [ 9.92195226e-01, -4.58605665e+00, -2.48920329e+00],\n",
       "       [ 3.32564015e+01,  3.54143096e+00, -1.08744041e+00],\n",
       "       [-8.31227985e+00, -2.11472880e+00,  1.16035588e+00],\n",
       "       [-1.17160093e+01, -7.38872067e+00, -1.20599908e+00],\n",
       "       [-3.65554824e+00,  7.84346650e+00, -1.10882837e+00],\n",
       "       [ 5.55814362e+00, -2.60852994e-01,  7.42627244e-01],\n",
       "       [ 1.59811305e+01, -2.88335823e+00,  4.70614509e-02],\n",
       "       [ 7.36815824e+00,  1.08519432e+00, -2.12361605e-01],\n",
       "       [-1.67742794e+00,  8.80092579e-01,  1.55475281e-01],\n",
       "       [ 2.36493160e+01,  1.49350491e-01,  6.95347115e-03],\n",
       "       [-8.70118659e+00, -7.08599393e+00, -3.00901983e-01],\n",
       "       [-2.07593448e+01,  3.37469393e-01,  9.20986814e-01],\n",
       "       [ 2.89896948e+01, -2.14857768e+00, -4.40126474e-01],\n",
       "       [ 2.01155830e+01, -3.43488734e+00,  8.23023741e-01],\n",
       "       [ 3.10137729e+01, -1.97827064e+00,  4.94808385e-01],\n",
       "       [-4.13186943e+00,  4.46742305e+00,  1.60694937e+00],\n",
       "       [-8.30891109e+00,  5.11348452e+00, -1.63623294e-01],\n",
       "       [ 2.44685861e+01,  1.36297811e+00, -9.18197618e-01],\n",
       "       [-2.14926221e+00,  4.02918397e+00, -1.53585433e+00]])"
      ]
     },
     "execution_count": 33,
     "metadata": {},
     "output_type": "execute_result"
    }
   ],
   "source": [
    "#Checando a resposta\n",
    "import numpy as np\n",
    "from sklearn.decomposition import PCA\n",
    "pca = PCA(n_components = 3)\n",
    "pca.fit(dataset_books)\n",
    "pca.explained_variance_ratio_\n",
    "pca.singular_values_\n",
    "Transformed_X = pca.transform(dataset_books)\n",
    "Transformed_X"
   ]
  },
  {
   "cell_type": "markdown",
   "metadata": {},
   "source": [
    "## Exercício 03"
   ]
  },
  {
   "cell_type": "markdown",
   "metadata": {},
   "source": [
    "Compare PCA com o método dos mínimos quadrados.\n",
    "- Compare a reta gerada pelos mínimos quadrados e a gerada pelo PCA."
   ]
  },
  {
   "cell_type": "markdown",
   "metadata": {},
   "source": [
    "### Import Libraries"
   ]
  },
  {
   "cell_type": "code",
   "execution_count": 34,
   "metadata": {
    "ExecuteTime": {
     "end_time": "2020-10-15T16:01:19.927881Z",
     "start_time": "2020-10-15T16:01:16.768964Z"
    }
   },
   "outputs": [],
   "source": [
    "import matplotlib.pyplot as plt\n",
    "from sklearn.linear_model import LinearRegression\n",
    "import pandas as pd\n",
    "import seaborn as sns"
   ]
  },
  {
   "cell_type": "markdown",
   "metadata": {},
   "source": [
    "### Alps Water"
   ]
  },
  {
   "cell_type": "code",
   "execution_count": 35,
   "metadata": {
    "ExecuteTime": {
     "end_time": "2020-10-15T16:01:20.360722Z",
     "start_time": "2020-10-15T16:01:19.929874Z"
    }
   },
   "outputs": [
    {
     "data": {
      "text/plain": [
       "<matplotlib.legend.Legend at 0x1c54ac20700>"
      ]
     },
     "execution_count": 35,
     "metadata": {},
     "output_type": "execute_result"
    },
    {
     "data": {
      "image/png": "[encoded data removed]",
      "text/plain": [
       "<Figure size 432x288 with 1 Axes>"
      ]
     },
     "metadata": {
      "needs_background": "light"
     },
     "output_type": "display_data"
    }
   ],
   "source": [
    "# Plot Original Data\n",
    "plt.scatter(x_alps, y_alps, alpha=0.2)\n",
    "plt.legend(['Original data'])"
   ]
  },
  {
   "cell_type": "code",
   "execution_count": 101,
   "metadata": {
    "ExecuteTime": {
     "end_time": "2020-10-15T16:22:59.653601Z",
     "start_time": "2020-10-15T16:22:59.132994Z"
    }
   },
   "outputs": [
    {
     "data": {
      "text/plain": [
       "<matplotlib.legend.Legend at 0x1c54db781f0>"
      ]
     },
     "execution_count": 101,
     "metadata": {},
     "output_type": "execute_result"
    },
    {
     "data": {
      "image/png": "[encoded data removed]",
      "text/plain": [
       "<Figure size 432x288 with 1 Axes>"
      ]
     },
     "metadata": {
      "needs_background": "light"
     },
     "output_type": "display_data"
    }
   ],
   "source": [
    "# plot PCA result\n",
    "df = pd.DataFrame(pca_alps_answer,columns=['0','1'])\n",
    "\n",
    "plt.scatter(df['0'], df['1'], alpha=0.8, s=8, c='k')\n",
    "plt.axis('equal');\n",
    "\n",
    "plt.legend(['PCA'])"
   ]
  },
  {
   "cell_type": "code",
   "execution_count": 100,
   "metadata": {
    "ExecuteTime": {
     "end_time": "2020-10-15T16:22:50.679509Z",
     "start_time": "2020-10-15T16:22:50.413222Z"
    }
   },
   "outputs": [
    {
     "data": {
      "text/plain": [
       "<matplotlib.legend.Legend at 0x1c55177fd30>"
      ]
     },
     "execution_count": 100,
     "metadata": {},
     "output_type": "execute_result"
    },
    {
     "data": {
      "image/png": "[encoded data removed]",
      "text/plain": [
       "<Figure size 432x288 with 1 Axes>"
      ]
     },
     "metadata": {
      "needs_background": "light"
     },
     "output_type": "display_data"
    }
   ],
   "source": [
    "# Plot Least Squares\n",
    "model = LinearRegression()\n",
    "X=alps_water[['Boiling']]\n",
    "y=alps_water['Pressure']\n",
    "model.fit(X,y)\n",
    "model.predict(X)\n",
    "\n",
    "plt.scatter(X, model.predict(X), label='predicted', alpha=0.8, s=8, c='k')\n",
    "\n",
    "plt.legend(['Least Square'])"
   ]
  }
 ],
 "metadata": {
  "hide_input": false,
  "kernelspec": {
   "display_name": "Python 3",
   "language": "python",
   "name": "python3"
  },
  "language_info": {
   "codemirror_mode": {
    "name": "ipython",
    "version": 3
   },
   "file_extension": ".py",
   "mimetype": "text/x-python",
   "name": "python",
   "nbconvert_exporter": "python",
   "pygments_lexer": "ipython3",
   "version": "3.8.5"
  },
  "toc": {
   "base_numbering": 1,
   "nav_menu": {},
   "number_sections": true,
   "sideBar": true,
   "skip_h1_title": false,
   "title_cell": "Table of Contents",
   "title_sidebar": "Contents",
   "toc_cell": false,
   "toc_position": {
    "height": "calc(100% - 180px)",
    "left": "10px",
    "top": "150px",
    "width": "303.542px"
   },
   "toc_section_display": true,
   "toc_window_display": true
  },
  "varInspector": {
   "cols": {
    "lenName": 16,
    "lenType": 16,
    "lenVar": 40
   },
   "kernels_config": {
    "python": {
     "delete_cmd_postfix": "",
     "delete_cmd_prefix": "del ",
     "library": "var_list.py",
     "varRefreshCmd": "print(var_dic_list())"
    },
    "r": {
     "delete_cmd_postfix": ") ",
     "delete_cmd_prefix": "rm(",
     "library": "var_list.r",
     "varRefreshCmd": "cat(var_dic_list()) "
    }
   },
   "types_to_exclude": [
    "module",
    "function",
    "builtin_function_or_method",
    "instance",
    "_Feature"
   ],
   "window_display": false
  }
 },
 "nbformat": 4,
 "nbformat_minor": 4
}
